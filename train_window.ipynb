{
 "cells": [
  {
   "cell_type": "code",
   "execution_count": 1,
   "metadata": {},
   "outputs": [],
   "source": [
    "import os\n",
    "import torch\n",
    "import mlflow\n",
    "import gc\n",
    "import time\n",
    "\n",
    "from MED.modeling.modeling_utils import train_single_epoch, train_single_epoch_siamese, validate_single_epoch, validate_single_epoch_siamese, \\\n",
    "      retrieve_results_mlflow, create_summary_df, define_model_objects, save_model\n",
    "from MED.dataset.dataset_utils import retrieve_dataloaders_window, compute_window_size_stride\n",
    "from MED.visualization.utils import plot_results_LOSO, plot_cm"
   ]
  },
  {
   "cell_type": "code",
   "execution_count": 2,
   "metadata": {},
   "outputs": [],
   "source": [
    "#def main(): #Main loop for training.\n",
    "cuda = False\n",
    "if cuda:\n",
    "    torch.cuda.empty_cache() # Clear cache\n",
    "    \n",
    "else:\n",
    "    device = torch.device('mps' if torch.backends.mps.is_available() else 'cpu')\n",
    "    torch.mps.empty_cache()\n",
    "\n",
    "settings = ['LOSO']#, 'LOUO']\n",
    "tasks = ['All', 'Suturing','Knot_Tying','Needle_Passing']\n",
    "out1 = ['Bout','Cout','Dout','Eout','Fout','Gout','Hout','Iout']\n",
    "out2 = ['1out', '2Out', '3out','4out','5out']\n",
    "\n",
    "exp_kwargs = {\n",
    "    'error_type': \"global\",\n",
    "    'dataset_type': \"window\", #'window' or 'frame' \n",
    "    'save_local': False,\n",
    "    'pos_weight': False, \n",
    "    'use_COG_video': True,\n",
    "    'n_epochs': 15,\n",
    "    'batch_size': 512,\n",
    "    'frequency': 5,\n",
    "    'lr': 5e-4,\n",
    "    'lr_scheduler': True, \n",
    "    'weight_decay': 5e-3,\n",
    "    'num_layers': 3,\n",
    "    'hidden_size': 128,\n",
    "    'model_name': 'SimpleCNN', #SimpleLSTM, SimpleCNN, Siamese_CNN, Siamese_LSTM \n",
    "    'siamese': False,\n",
    "    'n_comparisons': 20,\n",
    "    'n_pairs': 20000,\n",
    "    'video_dims': 32, #32 default\n",
    "    'loss_or_f1': 'f1',  #'loss' or 'f1' to determine the metric for validation\n",
    "    'data_type': 'multimodal', #'multimodal' or 'video' or 'kinematics'\n",
    "    'delete_ND': False,\n",
    "    'return_train_preds': True, #True if we want to return train predictions and labels\n",
    "    'compute_from_str': True\n",
    "}\n",
    "\n",
    "window_size, stride = compute_window_size_stride(exp_kwargs['frequency'])\n",
    "\n",
    "best_model = None\n",
    "mlflow.set_tracking_uri(uri=\"http://127.0.0.1:8080\")\n",
    "\n",
    "#Set up folders to save results and images\n",
    "results_folder = f\"results/{exp_kwargs['data_type']}/{exp_kwargs['frequency']}Hz/{exp_kwargs['model_name']}/\"\n",
    "image_folder = f\"images/{exp_kwargs['data_type']}/{exp_kwargs['frequency']}Hz/{exp_kwargs['model_name']}/\" \n",
    "\n",
    "if not os.path.exists(results_folder):\n",
    "    os.makedirs(results_folder)\n",
    "\n",
    "if not os.path.exists(image_folder):\n",
    "    os.makedirs(image_folder)\n",
    "\n",
    "#Define in_features\n",
    "in_features_dict = {\n",
    "    'multimodal': exp_kwargs['video_dims'] + 26,\n",
    "    'video': exp_kwargs['video_dims'],\n",
    "    'kinematics': 26\n",
    "}"
   ]
  },
  {
   "cell_type": "code",
   "execution_count": 3,
   "metadata": {},
   "outputs": [
    {
     "name": "stdout",
     "output_type": "stream",
     "text": [
      "Loading data for LOSO with trial 1out...\n"
     ]
    },
    {
     "name": "stderr",
     "output_type": "stream",
     "text": [
      "/Users/gonzaloplazaarriola/Desktop/Medtronic/TFM/Multimodal-Error-Detection/MED/dataset/dataset_utils.py:96: UserWarning: To copy construct from a tensor, it is recommended to use sourceTensor.clone().detach() or sourceTensor.clone().detach().requires_grad_(True), rather than torch.tensor(sourceTensor).\n",
      "  e_labels_data[frame_index : frame_index + n_frames_in_trial] = torch.tensor(data2['e_labels'].reshape(n_frames_in_trial, 5), dtype=torch.float32)\n",
      "/Users/gonzaloplazaarriola/Desktop/Medtronic/TFM/Multimodal-Error-Detection/MED/dataset/dataset_utils.py:96: UserWarning: To copy construct from a tensor, it is recommended to use sourceTensor.clone().detach() or sourceTensor.clone().detach().requires_grad_(True), rather than torch.tensor(sourceTensor).\n",
      "  e_labels_data[frame_index : frame_index + n_frames_in_trial] = torch.tensor(data2['e_labels'].reshape(n_frames_in_trial, 5), dtype=torch.float32)\n"
     ]
    },
    {
     "name": "stdout",
     "output_type": "stream",
     "text": [
      "Windowing data...\n",
      "Creating datasets and dataloaders...\n",
      "Number of training windows: 3174\n",
      "Number of testing windows: 1078\n",
      "Class distribution for LOSO with trial 1out: (tensor(0.4537), tensor(0.5463))\n",
      "Class distribution for test set LOSO with trial 1out: (tensor(0.2941), tensor(0.7059))\n",
      "Number of parameters to optimize: 1267329\n"
     ]
    },
    {
     "name": "stderr",
     "output_type": "stream",
     "text": [
      "100%|██████████| 7/7 [00:03<00:00,  2.25it/s]\n"
     ]
    },
    {
     "name": "stdout",
     "output_type": "stream",
     "text": [
      "Epoch 1/15, F1: 0.8743, Loss: 0.3898, Accuracy: 0.8599\n"
     ]
    },
    {
     "name": "stderr",
     "output_type": "stream",
     "text": [
      "Test: 100%|██████████| 3/3 [00:00<00:00,  4.40it/s]\n"
     ]
    },
    {
     "name": "stdout",
     "output_type": "stream",
     "text": [
      "New best F1 score: 0.7085377827091172 at epoch 1\n"
     ]
    },
    {
     "name": "stderr",
     "output_type": "stream",
     "text": [
      "100%|██████████| 7/7 [00:01<00:00,  5.28it/s]\n",
      "Test: 100%|██████████| 3/3 [00:00<00:00,  5.31it/s]\n",
      "100%|██████████| 7/7 [00:01<00:00,  5.19it/s]\n",
      "Test: 100%|██████████| 3/3 [00:00<00:00,  5.50it/s]\n",
      "100%|██████████| 7/7 [00:01<00:00,  5.11it/s]\n",
      "Test: 100%|██████████| 3/3 [00:00<00:00,  4.95it/s]\n",
      "100%|██████████| 7/7 [00:01<00:00,  5.32it/s]\n",
      "Test: 100%|██████████| 3/3 [00:00<00:00,  5.55it/s]\n",
      "100%|██████████| 7/7 [00:01<00:00,  5.34it/s]\n"
     ]
    },
    {
     "name": "stdout",
     "output_type": "stream",
     "text": [
      "Epoch 6/15, F1: 0.9985, Loss: 0.0561, Accuracy: 0.9983\n"
     ]
    },
    {
     "name": "stderr",
     "output_type": "stream",
     "text": [
      "Test: 100%|██████████| 3/3 [00:00<00:00,  5.52it/s]\n",
      "100%|██████████| 7/7 [00:01<00:00,  5.26it/s]\n",
      "Test: 100%|██████████| 3/3 [00:00<00:00,  5.54it/s]\n",
      "100%|██████████| 7/7 [00:01<00:00,  5.14it/s]\n",
      "Test: 100%|██████████| 3/3 [00:00<00:00,  5.47it/s]\n",
      "100%|██████████| 7/7 [00:01<00:00,  5.19it/s]\n",
      "Test: 100%|██████████| 3/3 [00:00<00:00,  4.39it/s]\n",
      "100%|██████████| 7/7 [00:01<00:00,  5.11it/s]\n",
      "Test: 100%|██████████| 3/3 [00:00<00:00,  5.40it/s]\n",
      "100%|██████████| 7/7 [00:01<00:00,  5.23it/s]\n"
     ]
    },
    {
     "name": "stdout",
     "output_type": "stream",
     "text": [
      "Epoch 11/15, F1: 0.9977, Loss: 0.0417, Accuracy: 0.9978\n"
     ]
    },
    {
     "name": "stderr",
     "output_type": "stream",
     "text": [
      "Test: 100%|██████████| 3/3 [00:00<00:00,  5.42it/s]\n",
      "100%|██████████| 7/7 [00:01<00:00,  5.24it/s]\n",
      "Test: 100%|██████████| 3/3 [00:00<00:00,  5.51it/s]\n",
      "100%|██████████| 7/7 [00:01<00:00,  5.33it/s]\n",
      "Test: 100%|██████████| 3/3 [00:00<00:00,  5.58it/s]\n",
      "100%|██████████| 7/7 [00:01<00:00,  5.20it/s]\n",
      "Test: 100%|██████████| 3/3 [00:00<00:00,  5.56it/s]\n",
      "100%|██████████| 7/7 [00:01<00:00,  5.21it/s]\n"
     ]
    },
    {
     "name": "stdout",
     "output_type": "stream",
     "text": [
      "Epoch 15/15, F1: 0.9997, Loss: 0.0377, Accuracy: 0.9997\n"
     ]
    },
    {
     "name": "stderr",
     "output_type": "stream",
     "text": [
      "Test: 100%|██████████| 3/3 [00:00<00:00,  5.48it/s]\n"
     ]
    },
    {
     "name": "stdout",
     "output_type": "stream",
     "text": [
      "Inference rate: 0.8471 ms per window.\n"
     ]
    },
    {
     "data": {
      "image/png": "[encoded data removed]",
      "text/plain": [
       "<Figure size 1000x600 with 2 Axes>"
      ]
     },
     "metadata": {},
     "output_type": "display_data"
    },
    {
     "name": "stdout",
     "output_type": "stream",
     "text": [
      "Model saved to models/multimodal/5Hz/SimpleCNN/best_model_LOSO_1out.pt\n",
      "Loading data for LOSO with trial 2Out...\n"
     ]
    },
    {
     "name": "stderr",
     "output_type": "stream",
     "text": [
      "/Users/gonzaloplazaarriola/Desktop/Medtronic/TFM/Multimodal-Error-Detection/MED/dataset/dataset_utils.py:96: UserWarning: To copy construct from a tensor, it is recommended to use sourceTensor.clone().detach() or sourceTensor.clone().detach().requires_grad_(True), rather than torch.tensor(sourceTensor).\n",
      "  e_labels_data[frame_index : frame_index + n_frames_in_trial] = torch.tensor(data2['e_labels'].reshape(n_frames_in_trial, 5), dtype=torch.float32)\n",
      "/Users/gonzaloplazaarriola/Desktop/Medtronic/TFM/Multimodal-Error-Detection/MED/dataset/dataset_utils.py:96: UserWarning: To copy construct from a tensor, it is recommended to use sourceTensor.clone().detach() or sourceTensor.clone().detach().requires_grad_(True), rather than torch.tensor(sourceTensor).\n",
      "  e_labels_data[frame_index : frame_index + n_frames_in_trial] = torch.tensor(data2['e_labels'].reshape(n_frames_in_trial, 5), dtype=torch.float32)\n"
     ]
    },
    {
     "name": "stdout",
     "output_type": "stream",
     "text": [
      "Windowing data...\n",
      "Creating datasets and dataloaders...\n",
      "Number of training windows: 3476\n",
      "Number of testing windows: 776\n",
      "Class distribution for LOSO with trial 2Out: (tensor(0.4194), tensor(0.5806))\n",
      "Class distribution for test set LOSO with trial 2Out: (tensor(0.3853), tensor(0.6147))\n",
      "Number of parameters to optimize: 1267329\n"
     ]
    },
    {
     "name": "stderr",
     "output_type": "stream",
     "text": [
      "100%|██████████| 7/7 [00:02<00:00,  3.41it/s]\n"
     ]
    },
    {
     "name": "stdout",
     "output_type": "stream",
     "text": [
      "Epoch 1/15, F1: 0.8729, Loss: 0.3813, Accuracy: 0.8569\n"
     ]
    },
    {
     "name": "stderr",
     "output_type": "stream",
     "text": [
      "Test: 100%|██████████| 2/2 [00:00<00:00,  4.31it/s]\n"
     ]
    },
    {
     "name": "stdout",
     "output_type": "stream",
     "text": [
      "New best F1 score: 0.6508834783456411 at epoch 1\n"
     ]
    },
    {
     "name": "stderr",
     "output_type": "stream",
     "text": [
      "100%|██████████| 7/7 [00:01<00:00,  4.86it/s]\n",
      "Test: 100%|██████████| 2/2 [00:00<00:00,  5.14it/s]\n",
      "100%|██████████| 7/7 [00:01<00:00,  4.75it/s]\n",
      "Test: 100%|██████████| 2/2 [00:00<00:00,  5.17it/s]\n",
      "100%|██████████| 7/7 [00:01<00:00,  4.80it/s]\n",
      "Test: 100%|██████████| 2/2 [00:00<00:00,  5.10it/s]\n",
      "100%|██████████| 7/7 [00:01<00:00,  4.82it/s]\n",
      "Test: 100%|██████████| 2/2 [00:00<00:00,  5.13it/s]\n",
      "100%|██████████| 7/7 [00:01<00:00,  4.75it/s]\n"
     ]
    },
    {
     "name": "stdout",
     "output_type": "stream",
     "text": [
      "Epoch 6/15, F1: 0.9975, Loss: 0.0760, Accuracy: 0.9971\n"
     ]
    },
    {
     "name": "stderr",
     "output_type": "stream",
     "text": [
      "Test: 100%|██████████| 2/2 [00:00<00:00,  5.04it/s]\n",
      "100%|██████████| 7/7 [00:01<00:00,  4.82it/s]\n",
      "Test: 100%|██████████| 2/2 [00:00<00:00,  5.10it/s]\n",
      "100%|██████████| 7/7 [00:01<00:00,  4.84it/s]\n",
      "Test: 100%|██████████| 2/2 [00:00<00:00,  5.13it/s]\n",
      "100%|██████████| 7/7 [00:01<00:00,  4.82it/s]\n",
      "Test: 100%|██████████| 2/2 [00:00<00:00,  5.07it/s]\n",
      "100%|██████████| 7/7 [00:01<00:00,  4.66it/s]\n",
      "Test: 100%|██████████| 2/2 [00:00<00:00,  5.12it/s]\n",
      "100%|██████████| 7/7 [00:01<00:00,  4.73it/s]\n"
     ]
    },
    {
     "name": "stdout",
     "output_type": "stream",
     "text": [
      "Epoch 11/15, F1: 0.9990, Loss: 0.0558, Accuracy: 0.9988\n"
     ]
    },
    {
     "name": "stderr",
     "output_type": "stream",
     "text": [
      "Test: 100%|██████████| 2/2 [00:00<00:00,  5.04it/s]\n",
      "100%|██████████| 7/7 [00:01<00:00,  4.66it/s]\n",
      "Test: 100%|██████████| 2/2 [00:00<00:00,  5.09it/s]\n",
      "100%|██████████| 7/7 [00:01<00:00,  4.81it/s]\n",
      "Test: 100%|██████████| 2/2 [00:00<00:00,  5.07it/s]\n",
      "100%|██████████| 7/7 [00:01<00:00,  4.84it/s]\n",
      "Test: 100%|██████████| 2/2 [00:00<00:00,  5.01it/s]\n",
      "100%|██████████| 7/7 [00:01<00:00,  4.49it/s]\n"
     ]
    },
    {
     "name": "stdout",
     "output_type": "stream",
     "text": [
      "Epoch 15/15, F1: 0.9993, Loss: 0.0530, Accuracy: 0.9992\n"
     ]
    },
    {
     "name": "stderr",
     "output_type": "stream",
     "text": [
      "Test: 100%|██████████| 2/2 [00:00<00:00,  5.09it/s]\n"
     ]
    },
    {
     "name": "stdout",
     "output_type": "stream",
     "text": [
      "Inference rate: 1.4169 ms per window.\n"
     ]
    },
    {
     "data": {
      "image/png": "[encoded data removed]",
      "text/plain": [
       "<Figure size 1000x600 with 2 Axes>"
      ]
     },
     "metadata": {},
     "output_type": "display_data"
    },
    {
     "name": "stdout",
     "output_type": "stream",
     "text": [
      "Model saved to models/multimodal/5Hz/SimpleCNN/best_model_LOSO_2Out.pt\n",
      "Loading data for LOSO with trial 3out...\n"
     ]
    },
    {
     "name": "stderr",
     "output_type": "stream",
     "text": [
      "/Users/gonzaloplazaarriola/Desktop/Medtronic/TFM/Multimodal-Error-Detection/MED/dataset/dataset_utils.py:96: UserWarning: To copy construct from a tensor, it is recommended to use sourceTensor.clone().detach() or sourceTensor.clone().detach().requires_grad_(True), rather than torch.tensor(sourceTensor).\n",
      "  e_labels_data[frame_index : frame_index + n_frames_in_trial] = torch.tensor(data2['e_labels'].reshape(n_frames_in_trial, 5), dtype=torch.float32)\n",
      "/Users/gonzaloplazaarriola/Desktop/Medtronic/TFM/Multimodal-Error-Detection/MED/dataset/dataset_utils.py:96: UserWarning: To copy construct from a tensor, it is recommended to use sourceTensor.clone().detach() or sourceTensor.clone().detach().requires_grad_(True), rather than torch.tensor(sourceTensor).\n",
      "  e_labels_data[frame_index : frame_index + n_frames_in_trial] = torch.tensor(data2['e_labels'].reshape(n_frames_in_trial, 5), dtype=torch.float32)\n"
     ]
    },
    {
     "name": "stdout",
     "output_type": "stream",
     "text": [
      "Windowing data...\n",
      "Creating datasets and dataloaders...\n",
      "Number of training windows: 3364\n",
      "Number of testing windows: 888\n",
      "Class distribution for LOSO with trial 3out: (tensor(0.4067), tensor(0.5933))\n",
      "Class distribution for test set LOSO with trial 3out: (tensor(0.4381), tensor(0.5619))\n",
      "Number of parameters to optimize: 1267329\n"
     ]
    },
    {
     "name": "stderr",
     "output_type": "stream",
     "text": [
      "100%|██████████| 7/7 [00:01<00:00,  3.61it/s]\n"
     ]
    },
    {
     "name": "stdout",
     "output_type": "stream",
     "text": [
      "Epoch 1/15, F1: 0.9082, Loss: 0.3177, Accuracy: 0.8956\n"
     ]
    },
    {
     "name": "stderr",
     "output_type": "stream",
     "text": [
      "Test: 100%|██████████| 2/2 [00:00<00:00,  3.86it/s]\n"
     ]
    },
    {
     "name": "stdout",
     "output_type": "stream",
     "text": [
      "New best F1 score: 0.6184375155361599 at epoch 1\n"
     ]
    },
    {
     "name": "stderr",
     "output_type": "stream",
     "text": [
      "100%|██████████| 7/7 [00:01<00:00,  5.00it/s]\n",
      "Test: 100%|██████████| 2/2 [00:00<00:00,  4.46it/s]\n"
     ]
    },
    {
     "name": "stdout",
     "output_type": "stream",
     "text": [
      "New best F1 score: 0.6325032579749561 at epoch 2\n"
     ]
    },
    {
     "name": "stderr",
     "output_type": "stream",
     "text": [
      "100%|██████████| 7/7 [00:01<00:00,  4.52it/s]\n",
      "Test: 100%|██████████| 2/2 [00:00<00:00,  4.38it/s]\n"
     ]
    },
    {
     "name": "stdout",
     "output_type": "stream",
     "text": [
      "New best F1 score: 0.6329523715623522 at epoch 3\n"
     ]
    },
    {
     "name": "stderr",
     "output_type": "stream",
     "text": [
      "100%|██████████| 7/7 [00:01<00:00,  4.81it/s]\n",
      "Test: 100%|██████████| 2/2 [00:00<00:00,  4.48it/s]\n"
     ]
    },
    {
     "name": "stdout",
     "output_type": "stream",
     "text": [
      "New best F1 score: 0.6398417909526823 at epoch 4\n"
     ]
    },
    {
     "name": "stderr",
     "output_type": "stream",
     "text": [
      "100%|██████████| 7/7 [00:01<00:00,  4.97it/s]\n",
      "Test: 100%|██████████| 2/2 [00:00<00:00,  4.46it/s]\n",
      "100%|██████████| 7/7 [00:01<00:00,  4.91it/s]\n"
     ]
    },
    {
     "name": "stdout",
     "output_type": "stream",
     "text": [
      "Epoch 6/15, F1: 0.9981, Loss: 0.0656, Accuracy: 0.9978\n"
     ]
    },
    {
     "name": "stderr",
     "output_type": "stream",
     "text": [
      "Test: 100%|██████████| 2/2 [00:00<00:00,  4.49it/s]\n",
      "100%|██████████| 7/7 [00:01<00:00,  4.93it/s]\n",
      "Test: 100%|██████████| 2/2 [00:00<00:00,  4.46it/s]\n",
      "100%|██████████| 7/7 [00:01<00:00,  4.88it/s]\n",
      "Test: 100%|██████████| 2/2 [00:00<00:00,  4.48it/s]\n",
      "100%|██████████| 7/7 [00:01<00:00,  4.94it/s]\n",
      "Test: 100%|██████████| 2/2 [00:00<00:00,  4.47it/s]\n"
     ]
    },
    {
     "name": "stdout",
     "output_type": "stream",
     "text": [
      "New best F1 score: 0.6428381084028926 at epoch 9\n"
     ]
    },
    {
     "name": "stderr",
     "output_type": "stream",
     "text": [
      "100%|██████████| 7/7 [00:01<00:00,  5.02it/s]\n",
      "Test: 100%|██████████| 2/2 [00:00<00:00,  4.53it/s]\n",
      "100%|██████████| 7/7 [00:01<00:00,  4.89it/s]\n"
     ]
    },
    {
     "name": "stdout",
     "output_type": "stream",
     "text": [
      "Epoch 11/15, F1: 0.9998, Loss: 0.0484, Accuracy: 0.9997\n"
     ]
    },
    {
     "name": "stderr",
     "output_type": "stream",
     "text": [
      "Test: 100%|██████████| 2/2 [00:00<00:00,  4.49it/s]\n",
      "100%|██████████| 7/7 [00:01<00:00,  4.90it/s]\n",
      "Test: 100%|██████████| 2/2 [00:00<00:00,  4.50it/s]\n",
      "100%|██████████| 7/7 [00:01<00:00,  4.89it/s]\n",
      "Test: 100%|██████████| 2/2 [00:00<00:00,  4.51it/s]\n",
      "100%|██████████| 7/7 [00:01<00:00,  4.93it/s]\n",
      "Test: 100%|██████████| 2/2 [00:00<00:00,  4.52it/s]\n",
      "100%|██████████| 7/7 [00:01<00:00,  4.87it/s]\n"
     ]
    },
    {
     "name": "stdout",
     "output_type": "stream",
     "text": [
      "Epoch 15/15, F1: 0.9991, Loss: 0.0474, Accuracy: 0.9990\n"
     ]
    },
    {
     "name": "stderr",
     "output_type": "stream",
     "text": [
      "Test: 100%|██████████| 2/2 [00:00<00:00,  4.40it/s]\n"
     ]
    },
    {
     "name": "stdout",
     "output_type": "stream",
     "text": [
      "New best F1 score: 0.6440414831293799 at epoch 15\n",
      "Inference rate: 0.9990 ms per window.\n"
     ]
    },
    {
     "data": {
      "image/png": "[encoded data removed]",
      "text/plain": [
       "<Figure size 1000x600 with 2 Axes>"
      ]
     },
     "metadata": {},
     "output_type": "display_data"
    },
    {
     "name": "stdout",
     "output_type": "stream",
     "text": [
      "Model saved to models/multimodal/5Hz/SimpleCNN/best_model_LOSO_3out.pt\n",
      "Loading data for LOSO with trial 4out...\n"
     ]
    },
    {
     "name": "stderr",
     "output_type": "stream",
     "text": [
      "/Users/gonzaloplazaarriola/Desktop/Medtronic/TFM/Multimodal-Error-Detection/MED/dataset/dataset_utils.py:96: UserWarning: To copy construct from a tensor, it is recommended to use sourceTensor.clone().detach() or sourceTensor.clone().detach().requires_grad_(True), rather than torch.tensor(sourceTensor).\n",
      "  e_labels_data[frame_index : frame_index + n_frames_in_trial] = torch.tensor(data2['e_labels'].reshape(n_frames_in_trial, 5), dtype=torch.float32)\n",
      "/Users/gonzaloplazaarriola/Desktop/Medtronic/TFM/Multimodal-Error-Detection/MED/dataset/dataset_utils.py:96: UserWarning: To copy construct from a tensor, it is recommended to use sourceTensor.clone().detach() or sourceTensor.clone().detach().requires_grad_(True), rather than torch.tensor(sourceTensor).\n",
      "  e_labels_data[frame_index : frame_index + n_frames_in_trial] = torch.tensor(data2['e_labels'].reshape(n_frames_in_trial, 5), dtype=torch.float32)\n"
     ]
    },
    {
     "name": "stdout",
     "output_type": "stream",
     "text": [
      "Windowing data...\n",
      "Creating datasets and dataloaders...\n",
      "Number of training windows: 3382\n",
      "Number of testing windows: 870\n",
      "Class distribution for LOSO with trial 4out: (tensor(0.3950), tensor(0.6050))\n",
      "Class distribution for test set LOSO with trial 4out: (tensor(0.4839), tensor(0.5161))\n",
      "Number of parameters to optimize: 1267329\n"
     ]
    },
    {
     "name": "stderr",
     "output_type": "stream",
     "text": [
      "100%|██████████| 7/7 [00:01<00:00,  3.51it/s]\n"
     ]
    },
    {
     "name": "stdout",
     "output_type": "stream",
     "text": [
      "Epoch 1/15, F1: 0.9137, Loss: 0.3200, Accuracy: 0.8996\n"
     ]
    },
    {
     "name": "stderr",
     "output_type": "stream",
     "text": [
      "Test: 100%|██████████| 2/2 [00:00<00:00,  3.87it/s]\n"
     ]
    },
    {
     "name": "stdout",
     "output_type": "stream",
     "text": [
      "New best F1 score: 0.6747964723159285 at epoch 1\n"
     ]
    },
    {
     "name": "stderr",
     "output_type": "stream",
     "text": [
      "100%|██████████| 7/7 [00:01<00:00,  4.99it/s]\n",
      "Test: 100%|██████████| 2/2 [00:00<00:00,  4.62it/s]\n"
     ]
    },
    {
     "name": "stdout",
     "output_type": "stream",
     "text": [
      "New best F1 score: 0.6792980578513846 at epoch 2\n"
     ]
    },
    {
     "name": "stderr",
     "output_type": "stream",
     "text": [
      "100%|██████████| 7/7 [00:01<00:00,  4.92it/s]\n",
      "Test: 100%|██████████| 2/2 [00:00<00:00,  4.64it/s]\n"
     ]
    },
    {
     "name": "stdout",
     "output_type": "stream",
     "text": [
      "New best F1 score: 0.6825573988135564 at epoch 3\n"
     ]
    },
    {
     "name": "stderr",
     "output_type": "stream",
     "text": [
      "100%|██████████| 7/7 [00:01<00:00,  4.93it/s]\n",
      "Test: 100%|██████████| 2/2 [00:00<00:00,  4.56it/s]\n"
     ]
    },
    {
     "name": "stdout",
     "output_type": "stream",
     "text": [
      "New best F1 score: 0.6861683404602649 at epoch 4\n"
     ]
    },
    {
     "name": "stderr",
     "output_type": "stream",
     "text": [
      "100%|██████████| 7/7 [00:01<00:00,  4.96it/s]\n",
      "Test: 100%|██████████| 2/2 [00:00<00:00,  4.58it/s]\n",
      "100%|██████████| 7/7 [00:01<00:00,  4.94it/s]\n"
     ]
    },
    {
     "name": "stdout",
     "output_type": "stream",
     "text": [
      "Epoch 6/15, F1: 0.9991, Loss: 0.0684, Accuracy: 0.9989\n"
     ]
    },
    {
     "name": "stderr",
     "output_type": "stream",
     "text": [
      "Test: 100%|██████████| 2/2 [00:00<00:00,  4.68it/s]\n",
      "100%|██████████| 7/7 [00:01<00:00,  4.92it/s]\n",
      "Test: 100%|██████████| 2/2 [00:00<00:00,  4.59it/s]\n",
      "100%|██████████| 7/7 [00:01<00:00,  4.89it/s]\n",
      "Test: 100%|██████████| 2/2 [00:00<00:00,  4.59it/s]\n",
      "100%|██████████| 7/7 [00:01<00:00,  4.90it/s]\n",
      "Test: 100%|██████████| 2/2 [00:00<00:00,  4.59it/s]\n",
      "100%|██████████| 7/7 [00:01<00:00,  4.91it/s]\n",
      "Test: 100%|██████████| 2/2 [00:00<00:00,  4.60it/s]\n",
      "100%|██████████| 7/7 [00:01<00:00,  4.84it/s]\n"
     ]
    },
    {
     "name": "stdout",
     "output_type": "stream",
     "text": [
      "Epoch 11/15, F1: 0.9992, Loss: 0.0511, Accuracy: 0.9990\n"
     ]
    },
    {
     "name": "stderr",
     "output_type": "stream",
     "text": [
      "Test: 100%|██████████| 2/2 [00:00<00:00,  4.74it/s]\n",
      "100%|██████████| 7/7 [00:01<00:00,  4.91it/s]\n",
      "Test: 100%|██████████| 2/2 [00:00<00:00,  4.58it/s]\n",
      "100%|██████████| 7/7 [00:01<00:00,  4.93it/s]\n",
      "Test: 100%|██████████| 2/2 [00:00<00:00,  4.47it/s]\n",
      "100%|██████████| 7/7 [00:01<00:00,  4.86it/s]\n",
      "Test: 100%|██████████| 2/2 [00:00<00:00,  4.62it/s]\n",
      "100%|██████████| 7/7 [00:01<00:00,  4.85it/s]\n"
     ]
    },
    {
     "name": "stdout",
     "output_type": "stream",
     "text": [
      "Epoch 15/15, F1: 0.9995, Loss: 0.0486, Accuracy: 0.9994\n"
     ]
    },
    {
     "name": "stderr",
     "output_type": "stream",
     "text": [
      "Test: 100%|██████████| 2/2 [00:00<00:00,  4.62it/s]\n"
     ]
    },
    {
     "name": "stdout",
     "output_type": "stream",
     "text": [
      "Inference rate: 0.9353 ms per window.\n"
     ]
    },
    {
     "data": {
      "image/png": "[encoded data removed]",
      "text/plain": [
       "<Figure size 1000x600 with 2 Axes>"
      ]
     },
     "metadata": {},
     "output_type": "display_data"
    },
    {
     "name": "stdout",
     "output_type": "stream",
     "text": [
      "Model saved to models/multimodal/5Hz/SimpleCNN/best_model_LOSO_4out.pt\n",
      "Loading data for LOSO with trial 5out...\n"
     ]
    },
    {
     "name": "stderr",
     "output_type": "stream",
     "text": [
      "/Users/gonzaloplazaarriola/Desktop/Medtronic/TFM/Multimodal-Error-Detection/MED/dataset/dataset_utils.py:96: UserWarning: To copy construct from a tensor, it is recommended to use sourceTensor.clone().detach() or sourceTensor.clone().detach().requires_grad_(True), rather than torch.tensor(sourceTensor).\n",
      "  e_labels_data[frame_index : frame_index + n_frames_in_trial] = torch.tensor(data2['e_labels'].reshape(n_frames_in_trial, 5), dtype=torch.float32)\n",
      "/Users/gonzaloplazaarriola/Desktop/Medtronic/TFM/Multimodal-Error-Detection/MED/dataset/dataset_utils.py:96: UserWarning: To copy construct from a tensor, it is recommended to use sourceTensor.clone().detach() or sourceTensor.clone().detach().requires_grad_(True), rather than torch.tensor(sourceTensor).\n",
      "  e_labels_data[frame_index : frame_index + n_frames_in_trial] = torch.tensor(data2['e_labels'].reshape(n_frames_in_trial, 5), dtype=torch.float32)\n"
     ]
    },
    {
     "name": "stdout",
     "output_type": "stream",
     "text": [
      "Windowing data...\n",
      "Creating datasets and dataloaders...\n",
      "Number of training windows: 3612\n",
      "Number of testing windows: 640\n",
      "Class distribution for LOSO with trial 5out: (tensor(0.3948), tensor(0.6052))\n",
      "Class distribution for test set LOSO with trial 5out: (tensor(0.5172), tensor(0.4828))\n",
      "Number of parameters to optimize: 1267329\n"
     ]
    },
    {
     "name": "stderr",
     "output_type": "stream",
     "text": [
      "100%|██████████| 8/8 [00:01<00:00,  4.77it/s]\n"
     ]
    },
    {
     "name": "stdout",
     "output_type": "stream",
     "text": [
      "Epoch 1/15, F1: 0.9254, Loss: 0.3014, Accuracy: 0.9155\n"
     ]
    },
    {
     "name": "stderr",
     "output_type": "stream",
     "text": [
      "Test: 100%|██████████| 2/2 [00:00<00:00,  4.91it/s]\n"
     ]
    },
    {
     "name": "stdout",
     "output_type": "stream",
     "text": [
      "New best F1 score: 0.682754419957958 at epoch 1\n"
     ]
    },
    {
     "name": "stderr",
     "output_type": "stream",
     "text": [
      "100%|██████████| 8/8 [00:01<00:00,  5.18it/s]\n",
      "Test: 100%|██████████| 2/2 [00:00<00:00,  6.17it/s]\n"
     ]
    },
    {
     "name": "stdout",
     "output_type": "stream",
     "text": [
      "New best F1 score: 0.6985148140890878 at epoch 2\n"
     ]
    },
    {
     "name": "stderr",
     "output_type": "stream",
     "text": [
      "100%|██████████| 8/8 [00:01<00:00,  5.27it/s]\n",
      "Test: 100%|██████████| 2/2 [00:00<00:00,  6.15it/s]\n",
      "100%|██████████| 8/8 [00:01<00:00,  5.29it/s]\n",
      "Test: 100%|██████████| 2/2 [00:00<00:00,  6.09it/s]\n",
      "100%|██████████| 8/8 [00:01<00:00,  5.22it/s]\n",
      "Test: 100%|██████████| 2/2 [00:00<00:00,  6.20it/s]\n",
      "100%|██████████| 8/8 [00:01<00:00,  5.29it/s]\n"
     ]
    },
    {
     "name": "stdout",
     "output_type": "stream",
     "text": [
      "Epoch 6/15, F1: 0.9982, Loss: 0.0674, Accuracy: 0.9978\n"
     ]
    },
    {
     "name": "stderr",
     "output_type": "stream",
     "text": [
      "Test: 100%|██████████| 2/2 [00:00<00:00,  6.16it/s]\n",
      "100%|██████████| 8/8 [00:01<00:00,  5.22it/s]\n",
      "Test: 100%|██████████| 2/2 [00:00<00:00,  6.19it/s]\n"
     ]
    },
    {
     "name": "stdout",
     "output_type": "stream",
     "text": [
      "New best F1 score: 0.7015457203639467 at epoch 7\n"
     ]
    },
    {
     "name": "stderr",
     "output_type": "stream",
     "text": [
      "100%|██████████| 8/8 [00:01<00:00,  5.38it/s]\n",
      "Test: 100%|██████████| 2/2 [00:00<00:00,  6.21it/s]\n",
      "100%|██████████| 8/8 [00:01<00:00,  5.25it/s]\n",
      "Test: 100%|██████████| 2/2 [00:00<00:00,  6.18it/s]\n",
      "100%|██████████| 8/8 [00:01<00:00,  5.24it/s]\n",
      "Test: 100%|██████████| 2/2 [00:00<00:00,  6.49it/s]\n",
      "100%|██████████| 8/8 [00:01<00:00,  5.26it/s]\n"
     ]
    },
    {
     "name": "stdout",
     "output_type": "stream",
     "text": [
      "Epoch 11/15, F1: 0.9982, Loss: 0.0592, Accuracy: 0.9978\n"
     ]
    },
    {
     "name": "stderr",
     "output_type": "stream",
     "text": [
      "Test: 100%|██████████| 2/2 [00:00<00:00,  6.41it/s]\n",
      "100%|██████████| 8/8 [00:01<00:00,  5.15it/s]\n",
      "Test: 100%|██████████| 2/2 [00:00<00:00,  6.11it/s]\n",
      "100%|██████████| 8/8 [00:01<00:00,  5.15it/s]\n",
      "Test: 100%|██████████| 2/2 [00:00<00:00,  6.11it/s]\n",
      "100%|██████████| 8/8 [00:01<00:00,  5.28it/s]\n",
      "Test: 100%|██████████| 2/2 [00:00<00:00,  6.14it/s]\n",
      "100%|██████████| 8/8 [00:01<00:00,  5.34it/s]\n"
     ]
    },
    {
     "name": "stdout",
     "output_type": "stream",
     "text": [
      "Epoch 15/15, F1: 0.9996, Loss: 0.0521, Accuracy: 0.9995\n"
     ]
    },
    {
     "name": "stderr",
     "output_type": "stream",
     "text": [
      "Test: 100%|██████████| 2/2 [00:00<00:00,  6.07it/s]\n"
     ]
    },
    {
     "name": "stdout",
     "output_type": "stream",
     "text": [
      "Inference rate: 0.9768 ms per window.\n"
     ]
    },
    {
     "data": {
      "image/png": "[encoded data removed]",
      "text/plain": [
       "<Figure size 1000x600 with 2 Axes>"
      ]
     },
     "metadata": {},
     "output_type": "display_data"
    },
    {
     "name": "stdout",
     "output_type": "stream",
     "text": [
      "Model saved to models/multimodal/5Hz/SimpleCNN/best_model_LOSO_5out.pt\n",
      "🏃 View run whimsical-stoat-901 at: http://127.0.0.1:8080/#/experiments/604973780869113162/runs/d145207af75e4b55aacd218bed3b699a\n",
      "🧪 View experiment at: http://127.0.0.1:8080/#/experiments/604973780869113162\n"
     ]
    }
   ],
   "source": [
    "mlflow.set_experiment(f\"{exp_kwargs['model_name']}_{exp_kwargs['frequency']}Hz_{exp_kwargs['data_type']}\")\n",
    "\n",
    "#Ensure seed is set for reproducibility\n",
    "torch.manual_seed(42)\n",
    "if torch.backends.mps.is_available():\n",
    "    torch.mps.manual_seed(42)\n",
    "\n",
    "samples_train, samples_test, inference_rates, train_times = [], [], [], []\n",
    "\n",
    "with mlflow.start_run() as run:\n",
    "    \n",
    "    #Log the hyperparameters\n",
    "    if not exp_kwargs['save_local']:\n",
    "        mlflow.log_params(exp_kwargs)\n",
    "        run_id = run.info.run_id\n",
    "\n",
    "    for setting in settings:\n",
    "\n",
    "        if setting == 'LOSO':\n",
    "            outs = out2\n",
    "        else:\n",
    "            outs = out1\n",
    "\n",
    "        for out in outs:\n",
    "\n",
    "            #Delete device and RAM memory\n",
    "            if cuda:\n",
    "                torch.cuda.empty_cache()\n",
    "            else:\n",
    "                torch.mps.empty_cache()\n",
    "                \n",
    "\n",
    "            test_f1_fold, test_f1_weighted_fold, test_jaccard_fold, test_acc_fold, test_precision_fold, test_recall_fold, \\\n",
    "            test_fpr_fold, test_tpr_fold, test_class_report_fold, test_cm_fold, train_times_fold, \\\n",
    "            train_f1_fold, train_f1_weighted_fold, train_acc_fold, train_jaccard_fold, train_loss_fold, test_loss_fold = \\\n",
    "            ([] for _ in range(17))\n",
    "\n",
    "            best_f1 = 0.0\n",
    "            best_loss = float('inf')    \n",
    "            save_best = False\n",
    "\n",
    "            #a. Load training and testing data\n",
    "            print(f\"Loading data for {setting} with trial {out}...\")\n",
    "            fold_data_path = f\"data/LOSO/{exp_kwargs['frequency']}Hz/\" + out + '/'\n",
    "            video_data_path = f\"../Chain-of-Gesture/dataset/setting_f1/LOSO/All/{out}\"\n",
    "            #video_data_path = None\n",
    "            \n",
    "            #b. Retrieve dataloaders\n",
    "            train_dataloader, test_dataloader = retrieve_dataloaders_window(fold_data_path=fold_data_path,\n",
    "                                                                    video_data_path=video_data_path,\n",
    "                                                                    exp_kwargs=exp_kwargs,\n",
    "                                                                    window_size=window_size,\n",
    "                                                                    stride=stride)\n",
    "            \n",
    "            samples_train.append(len(train_dataloader.dataset))\n",
    "            samples_test.append(len(test_dataloader.dataset))\n",
    "            \n",
    "            #b.2. Compute class balance\n",
    "            if not exp_kwargs['siamese']:\n",
    "                class_counts = train_dataloader.dataset.binary_error_distribution\n",
    "                class_counts_test = test_dataloader.dataset.binary_error_distribution\n",
    "                print(f\"Class distribution for {setting} with trial {out}: {class_counts}\")\n",
    "                print(f\"Class distribution for test set {setting} with trial {out}: {class_counts_test}\")\n",
    "\n",
    "            #c. Define model objects\n",
    "            feature_extractor, model, criterion, optimizer, scheduler = define_model_objects(exp_kwargs=exp_kwargs,\n",
    "                                                                                             in_features_dict=in_features_dict,\n",
    "                                                                                             window_size=window_size,\n",
    "                                                                                             device=device,\n",
    "                                                                                             class_counts=class_counts if not exp_kwargs['siamese'] else None)\n",
    "            \n",
    "            model_folder = f'models/{exp_kwargs[\"data_type\"]}/{exp_kwargs[\"frequency\"]}Hz/{model.name}/' \n",
    "            #d. Training loop\n",
    "            for epoch in range(exp_kwargs['n_epochs']):\n",
    "                train_start = time.time()\n",
    "                if exp_kwargs['siamese']:\n",
    "                    \n",
    "                    train_loss, train_f1, train_f1_weighted, train_acc, train_auc_roc, train_jaccard, train_cm = train_single_epoch_siamese(model=model, \n",
    "                                                            feature_extractor=feature_extractor,\n",
    "                                                            train_dataloader=train_dataloader,\n",
    "                                                            criterion=criterion,\n",
    "                                                            optimizer=optimizer,\n",
    "                                                            device=device,\n",
    "                                                            exp_kwargs=exp_kwargs,\n",
    "                                                            scheduler=scheduler)\n",
    "                    \n",
    "                \n",
    "                else:\n",
    "\n",
    "                    if exp_kwargs['return_train_preds']:\n",
    "                        train_loss, train_f1, train_f1_weighted, train_acc, train_jaccard, train_cm, \\\n",
    "                            train_all_probs, train_all_preds, train_all_labels, train_all_subjects = train_single_epoch(model=model,\n",
    "                                                                                                    feature_extractor=feature_extractor,\n",
    "                                                                                                    train_dataloader=train_dataloader,\n",
    "                                                                                                    criterion=criterion,\n",
    "                                                                                                    optimizer=optimizer,\n",
    "                                                                                                    device=device,\n",
    "                                                                                                    exp_kwargs=exp_kwargs,\n",
    "                                                                                                    scheduler=scheduler)\n",
    "                        \n",
    "    \n",
    "                    else:\n",
    "                        train_loss, train_f1, train_f1_weighted, train_acc, train_jaccard, train_cm = train_single_epoch(model=model, \n",
    "                                                            feature_extractor=feature_extractor,\n",
    "                                                            train_dataloader=train_dataloader,\n",
    "                                                            criterion=criterion,\n",
    "                                                            optimizer=optimizer,\n",
    "                                                            device=device,\n",
    "                                                            exp_kwargs=exp_kwargs,\n",
    "                                                            scheduler=scheduler)\n",
    "                    \n",
    "                train_end = time.time()\n",
    "                train_times_fold.append(train_end - train_start)\n",
    "\n",
    "                if epoch % 5 == 0 or epoch == exp_kwargs['n_epochs'] - 1:\n",
    "                    print(f\"Epoch {epoch + 1}/{exp_kwargs['n_epochs']}, F1: {train_f1:.4f}, Loss: {train_loss:.4f}, Accuracy: {train_acc:.4f}\")\n",
    "\n",
    "                #Append to vectors\n",
    "                train_f1_fold.append(train_f1)\n",
    "                train_f1_weighted_fold.append(train_f1_weighted)\n",
    "                train_loss_fold.append(train_loss)\n",
    "                train_acc_fold.append(train_acc)\n",
    "                train_jaccard_fold.append(train_jaccard)\n",
    "\n",
    "                #Validation loop\n",
    "                if exp_kwargs['siamese']:\n",
    "                    test_loss, test_f1, test_f1_weighted, test_acc, test_auc_roc, test_jaccard, test_cm, inference_rate = validate_single_epoch_siamese(model=model,\n",
    "                                                            feature_extractor=feature_extractor,\n",
    "                                                            test_dataloader=test_dataloader,\n",
    "                                                            criterion=criterion,\n",
    "                                                            device=device,\n",
    "                                                            exp_kwargs=exp_kwargs)\n",
    "\n",
    "                else:\n",
    "                    test_loss, test_f1, test_f1_weighted, test_acc, test_jaccard, test_cm, inference_rate, \\\n",
    "                        test_all_preds, test_all_probs, test_all_labels, test_all_labels_specific, test_all_gest_labels, test_all_subjects = validate_single_epoch(model=model,\n",
    "                                                            feature_extractor=feature_extractor,\n",
    "                                                            test_dataloader=test_dataloader,\n",
    "                                                            criterion=criterion,\n",
    "                                                            device=device,\n",
    "                                                            exp_kwargs=exp_kwargs)\n",
    "                \n",
    "                #Append to vectors\n",
    "                test_f1_fold.append(test_f1)\n",
    "                test_f1_weighted_fold.append(test_f1_weighted)\n",
    "                test_acc_fold.append(test_acc)\n",
    "                test_jaccard_fold.append(test_jaccard)\n",
    "                test_loss_fold.append(test_loss)\n",
    "                \n",
    "\n",
    "                if exp_kwargs['loss_or_f1'] == 'loss':\n",
    "                    if test_loss < best_loss:\n",
    "                        save_best = True\n",
    "                        best_loss = test_loss\n",
    "                        print(f\"New best loss: {test_loss} at epoch {epoch + 1}\")\n",
    "\n",
    "                elif exp_kwargs['loss_or_f1'] == 'f1':\n",
    "                    if test_f1_weighted > best_f1:\n",
    "                        save_best = True\n",
    "                        best_f1 = test_f1_weighted\n",
    "                        print(f\"New best F1 score: {test_f1_weighted} at epoch {epoch + 1}\")\n",
    "\n",
    "                if save_best:\n",
    "                    \n",
    "                    if exp_kwargs['return_train_preds']:\n",
    "\n",
    "                        best_model = {\n",
    "                            'feature_extractor': feature_extractor,\n",
    "                            'model': model,\n",
    "                            'epoch': epoch + 1,\n",
    "                            'train_f1_fold': train_f1,\n",
    "                            'test_f1_fold': test_f1,\n",
    "                            'train_acc_fold': train_acc,\n",
    "                            'test_acc_fold': test_acc,\n",
    "                            'train_jaccard_fold': train_jaccard,\n",
    "                            'test_jaccard_fold': test_jaccard,\n",
    "                            'train_cm_fold': train_cm.tolist(),\n",
    "                            'test_cm_fold': test_cm.tolist(), \n",
    "                            'train_all_labels': train_all_labels,\n",
    "                            'test_all_labels': test_all_labels, \n",
    "                            'test_all_labels_specific': test_all_labels_specific,\n",
    "                            'train_all_preds': train_all_preds,\n",
    "                            'train_all_probs': train_all_probs,\n",
    "                            'train_all_subjects': train_all_subjects,\n",
    "                            'test_all_preds': test_all_preds,\n",
    "                            'test_all_probs': test_all_probs,\n",
    "                            'test_all_gest_labels': test_all_gest_labels,\n",
    "                            'test_all_subjects': test_all_subjects,\n",
    "                        }\n",
    "                    \n",
    "                    else:\n",
    "                        best_model = {\n",
    "                            'feature_extractor': feature_extractor,\n",
    "                            'model': model,\n",
    "                            'epoch': epoch + 1,\n",
    "                            'train_f1_fold': train_f1,\n",
    "                            'test_f1_fold': test_f1,\n",
    "                            'train_acc_fold': train_acc,\n",
    "                            'test_acc_fold': test_acc,\n",
    "                            'train_jaccard_fold': train_jaccard,\n",
    "                            'test_jaccard_fold': test_jaccard,\n",
    "                            'train_cm_fold': train_cm.tolist(),\n",
    "                            'test_cm_fold': test_cm.tolist(), \n",
    "                            'test_all_labels': test_all_labels, \n",
    "                            'test_all_labels_specific': test_all_labels_specific,\n",
    "                            'test_all_preds': test_all_preds,\n",
    "                            'test_all_probs': test_all_probs,\n",
    "                            'test_all_gest_labels': test_all_gest_labels,\n",
    "                            'test_all_subjects': test_all_subjects,\n",
    "                        }\n",
    "\n",
    "                    save_best = False  #Reset save_best to False after saving the best model\n",
    "                \n",
    "                if not exp_kwargs['save_local']:\n",
    "                    #Log metrics to mlflow\n",
    "                    mlflow.log_metric(f'train_loss_fold_{out}', train_loss, step=epoch)\n",
    "                    mlflow.log_metric(f'test_loss_fold_{out}', test_loss, step=epoch)\n",
    "                    mlflow.log_metric(f'train_f1_fold_{out}', train_f1, step=epoch)\n",
    "                    mlflow.log_metric(f'test_f1_fold_{out}', test_f1, step=epoch)\n",
    "                    mlflow.log_metric(f'train_acc_fold_{out}', train_acc, step=epoch)\n",
    "                    mlflow.log_metric(f'test_acc_fold_{out}', test_acc, step=epoch)\n",
    "                    mlflow.log_metric(f'train_jaccard_fold_{out}', train_jaccard, step=epoch)\n",
    "                    mlflow.log_metric(f'test_jaccard_fold_{out}', test_jaccard, step=epoch)\n",
    "                    \n",
    "            #Display results for fold\n",
    "            print(f\"Inference rate: {inference_rate:.4f} ms per window.\")\n",
    "            plot_results_LOSO(train_f1_fold=train_f1_fold,\n",
    "                            test_f1_fold=test_f1_fold,\n",
    "                            train_loss_fold=train_loss_fold,\n",
    "                            test_loss_fold=test_loss_fold,\n",
    "                            setting=setting, out=out,\n",
    "                            image_folder=image_folder)\n",
    "            \n",
    "        \n",
    "            #Save best model\n",
    "            if exp_kwargs['save_local']:\n",
    "                pass   \n",
    "                        \n",
    "            else:\n",
    "                #Log model to mlflow\n",
    "                #if exp_kwargs['data_type'] != 'kinematics':\n",
    "                    \n",
    "                    #mlflow.pytorch.log_model(pytorch_model=best_model['feature_extractor'], \n",
    "                        #                    name=f'feature_extractor_{setting}_{out}')\n",
    "                                \n",
    "                #mlflow.pytorch.log_model(pytorch_model=best_model['model'], \n",
    "                      #                  name=f'model_{setting}_{out}')        \n",
    "                      # \n",
    "\n",
    "                #Save model locally because mlflow gives errors\n",
    "                if exp_kwargs['data_type'] != 'kinematics':\n",
    "                    best_model['feature_extractor'] = best_model['feature_extractor'].state_dict()  \n",
    "                    best_model['model'] = best_model['model'].state_dict()\n",
    "\n",
    "                else:\n",
    "                    best_model['feature_extractor'] = None\n",
    "                    best_model['model'] = best_model['model'].state_dict()\n",
    "                \n",
    "                if not os.path.exists(model_folder):    \n",
    "                    os.makedirs(model_folder)\n",
    "\n",
    "                model_path = os.path.join(model_folder, f'best_model_{setting}_{out}.pt')   \n",
    "                save_model(best_model=best_model, model_path=model_path)\n",
    "\n",
    "                #Log best_model rest of the dictionary without the state dicts\n",
    "                best_model_dict = best_model.copy()\n",
    "                best_model_dict.pop('feature_extractor', None)\n",
    "                best_model_dict.pop('model', None)\n",
    "                mlflow.log_dict(best_model_dict, f'best_model_{setting}_{out}.json')\n",
    "\n",
    "            #Compute mean inference rate and train time; append to lists\n",
    "            inference_rates.append(inference_rate)\n",
    "            train_times.append(sum(train_times_fold) / len(train_times_fold))\n",
    "\n",
    "            #Delete memory and variables\n",
    "            del train_dataloader, test_dataloader, feature_extractor, model, best_model\n",
    "            gc.collect()\n",
    "\n",
    "mlflow.end_run()"
   ]
  },
  {
   "cell_type": "code",
   "execution_count": 5,
   "metadata": {},
   "outputs": [
    {
     "data": {
      "application/vnd.jupyter.widget-view+json": {
       "model_id": "ab39a99c9eba4ff0a0a9b95aae992676",
       "version_major": 2,
       "version_minor": 0
      },
      "text/plain": [
       "Downloading artifacts:   0%|          | 0/1 [00:00<?, ?it/s]"
      ]
     },
     "metadata": {},
     "output_type": "display_data"
    },
    {
     "data": {
      "application/vnd.jupyter.widget-view+json": {
       "model_id": "145b624c6aa84176b7e68229158d28b3",
       "version_major": 2,
       "version_minor": 0
      },
      "text/plain": [
       "Downloading artifacts:   0%|          | 0/1 [00:00<?, ?it/s]"
      ]
     },
     "metadata": {},
     "output_type": "display_data"
    },
    {
     "data": {
      "application/vnd.jupyter.widget-view+json": {
       "model_id": "2e476295936344aaba4b645477329cfa",
       "version_major": 2,
       "version_minor": 0
      },
      "text/plain": [
       "Downloading artifacts:   0%|          | 0/1 [00:00<?, ?it/s]"
      ]
     },
     "metadata": {},
     "output_type": "display_data"
    },
    {
     "data": {
      "application/vnd.jupyter.widget-view+json": {
       "model_id": "7f4c3cfb322d4c4bb6f4b67403a1391e",
       "version_major": 2,
       "version_minor": 0
      },
      "text/plain": [
       "Downloading artifacts:   0%|          | 0/1 [00:00<?, ?it/s]"
      ]
     },
     "metadata": {},
     "output_type": "display_data"
    },
    {
     "data": {
      "application/vnd.jupyter.widget-view+json": {
       "model_id": "6e6c19f3f9be4e6eb5d1a779c06efc7a",
       "version_major": 2,
       "version_minor": 0
      },
      "text/plain": [
       "Downloading artifacts:   0%|          | 0/1 [00:00<?, ?it/s]"
      ]
     },
     "metadata": {},
     "output_type": "display_data"
    },
    {
     "data": {
      "text/html": [
       "<div>\n",
       "<style scoped>\n",
       "    .dataframe tbody tr th:only-of-type {\n",
       "        vertical-align: middle;\n",
       "    }\n",
       "\n",
       "    .dataframe tbody tr th {\n",
       "        vertical-align: top;\n",
       "    }\n",
       "\n",
       "    .dataframe thead th {\n",
       "        text-align: right;\n",
       "    }\n",
       "</style>\n",
       "<table border=\"1\" class=\"dataframe\">\n",
       "  <thead>\n",
       "    <tr style=\"text-align: right;\">\n",
       "      <th></th>\n",
       "      <th>F1</th>\n",
       "      <th>Accuracy</th>\n",
       "      <th>Jaccard</th>\n",
       "      <th>Train Time</th>\n",
       "      <th>Inference Rate</th>\n",
       "    </tr>\n",
       "  </thead>\n",
       "  <tbody>\n",
       "    <tr>\n",
       "      <th>Train</th>\n",
       "      <td>0.948 ± 0.060</td>\n",
       "      <td>0.942 ± 0.067</td>\n",
       "      <td>0.917 ± 0.095</td>\n",
       "      <td>1.49 ± 0.03</td>\n",
       "      <td>NaN</td>\n",
       "    </tr>\n",
       "    <tr>\n",
       "      <th>Test</th>\n",
       "      <td>0.711 ± 0.039</td>\n",
       "      <td>0.676 ± 0.025</td>\n",
       "      <td>0.553 ± 0.048</td>\n",
       "      <td>NaN</td>\n",
       "      <td>1.04 ± 0.20</td>\n",
       "    </tr>\n",
       "  </tbody>\n",
       "</table>\n",
       "</div>"
      ],
      "text/plain": [
       "                  F1       Accuracy        Jaccard   Train Time Inference Rate\n",
       "Train  0.948 ± 0.060  0.942 ± 0.067  0.917 ± 0.095  1.49 ± 0.03            NaN\n",
       "Test   0.711 ± 0.039  0.676 ± 0.025  0.553 ± 0.048          NaN    1.04 ± 0.20"
      ]
     },
     "metadata": {},
     "output_type": "display_data"
    },
    {
     "name": "stdout",
     "output_type": "stream",
     "text": [
      "Confusion Matrix for Train:\n",
      "Confusion Matrix for Train:\n"
     ]
    },
    {
     "data": {
      "text/plain": [
       "<Figure size 1500x1500 with 0 Axes>"
      ]
     },
     "metadata": {},
     "output_type": "display_data"
    },
    {
     "data": {
      "image/png": "[encoded data removed]",
      "text/plain": [
       "<Figure size 640x480 with 2 Axes>"
      ]
     },
     "metadata": {},
     "output_type": "display_data"
    },
    {
     "name": "stdout",
     "output_type": "stream",
     "text": [
      "Confusion Matrix for Test:\n"
     ]
    },
    {
     "data": {
      "text/plain": [
       "<Figure size 1500x1500 with 0 Axes>"
      ]
     },
     "metadata": {},
     "output_type": "display_data"
    },
    {
     "data": {
      "image/png": "[encoded data removed]",
      "text/plain": [
       "<Figure size 640x480 with 2 Axes>"
      ]
     },
     "metadata": {},
     "output_type": "display_data"
    }
   ],
   "source": [
    "if exp_kwargs['return_train_preds']:\n",
    "      LOSO_f1_train, LOSO_f1_test, LOSO_acc_train, LOSO_acc_test, LOSO_jaccard_train, LOSO_jaccard_test, \\\n",
    "    LOSO_cm_train, LOSO_cm_test, train_all_preds, train_all_probs, train_all_labels, train_all_subjects,\\\n",
    "    test_all_preds, test_all_probs, test_all_labels, test_all_labels_specific, test_all_gest_labels, test_all_subjects = retrieve_results_mlflow(outs=outs,\n",
    "                                                                                                                                            exp_kwargs=exp_kwargs,\n",
    "                                                                                                                                            setting=setting,\n",
    "                                                                                                                                            run_id=run_id)\n",
    "else:\n",
    "    LOSO_f1_train, LOSO_f1_test, LOSO_acc_train, LOSO_acc_test, LOSO_jaccard_train, LOSO_jaccard_test, LOSO_cm_train, LOSO_cm_test = retrieve_results_mlflow(outs=outs,\n",
    "                                                                                                                                                        exp_kwargs=exp_kwargs,\n",
    "                                                                                                                                                        setting=setting,\n",
    "                                                                                                                                                        run_id=run_id)\n",
    "summary_df = create_summary_df(LOSO_f1_train=LOSO_f1_train, LOSO_f1_test=LOSO_f1_test, LOSO_acc_train=LOSO_acc_train,\n",
    "                                LOSO_acc_test=LOSO_acc_test, LOSO_jaccard_train=LOSO_jaccard_train, LOSO_jaccard_test=LOSO_jaccard_test,\n",
    "                                samples_train=samples_train, samples_test=samples_test,inference_rates=inference_rates, train_times=train_times)\n",
    "#Save summary df to csv\n",
    "display(summary_df)\n",
    "summary_df.to_csv(os.path.join(results_folder, 'LOSO_summary_df.csv'), index=False)\n",
    "    \n",
    "print(\"Confusion Matrix for Train:\")\n",
    "plot_cm(LOSO_cm_train = LOSO_cm_train, LOSO_cm_test= LOSO_cm_test, image_folder=image_folder, binary = \"Binary\")"
   ]
  },
  {
   "cell_type": "code",
   "execution_count": null,
   "metadata": {},
   "outputs": [],
   "source": []
  }
 ],
 "metadata": {
  "kernelspec": {
   "display_name": "thesis",
   "language": "python",
   "name": "python3"
  },
  "language_info": {
   "codemirror_mode": {
    "name": "ipython",
    "version": 3
   },
   "file_extension": ".py",
   "mimetype": "text/x-python",
   "name": "python",
   "nbconvert_exporter": "python",
   "pygments_lexer": "ipython3",
   "version": "3.11.8"
  }
 },
 "nbformat": 4,
 "nbformat_minor": 2
}
