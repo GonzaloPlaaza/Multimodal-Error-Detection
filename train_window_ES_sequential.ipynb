{
 "cells": [
  {
   "cell_type": "code",
   "execution_count": 1,
   "id": "c4b32ec8",
   "metadata": {},
   "outputs": [],
   "source": [
    "import os\n",
    "import torch\n",
    "import mlflow\n",
    "import gc\n",
    "import time\n",
    "from torch.utils.data import DataLoader\n",
    "\n",
    "from MED.modeling.modeling_utils import train_single_epoch_Sequential, validate_single_epoch_Sequential, retrieve_results_mlflow, retrieve_results_mlflow_sequential, create_summary_df, \\\n",
    "            define_model_objects, load_binary_model_local\n",
    "\n",
    "from MED.dataset.dataset_utils import compute_window_size_stride, retrieve_dataloaders_window\n",
    "from MED.dataset.CustomFrameDataset import CustomFrameDataset\n",
    "from MED.visualization.utils import plot_results_LOSO, plot_cm"
   ]
  },
  {
   "cell_type": "code",
   "execution_count": 2,
   "id": "530b7df1",
   "metadata": {},
   "outputs": [
    {
     "data": {
      "application/vnd.jupyter.widget-view+json": {
       "model_id": "126156ef6fcc49a8935d711b33a82c85",
       "version_major": 2,
       "version_minor": 0
      },
      "text/plain": [
       "Downloading artifacts:   0%|          | 0/1 [00:00<?, ?it/s]"
      ]
     },
     "metadata": {},
     "output_type": "display_data"
    },
    {
     "data": {
      "application/vnd.jupyter.widget-view+json": {
       "model_id": "57a8eecd9e23434cb4322e9b9df8de47",
       "version_major": 2,
       "version_minor": 0
      },
      "text/plain": [
       "Downloading artifacts:   0%|          | 0/1 [00:00<?, ?it/s]"
      ]
     },
     "metadata": {},
     "output_type": "display_data"
    },
    {
     "data": {
      "application/vnd.jupyter.widget-view+json": {
       "model_id": "c80fbfdd75c04e4b8385fe1bbbfaa8ad",
       "version_major": 2,
       "version_minor": 0
      },
      "text/plain": [
       "Downloading artifacts:   0%|          | 0/1 [00:00<?, ?it/s]"
      ]
     },
     "metadata": {},
     "output_type": "display_data"
    },
    {
     "data": {
      "application/vnd.jupyter.widget-view+json": {
       "model_id": "c6d6c44b23194f848bc41af5a8ac81d3",
       "version_major": 2,
       "version_minor": 0
      },
      "text/plain": [
       "Downloading artifacts:   0%|          | 0/1 [00:00<?, ?it/s]"
      ]
     },
     "metadata": {},
     "output_type": "display_data"
    },
    {
     "data": {
      "application/vnd.jupyter.widget-view+json": {
       "model_id": "45d8b38b3aa84ae2bdc0dd708b8cc7d3",
       "version_major": 2,
       "version_minor": 0
      },
      "text/plain": [
       "Downloading artifacts:   0%|          | 0/1 [00:00<?, ?it/s]"
      ]
     },
     "metadata": {},
     "output_type": "display_data"
    },
    {
     "name": "stdout",
     "output_type": "stream",
     "text": [
      "Loaded binary models from models/multimodal/5Hz/SimpleLSTM/.\n"
     ]
    }
   ],
   "source": [
    "#def main(): #Main loop for training.\n",
    "cuda = False\n",
    "if cuda:\n",
    "    torch.cuda.empty_cache() # Clear cache\n",
    "    \n",
    "else:\n",
    "    device = torch.device('mps' if torch.backends.mps.is_available() else 'cpu')\n",
    "    torch.mps.empty_cache()\n",
    "\n",
    "settings = ['LOSO']#, 'LOUO']\n",
    "tasks = ['All', 'Suturing','Knot_Tying','Needle_Passing']\n",
    "out1 = ['Bout','Cout','Dout','Eout','Fout','Gout','Hout','Iout']\n",
    "out2 = ['1out', '2Out', '3out','4out','5out']\n",
    "\n",
    "exp_kwargs = {\n",
    "    'error_type': \"all_errors\",\n",
    "    'dataset_type': \"window\", #'window' or 'frame' \n",
    "    'save_local': False,\n",
    "    'pos_weight': False, \n",
    "    'use_COG_video': True,\n",
    "    'out_features': 5, \n",
    "    'n_epochs': 15,\n",
    "    'batch_size': 512,\n",
    "    'frequency': 5,\n",
    "    'lr': 1e-3,\n",
    "    'lr_scheduler': True, \n",
    "    'weight_decay': 1e-3,\n",
    "    'num_layers': 3,\n",
    "    'hidden_size': 128,\n",
    "    'model_name': 'SimpleLSTM', #SimpleLSTM, SimpleCNN, Siamese_CNN, Siamese_LSTM \n",
    "    'siamese': False,\n",
    "    'n_comparisons': 20,\n",
    "    'n_pairs': 20000,\n",
    "    'video_dims': 32, #32 default\n",
    "    'loss_or_f1': 'f1',  #'loss' or 'f1' to determine the metric for validation\n",
    "    'data_type': 'multimodal', #'multimodal' or 'video' or 'kinematics'\n",
    "    'run_id': \"da3920106aec428f86514b9a075e1fe3\", #binary run id\n",
    "    'delete_ND': False,\n",
    "    'use_true_binary_labels_train': True,\n",
    "    'compute_from_str': False\n",
    "}\n",
    "\n",
    "window_size, stride = compute_window_size_stride(exp_kwargs['frequency'])\n",
    "\n",
    "best_model = None\n",
    "mlflow.set_tracking_uri(uri=\"http://127.0.0.1:8080\")\n",
    "\n",
    "#Set up folders to save results and images\n",
    "results_folder = f\"results/{exp_kwargs['data_type']}/{exp_kwargs['frequency']}Hz/{exp_kwargs['model_name']}/\"\n",
    "image_folder = f\"images/{exp_kwargs['data_type']}/{exp_kwargs['frequency']}Hz/{exp_kwargs['model_name']}/\" \n",
    "\n",
    "if not os.path.exists(results_folder):\n",
    "    os.makedirs(results_folder)\n",
    "\n",
    "if not os.path.exists(image_folder):\n",
    "    os.makedirs(image_folder)\n",
    "\n",
    "\n",
    "exp_kwargs_binary = {\n",
    "    'error_type': 'global',\n",
    "    'model_name': \"SimpleLSTM\",\n",
    "    'dataset_type': \"window\",\n",
    "    'save_local': False,\n",
    "    'return_train_preds': True,\n",
    "    \"compute_from_str\": True}\n",
    "\n",
    "best_model = None\n",
    "mlflow.set_tracking_uri(uri=\"http://127.0.0.1:8080\")\n",
    "\n",
    "#Set up folders to save results and images\n",
    "results_folder = f\"results/{exp_kwargs['data_type']}_ES_sequential/{exp_kwargs['frequency']}Hz/{exp_kwargs['model_name']}/\"\n",
    "image_folder = f\"images/{exp_kwargs['data_type']}_ES_sequential/{exp_kwargs['frequency']}Hz/{exp_kwargs['model_name']}/\" \n",
    "\n",
    "if not os.path.exists(results_folder):\n",
    "    os.makedirs(results_folder)\n",
    "\n",
    "if not os.path.exists(image_folder):\n",
    "    os.makedirs(image_folder)\n",
    "\n",
    "#Define in_features\n",
    "in_features_dict = {\n",
    "    'multimodal': exp_kwargs['video_dims'] + 26,\n",
    "    'video': exp_kwargs['video_dims'],\n",
    "    'kinematics': 26\n",
    "}\n",
    "exp_kwargs['mstcn_f_dim'] = in_features_dict[exp_kwargs['data_type']] \n",
    "\n",
    "\n",
    "#Retrieve binary model results\n",
    "binary_f1_train, binary_f1_test, binary_acc_train, binary_acc_test, binary_jaccard_train, binary_jaccard_test, binary_cm_train, binary_cm_test, \\\n",
    "train_all_preds, train_all_probs, train_all_labels, train_all_subjects, test_all_preds_binary, test_all_probs_binary,\\\n",
    "test_all_labels_binary, test_all_labels_specific_binary, test_all_gest_labels_binary, test_all_subjects_binary = retrieve_results_mlflow(outs=['1out', '2Out', '3out', '4out', '5out'],\n",
    "                                                                                                                   setting=settings[0],\n",
    "                                                                                                                   exp_kwargs=exp_kwargs_binary,   \n",
    "                                                                                                                    run_id=exp_kwargs['run_id'])\n",
    "\n",
    "\n",
    "#Retrieve binary models\n",
    "model_folder = f\"models/multimodal/5Hz/SimpleLSTM/\"\n",
    "model_name = \"SimpleLSTM\"\n",
    "model_dict, fe_dict = load_binary_model_local(model_folder=model_folder, outs=['1out', '2Out', '3out', '4out', '5out'], model_name=model_name, exp_kwargs=exp_kwargs, device=device)"
   ]
  },
  {
   "cell_type": "code",
   "execution_count": 3,
   "id": "7d5d94fa",
   "metadata": {},
   "outputs": [
    {
     "name": "stdout",
     "output_type": "stream",
     "text": [
      "Loading data for LOSO with trial 1out...\n"
     ]
    },
    {
     "name": "stderr",
     "output_type": "stream",
     "text": [
      "/Users/gonzaloplazaarriola/Desktop/Medtronic/TFM/Multimodal-Error-Detection/MED/dataset/dataset_utils.py:96: UserWarning: To copy construct from a tensor, it is recommended to use sourceTensor.clone().detach() or sourceTensor.clone().detach().requires_grad_(True), rather than torch.tensor(sourceTensor).\n",
      "  e_labels_data[frame_index : frame_index + n_frames_in_trial] = torch.tensor(data2['e_labels'].reshape(n_frames_in_trial, 5), dtype=torch.float32)\n",
      "/Users/gonzaloplazaarriola/Desktop/Medtronic/TFM/Multimodal-Error-Detection/MED/dataset/dataset_utils.py:96: UserWarning: To copy construct from a tensor, it is recommended to use sourceTensor.clone().detach() or sourceTensor.clone().detach().requires_grad_(True), rather than torch.tensor(sourceTensor).\n",
      "  e_labels_data[frame_index : frame_index + n_frames_in_trial] = torch.tensor(data2['e_labels'].reshape(n_frames_in_trial, 5), dtype=torch.float32)\n"
     ]
    },
    {
     "name": "stdout",
     "output_type": "stream",
     "text": [
      "Windowing data...\n",
      "Creating datasets and dataloaders...\n",
      "Number of training windows: 3174\n",
      "Number of testing windows: 1078\n",
      "Class distribution for LOSO with trial 1out: [2.2041666507720947, 7.2136359214782715, 3.248720407485962, 27.84210205078125, 31.117645263671875, 32.387752532958984]\n",
      "Class distribution for test set LOSO with trial 1out: [3.4006309509277344, 6.533332824707031, 2.3796908855438232, 22.93616485595703, 71.86662292480469, 13.999999046325684]\n",
      "Number of parameters to optimize: 1599525\n"
     ]
    },
    {
     "name": "stderr",
     "output_type": "stream",
     "text": [
      "100%|██████████| 7/7 [00:03<00:00,  2.11it/s]\n"
     ]
    },
    {
     "name": "stdout",
     "output_type": "stream",
     "text": [
      "Epoch 1/15, F1: 0.3475, Specific F1: 0.2170, Accuracy: 0.6484, Specific Accuracy: 0.3553, Jaccard: 0.2780, Specific Jaccard: 0.1336, Loss: 1.6974, Time: 3.33 seconds\n"
     ]
    },
    {
     "name": "stderr",
     "output_type": "stream",
     "text": [
      "Test: 100%|██████████| 3/3 [00:01<00:00,  2.71it/s]\n"
     ]
    },
    {
     "name": "stdout",
     "output_type": "stream",
     "text": [
      "New best F1 score: 0.08711833785004516 at epoch 1, with weighted F1 score: 0.12082579060309707\n"
     ]
    },
    {
     "name": "stderr",
     "output_type": "stream",
     "text": [
      "100%|██████████| 7/7 [00:02<00:00,  2.76it/s]\n",
      "Test: 100%|██████████| 3/3 [00:00<00:00,  3.26it/s]\n",
      "100%|██████████| 7/7 [00:02<00:00,  2.87it/s]\n",
      "Test: 100%|██████████| 3/3 [00:00<00:00,  3.30it/s]\n"
     ]
    },
    {
     "name": "stdout",
     "output_type": "stream",
     "text": [
      "New best F1 score: 0.16275461657012164 at epoch 3, with weighted F1 score: 0.27858752265376924\n"
     ]
    },
    {
     "name": "stderr",
     "output_type": "stream",
     "text": [
      "100%|██████████| 7/7 [00:02<00:00,  2.73it/s]\n",
      "Test: 100%|██████████| 3/3 [00:00<00:00,  3.26it/s]\n"
     ]
    },
    {
     "name": "stdout",
     "output_type": "stream",
     "text": [
      "New best F1 score: 0.17388406803193335 at epoch 4, with weighted F1 score: 0.37002523004062327\n"
     ]
    },
    {
     "name": "stderr",
     "output_type": "stream",
     "text": [
      "100%|██████████| 7/7 [00:02<00:00,  2.74it/s]\n",
      "Test: 100%|██████████| 3/3 [00:00<00:00,  3.37it/s]\n",
      "100%|██████████| 7/7 [00:02<00:00,  2.77it/s]\n"
     ]
    },
    {
     "name": "stdout",
     "output_type": "stream",
     "text": [
      "Epoch 6/15, F1: 0.3097, Specific F1: 0.1716, Accuracy: 0.7596, Specific Accuracy: 0.5592, Jaccard: 0.2719, Specific Jaccard: 0.1263, Loss: 1.2179, Time: 2.54 seconds\n"
     ]
    },
    {
     "name": "stderr",
     "output_type": "stream",
     "text": [
      "Test: 100%|██████████| 3/3 [00:00<00:00,  3.04it/s]\n",
      "100%|██████████| 7/7 [00:02<00:00,  2.69it/s]\n",
      "Test: 100%|██████████| 3/3 [00:00<00:00,  3.35it/s]\n",
      "100%|██████████| 7/7 [00:02<00:00,  2.78it/s]\n",
      "Test: 100%|██████████| 3/3 [00:00<00:00,  3.20it/s]\n"
     ]
    },
    {
     "name": "stdout",
     "output_type": "stream",
     "text": [
      "New best F1 score: 0.17870422535211267 at epoch 8, with weighted F1 score: 0.38734064465846463\n"
     ]
    },
    {
     "name": "stderr",
     "output_type": "stream",
     "text": [
      "100%|██████████| 7/7 [00:02<00:00,  2.52it/s]\n",
      "Test: 100%|██████████| 3/3 [00:00<00:00,  3.11it/s]\n",
      "100%|██████████| 7/7 [00:02<00:00,  2.80it/s]\n",
      "Test: 100%|██████████| 3/3 [00:00<00:00,  3.30it/s]\n",
      "100%|██████████| 7/7 [00:02<00:00,  2.57it/s]\n"
     ]
    },
    {
     "name": "stdout",
     "output_type": "stream",
     "text": [
      "Epoch 11/15, F1: 0.3158, Specific F1: 0.1789, Accuracy: 0.7621, Specific Accuracy: 0.5638, Jaccard: 0.2761, Specific Jaccard: 0.1313, Loss: 1.1945, Time: 2.74 seconds\n"
     ]
    },
    {
     "name": "stderr",
     "output_type": "stream",
     "text": [
      "Test: 100%|██████████| 3/3 [00:00<00:00,  3.41it/s]\n",
      "100%|██████████| 7/7 [00:02<00:00,  2.74it/s]\n",
      "Test: 100%|██████████| 3/3 [00:00<00:00,  3.30it/s]\n",
      "100%|██████████| 7/7 [00:02<00:00,  2.61it/s]\n",
      "Test: 100%|██████████| 3/3 [00:00<00:00,  3.27it/s]\n",
      "100%|██████████| 7/7 [00:02<00:00,  2.68it/s]\n",
      "Test: 100%|██████████| 3/3 [00:00<00:00,  3.45it/s]\n",
      "100%|██████████| 7/7 [00:02<00:00,  2.77it/s]\n"
     ]
    },
    {
     "name": "stdout",
     "output_type": "stream",
     "text": [
      "Epoch 15/15, F1: 0.3282, Specific F1: 0.1938, Accuracy: 0.7675, Specific Accuracy: 0.5737, Jaccard: 0.2838, Specific Jaccard: 0.1406, Loss: 1.1280, Time: 2.54 seconds\n"
     ]
    },
    {
     "name": "stderr",
     "output_type": "stream",
     "text": [
      "Test: 100%|██████████| 3/3 [00:00<00:00,  3.24it/s]\n"
     ]
    },
    {
     "name": "stdout",
     "output_type": "stream",
     "text": [
      "Inference rate: 0.3205 ms per frame.\n"
     ]
    },
    {
     "data": {
      "image/png": "[encoded data removed]",
      "text/plain": [
       "<Figure size 1000x600 with 2 Axes>"
      ]
     },
     "metadata": {},
     "output_type": "display_data"
    },
    {
     "name": "stdout",
     "output_type": "stream",
     "text": [
      "Loading data for LOSO with trial 2Out...\n"
     ]
    },
    {
     "name": "stderr",
     "output_type": "stream",
     "text": [
      "/Users/gonzaloplazaarriola/Desktop/Medtronic/TFM/Multimodal-Error-Detection/MED/dataset/dataset_utils.py:96: UserWarning: To copy construct from a tensor, it is recommended to use sourceTensor.clone().detach() or sourceTensor.clone().detach().requires_grad_(True), rather than torch.tensor(sourceTensor).\n",
      "  e_labels_data[frame_index : frame_index + n_frames_in_trial] = torch.tensor(data2['e_labels'].reshape(n_frames_in_trial, 5), dtype=torch.float32)\n",
      "/Users/gonzaloplazaarriola/Desktop/Medtronic/TFM/Multimodal-Error-Detection/MED/dataset/dataset_utils.py:96: UserWarning: To copy construct from a tensor, it is recommended to use sourceTensor.clone().detach() or sourceTensor.clone().detach().requires_grad_(True), rather than torch.tensor(sourceTensor).\n",
      "  e_labels_data[frame_index : frame_index + n_frames_in_trial] = torch.tensor(data2['e_labels'].reshape(n_frames_in_trial, 5), dtype=torch.float32)\n"
     ]
    },
    {
     "name": "stdout",
     "output_type": "stream",
     "text": [
      "Windowing data...\n",
      "Creating datasets and dataloaders...\n",
      "Number of training windows: 3476\n",
      "Number of testing windows: 776\n",
      "Class distribution for LOSO with trial 2Out: [2.3840878009796143, 6.829076766967773, 3.065255641937256, 27.156246185302734, 38.62221908569336, 23.173330307006836]\n",
      "Class distribution for test set LOSO with trial 2Out: [2.5953176021575928, 8.083333015441895, 2.621621608734131, 23.51514434814453, 28.74073028564453, 31.039987564086914]\n",
      "Number of parameters to optimize: 1599525\n"
     ]
    },
    {
     "name": "stderr",
     "output_type": "stream",
     "text": [
      "100%|██████████| 7/7 [00:03<00:00,  2.24it/s]\n"
     ]
    },
    {
     "name": "stdout",
     "output_type": "stream",
     "text": [
      "Epoch 1/15, F1: 0.3403, Specific F1: 0.2084, Accuracy: 0.6384, Specific Accuracy: 0.3749, Jaccard: 0.2757, Specific Jaccard: 0.1309, Loss: 1.7291, Time: 3.14 seconds\n"
     ]
    },
    {
     "name": "stderr",
     "output_type": "stream",
     "text": [
      "Test: 100%|██████████| 2/2 [00:00<00:00,  2.73it/s]\n"
     ]
    },
    {
     "name": "stdout",
     "output_type": "stream",
     "text": [
      "New best F1 score: 0.14757789997381515 at epoch 1, with weighted F1 score: 0.29712459821411635\n"
     ]
    },
    {
     "name": "stderr",
     "output_type": "stream",
     "text": [
      "100%|██████████| 7/7 [00:02<00:00,  2.39it/s]\n",
      "Test: 100%|██████████| 2/2 [00:00<00:00,  3.18it/s]\n",
      "100%|██████████| 7/7 [00:02<00:00,  2.39it/s]\n",
      "Test: 100%|██████████| 2/2 [00:00<00:00,  3.04it/s]\n",
      "100%|██████████| 7/7 [00:02<00:00,  2.36it/s]\n",
      "Test: 100%|██████████| 2/2 [00:00<00:00,  3.02it/s]\n"
     ]
    },
    {
     "name": "stdout",
     "output_type": "stream",
     "text": [
      "New best F1 score: 0.2269058110428433 at epoch 4, with weighted F1 score: 0.5029434929817823\n"
     ]
    },
    {
     "name": "stderr",
     "output_type": "stream",
     "text": [
      "100%|██████████| 7/7 [00:02<00:00,  2.43it/s]\n",
      "Test: 100%|██████████| 2/2 [00:00<00:00,  2.92it/s]\n",
      "100%|██████████| 7/7 [00:02<00:00,  2.54it/s]\n"
     ]
    },
    {
     "name": "stdout",
     "output_type": "stream",
     "text": [
      "Epoch 6/15, F1: 0.3333, Specific F1: 0.1999, Accuracy: 0.7431, Specific Accuracy: 0.5559, Jaccard: 0.2862, Specific Jaccard: 0.1434, Loss: 1.1537, Time: 2.76 seconds\n"
     ]
    },
    {
     "name": "stderr",
     "output_type": "stream",
     "text": [
      "Test: 100%|██████████| 2/2 [00:00<00:00,  2.97it/s]\n",
      "100%|██████████| 7/7 [00:02<00:00,  2.49it/s]\n",
      "Test: 100%|██████████| 2/2 [00:00<00:00,  3.09it/s]\n",
      "100%|██████████| 7/7 [00:02<00:00,  2.42it/s]\n",
      "Test: 100%|██████████| 2/2 [00:00<00:00,  2.93it/s]\n"
     ]
    },
    {
     "name": "stdout",
     "output_type": "stream",
     "text": [
      "New best F1 score: 0.20350198513692352 at epoch 8, with weighted F1 score: 0.5071755581030619\n"
     ]
    },
    {
     "name": "stderr",
     "output_type": "stream",
     "text": [
      "100%|██████████| 7/7 [00:02<00:00,  2.45it/s]\n",
      "Test: 100%|██████████| 2/2 [00:00<00:00,  2.79it/s]\n",
      "100%|██████████| 7/7 [00:02<00:00,  2.44it/s]\n",
      "Test: 100%|██████████| 2/2 [00:00<00:00,  2.89it/s]\n",
      "100%|██████████| 7/7 [00:02<00:00,  2.42it/s]\n"
     ]
    },
    {
     "name": "stdout",
     "output_type": "stream",
     "text": [
      "Epoch 11/15, F1: 0.3132, Specific F1: 0.1759, Accuracy: 0.7526, Specific Accuracy: 0.5724, Jaccard: 0.2754, Specific Jaccard: 0.1305, Loss: 1.0888, Time: 2.91 seconds\n"
     ]
    },
    {
     "name": "stderr",
     "output_type": "stream",
     "text": [
      "Test: 100%|██████████| 2/2 [00:00<00:00,  2.86it/s]\n",
      "100%|██████████| 7/7 [00:02<00:00,  2.42it/s]\n",
      "Test: 100%|██████████| 2/2 [00:00<00:00,  3.05it/s]\n",
      "100%|██████████| 7/7 [00:02<00:00,  2.48it/s]\n",
      "Test: 100%|██████████| 2/2 [00:00<00:00,  3.04it/s]\n",
      "100%|██████████| 7/7 [00:02<00:00,  2.38it/s]\n",
      "Test: 100%|██████████| 2/2 [00:00<00:00,  2.82it/s]\n",
      "100%|██████████| 7/7 [00:02<00:00,  2.43it/s]\n"
     ]
    },
    {
     "name": "stdout",
     "output_type": "stream",
     "text": [
      "Epoch 15/15, F1: 0.3188, Specific F1: 0.1826, Accuracy: 0.7477, Specific Accuracy: 0.5639, Jaccard: 0.2775, Specific Jaccard: 0.1330, Loss: 1.0906, Time: 2.89 seconds\n"
     ]
    },
    {
     "name": "stderr",
     "output_type": "stream",
     "text": [
      "Test: 100%|██████████| 2/2 [00:00<00:00,  3.01it/s]\n"
     ]
    },
    {
     "name": "stdout",
     "output_type": "stream",
     "text": [
      "Inference rate: 0.1730 ms per frame.\n"
     ]
    },
    {
     "data": {
      "image/png": "[encoded data removed]",
      "text/plain": [
       "<Figure size 1000x600 with 2 Axes>"
      ]
     },
     "metadata": {},
     "output_type": "display_data"
    },
    {
     "name": "stdout",
     "output_type": "stream",
     "text": [
      "Loading data for LOSO with trial 3out...\n"
     ]
    },
    {
     "name": "stderr",
     "output_type": "stream",
     "text": [
      "/Users/gonzaloplazaarriola/Desktop/Medtronic/TFM/Multimodal-Error-Detection/MED/dataset/dataset_utils.py:96: UserWarning: To copy construct from a tensor, it is recommended to use sourceTensor.clone().detach() or sourceTensor.clone().detach().requires_grad_(True), rather than torch.tensor(sourceTensor).\n",
      "  e_labels_data[frame_index : frame_index + n_frames_in_trial] = torch.tensor(data2['e_labels'].reshape(n_frames_in_trial, 5), dtype=torch.float32)\n",
      "/Users/gonzaloplazaarriola/Desktop/Medtronic/TFM/Multimodal-Error-Detection/MED/dataset/dataset_utils.py:96: UserWarning: To copy construct from a tensor, it is recommended to use sourceTensor.clone().detach() or sourceTensor.clone().detach().requires_grad_(True), rather than torch.tensor(sourceTensor).\n",
      "  e_labels_data[frame_index : frame_index + n_frames_in_trial] = torch.tensor(data2['e_labels'].reshape(n_frames_in_trial, 5), dtype=torch.float32)\n"
     ]
    },
    {
     "name": "stdout",
     "output_type": "stream",
     "text": [
      "Windowing data...\n",
      "Creating datasets and dataloaders...\n",
      "Number of training windows: 3364\n",
      "Number of testing windows: 888\n",
      "Class distribution for LOSO with trial 3out: [2.459064245223999, 6.809716701507568, 2.9176063537597656, 27.129032135009766, 43.68830871582031, 23.361108779907227]\n",
      "Class distribution for test set LOSO with trial 3out: [2.282776355743408, 7.999999523162842, 3.2057762145996094, 23.99999237060547, 22.199993133544922, 28.645153045654297]\n",
      "Number of parameters to optimize: 1599525\n"
     ]
    },
    {
     "name": "stderr",
     "output_type": "stream",
     "text": [
      "100%|██████████| 7/7 [00:02<00:00,  2.40it/s]\n"
     ]
    },
    {
     "name": "stdout",
     "output_type": "stream",
     "text": [
      "Epoch 1/15, F1: 0.3152, Specific F1: 0.1782, Accuracy: 0.5654, Specific Accuracy: 0.2661, Jaccard: 0.2531, Specific Jaccard: 0.1038, Loss: 1.9573, Time: 2.93 seconds\n"
     ]
    },
    {
     "name": "stderr",
     "output_type": "stream",
     "text": [
      "Test: 100%|██████████| 2/2 [00:00<00:00,  2.78it/s]\n"
     ]
    },
    {
     "name": "stdout",
     "output_type": "stream",
     "text": [
      "New best F1 score: 0.07937743190661478 at epoch 1, with weighted F1 score: 0.09969203533295222\n"
     ]
    },
    {
     "name": "stderr",
     "output_type": "stream",
     "text": [
      "100%|██████████| 7/7 [00:02<00:00,  2.39it/s]\n",
      "Test: 100%|██████████| 2/2 [00:00<00:00,  2.40it/s]\n"
     ]
    },
    {
     "name": "stdout",
     "output_type": "stream",
     "text": [
      "New best F1 score: 0.0906537078950872 at epoch 2, with weighted F1 score: 0.1283173304745457\n"
     ]
    },
    {
     "name": "stderr",
     "output_type": "stream",
     "text": [
      "100%|██████████| 7/7 [00:02<00:00,  2.52it/s]\n",
      "Test: 100%|██████████| 2/2 [00:00<00:00,  3.00it/s]\n"
     ]
    },
    {
     "name": "stdout",
     "output_type": "stream",
     "text": [
      "New best F1 score: 0.13534932221063606 at epoch 3, with weighted F1 score: 0.23938344147981952\n"
     ]
    },
    {
     "name": "stderr",
     "output_type": "stream",
     "text": [
      "100%|██████████| 7/7 [00:02<00:00,  2.62it/s]\n",
      "Test: 100%|██████████| 2/2 [00:00<00:00,  3.12it/s]\n"
     ]
    },
    {
     "name": "stdout",
     "output_type": "stream",
     "text": [
      "New best F1 score: 0.19767662399241345 at epoch 4, with weighted F1 score: 0.4150582360859238\n"
     ]
    },
    {
     "name": "stderr",
     "output_type": "stream",
     "text": [
      "100%|██████████| 7/7 [00:02<00:00,  2.52it/s]\n",
      "Test: 100%|██████████| 2/2 [00:00<00:00,  3.04it/s]\n"
     ]
    },
    {
     "name": "stdout",
     "output_type": "stream",
     "text": [
      "New best F1 score: 0.20781535800991055 at epoch 5, with weighted F1 score: 0.44161146582449623\n"
     ]
    },
    {
     "name": "stderr",
     "output_type": "stream",
     "text": [
      "100%|██████████| 7/7 [00:02<00:00,  2.53it/s]\n"
     ]
    },
    {
     "name": "stdout",
     "output_type": "stream",
     "text": [
      "Epoch 6/15, F1: 0.3133, Specific F1: 0.1760, Accuracy: 0.7521, Specific Accuracy: 0.5813, Jaccard: 0.2759, Specific Jaccard: 0.1310, Loss: 1.1373, Time: 2.78 seconds\n"
     ]
    },
    {
     "name": "stderr",
     "output_type": "stream",
     "text": [
      "Test: 100%|██████████| 2/2 [00:00<00:00,  3.09it/s]\n",
      "100%|██████████| 7/7 [00:02<00:00,  2.54it/s]\n",
      "Test: 100%|██████████| 2/2 [00:00<00:00,  3.07it/s]\n"
     ]
    },
    {
     "name": "stdout",
     "output_type": "stream",
     "text": [
      "New best F1 score: 0.2089978448275862 at epoch 7, with weighted F1 score: 0.44380209184507274\n"
     ]
    },
    {
     "name": "stderr",
     "output_type": "stream",
     "text": [
      "100%|██████████| 7/7 [00:02<00:00,  2.54it/s]\n",
      "Test: 100%|██████████| 2/2 [00:00<00:00,  3.13it/s]\n"
     ]
    },
    {
     "name": "stdout",
     "output_type": "stream",
     "text": [
      "New best F1 score: 0.21295463308058088 at epoch 8, with weighted F1 score: 0.4479272940343807\n"
     ]
    },
    {
     "name": "stderr",
     "output_type": "stream",
     "text": [
      "100%|██████████| 7/7 [00:02<00:00,  2.56it/s]\n",
      "Test: 100%|██████████| 2/2 [00:00<00:00,  3.11it/s]\n"
     ]
    },
    {
     "name": "stdout",
     "output_type": "stream",
     "text": [
      "New best F1 score: 0.2301778542742398 at epoch 9, with weighted F1 score: 0.477745783404437\n"
     ]
    },
    {
     "name": "stderr",
     "output_type": "stream",
     "text": [
      "100%|██████████| 7/7 [00:02<00:00,  2.54it/s]\n",
      "Test: 100%|██████████| 2/2 [00:00<00:00,  3.11it/s]\n",
      "100%|██████████| 7/7 [00:02<00:00,  2.59it/s]\n"
     ]
    },
    {
     "name": "stdout",
     "output_type": "stream",
     "text": [
      "Epoch 11/15, F1: 0.3203, Specific F1: 0.1844, Accuracy: 0.7556, Specific Accuracy: 0.5873, Jaccard: 0.2807, Specific Jaccard: 0.1368, Loss: 1.0875, Time: 2.71 seconds\n"
     ]
    },
    {
     "name": "stderr",
     "output_type": "stream",
     "text": [
      "Test: 100%|██████████| 2/2 [00:00<00:00,  3.20it/s]\n",
      "100%|██████████| 7/7 [00:02<00:00,  2.58it/s]\n",
      "Test: 100%|██████████| 2/2 [00:00<00:00,  3.10it/s]\n",
      "100%|██████████| 7/7 [00:02<00:00,  2.57it/s]\n",
      "Test: 100%|██████████| 2/2 [00:00<00:00,  3.10it/s]\n",
      "100%|██████████| 7/7 [00:02<00:00,  2.56it/s]\n",
      "Test: 100%|██████████| 2/2 [00:00<00:00,  3.10it/s]\n",
      "100%|██████████| 7/7 [00:02<00:00,  2.59it/s]\n"
     ]
    },
    {
     "name": "stdout",
     "output_type": "stream",
     "text": [
      "Epoch 15/15, F1: 0.3427, Specific F1: 0.2113, Accuracy: 0.7649, Specific Accuracy: 0.6029, Jaccard: 0.2959, Specific Jaccard: 0.1551, Loss: 1.0563, Time: 2.71 seconds\n"
     ]
    },
    {
     "name": "stderr",
     "output_type": "stream",
     "text": [
      "Test: 100%|██████████| 2/2 [00:00<00:00,  3.09it/s]\n"
     ]
    },
    {
     "name": "stdout",
     "output_type": "stream",
     "text": [
      "Inference rate: 0.1818 ms per frame.\n"
     ]
    },
    {
     "data": {
      "image/png": "[encoded data removed]",
      "text/plain": [
       "<Figure size 1000x600 with 2 Axes>"
      ]
     },
     "metadata": {},
     "output_type": "display_data"
    },
    {
     "name": "stdout",
     "output_type": "stream",
     "text": [
      "Loading data for LOSO with trial 4out...\n"
     ]
    },
    {
     "name": "stderr",
     "output_type": "stream",
     "text": [
      "/Users/gonzaloplazaarriola/Desktop/Medtronic/TFM/Multimodal-Error-Detection/MED/dataset/dataset_utils.py:96: UserWarning: To copy construct from a tensor, it is recommended to use sourceTensor.clone().detach() or sourceTensor.clone().detach().requires_grad_(True), rather than torch.tensor(sourceTensor).\n",
      "  e_labels_data[frame_index : frame_index + n_frames_in_trial] = torch.tensor(data2['e_labels'].reshape(n_frames_in_trial, 5), dtype=torch.float32)\n",
      "/Users/gonzaloplazaarriola/Desktop/Medtronic/TFM/Multimodal-Error-Detection/MED/dataset/dataset_utils.py:96: UserWarning: To copy construct from a tensor, it is recommended to use sourceTensor.clone().detach() or sourceTensor.clone().detach().requires_grad_(True), rather than torch.tensor(sourceTensor).\n",
      "  e_labels_data[frame_index : frame_index + n_frames_in_trial] = torch.tensor(data2['e_labels'].reshape(n_frames_in_trial, 5), dtype=torch.float32)\n"
     ]
    },
    {
     "name": "stdout",
     "output_type": "stream",
     "text": [
      "Windowing data...\n",
      "Creating datasets and dataloaders...\n",
      "Number of training windows: 3382\n",
      "Number of testing windows: 870\n",
      "Class distribution for LOSO with trial 4out: [2.5314371585845947, 7.449338912963867, 2.823038339614868, 23.650348663330078, 34.51020050048828, 23.16438102722168]\n",
      "Class distribution for test set LOSO with trial 4out: [2.0665082931518555, 5.761589050292969, 3.749999523162842, 48.333309173583984, 45.789451599121094, 29.999990463256836]\n",
      "Number of parameters to optimize: 1599525\n"
     ]
    },
    {
     "name": "stderr",
     "output_type": "stream",
     "text": [
      "100%|██████████| 7/7 [00:02<00:00,  2.42it/s]\n"
     ]
    },
    {
     "name": "stdout",
     "output_type": "stream",
     "text": [
      "Epoch 1/15, F1: 0.3312, Specific F1: 0.1974, Accuracy: 0.5985, Specific Accuracy: 0.3340, Jaccard: 0.2670, Specific Jaccard: 0.1204, Loss: 1.7222, Time: 2.91 seconds\n"
     ]
    },
    {
     "name": "stderr",
     "output_type": "stream",
     "text": [
      "Test: 100%|██████████| 2/2 [00:00<00:00,  2.80it/s]\n"
     ]
    },
    {
     "name": "stdout",
     "output_type": "stream",
     "text": [
      "New best F1 score: 0.09239766081871345 at epoch 1, with weighted F1 score: 0.11054542674769711\n"
     ]
    },
    {
     "name": "stderr",
     "output_type": "stream",
     "text": [
      "100%|██████████| 7/7 [00:02<00:00,  2.51it/s]\n",
      "Test: 100%|██████████| 2/2 [00:00<00:00,  3.40it/s]\n"
     ]
    },
    {
     "name": "stdout",
     "output_type": "stream",
     "text": [
      "New best F1 score: 0.11340484145126313 at epoch 2, with weighted F1 score: 0.2163716276812192\n"
     ]
    },
    {
     "name": "stderr",
     "output_type": "stream",
     "text": [
      "100%|██████████| 7/7 [00:02<00:00,  2.50it/s]\n",
      "Test: 100%|██████████| 2/2 [00:00<00:00,  3.44it/s]\n"
     ]
    },
    {
     "name": "stdout",
     "output_type": "stream",
     "text": [
      "New best F1 score: 0.179815668202765 at epoch 3, with weighted F1 score: 0.3687690129815367\n"
     ]
    },
    {
     "name": "stderr",
     "output_type": "stream",
     "text": [
      "100%|██████████| 7/7 [00:02<00:00,  2.44it/s]\n",
      "Test: 100%|██████████| 2/2 [00:00<00:00,  3.37it/s]\n"
     ]
    },
    {
     "name": "stdout",
     "output_type": "stream",
     "text": [
      "New best F1 score: 0.15597071446604394 at epoch 4, with weighted F1 score: 0.41172180392816893\n"
     ]
    },
    {
     "name": "stderr",
     "output_type": "stream",
     "text": [
      "100%|██████████| 7/7 [00:02<00:00,  2.52it/s]\n",
      "Test: 100%|██████████| 2/2 [00:00<00:00,  3.36it/s]\n",
      "100%|██████████| 7/7 [00:02<00:00,  2.56it/s]\n"
     ]
    },
    {
     "name": "stdout",
     "output_type": "stream",
     "text": [
      "Epoch 6/15, F1: 0.3285, Specific F1: 0.1942, Accuracy: 0.7395, Specific Accuracy: 0.5679, Jaccard: 0.2839, Specific Jaccard: 0.1406, Loss: 1.1138, Time: 2.75 seconds\n"
     ]
    },
    {
     "name": "stderr",
     "output_type": "stream",
     "text": [
      "Test: 100%|██████████| 2/2 [00:00<00:00,  3.33it/s]\n"
     ]
    },
    {
     "name": "stdout",
     "output_type": "stream",
     "text": [
      "New best F1 score: 0.18166278166278166 at epoch 6, with weighted F1 score: 0.4380710066984576\n"
     ]
    },
    {
     "name": "stderr",
     "output_type": "stream",
     "text": [
      "100%|██████████| 7/7 [00:02<00:00,  2.54it/s]\n",
      "Test: 100%|██████████| 2/2 [00:00<00:00,  3.39it/s]\n",
      "100%|██████████| 7/7 [00:02<00:00,  2.54it/s]\n",
      "Test: 100%|██████████| 2/2 [00:00<00:00,  3.46it/s]\n"
     ]
    },
    {
     "name": "stdout",
     "output_type": "stream",
     "text": [
      "New best F1 score: 0.2176221198156682 at epoch 8, with weighted F1 score: 0.4727411824945032\n"
     ]
    },
    {
     "name": "stderr",
     "output_type": "stream",
     "text": [
      "100%|██████████| 7/7 [00:02<00:00,  2.52it/s]\n",
      "Test: 100%|██████████| 2/2 [00:00<00:00,  3.36it/s]\n",
      "100%|██████████| 7/7 [00:02<00:00,  2.53it/s]\n",
      "Test: 100%|██████████| 2/2 [00:00<00:00,  3.51it/s]\n",
      "100%|██████████| 7/7 [00:02<00:00,  2.56it/s]\n"
     ]
    },
    {
     "name": "stdout",
     "output_type": "stream",
     "text": [
      "Epoch 11/15, F1: 0.3085, Specific F1: 0.1702, Accuracy: 0.7487, Specific Accuracy: 0.5831, Jaccard: 0.2738, Specific Jaccard: 0.1286, Loss: 1.1269, Time: 2.75 seconds\n"
     ]
    },
    {
     "name": "stderr",
     "output_type": "stream",
     "text": [
      "Test: 100%|██████████| 2/2 [00:00<00:00,  3.43it/s]\n",
      "100%|██████████| 7/7 [00:02<00:00,  2.54it/s]\n",
      "Test: 100%|██████████| 2/2 [00:00<00:00,  3.47it/s]\n",
      "100%|██████████| 7/7 [00:02<00:00,  2.53it/s]\n",
      "Test: 100%|██████████| 2/2 [00:00<00:00,  3.39it/s]\n",
      "100%|██████████| 7/7 [00:02<00:00,  2.53it/s]\n",
      "Test: 100%|██████████| 2/2 [00:00<00:00,  3.42it/s]\n"
     ]
    },
    {
     "name": "stdout",
     "output_type": "stream",
     "text": [
      "New best F1 score: 0.2217626321974148 at epoch 14, with weighted F1 score: 0.47751587905040593\n"
     ]
    },
    {
     "name": "stderr",
     "output_type": "stream",
     "text": [
      "100%|██████████| 7/7 [00:02<00:00,  2.51it/s]\n"
     ]
    },
    {
     "name": "stdout",
     "output_type": "stream",
     "text": [
      "Epoch 15/15, F1: 0.3036, Specific F1: 0.1643, Accuracy: 0.7531, Specific Accuracy: 0.5905, Jaccard: 0.2717, Specific Jaccard: 0.1260, Loss: 1.0769, Time: 2.80 seconds\n"
     ]
    },
    {
     "name": "stderr",
     "output_type": "stream",
     "text": [
      "Test: 100%|██████████| 2/2 [00:00<00:00,  3.44it/s]\n"
     ]
    },
    {
     "name": "stdout",
     "output_type": "stream",
     "text": [
      "Inference rate: 0.2171 ms per frame.\n"
     ]
    },
    {
     "data": {
      "image/png": "[encoded data removed]",
      "text/plain": [
       "<Figure size 1000x600 with 2 Axes>"
      ]
     },
     "metadata": {},
     "output_type": "display_data"
    },
    {
     "name": "stdout",
     "output_type": "stream",
     "text": [
      "Loading data for LOSO with trial 5out...\n"
     ]
    },
    {
     "name": "stderr",
     "output_type": "stream",
     "text": [
      "/Users/gonzaloplazaarriola/Desktop/Medtronic/TFM/Multimodal-Error-Detection/MED/dataset/dataset_utils.py:96: UserWarning: To copy construct from a tensor, it is recommended to use sourceTensor.clone().detach() or sourceTensor.clone().detach().requires_grad_(True), rather than torch.tensor(sourceTensor).\n",
      "  e_labels_data[frame_index : frame_index + n_frames_in_trial] = torch.tensor(data2['e_labels'].reshape(n_frames_in_trial, 5), dtype=torch.float32)\n",
      "/Users/gonzaloplazaarriola/Desktop/Medtronic/TFM/Multimodal-Error-Detection/MED/dataset/dataset_utils.py:96: UserWarning: To copy construct from a tensor, it is recommended to use sourceTensor.clone().detach() or sourceTensor.clone().detach().requires_grad_(True), rather than torch.tensor(sourceTensor).\n",
      "  e_labels_data[frame_index : frame_index + n_frames_in_trial] = torch.tensor(data2['e_labels'].reshape(n_frames_in_trial, 5), dtype=torch.float32)\n"
     ]
    },
    {
     "name": "stdout",
     "output_type": "stream",
     "text": [
      "Windowing data...\n",
      "Creating datasets and dataloaders...\n",
      "Number of training windows: 3612\n",
      "Number of testing windows: 640\n",
      "Class distribution for LOSO with trial 5out: [2.532959222793579, 6.906309604644775, 2.8712241649627686, 26.755552291870117, 35.76237106323242, 22.296295166015625]\n",
      "Class distribution for test set LOSO with trial 5out: [1.9335347414016724, 7.804877281188965, 3.7209298610687256, 24.615375518798828, 39.999977111816406, 49.23073196411133]\n",
      "Number of parameters to optimize: 1599525\n"
     ]
    },
    {
     "name": "stderr",
     "output_type": "stream",
     "text": [
      "100%|██████████| 8/8 [00:03<00:00,  2.48it/s]\n"
     ]
    },
    {
     "name": "stdout",
     "output_type": "stream",
     "text": [
      "Epoch 1/15, F1: 0.3197, Specific F1: 0.1836, Accuracy: 0.5645, Specific Accuracy: 0.2781, Jaccard: 0.2564, Specific Jaccard: 0.1076, Loss: 1.9136, Time: 3.24 seconds\n"
     ]
    },
    {
     "name": "stderr",
     "output_type": "stream",
     "text": [
      "Test: 100%|██████████| 2/2 [00:00<00:00,  3.20it/s]\n"
     ]
    },
    {
     "name": "stdout",
     "output_type": "stream",
     "text": [
      "New best F1 score: 0.08687782805429864 at epoch 1, with weighted F1 score: 0.12303507441215703\n"
     ]
    },
    {
     "name": "stderr",
     "output_type": "stream",
     "text": [
      "100%|██████████| 8/8 [00:03<00:00,  2.65it/s]\n",
      "Test: 100%|██████████| 2/2 [00:00<00:00,  4.15it/s]\n"
     ]
    },
    {
     "name": "stdout",
     "output_type": "stream",
     "text": [
      "New best F1 score: 0.10332765825723574 at epoch 2, with weighted F1 score: 0.16043258215366007\n"
     ]
    },
    {
     "name": "stderr",
     "output_type": "stream",
     "text": [
      "100%|██████████| 8/8 [00:02<00:00,  2.69it/s]\n",
      "Test: 100%|██████████| 2/2 [00:00<00:00,  4.04it/s]\n"
     ]
    },
    {
     "name": "stdout",
     "output_type": "stream",
     "text": [
      "New best F1 score: 0.13411764705882354 at epoch 3, with weighted F1 score: 0.32113469665322775\n"
     ]
    },
    {
     "name": "stderr",
     "output_type": "stream",
     "text": [
      "100%|██████████| 8/8 [00:02<00:00,  2.69it/s]\n",
      "Test: 100%|██████████| 2/2 [00:00<00:00,  4.16it/s]\n"
     ]
    },
    {
     "name": "stdout",
     "output_type": "stream",
     "text": [
      "New best F1 score: 0.16935954465011718 at epoch 4, with weighted F1 score: 0.3658950966722709\n"
     ]
    },
    {
     "name": "stderr",
     "output_type": "stream",
     "text": [
      "100%|██████████| 8/8 [00:02<00:00,  2.72it/s]\n",
      "Test: 100%|██████████| 2/2 [00:00<00:00,  4.18it/s]\n",
      "100%|██████████| 8/8 [00:02<00:00,  2.67it/s]\n"
     ]
    },
    {
     "name": "stdout",
     "output_type": "stream",
     "text": [
      "Epoch 6/15, F1: 0.3023, Specific F1: 0.1627, Accuracy: 0.7467, Specific Accuracy: 0.5801, Jaccard: 0.2701, Specific Jaccard: 0.1242, Loss: 1.1496, Time: 3.00 seconds\n"
     ]
    },
    {
     "name": "stderr",
     "output_type": "stream",
     "text": [
      "Test: 100%|██████████| 2/2 [00:00<00:00,  4.09it/s]\n",
      "100%|██████████| 8/8 [00:02<00:00,  2.68it/s]\n",
      "Test: 100%|██████████| 2/2 [00:00<00:00,  4.17it/s]\n",
      "100%|██████████| 8/8 [00:02<00:00,  2.71it/s]\n",
      "Test: 100%|██████████| 2/2 [00:00<00:00,  4.08it/s]\n",
      "100%|██████████| 8/8 [00:02<00:00,  2.70it/s]\n",
      "Test: 100%|██████████| 2/2 [00:00<00:00,  4.20it/s]\n",
      "100%|██████████| 8/8 [00:02<00:00,  2.72it/s]\n",
      "Test: 100%|██████████| 2/2 [00:00<00:00,  4.16it/s]\n",
      "100%|██████████| 8/8 [00:02<00:00,  2.69it/s]\n"
     ]
    },
    {
     "name": "stdout",
     "output_type": "stream",
     "text": [
      "Epoch 11/15, F1: 0.3297, Specific F1: 0.1956, Accuracy: 0.7472, Specific Accuracy: 0.5810, Jaccard: 0.2858, Specific Jaccard: 0.1429, Loss: 1.1565, Time: 2.99 seconds\n"
     ]
    },
    {
     "name": "stderr",
     "output_type": "stream",
     "text": [
      "Test: 100%|██████████| 2/2 [00:00<00:00,  4.05it/s]\n"
     ]
    },
    {
     "name": "stdout",
     "output_type": "stream",
     "text": [
      "New best F1 score: 0.18177791838025942 at epoch 11, with weighted F1 score: 0.39281854538605443\n"
     ]
    },
    {
     "name": "stderr",
     "output_type": "stream",
     "text": [
      "100%|██████████| 8/8 [00:02<00:00,  2.70it/s]\n",
      "Test: 100%|██████████| 2/2 [00:00<00:00,  4.16it/s]\n"
     ]
    },
    {
     "name": "stdout",
     "output_type": "stream",
     "text": [
      "New best F1 score: 0.18877302933707923 at epoch 12, with weighted F1 score: 0.40736189268335943\n"
     ]
    },
    {
     "name": "stderr",
     "output_type": "stream",
     "text": [
      "100%|██████████| 8/8 [00:02<00:00,  2.71it/s]\n",
      "Test: 100%|██████████| 2/2 [00:00<00:00,  4.13it/s]\n",
      "100%|██████████| 8/8 [00:02<00:00,  2.71it/s]\n",
      "Test: 100%|██████████| 2/2 [00:00<00:00,  4.17it/s]\n",
      "100%|██████████| 8/8 [00:02<00:00,  2.72it/s]\n"
     ]
    },
    {
     "name": "stdout",
     "output_type": "stream",
     "text": [
      "Epoch 15/15, F1: 0.3217, Specific F1: 0.1860, Accuracy: 0.7483, Specific Accuracy: 0.5828, Jaccard: 0.2809, Specific Jaccard: 0.1371, Loss: 1.1224, Time: 2.95 seconds\n"
     ]
    },
    {
     "name": "stderr",
     "output_type": "stream",
     "text": [
      "Test: 100%|██████████| 2/2 [00:00<00:00,  4.02it/s]\n"
     ]
    },
    {
     "name": "stdout",
     "output_type": "stream",
     "text": [
      "Inference rate: 0.1766 ms per frame.\n"
     ]
    },
    {
     "data": {
      "image/png": "[encoded data removed]",
      "text/plain": [
       "<Figure size 1000x600 with 2 Axes>"
      ]
     },
     "metadata": {},
     "output_type": "display_data"
    },
    {
     "name": "stdout",
     "output_type": "stream",
     "text": [
      "🏃 View run auspicious-sow-742 at: http://127.0.0.1:8080/#/experiments/312202323062431104/runs/4ee8c560f41a400f8a8c9e25b97f3cf6\n",
      "🧪 View experiment at: http://127.0.0.1:8080/#/experiments/312202323062431104\n"
     ]
    }
   ],
   "source": [
    "mlflow.set_experiment(f\"{exp_kwargs['model_name']}_{exp_kwargs['data_type']}_sequential_ES\")\n",
    "\n",
    "#Ensure seed is set for reproducibility\n",
    "torch.manual_seed(42)\n",
    "if torch.backends.mps.is_available():\n",
    "    torch.mps.manual_seed(42)\n",
    "\n",
    "samples_train, samples_test, inference_rates, train_times = [], [], [], []\n",
    "with mlflow.start_run() as run:\n",
    "    \n",
    "    #Log the hyperparameters\n",
    "    if not exp_kwargs['save_local']:\n",
    "        mlflow.log_params(exp_kwargs)\n",
    "        run_id = run.info.run_id\n",
    "\n",
    "    for setting in settings:\n",
    "\n",
    "        if setting == 'LOSO':\n",
    "            outs = out2\n",
    "        else:\n",
    "            outs = out1\n",
    "\n",
    "        for out in outs:\n",
    "\n",
    "            #Delete device and RAM memory\n",
    "            if cuda:\n",
    "                torch.cuda.empty_cache()\n",
    "            else:\n",
    "                torch.mps.empty_cache()\n",
    "                \n",
    "            #Initialize lists to store results for each fold\n",
    "            train_loss_fold, train_f1_fold, train_f1_fold_specific, train_accuracy_fold, \\\n",
    "                train_accuracy_fold_specific, train_jaccard_fold, train_jaccard_fold_specific, \\\n",
    "                train_cm_fold, train_cm_fold_specific, test_loss_fold, test_f1_fold, test_f1_fold_specific, \\\n",
    "                test_accuracy_fold, test_accuracy_fold_specific, test_jaccard_fold, \\\n",
    "                test_jaccard_fold_specific, test_cm_fold, test_cm_fold_specific, train_times_fold = ([] for _ in range(19))\n",
    "\n",
    "            best_f1 = 0.0\n",
    "            best_loss = float('inf')    \n",
    "            save_best = False\n",
    "\n",
    "            #a. Load training and testing data\n",
    "            print(f\"Loading data for {setting} with trial {out}...\")\n",
    "            fold_data_path = f\"data/LOSO/{exp_kwargs['frequency']}Hz/\" + out + '/'\n",
    "            video_data_path = f\"../Chain-of-Gesture/dataset/setting_f1/LOSO/All/{out}\"\n",
    "            #video_data_path = None\n",
    "            \n",
    "            #b. Retrieve dataloaders\n",
    "            train_dataloader, test_dataloader = retrieve_dataloaders_window(fold_data_path=fold_data_path,\n",
    "                                                                    video_data_path=video_data_path,\n",
    "                                                                    exp_kwargs=exp_kwargs,\n",
    "                                                                    window_size=window_size,\n",
    "                                                                    stride=stride)\n",
    "            \n",
    "            samples_train.append(len(train_dataloader.dataset))\n",
    "            samples_test.append(len(test_dataloader.dataset))\n",
    "            \n",
    "            #b.2. Compute class balance\n",
    "            if not exp_kwargs['siamese']:\n",
    "                class_counts = train_dataloader.dataset.specific_error_distribution\n",
    "                class_counts_test = test_dataloader.dataset.specific_error_distribution\n",
    "                \n",
    "                #Counter extremely large reverse class frequencies\n",
    "                #class_counts[0], class_counts[2] = class_counts[0], class_counts[2]\n",
    "                #class_counts_test[0], class_counts_test[2] = class_counts_test[0], class_counts_test[2]\n",
    "                #class_counts[1], class_counts[3], class_counts[4], class_counts[5] = class_counts[1]/1.5, class_counts[3]/1.5, class_counts[4]/1.5, class_counts[5]/1.5\n",
    "                #class_counts_test[1], class_counts_test[3], class_counts_test[4], class_counts_test[5] = class_counts_test[1]/1.5, class_counts_test[3]/1.5, class_counts_test[4]/1.5, class_counts_test[5]/1.5\n",
    "                \n",
    "                print(f\"Class distribution for {setting} with trial {out}: {class_counts}\")\n",
    "                print(f\"Class distribution for test set {setting} with trial {out}: {class_counts_test}\") \n",
    "            \n",
    "        \n",
    "            #c. Define model objects\n",
    "            feature_extractor, model, criterion, optimizer, scheduler = define_model_objects(exp_kwargs=exp_kwargs,\n",
    "                                                                                                in_features_dict=in_features_dict,\n",
    "                                                                                                window_size=window_size,\n",
    "                                                                                                device=device,\n",
    "                                                                                                class_counts=[])\n",
    "            \n",
    "            binary_model = model_dict[out]\n",
    "            binary_feature_extractor = fe_dict[out]\n",
    "\n",
    "            model_folder = f'models/{exp_kwargs[\"data_type\"]}_ES_sequential/{exp_kwargs[\"frequency\"]}Hz/{model.name}/'       \n",
    "\n",
    "            #d. Training loop\n",
    "            for epoch in range(exp_kwargs['n_epochs']):\n",
    "                \n",
    "                train_start = time.time()\n",
    "        \n",
    "                train_average_loss, train_f1_all, train_f1_error_specific, train_f1_error_specific_weighted, train_accuracy_all, train_accuracy_error_specific, \\\n",
    "                train_jaccard_all, train_jaccard_error_specific, train_jaccard_error_specific_weighted, train_cm_all, train_cm_error_specific = train_single_epoch_Sequential(model=model,\n",
    "                                                            feature_extractor=feature_extractor,\n",
    "                                                            train_dataloader=train_dataloader,\n",
    "                                                            criterion=criterion,\n",
    "                                                            optimizer=optimizer,\n",
    "                                                            device=device,\n",
    "                                                            exp_kwargs=exp_kwargs,\n",
    "                                                            scheduler=scheduler)\n",
    "                    \n",
    "                    \n",
    "                train_end = time.time()\n",
    "                train_times_fold.append(train_end - train_start)\n",
    "\n",
    "                if epoch % 5 == 0 or epoch == exp_kwargs['n_epochs'] - 1:\n",
    "                    print(f\"Epoch {epoch + 1}/{exp_kwargs['n_epochs']}, F1: {train_f1_all:.4f}, \"\n",
    "                          f\"Specific F1: {train_f1_error_specific:.4f}, \"\n",
    "                          f\"Accuracy: {train_accuracy_all:.4f}, \"\n",
    "                          f\"Specific Accuracy: {train_accuracy_error_specific:.4f}, \"\n",
    "                          f\"Jaccard: {train_jaccard_all:.4f}, \"\n",
    "                          f\"Specific Jaccard: {train_jaccard_error_specific:.4f}, \"\n",
    "                          f\"Loss: {train_average_loss:.4f}, \"\n",
    "                          f\"Time: {train_end - train_start:.2f} seconds\")\n",
    "\n",
    "                #Append to vectors\n",
    "                train_loss_fold.append(train_average_loss)\n",
    "                train_f1_fold.append(train_f1_all)\n",
    "                train_f1_fold_specific.append(train_f1_error_specific)\n",
    "                train_accuracy_fold.append(train_accuracy_all)\n",
    "                train_accuracy_fold_specific.append(train_accuracy_error_specific)\n",
    "                train_jaccard_fold.append(train_jaccard_all)\n",
    "                train_jaccard_fold_specific.append(train_jaccard_error_specific)\n",
    "                train_cm_fold.append(train_cm_all.tolist())\n",
    "                train_cm_fold_specific.append(train_cm_error_specific.tolist())\n",
    "\n",
    "                #e. Validation loop\n",
    "                test_average_loss, test_f1_all, test_f1_error_specific, test_f1_error_specific_weighted, test_accuracy_all, test_accuracy_error_specific, \\\n",
    "                test_jaccard_all, test_jaccard_error_specific, test_jaccard_error_specific_weighted, test_cm_all, test_cm_error_specific, \\\n",
    "                inference_rate, test_preds_all, test_preds_error_specific, test_probs_error_specific, \\\n",
    "                test_labels_all, test_labels_error_specific, test_gest_labels, test_subjects = validate_single_epoch_Sequential(model=model,\n",
    "                                                        binary_model=binary_model,\n",
    "                                                        binary_feature_extractor=binary_feature_extractor,\n",
    "                                                        feature_extractor=feature_extractor,\n",
    "                                                        test_dataloader=test_dataloader,\n",
    "                                                        device=device,\n",
    "                                                        exp_kwargs=exp_kwargs)\n",
    "\n",
    "                #Append to vectors\n",
    "                test_loss_fold.append(test_average_loss)\n",
    "                test_f1_fold.append(test_f1_all)\n",
    "                test_f1_fold_specific.append(test_f1_error_specific)\n",
    "                test_accuracy_fold.append(test_accuracy_all)\n",
    "                test_accuracy_fold_specific.append(test_accuracy_error_specific)\n",
    "                test_jaccard_fold.append(test_jaccard_all)\n",
    "                test_jaccard_fold_specific.append(test_jaccard_error_specific)\n",
    "                test_cm_fold.append(test_cm_all.tolist())\n",
    "                test_cm_fold_specific.append(test_cm_error_specific.tolist())\n",
    "\n",
    "                if exp_kwargs['loss_or_f1'] == 'loss':\n",
    "                    if test_average_loss < best_loss:\n",
    "                        save_best = True\n",
    "                        best_loss = test_average_loss\n",
    "                        print(f\"New best loss: {test_average_loss} at epoch {epoch + 1}\")\n",
    "\n",
    "                elif exp_kwargs['loss_or_f1'] == 'f1':\n",
    "                    if test_f1_error_specific_weighted > best_f1:\n",
    "                        save_best = True\n",
    "                        best_f1 = test_f1_error_specific_weighted\n",
    "                        print(f\"New best F1 score: {test_f1_error_specific} at epoch {epoch + 1}, with weighted F1 score: {test_f1_error_specific_weighted}\")\n",
    "\n",
    "                if save_best:\n",
    "                    \n",
    "                    best_model = {\n",
    "                        'feature_extractor': feature_extractor,\n",
    "                        'model': model,\n",
    "                        'epoch': epoch + 1,\n",
    "                        'train_loss': train_average_loss,\n",
    "                        'test_loss': test_average_loss,\n",
    "                        'train_f1': train_f1_all,\n",
    "                        'test_f1': test_f1_all, \n",
    "                        'train_f1_specific': train_f1_error_specific,\n",
    "                        'train_f1_specific_weighted': train_f1_error_specific_weighted,\n",
    "                        'test_f1_specific': test_f1_error_specific,\n",
    "                        'test_f1_specific_weighted': test_f1_error_specific_weighted,\n",
    "                        'train_accuracy': train_accuracy_all,\n",
    "                        'test_accuracy': test_accuracy_all,\n",
    "                        'train_accuracy_specific': train_accuracy_error_specific,\n",
    "                        'test_accuracy_specific': test_accuracy_error_specific,\n",
    "                        'train_jaccard': train_jaccard_all,\n",
    "                        'test_jaccard': test_jaccard_all,\n",
    "                        'train_jaccard_specific': train_jaccard_error_specific,\n",
    "                        'train_jaccard_specific_weighted': train_jaccard_error_specific_weighted,\n",
    "                        'test_jaccard_specific': test_jaccard_error_specific,\n",
    "                        'test_jaccard_specific_weighted': test_jaccard_error_specific_weighted,\n",
    "                        'train_cm': train_cm_all.tolist(),\n",
    "                        'test_cm': test_cm_all.tolist(),\n",
    "                        'train_cm_specific': train_cm_error_specific.tolist(),\n",
    "                        'test_cm_specific': test_cm_error_specific.tolist(),\n",
    "                        'inference_rate': inference_rate,\n",
    "                        'test_preds_all': test_preds_all,\n",
    "                        'test_preds_error_specific': test_preds_error_specific,\n",
    "                        'test_probs_error_specific': test_probs_error_specific,\n",
    "                        'test_labels_all': test_labels_all,\n",
    "                        'test_labels_error_specific': test_labels_error_specific,\n",
    "                        'test_gest_labels': test_gest_labels,\n",
    "                        'test_subjects': test_subjects,\n",
    "                    }\n",
    "\n",
    "                    save_best = False  #Reset save_best to False after saving the best model\n",
    "                \n",
    "                if not exp_kwargs['save_local']:\n",
    "                    #Log metrics to mlflow\n",
    "                    mlflow.log_metric(f'train_loss_fold_{out}', train_average_loss, step=epoch)\n",
    "                    mlflow.log_metric(f'test_loss_fold_{out}', test_average_loss, step=epoch)\n",
    "                    mlflow.log_metric(f'train_f1_fold_{out}', train_f1_all, step=epoch)\n",
    "                    mlflow.log_metric(f'test_f1_fold_{out}', test_f1_all, step=epoch)\n",
    "                    mlflow.log_metric(f'train_acc_fold_{out}', train_accuracy_all, step=epoch)\n",
    "                    mlflow.log_metric(f'test_acc_fold_{out}', test_accuracy_all, step=epoch)\n",
    "                    mlflow.log_metric(f'train_jaccard_fold_{out}', train_jaccard_all, step=epoch)\n",
    "                    mlflow.log_metric(f'test_jaccard_fold_{out}', test_jaccard_all, step=epoch)\n",
    "\n",
    "            #Display results for fold\n",
    "            print(f\"Inference rate: {inference_rate:.4f} ms per frame.\")\n",
    "            plot_results_LOSO(train_f1_fold=train_f1_fold,\n",
    "                            test_f1_fold=test_f1_fold,\n",
    "                            train_loss_fold=train_loss_fold,\n",
    "                            test_loss_fold=test_loss_fold,\n",
    "                            setting=setting, out=out,\n",
    "                            image_folder=image_folder)\n",
    "            \n",
    "        \n",
    "            #Save best model\n",
    "            if exp_kwargs['save_local']:\n",
    "                pass   \n",
    "                        \n",
    "            else:\n",
    "                #Log model to mlflow\n",
    "                #if exp_kwargs['data_type'] != 'kinematics':\n",
    "                    \n",
    "                    #mlflow.pytorch.log_model(pytorch_model=best_model['feature_extractor'], \n",
    "                        #                    name=f'feature_extractor_{setting}_{out}')\n",
    "                                \n",
    "                #mlflow.pytorch.log_model(pytorch_model=best_model['model'], \n",
    "                      #                  name=f'model_{setting}_{out}')        \n",
    "                      # \n",
    "\n",
    "                #Save model locally because mlflow gives errors\n",
    "                if exp_kwargs['data_type'] != 'kinematics':\n",
    "                    best_model['feature_extractor'] = best_model['feature_extractor'].state_dict()  \n",
    "                    best_model['model'] = best_model['model'].state_dict()\n",
    "\n",
    "                else:\n",
    "                    best_model['feature_extractor'] = None\n",
    "                    best_model['model'] = best_model['model'].state_dict()\n",
    "                \n",
    "                if not os.path.exists(model_folder):    \n",
    "                    os.makedirs(model_folder)\n",
    "\n",
    "                #model_path = os.path.join(model_folder, f'best_model_{setting}_{out}.pt')   \n",
    "                #save_model(best_model=best_model, model_path=model_path)    \n",
    "\n",
    "                #Log best_model rest of the dictionary without the state dicts\n",
    "                best_model_dict = best_model.copy()\n",
    "                best_model_dict.pop('feature_extractor', None)\n",
    "                best_model_dict.pop('model', None)\n",
    "                mlflow.log_dict(best_model_dict, f'best_model_{setting}_{out}.json')\n",
    "\n",
    "            #Compute mean inference rate and train time; append to lists\n",
    "            samples_test.append(len(test_preds_all))\n",
    "            inference_rates.append(inference_rate)\n",
    "            train_times.append(sum(train_times_fold) / len(train_times_fold))\n",
    "\n",
    "            #Delete memory and variables\n",
    "            del train_dataloader, test_dataloader, feature_extractor, model, best_model\n",
    "            gc.collect()\n",
    "\n",
    "mlflow.end_run()"
   ]
  },
  {
   "cell_type": "markdown",
   "id": "8aa1a36e",
   "metadata": {},
   "source": [
    "### Compute metrics"
   ]
  },
  {
   "cell_type": "code",
   "execution_count": 5,
   "id": "3ab869d5",
   "metadata": {},
   "outputs": [
    {
     "data": {
      "application/vnd.jupyter.widget-view+json": {
       "model_id": "edf31c0ec0214d14b1c04db4f121d48a",
       "version_major": 2,
       "version_minor": 0
      },
      "text/plain": [
       "Downloading artifacts:   0%|          | 0/1 [00:00<?, ?it/s]"
      ]
     },
     "metadata": {},
     "output_type": "display_data"
    },
    {
     "data": {
      "application/vnd.jupyter.widget-view+json": {
       "model_id": "fbfc74a0f14c436ab51a4650d15c2789",
       "version_major": 2,
       "version_minor": 0
      },
      "text/plain": [
       "Downloading artifacts:   0%|          | 0/1 [00:00<?, ?it/s]"
      ]
     },
     "metadata": {},
     "output_type": "display_data"
    },
    {
     "data": {
      "application/vnd.jupyter.widget-view+json": {
       "model_id": "fc7e110a51c54450af628f6853f39a2a",
       "version_major": 2,
       "version_minor": 0
      },
      "text/plain": [
       "Downloading artifacts:   0%|          | 0/1 [00:00<?, ?it/s]"
      ]
     },
     "metadata": {},
     "output_type": "display_data"
    },
    {
     "data": {
      "application/vnd.jupyter.widget-view+json": {
       "model_id": "2d6ee5bc3fc34ca78d69ba8f0a6c7643",
       "version_major": 2,
       "version_minor": 0
      },
      "text/plain": [
       "Downloading artifacts:   0%|          | 0/1 [00:00<?, ?it/s]"
      ]
     },
     "metadata": {},
     "output_type": "display_data"
    },
    {
     "data": {
      "application/vnd.jupyter.widget-view+json": {
       "model_id": "0b363b5168ee4de8af1b90ed4e7fd1e2",
       "version_major": 2,
       "version_minor": 0
      },
      "text/plain": [
       "Downloading artifacts:   0%|          | 0/1 [00:00<?, ?it/s]"
      ]
     },
     "metadata": {},
     "output_type": "display_data"
    },
    {
     "name": "stdout",
     "output_type": "stream",
     "text": [
      "Error Specific Summary DataFrame:\n"
     ]
    },
    {
     "data": {
      "text/html": [
       "<div>\n",
       "<style scoped>\n",
       "    .dataframe tbody tr th:only-of-type {\n",
       "        vertical-align: middle;\n",
       "    }\n",
       "\n",
       "    .dataframe tbody tr th {\n",
       "        vertical-align: top;\n",
       "    }\n",
       "\n",
       "    .dataframe thead th {\n",
       "        text-align: right;\n",
       "    }\n",
       "</style>\n",
       "<table border=\"1\" class=\"dataframe\">\n",
       "  <thead>\n",
       "    <tr style=\"text-align: right;\">\n",
       "      <th></th>\n",
       "      <th>F1</th>\n",
       "      <th>Accuracy</th>\n",
       "      <th>Jaccard</th>\n",
       "      <th>Train Time</th>\n",
       "      <th>Inference Rate</th>\n",
       "    </tr>\n",
       "  </thead>\n",
       "  <tbody>\n",
       "    <tr>\n",
       "      <th>Train</th>\n",
       "      <td>0.186 ± 0.015</td>\n",
       "      <td>0.577 ± 0.008</td>\n",
       "      <td>0.137 ± 0.009</td>\n",
       "      <td>1.00 ± 0.00</td>\n",
       "      <td>NaN</td>\n",
       "    </tr>\n",
       "    <tr>\n",
       "      <th>Test</th>\n",
       "      <td>0.204 ± 0.020</td>\n",
       "      <td>0.546 ± 0.047</td>\n",
       "      <td>0.146 ± 0.017</td>\n",
       "      <td>NaN</td>\n",
       "      <td>0.00 ± 0.00</td>\n",
       "    </tr>\n",
       "  </tbody>\n",
       "</table>\n",
       "</div>"
      ],
      "text/plain": [
       "                  F1       Accuracy        Jaccard   Train Time Inference Rate\n",
       "Train  0.186 ± 0.015  0.577 ± 0.008  0.137 ± 0.009  1.00 ± 0.00            NaN\n",
       "Test   0.204 ± 0.020  0.546 ± 0.047  0.146 ± 0.017          NaN    0.00 ± 0.00"
      ]
     },
     "metadata": {},
     "output_type": "display_data"
    },
    {
     "name": "stdout",
     "output_type": "stream",
     "text": [
      "Error Specific Summary DataFrame:\n"
     ]
    },
    {
     "data": {
      "text/html": [
       "<div>\n",
       "<style scoped>\n",
       "    .dataframe tbody tr th:only-of-type {\n",
       "        vertical-align: middle;\n",
       "    }\n",
       "\n",
       "    .dataframe tbody tr th {\n",
       "        vertical-align: top;\n",
       "    }\n",
       "\n",
       "    .dataframe thead th {\n",
       "        text-align: right;\n",
       "    }\n",
       "</style>\n",
       "<table border=\"1\" class=\"dataframe\">\n",
       "  <thead>\n",
       "    <tr style=\"text-align: right;\">\n",
       "      <th></th>\n",
       "      <th>F1</th>\n",
       "      <th>Accuracy</th>\n",
       "      <th>Jaccard</th>\n",
       "      <th>Train Time</th>\n",
       "      <th>Inference Rate</th>\n",
       "    </tr>\n",
       "  </thead>\n",
       "  <tbody>\n",
       "    <tr>\n",
       "      <th>Train</th>\n",
       "      <td>0.322 ± 0.013</td>\n",
       "      <td>0.752 ± 0.007</td>\n",
       "      <td>0.281 ± 0.007</td>\n",
       "      <td>1.00 ± 0.00</td>\n",
       "      <td>NaN</td>\n",
       "    </tr>\n",
       "    <tr>\n",
       "      <th>Test</th>\n",
       "      <td>0.196 ± 0.005</td>\n",
       "      <td>0.455 ± 0.036</td>\n",
       "      <td>0.129 ± 0.004</td>\n",
       "      <td>NaN</td>\n",
       "      <td>0.00 ± 0.00</td>\n",
       "    </tr>\n",
       "  </tbody>\n",
       "</table>\n",
       "</div>"
      ],
      "text/plain": [
       "                  F1       Accuracy        Jaccard   Train Time Inference Rate\n",
       "Train  0.322 ± 0.013  0.752 ± 0.007  0.281 ± 0.007  1.00 ± 0.00            NaN\n",
       "Test   0.196 ± 0.005  0.455 ± 0.036  0.129 ± 0.004          NaN    0.00 ± 0.00"
      ]
     },
     "metadata": {},
     "output_type": "display_data"
    },
    {
     "name": "stdout",
     "output_type": "stream",
     "text": [
      "Confusion Matrix for Train:\n",
      "Confusion Matrix for Train:\n"
     ]
    },
    {
     "data": {
      "text/plain": [
       "<Figure size 2250x2250 with 0 Axes>"
      ]
     },
     "metadata": {},
     "output_type": "display_data"
    },
    {
     "data": {
      "image/png": "[encoded data removed]",
      "text/plain": [
       "<Figure size 960x720 with 2 Axes>"
      ]
     },
     "metadata": {},
     "output_type": "display_data"
    },
    {
     "name": "stdout",
     "output_type": "stream",
     "text": [
      "Confusion Matrix for Test:\n"
     ]
    },
    {
     "data": {
      "text/plain": [
       "<Figure size 2250x2250 with 0 Axes>"
      ]
     },
     "metadata": {},
     "output_type": "display_data"
    },
    {
     "data": {
      "image/png": "[encoded data removed]",
      "text/plain": [
       "<Figure size 960x720 with 2 Axes>"
      ]
     },
     "metadata": {},
     "output_type": "display_data"
    }
   ],
   "source": [
    "run_id = \"4ee8c560f41a400f8a8c9e25b97f3cf6\"\n",
    "setting = 'LOSO'\n",
    "outs = ['1out', '2Out', '3out', '4out', '5out']\n",
    "\n",
    "LOSO_f1_train, LOSO_f1_test, LOSO_f1_train_specific, LOSO_f1_test_specific, LOSO_f1_train_specific_weighted, LOSO_f1_test_specific_weighted, \\\n",
    "LOSO_acc_train, LOSO_acc_test, LOSO_acc_train_specific, LOSO_acc_test_specific,LOSO_jaccard_train, LOSO_jaccard_test,\\\n",
    "LOSO_jaccard_train_specific, LOSO_jaccard_test_specific, LOSO_jaccard_train_specific_weighted, LOSO_jaccard_test_specific_weighted, \\\n",
    "LOSO_cm_train, LOSO_cm_test, LOSO_cm_train_specific, LOSO_cm_test_specific, test_all_preds, test_all_preds_specific, test_all_probs, test_all_labels, \\\n",
    "test_all_labels_specific, test_all_gest_labels, test_all_subjects = retrieve_results_mlflow_sequential(outs=outs,\n",
    "                                                                                    exp_kwargs=exp_kwargs,\n",
    "                                                                                    setting=setting,\n",
    "                                                                                    run_id=run_id)\n",
    "\n",
    "samples_train = [3174,3476,3364,3382,3612]\n",
    "samples_test = [1078,776,888,870,640]\n",
    "train_times = [1, 1, 1, 1,1 ]\n",
    "inference_rates = [0.001, 0.001, 0.001, 0.001, 0.001] #Example inference rates in seconds\n",
    "\n",
    "\n",
    "#Compute only-error specific metrics\n",
    "summary_df_specific = create_summary_df(LOSO_f1_train=LOSO_f1_train_specific, LOSO_f1_test=LOSO_f1_test_specific, LOSO_acc_train=LOSO_acc_train_specific,\n",
    "                                    LOSO_acc_test=LOSO_acc_test_specific, LOSO_jaccard_train=LOSO_jaccard_train_specific, LOSO_jaccard_test=LOSO_jaccard_test_specific,\n",
    "                                    samples_train=samples_train, samples_test=samples_test,inference_rates=inference_rates, train_times=train_times)\n",
    "\n",
    "#Save binary summary df to csv\n",
    "print(\"Error Specific Summary DataFrame:\")\n",
    "display(summary_df_specific)\n",
    "summary_df_specific.to_csv(os.path.join(results_folder, 'LOSO_summary_df_binary.csv'), index=False)\n",
    "\n",
    "#Compute error-specific cm\n",
    "#plot_cm(LOSO_cm_train = LOSO_cm_train_specific, LOSO_cm_test= LOSO_cm_test_specific, image_folder=image_folder)\n",
    "\n",
    "#Compute all error metrics\n",
    "summary_df_all = create_summary_df(LOSO_f1_train=LOSO_f1_train, LOSO_f1_test=LOSO_f1_test, LOSO_acc_train=LOSO_acc_train,\n",
    "                                    LOSO_acc_test=LOSO_acc_test, LOSO_jaccard_train=LOSO_jaccard_train, LOSO_jaccard_test=LOSO_jaccard_test,\n",
    "                                    samples_train=samples_train, samples_test=samples_test,inference_rates=inference_rates, train_times=train_times)\n",
    "\n",
    "#Save summary df to csv\n",
    "print(\"Error Specific Summary DataFrame:\")\n",
    "display(summary_df_all)\n",
    "summary_df_all.to_csv(os.path.join(results_folder, 'LOSO_summary_df.csv'), index=False)\n",
    "\n",
    "print(\"Confusion Matrix for Train:\")\n",
    "plot_cm(LOSO_cm_train = LOSO_cm_train, LOSO_cm_test= LOSO_cm_test, image_folder=image_folder)"
   ]
  },
  {
   "cell_type": "code",
   "execution_count": null,
   "id": "6c8936be",
   "metadata": {},
   "outputs": [],
   "source": []
  }
 ],
 "metadata": {
  "kernelspec": {
   "display_name": "thesis",
   "language": "python",
   "name": "python3"
  },
  "language_info": {
   "codemirror_mode": {
    "name": "ipython",
    "version": 3
   },
   "file_extension": ".py",
   "mimetype": "text/x-python",
   "name": "python",
   "nbconvert_exporter": "python",
   "pygments_lexer": "ipython3",
   "version": "3.11.8"
  }
 },
 "nbformat": 4,
 "nbformat_minor": 5
}
