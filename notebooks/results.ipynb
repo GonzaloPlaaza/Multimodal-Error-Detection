{
 "cells": [
  {
   "cell_type": "markdown",
   "metadata": {},
   "source": [
    "## 1. Non-specific error prediction\n",
    "\n",
    "### 1.1. Results table (all models)"
   ]
  },
  {
   "cell_type": "code",
   "execution_count": null,
   "metadata": {},
   "outputs": [
    {
     "name": "stdout",
     "output_type": "stream",
     "text": [
      "Processing input: video\n",
      "Processing model: SimpleCNN\n",
      "Processing model: SimpleLSTM\n",
      "Processing model: Siamese_CNN\n",
      "Processing model: Siamese_LSTM\n",
      "Processing model: TeCNo\n",
      "Processing model: TransSVNet\n",
      "Processing model: COG\n",
      "Processing input: kinematics\n",
      "Processing model: SimpleCNN\n",
      "Processing model: SimpleLSTM\n",
      "Processing model: Siamese_CNN\n",
      "Processing model: Siamese_LSTM\n",
      "Processing model: TeCNo\n",
      "Processing model: TransSVNet\n",
      "Processing model: COG\n",
      "Processing input: multimodal\n",
      "Processing model: SimpleCNN\n",
      "Processing model: SimpleLSTM\n",
      "Processing model: Siamese_CNN\n",
      "Processing model: Siamese_LSTM\n",
      "Processing model: TeCNo\n",
      "Processing model: TransSVNet\n",
      "Processing model: COG\n"
     ]
    },
    {
     "data": {
      "text/html": [
       "<div>\n",
       "<style scoped>\n",
       "    .dataframe tbody tr th:only-of-type {\n",
       "        vertical-align: middle;\n",
       "    }\n",
       "\n",
       "    .dataframe tbody tr th {\n",
       "        vertical-align: top;\n",
       "    }\n",
       "\n",
       "    .dataframe thead th {\n",
       "        text-align: right;\n",
       "    }\n",
       "</style>\n",
       "<table border=\"1\" class=\"dataframe\">\n",
       "  <thead>\n",
       "    <tr style=\"text-align: right;\">\n",
       "      <th></th>\n",
       "      <th>Input</th>\n",
       "      <th>Model Name</th>\n",
       "      <th>F1 (Window)</th>\n",
       "      <th>Accuracy (Window)</th>\n",
       "      <th>Jaccard (Window)</th>\n",
       "      <th>F1 (Frame)</th>\n",
       "      <th>Accuracy (Frame)</th>\n",
       "      <th>Jaccard (Frame)</th>\n",
       "      <th>Training Time (s)</th>\n",
       "      <th>Inference Rate (ms per frame/window)</th>\n",
       "    </tr>\n",
       "  </thead>\n",
       "  <tbody>\n",
       "    <tr>\n",
       "      <th>0</th>\n",
       "      <td>video</td>\n",
       "      <td>CNN</td>\n",
       "      <td>0.711 ± 0.047</td>\n",
       "      <td>0.676 ± 0.029</td>\n",
       "      <td>0.554 ± 0.058</td>\n",
       "      <td>NaN</td>\n",
       "      <td>NaN</td>\n",
       "      <td>NaN</td>\n",
       "      <td>0.31 ± 0.01</td>\n",
       "      <td>0.86 ± 0.02</td>\n",
       "    </tr>\n",
       "    <tr>\n",
       "      <th>1</th>\n",
       "      <td>video</td>\n",
       "      <td>LSTM</td>\n",
       "      <td>0.670 ± 0.041</td>\n",
       "      <td>0.673 ± 0.024</td>\n",
       "      <td>0.537 ± 0.045</td>\n",
       "      <td>NaN</td>\n",
       "      <td>NaN</td>\n",
       "      <td>NaN</td>\n",
       "      <td>0.95 ± 0.05</td>\n",
       "      <td>0.93 ± 0.06</td>\n",
       "    </tr>\n",
       "    <tr>\n",
       "      <th>2</th>\n",
       "      <td>video</td>\n",
       "      <td>Siamese CNN</td>\n",
       "      <td>0.674 ± 0.038</td>\n",
       "      <td>0.661 ± 0.028</td>\n",
       "      <td>0.510 ± 0.045</td>\n",
       "      <td>NaN</td>\n",
       "      <td>NaN</td>\n",
       "      <td>NaN</td>\n",
       "      <td>4.41 ± 0.18</td>\n",
       "      <td>1.32 ± 0.01</td>\n",
       "    </tr>\n",
       "    <tr>\n",
       "      <th>3</th>\n",
       "      <td>video</td>\n",
       "      <td>Siamese LSTM</td>\n",
       "      <td>0.701 ± 0.021</td>\n",
       "      <td>0.667 ± 0.016</td>\n",
       "      <td>0.540 ± 0.025</td>\n",
       "      <td>NaN</td>\n",
       "      <td>NaN</td>\n",
       "      <td>NaN</td>\n",
       "      <td>6.04 ± 0.10</td>\n",
       "      <td>1.65 ± 0.02</td>\n",
       "    </tr>\n",
       "    <tr>\n",
       "      <th>4</th>\n",
       "      <td>video</td>\n",
       "      <td>TeCNo</td>\n",
       "      <td>0.709 ± 0.042</td>\n",
       "      <td>0.673 ± 0.026</td>\n",
       "      <td>0.551 ± 0.052</td>\n",
       "      <td>0.684 ± 0.038</td>\n",
       "      <td>0.669 ± 0.025</td>\n",
       "      <td>0.521 ± 0.045</td>\n",
       "      <td>2.38 ± 0.12</td>\n",
       "      <td>67.95 ± 13.71</td>\n",
       "    </tr>\n",
       "    <tr>\n",
       "      <th>5</th>\n",
       "      <td>video</td>\n",
       "      <td>TransSVNet</td>\n",
       "      <td>0.681 ± 0.064</td>\n",
       "      <td>0.647 ± 0.046</td>\n",
       "      <td>0.520 ± 0.075</td>\n",
       "      <td>0.662 ± 0.058</td>\n",
       "      <td>0.647 ± 0.038</td>\n",
       "      <td>0.497 ± 0.067</td>\n",
       "      <td>15.35 ± 0.44</td>\n",
       "      <td>1.60 ± 0.20</td>\n",
       "    </tr>\n",
       "    <tr>\n",
       "      <th>6</th>\n",
       "      <td>video</td>\n",
       "      <td>COG</td>\n",
       "      <td>0.706 ± 0.057</td>\n",
       "      <td>0.666 ± 0.031</td>\n",
       "      <td>0.548 ± 0.066</td>\n",
       "      <td>0.687 ± 0.051</td>\n",
       "      <td>0.667 ± 0.025</td>\n",
       "      <td>0.525 ± 0.058</td>\n",
       "      <td>25.07 ± 0.56</td>\n",
       "      <td>1.95 ± 0.25</td>\n",
       "    </tr>\n",
       "    <tr>\n",
       "      <th>7</th>\n",
       "      <td>kinematics</td>\n",
       "      <td>CNN</td>\n",
       "      <td>0.700 ± 0.039</td>\n",
       "      <td>0.631 ± 0.033</td>\n",
       "      <td>0.539 ± 0.046</td>\n",
       "      <td>NaN</td>\n",
       "      <td>NaN</td>\n",
       "      <td>NaN</td>\n",
       "      <td>0.33 ± 0.01</td>\n",
       "      <td>0.98 ± 0.06</td>\n",
       "    </tr>\n",
       "    <tr>\n",
       "      <th>8</th>\n",
       "      <td>kinematics</td>\n",
       "      <td>LSTM</td>\n",
       "      <td>0.69 ± 0.06</td>\n",
       "      <td>0.63 ± 0.02</td>\n",
       "      <td>0.54 ± 0.07</td>\n",
       "      <td>NaN</td>\n",
       "      <td>NaN</td>\n",
       "      <td>NaN</td>\n",
       "      <td>0.30 ± 0.02</td>\n",
       "      <td>1.17 ± 0.07</td>\n",
       "    </tr>\n",
       "    <tr>\n",
       "      <th>9</th>\n",
       "      <td>kinematics</td>\n",
       "      <td>Siamese CNN</td>\n",
       "      <td>0.63 ± 0.03</td>\n",
       "      <td>0.58 ± 0.02</td>\n",
       "      <td>0.46 ± 0.04</td>\n",
       "      <td>NaN</td>\n",
       "      <td>NaN</td>\n",
       "      <td>NaN</td>\n",
       "      <td>3.61 ± 0.04</td>\n",
       "      <td>1.42 ± 0.01</td>\n",
       "    </tr>\n",
       "    <tr>\n",
       "      <th>10</th>\n",
       "      <td>kinematics</td>\n",
       "      <td>Siamese LSTM</td>\n",
       "      <td>0.60 ± 0.04</td>\n",
       "      <td>0.62 ± 0.05</td>\n",
       "      <td>0.43 ± 0.04</td>\n",
       "      <td>NaN</td>\n",
       "      <td>NaN</td>\n",
       "      <td>NaN</td>\n",
       "      <td>3.72 ± 0.02</td>\n",
       "      <td>1.75 ± 0.02</td>\n",
       "    </tr>\n",
       "    <tr>\n",
       "      <th>11</th>\n",
       "      <td>kinematics</td>\n",
       "      <td>TeCNo</td>\n",
       "      <td>0.694 ± 0.038</td>\n",
       "      <td>0.663 ± 0.035</td>\n",
       "      <td>0.532 ± 0.045</td>\n",
       "      <td>0.679 ± 0.030</td>\n",
       "      <td>0.669 ± 0.029</td>\n",
       "      <td>0.514 ± 0.035</td>\n",
       "      <td>2.19 ± 0.04</td>\n",
       "      <td>73.66 ± 13.97</td>\n",
       "    </tr>\n",
       "    <tr>\n",
       "      <th>12</th>\n",
       "      <td>kinematics</td>\n",
       "      <td>TransSVNet</td>\n",
       "      <td>0.647 ± 0.024</td>\n",
       "      <td>0.608 ± 0.010</td>\n",
       "      <td>0.478 ± 0.026</td>\n",
       "      <td>0.630 ± 0.026</td>\n",
       "      <td>0.611 ± 0.011</td>\n",
       "      <td>0.461 ± 0.027</td>\n",
       "      <td>15.15 ± 0.33</td>\n",
       "      <td>1.66 ± 0.35</td>\n",
       "    </tr>\n",
       "    <tr>\n",
       "      <th>13</th>\n",
       "      <td>kinematics</td>\n",
       "      <td>COG</td>\n",
       "      <td>0.648 ± 0.082</td>\n",
       "      <td>0.643 ± 0.046</td>\n",
       "      <td>0.486 ± 0.095</td>\n",
       "      <td>0.636 ± 0.076</td>\n",
       "      <td>0.651 ± 0.040</td>\n",
       "      <td>0.471 ± 0.086</td>\n",
       "      <td>25.07 ± 0.56</td>\n",
       "      <td>1.95 ± 0.25</td>\n",
       "    </tr>\n",
       "    <tr>\n",
       "      <th>14</th>\n",
       "      <td>multimodal</td>\n",
       "      <td>CNN</td>\n",
       "      <td>0.711 ± 0.039</td>\n",
       "      <td>0.676 ± 0.025</td>\n",
       "      <td>0.553 ± 0.048</td>\n",
       "      <td>NaN</td>\n",
       "      <td>NaN</td>\n",
       "      <td>NaN</td>\n",
       "      <td>1.49 ± 0.03</td>\n",
       "      <td>1.04 ± 0.20</td>\n",
       "    </tr>\n",
       "    <tr>\n",
       "      <th>15</th>\n",
       "      <td>multimodal</td>\n",
       "      <td>LSTM</td>\n",
       "      <td>0.716 ± 0.051</td>\n",
       "      <td>0.673 ± 0.038</td>\n",
       "      <td>0.560 ± 0.064</td>\n",
       "      <td>NaN</td>\n",
       "      <td>NaN</td>\n",
       "      <td>NaN</td>\n",
       "      <td>1.46 ± 0.07</td>\n",
       "      <td>1.08 ± 0.07</td>\n",
       "    </tr>\n",
       "    <tr>\n",
       "      <th>16</th>\n",
       "      <td>multimodal</td>\n",
       "      <td>Siamese CNN</td>\n",
       "      <td>0.679 ± 0.030</td>\n",
       "      <td>0.661 ± 0.024</td>\n",
       "      <td>0.515 ± 0.035</td>\n",
       "      <td>NaN</td>\n",
       "      <td>NaN</td>\n",
       "      <td>NaN</td>\n",
       "      <td>6.44 ± 0.09</td>\n",
       "      <td>1.30 ± 0.02</td>\n",
       "    </tr>\n",
       "    <tr>\n",
       "      <th>17</th>\n",
       "      <td>multimodal</td>\n",
       "      <td>Siamese LSTM</td>\n",
       "      <td>0.701 ± 0.027</td>\n",
       "      <td>0.667 ± 0.027</td>\n",
       "      <td>0.540 ± 0.034</td>\n",
       "      <td>NaN</td>\n",
       "      <td>NaN</td>\n",
       "      <td>NaN</td>\n",
       "      <td>6.34 ± 0.27</td>\n",
       "      <td>1.62 ± 0.02</td>\n",
       "    </tr>\n",
       "    <tr>\n",
       "      <th>18</th>\n",
       "      <td>multimodal</td>\n",
       "      <td>TeCNo</td>\n",
       "      <td>0.700 ± 0.041</td>\n",
       "      <td>0.668 ± 0.022</td>\n",
       "      <td>0.540 ± 0.050</td>\n",
       "      <td>0.678 ± 0.039</td>\n",
       "      <td>0.668 ± 0.023</td>\n",
       "      <td>0.514 ± 0.046</td>\n",
       "      <td>2.49 ± 0.05</td>\n",
       "      <td>65.17 ± 11.41</td>\n",
       "    </tr>\n",
       "    <tr>\n",
       "      <th>19</th>\n",
       "      <td>multimodal</td>\n",
       "      <td>TransSVNet</td>\n",
       "      <td>0.712 ± 0.041</td>\n",
       "      <td>0.665 ± 0.022</td>\n",
       "      <td>0.554 ± 0.050</td>\n",
       "      <td>0.679 ± 0.041</td>\n",
       "      <td>0.655 ± 0.022</td>\n",
       "      <td>0.515 ± 0.048</td>\n",
       "      <td>15.49 ± 0.31</td>\n",
       "      <td>1.61 ± 0.20</td>\n",
       "    </tr>\n",
       "    <tr>\n",
       "      <th>20</th>\n",
       "      <td>multimodal</td>\n",
       "      <td>COG</td>\n",
       "      <td>0.732 ± 0.046</td>\n",
       "      <td>0.685 ± 0.028</td>\n",
       "      <td>0.579 ± 0.058</td>\n",
       "      <td>0.709 ± 0.033</td>\n",
       "      <td>0.672 ± 0.027</td>\n",
       "      <td>0.550 ± 0.040</td>\n",
       "      <td>25.07 ± 0.56</td>\n",
       "      <td>1.95 ± 0.25</td>\n",
       "    </tr>\n",
       "  </tbody>\n",
       "</table>\n",
       "</div>"
      ],
      "text/plain": [
       "         Input    Model Name    F1 (Window) Accuracy (Window)  \\\n",
       "0        video           CNN  0.711 ± 0.047     0.676 ± 0.029   \n",
       "1        video          LSTM  0.670 ± 0.041     0.673 ± 0.024   \n",
       "2        video   Siamese CNN  0.674 ± 0.038     0.661 ± 0.028   \n",
       "3        video  Siamese LSTM  0.701 ± 0.021     0.667 ± 0.016   \n",
       "4        video         TeCNo  0.709 ± 0.042     0.673 ± 0.026   \n",
       "5        video    TransSVNet  0.681 ± 0.064     0.647 ± 0.046   \n",
       "6        video           COG  0.706 ± 0.057     0.666 ± 0.031   \n",
       "7   kinematics           CNN  0.700 ± 0.039     0.631 ± 0.033   \n",
       "8   kinematics          LSTM    0.69 ± 0.06       0.63 ± 0.02   \n",
       "9   kinematics   Siamese CNN    0.63 ± 0.03       0.58 ± 0.02   \n",
       "10  kinematics  Siamese LSTM    0.60 ± 0.04       0.62 ± 0.05   \n",
       "11  kinematics         TeCNo  0.694 ± 0.038     0.663 ± 0.035   \n",
       "12  kinematics    TransSVNet  0.647 ± 0.024     0.608 ± 0.010   \n",
       "13  kinematics           COG  0.648 ± 0.082     0.643 ± 0.046   \n",
       "14  multimodal           CNN  0.711 ± 0.039     0.676 ± 0.025   \n",
       "15  multimodal          LSTM  0.716 ± 0.051     0.673 ± 0.038   \n",
       "16  multimodal   Siamese CNN  0.679 ± 0.030     0.661 ± 0.024   \n",
       "17  multimodal  Siamese LSTM  0.701 ± 0.027     0.667 ± 0.027   \n",
       "18  multimodal         TeCNo  0.700 ± 0.041     0.668 ± 0.022   \n",
       "19  multimodal    TransSVNet  0.712 ± 0.041     0.665 ± 0.022   \n",
       "20  multimodal           COG  0.732 ± 0.046     0.685 ± 0.028   \n",
       "\n",
       "   Jaccard (Window)     F1 (Frame) Accuracy (Frame) Jaccard (Frame)  \\\n",
       "0     0.554 ± 0.058            NaN              NaN             NaN   \n",
       "1     0.537 ± 0.045            NaN              NaN             NaN   \n",
       "2     0.510 ± 0.045            NaN              NaN             NaN   \n",
       "3     0.540 ± 0.025            NaN              NaN             NaN   \n",
       "4     0.551 ± 0.052  0.684 ± 0.038    0.669 ± 0.025   0.521 ± 0.045   \n",
       "5     0.520 ± 0.075  0.662 ± 0.058    0.647 ± 0.038   0.497 ± 0.067   \n",
       "6     0.548 ± 0.066  0.687 ± 0.051    0.667 ± 0.025   0.525 ± 0.058   \n",
       "7     0.539 ± 0.046            NaN              NaN             NaN   \n",
       "8       0.54 ± 0.07            NaN              NaN             NaN   \n",
       "9       0.46 ± 0.04            NaN              NaN             NaN   \n",
       "10      0.43 ± 0.04            NaN              NaN             NaN   \n",
       "11    0.532 ± 0.045  0.679 ± 0.030    0.669 ± 0.029   0.514 ± 0.035   \n",
       "12    0.478 ± 0.026  0.630 ± 0.026    0.611 ± 0.011   0.461 ± 0.027   \n",
       "13    0.486 ± 0.095  0.636 ± 0.076    0.651 ± 0.040   0.471 ± 0.086   \n",
       "14    0.553 ± 0.048            NaN              NaN             NaN   \n",
       "15    0.560 ± 0.064            NaN              NaN             NaN   \n",
       "16    0.515 ± 0.035            NaN              NaN             NaN   \n",
       "17    0.540 ± 0.034            NaN              NaN             NaN   \n",
       "18    0.540 ± 0.050  0.678 ± 0.039    0.668 ± 0.023   0.514 ± 0.046   \n",
       "19    0.554 ± 0.050  0.679 ± 0.041    0.655 ± 0.022   0.515 ± 0.048   \n",
       "20    0.579 ± 0.058  0.709 ± 0.033    0.672 ± 0.027   0.550 ± 0.040   \n",
       "\n",
       "   Training Time (s) Inference Rate (ms per frame/window)  \n",
       "0        0.31 ± 0.01                          0.86 ± 0.02  \n",
       "1        0.95 ± 0.05                          0.93 ± 0.06  \n",
       "2        4.41 ± 0.18                          1.32 ± 0.01  \n",
       "3        6.04 ± 0.10                          1.65 ± 0.02  \n",
       "4        2.38 ± 0.12                        67.95 ± 13.71  \n",
       "5       15.35 ± 0.44                          1.60 ± 0.20  \n",
       "6       25.07 ± 0.56                          1.95 ± 0.25  \n",
       "7        0.33 ± 0.01                          0.98 ± 0.06  \n",
       "8        0.30 ± 0.02                          1.17 ± 0.07  \n",
       "9        3.61 ± 0.04                          1.42 ± 0.01  \n",
       "10       3.72 ± 0.02                          1.75 ± 0.02  \n",
       "11       2.19 ± 0.04                        73.66 ± 13.97  \n",
       "12      15.15 ± 0.33                          1.66 ± 0.35  \n",
       "13      25.07 ± 0.56                          1.95 ± 0.25  \n",
       "14       1.49 ± 0.03                          1.04 ± 0.20  \n",
       "15       1.46 ± 0.07                          1.08 ± 0.07  \n",
       "16       6.44 ± 0.09                          1.30 ± 0.02  \n",
       "17       6.34 ± 0.27                          1.62 ± 0.02  \n",
       "18       2.49 ± 0.05                        65.17 ± 11.41  \n",
       "19      15.49 ± 0.31                          1.61 ± 0.20  \n",
       "20      25.07 ± 0.56                          1.95 ± 0.25  "
      ]
     },
     "metadata": {},
     "output_type": "display_data"
    }
   ],
   "source": [
    "#Create a single dataframe that contains all the results\n",
    "#The dataframe will contain as indices the data types input to each model\n",
    "#The columns will be model name, F1 (Window), Accuracy (Window), Jaccard (Window), F1 (Frame), Accuracy (Frame), Jaccard (Frame), Training Time (s), Inference Time (ms per frame/window)\n",
    "\n",
    "import pandas as pd\n",
    "import os\n",
    "\n",
    "results_df = pd.DataFrame(columns=[\n",
    "    'Input',\n",
    "    'Model Name',\n",
    "    'F1 (Window)',\n",
    "    'Accuracy (Window)',\n",
    "    'Jaccard (Window)',\n",
    "    'F1 (Frame)',\n",
    "    'Accuracy (Frame)',\n",
    "    'Jaccard (Frame)',\n",
    "    'Training Time (s)',\n",
    "    'Inference Rate (ms per frame/window)'\n",
    "])\n",
    "\n",
    "frequency = 5\n",
    "results_folder = '../results/'\n",
    "inputs = ['video', 'kinematics', 'multimodal']\n",
    "model_names_dict = {'SimpleCNN': 'CNN',\n",
    "                    'SimpleLSTM': 'LSTM',\n",
    "                    'Siamese_CNN': 'Siamese CNN',\n",
    "                    'Siamese_LSTM': 'Siamese LSTM',\n",
    "                    'TeCNo': 'TeCNo',\n",
    "                    'TransSVNet': 'TransSVNet',\n",
    "                    'COG': 'COG'}\n",
    "\n",
    "\n",
    "model_frame_or_window = {'SimpleCNN': 'window',\n",
    "                         'SimpleLSTM': 'window',\n",
    "                        'Siamese_CNN': 'window',\n",
    "                        'Siamese_LSTM': 'window',\n",
    "                        'TeCNo': 'frame',\n",
    "                        'TransSVNet': 'frame',\n",
    "                        'COG': 'frame'} \n",
    "\n",
    "csv_filename = 'LOSO_summary_df.csv'\n",
    "csv_filename_2 = 'LOSO_summary_df_window.csv'\n",
    "\n",
    "for input in inputs:\n",
    "    \n",
    "    print(f'Processing input: {input}')\n",
    "    input_results_folder = os.path.join(results_folder, input, f'{frequency}Hz')\n",
    "    if not os.path.exists(input_results_folder):\n",
    "        continue\n",
    "    \n",
    "    for model_name in model_names_dict.keys():\n",
    "        print(f'Processing model: {model_name}')\n",
    "        model_folder = os.path.join(input_results_folder, model_name)\n",
    "        if not os.path.exists(model_folder):\n",
    "            continue\n",
    "        \n",
    "        # Load the CSV files\n",
    "        csv_file = os.path.join(model_folder, csv_filename)\n",
    "        \n",
    "        if model_frame_or_window[model_name] == 'frame': #in this case, predictions were windowed for a fair comparison\n",
    "            csv_file_2 = os.path.join(model_folder, csv_filename_2)\n",
    "            if os.path.exists(csv_file):\n",
    "\n",
    "                #Load frame level predictions\n",
    "                df = pd.read_csv(csv_file)\n",
    "                df['Input'] = input\n",
    "                df['Model Name'] = model_names_dict[model_name]\n",
    "                df['F1 (Frame)'] = df.iloc[1:]['F1'].astype(str)    \n",
    "                df['Accuracy (Frame)'] = df.iloc[1:]['Accuracy'].astype(str)\n",
    "                df['Jaccard (Frame)'] = df.iloc[1:]['Jaccard'].astype(str)\n",
    "                df['Training Time (s)'] = df.iloc[0]['Train Time']\n",
    "                df['Inference Rate (ms per frame/window)'] = df.iloc[1:]['Inference Rate'].astype(str)\n",
    "\n",
    "                #Delete F1, Accuracy, Jaccard columns from the original dataframe\n",
    "                df = df.drop(columns=['F1', 'Accuracy', 'Jaccard', 'Train Time', 'Inference Rate'])\n",
    "\n",
    "                #Delete first row of df\n",
    "                df = df.iloc[1:].reset_index(drop=True)\n",
    "\n",
    "                #Add Window level predictions\n",
    "                df2 = pd.read_csv(csv_file_2)\n",
    "                df['F1 (Window)'] = df2['F1'].astype(str)\n",
    "                df['Accuracy (Window)'] = df2['Accuracy'].astype(str)\n",
    "                df['Jaccard (Window)'] = df2['Jaccard'].astype(str)\n",
    "\n",
    "                #Concatenate the dataframes\n",
    "                results_df = pd.concat([results_df, df], ignore_index=True)\n",
    "        \n",
    "        else:\n",
    "            #Only window level predictions\n",
    "            if os.path.exists(csv_file):\n",
    "                df = pd.read_csv(csv_file)\n",
    "                df['Input'] = input\n",
    "                df['Model Name'] = model_names_dict[model_name]\n",
    "                df['F1 (Window)'] = df.iloc[1:]['F1'].astype(str)\n",
    "                df['Accuracy (Window)'] = df.iloc[1:]['Accuracy'].astype(str)\n",
    "                df['Jaccard (Window)'] = df.iloc[1:]['Jaccard'].astype(str)\n",
    "                df['Training Time (s)'] = df.iloc[0]['Train Time']  \n",
    "                df['Inference Rate (ms per frame/window)'] = df.iloc[1:]['Inference Rate'].astype(str)  \n",
    "                \n",
    "                #Delete F1, Accuracy, Jaccard columns from the original dataframe\n",
    "                df = df.drop(columns=['F1', 'Accuracy', 'Jaccard', 'Train Time', 'Inference Rate']) \n",
    "\n",
    "                #Delete first row of df\n",
    "                df = df.iloc[1:].reset_index(drop=True)\n",
    "\n",
    "                #Add Frame level predictions as NaN\n",
    "                df['F1 (Frame)'] = pd.NA\n",
    "                df['Accuracy (Frame)'] = pd.NA\n",
    "                df['Jaccard (Frame)'] = pd.NA\n",
    "\n",
    "                #Concatenate the dataframes\n",
    "                results_df = pd.concat([results_df, df], ignore_index=True)\n",
    "        \n",
    "        \n",
    "display(results_df)\n",
    "\n",
    "#Save the results dataframe to a CSV file\n",
    "output_csv = 'LOSO_summary_results_all.csv'\n",
    "file_path = os.path.join(results_folder, output_csv)\n",
    "results_df.to_csv(file_path, index=False)"
   ]
  },
  {
   "cell_type": "code",
   "execution_count": 6,
   "metadata": {},
   "outputs": [
    {
     "data": {
      "text/html": [
       "<div>\n",
       "<style scoped>\n",
       "    .dataframe tbody tr th:only-of-type {\n",
       "        vertical-align: middle;\n",
       "    }\n",
       "\n",
       "    .dataframe tbody tr th {\n",
       "        vertical-align: top;\n",
       "    }\n",
       "\n",
       "    .dataframe thead th {\n",
       "        text-align: right;\n",
       "    }\n",
       "</style>\n",
       "<table border=\"1\" class=\"dataframe\">\n",
       "  <thead>\n",
       "    <tr style=\"text-align: right;\">\n",
       "      <th></th>\n",
       "      <th>Input</th>\n",
       "      <th>Model Name</th>\n",
       "      <th>F1 (Window)</th>\n",
       "      <th>Accuracy (Window)</th>\n",
       "      <th>Jaccard (Window)</th>\n",
       "      <th>Training Time (s)</th>\n",
       "      <th>Inference Rate (ms per frame/window)</th>\n",
       "    </tr>\n",
       "  </thead>\n",
       "  <tbody>\n",
       "    <tr>\n",
       "      <th>0</th>\n",
       "      <td>video</td>\n",
       "      <td>CNN</td>\n",
       "      <td>0.711 ± 0.047</td>\n",
       "      <td>0.676 ± 0.029</td>\n",
       "      <td>0.554 ± 0.058</td>\n",
       "      <td>0.31 ± 0.01</td>\n",
       "      <td>0.86 ± 0.02</td>\n",
       "    </tr>\n",
       "    <tr>\n",
       "      <th>1</th>\n",
       "      <td>video</td>\n",
       "      <td>LSTM</td>\n",
       "      <td>0.670 ± 0.041</td>\n",
       "      <td>0.673 ± 0.024</td>\n",
       "      <td>0.537 ± 0.045</td>\n",
       "      <td>0.95 ± 0.05</td>\n",
       "      <td>0.93 ± 0.06</td>\n",
       "    </tr>\n",
       "    <tr>\n",
       "      <th>2</th>\n",
       "      <td>video</td>\n",
       "      <td>Siamese CNN</td>\n",
       "      <td>0.674 ± 0.038</td>\n",
       "      <td>0.661 ± 0.028</td>\n",
       "      <td>0.510 ± 0.045</td>\n",
       "      <td>4.41 ± 0.18</td>\n",
       "      <td>1.32 ± 0.01</td>\n",
       "    </tr>\n",
       "    <tr>\n",
       "      <th>3</th>\n",
       "      <td>video</td>\n",
       "      <td>Siamese LSTM</td>\n",
       "      <td>0.701 ± 0.021</td>\n",
       "      <td>0.667 ± 0.016</td>\n",
       "      <td>0.540 ± 0.025</td>\n",
       "      <td>6.04 ± 0.10</td>\n",
       "      <td>1.65 ± 0.02</td>\n",
       "    </tr>\n",
       "    <tr>\n",
       "      <th>4</th>\n",
       "      <td>video</td>\n",
       "      <td>TeCNo</td>\n",
       "      <td>0.709 ± 0.042</td>\n",
       "      <td>0.673 ± 0.026</td>\n",
       "      <td>0.551 ± 0.052</td>\n",
       "      <td>2.38 ± 0.12</td>\n",
       "      <td>67.95 ± 13.71</td>\n",
       "    </tr>\n",
       "    <tr>\n",
       "      <th>5</th>\n",
       "      <td>video</td>\n",
       "      <td>TransSVNet</td>\n",
       "      <td>0.681 ± 0.064</td>\n",
       "      <td>0.647 ± 0.046</td>\n",
       "      <td>0.520 ± 0.075</td>\n",
       "      <td>15.35 ± 0.44</td>\n",
       "      <td>1.60 ± 0.20</td>\n",
       "    </tr>\n",
       "    <tr>\n",
       "      <th>6</th>\n",
       "      <td>video</td>\n",
       "      <td>COG</td>\n",
       "      <td>0.706 ± 0.057</td>\n",
       "      <td>0.666 ± 0.031</td>\n",
       "      <td>0.548 ± 0.066</td>\n",
       "      <td>25.07 ± 0.56</td>\n",
       "      <td>1.95 ± 0.25</td>\n",
       "    </tr>\n",
       "    <tr>\n",
       "      <th>7</th>\n",
       "      <td>kinematics</td>\n",
       "      <td>CNN</td>\n",
       "      <td>0.700 ± 0.039</td>\n",
       "      <td>0.631 ± 0.033</td>\n",
       "      <td>0.539 ± 0.046</td>\n",
       "      <td>0.33 ± 0.01</td>\n",
       "      <td>0.98 ± 0.06</td>\n",
       "    </tr>\n",
       "    <tr>\n",
       "      <th>8</th>\n",
       "      <td>kinematics</td>\n",
       "      <td>LSTM</td>\n",
       "      <td>0.69 ± 0.06</td>\n",
       "      <td>0.63 ± 0.02</td>\n",
       "      <td>0.54 ± 0.07</td>\n",
       "      <td>0.30 ± 0.02</td>\n",
       "      <td>1.17 ± 0.07</td>\n",
       "    </tr>\n",
       "    <tr>\n",
       "      <th>9</th>\n",
       "      <td>kinematics</td>\n",
       "      <td>Siamese CNN</td>\n",
       "      <td>0.63 ± 0.03</td>\n",
       "      <td>0.58 ± 0.02</td>\n",
       "      <td>0.46 ± 0.04</td>\n",
       "      <td>3.61 ± 0.04</td>\n",
       "      <td>1.42 ± 0.01</td>\n",
       "    </tr>\n",
       "    <tr>\n",
       "      <th>10</th>\n",
       "      <td>kinematics</td>\n",
       "      <td>Siamese LSTM</td>\n",
       "      <td>0.60 ± 0.04</td>\n",
       "      <td>0.62 ± 0.05</td>\n",
       "      <td>0.43 ± 0.04</td>\n",
       "      <td>3.72 ± 0.02</td>\n",
       "      <td>1.75 ± 0.02</td>\n",
       "    </tr>\n",
       "    <tr>\n",
       "      <th>11</th>\n",
       "      <td>kinematics</td>\n",
       "      <td>TeCNo</td>\n",
       "      <td>0.694 ± 0.038</td>\n",
       "      <td>0.663 ± 0.035</td>\n",
       "      <td>0.532 ± 0.045</td>\n",
       "      <td>2.19 ± 0.04</td>\n",
       "      <td>73.66 ± 13.97</td>\n",
       "    </tr>\n",
       "    <tr>\n",
       "      <th>12</th>\n",
       "      <td>kinematics</td>\n",
       "      <td>TransSVNet</td>\n",
       "      <td>0.647 ± 0.024</td>\n",
       "      <td>0.608 ± 0.010</td>\n",
       "      <td>0.478 ± 0.026</td>\n",
       "      <td>15.15 ± 0.33</td>\n",
       "      <td>1.66 ± 0.35</td>\n",
       "    </tr>\n",
       "    <tr>\n",
       "      <th>13</th>\n",
       "      <td>kinematics</td>\n",
       "      <td>COG</td>\n",
       "      <td>0.648 ± 0.082</td>\n",
       "      <td>0.643 ± 0.046</td>\n",
       "      <td>0.486 ± 0.095</td>\n",
       "      <td>25.07 ± 0.56</td>\n",
       "      <td>1.95 ± 0.25</td>\n",
       "    </tr>\n",
       "    <tr>\n",
       "      <th>14</th>\n",
       "      <td>multimodal</td>\n",
       "      <td>CNN</td>\n",
       "      <td>0.711 ± 0.039</td>\n",
       "      <td>0.676 ± 0.025</td>\n",
       "      <td>0.553 ± 0.048</td>\n",
       "      <td>1.49 ± 0.03</td>\n",
       "      <td>1.04 ± 0.20</td>\n",
       "    </tr>\n",
       "    <tr>\n",
       "      <th>15</th>\n",
       "      <td>multimodal</td>\n",
       "      <td>LSTM</td>\n",
       "      <td>0.716 ± 0.051</td>\n",
       "      <td>0.673 ± 0.038</td>\n",
       "      <td>0.560 ± 0.064</td>\n",
       "      <td>1.46 ± 0.07</td>\n",
       "      <td>1.08 ± 0.07</td>\n",
       "    </tr>\n",
       "    <tr>\n",
       "      <th>16</th>\n",
       "      <td>multimodal</td>\n",
       "      <td>Siamese CNN</td>\n",
       "      <td>0.679 ± 0.030</td>\n",
       "      <td>0.661 ± 0.024</td>\n",
       "      <td>0.515 ± 0.035</td>\n",
       "      <td>6.44 ± 0.09</td>\n",
       "      <td>1.30 ± 0.02</td>\n",
       "    </tr>\n",
       "    <tr>\n",
       "      <th>17</th>\n",
       "      <td>multimodal</td>\n",
       "      <td>Siamese LSTM</td>\n",
       "      <td>0.701 ± 0.027</td>\n",
       "      <td>0.667 ± 0.027</td>\n",
       "      <td>0.540 ± 0.034</td>\n",
       "      <td>6.34 ± 0.27</td>\n",
       "      <td>1.62 ± 0.02</td>\n",
       "    </tr>\n",
       "    <tr>\n",
       "      <th>18</th>\n",
       "      <td>multimodal</td>\n",
       "      <td>TeCNo</td>\n",
       "      <td>0.700 ± 0.041</td>\n",
       "      <td>0.668 ± 0.022</td>\n",
       "      <td>0.540 ± 0.050</td>\n",
       "      <td>2.49 ± 0.05</td>\n",
       "      <td>65.17 ± 11.41</td>\n",
       "    </tr>\n",
       "    <tr>\n",
       "      <th>19</th>\n",
       "      <td>multimodal</td>\n",
       "      <td>TransSVNet</td>\n",
       "      <td>0.712 ± 0.041</td>\n",
       "      <td>0.665 ± 0.022</td>\n",
       "      <td>0.554 ± 0.050</td>\n",
       "      <td>15.49 ± 0.31</td>\n",
       "      <td>1.61 ± 0.20</td>\n",
       "    </tr>\n",
       "    <tr>\n",
       "      <th>20</th>\n",
       "      <td>multimodal</td>\n",
       "      <td>COG</td>\n",
       "      <td>0.732 ± 0.046</td>\n",
       "      <td>0.685 ± 0.028</td>\n",
       "      <td>0.579 ± 0.058</td>\n",
       "      <td>25.07 ± 0.56</td>\n",
       "      <td>1.95 ± 0.25</td>\n",
       "    </tr>\n",
       "  </tbody>\n",
       "</table>\n",
       "</div>"
      ],
      "text/plain": [
       "         Input    Model Name    F1 (Window) Accuracy (Window)  \\\n",
       "0        video           CNN  0.711 ± 0.047     0.676 ± 0.029   \n",
       "1        video          LSTM  0.670 ± 0.041     0.673 ± 0.024   \n",
       "2        video   Siamese CNN  0.674 ± 0.038     0.661 ± 0.028   \n",
       "3        video  Siamese LSTM  0.701 ± 0.021     0.667 ± 0.016   \n",
       "4        video         TeCNo  0.709 ± 0.042     0.673 ± 0.026   \n",
       "5        video    TransSVNet  0.681 ± 0.064     0.647 ± 0.046   \n",
       "6        video           COG  0.706 ± 0.057     0.666 ± 0.031   \n",
       "7   kinematics           CNN  0.700 ± 0.039     0.631 ± 0.033   \n",
       "8   kinematics          LSTM    0.69 ± 0.06       0.63 ± 0.02   \n",
       "9   kinematics   Siamese CNN    0.63 ± 0.03       0.58 ± 0.02   \n",
       "10  kinematics  Siamese LSTM    0.60 ± 0.04       0.62 ± 0.05   \n",
       "11  kinematics         TeCNo  0.694 ± 0.038     0.663 ± 0.035   \n",
       "12  kinematics    TransSVNet  0.647 ± 0.024     0.608 ± 0.010   \n",
       "13  kinematics           COG  0.648 ± 0.082     0.643 ± 0.046   \n",
       "14  multimodal           CNN  0.711 ± 0.039     0.676 ± 0.025   \n",
       "15  multimodal          LSTM  0.716 ± 0.051     0.673 ± 0.038   \n",
       "16  multimodal   Siamese CNN  0.679 ± 0.030     0.661 ± 0.024   \n",
       "17  multimodal  Siamese LSTM  0.701 ± 0.027     0.667 ± 0.027   \n",
       "18  multimodal         TeCNo  0.700 ± 0.041     0.668 ± 0.022   \n",
       "19  multimodal    TransSVNet  0.712 ± 0.041     0.665 ± 0.022   \n",
       "20  multimodal           COG  0.732 ± 0.046     0.685 ± 0.028   \n",
       "\n",
       "   Jaccard (Window) Training Time (s) Inference Rate (ms per frame/window)  \n",
       "0     0.554 ± 0.058       0.31 ± 0.01                          0.86 ± 0.02  \n",
       "1     0.537 ± 0.045       0.95 ± 0.05                          0.93 ± 0.06  \n",
       "2     0.510 ± 0.045       4.41 ± 0.18                          1.32 ± 0.01  \n",
       "3     0.540 ± 0.025       6.04 ± 0.10                          1.65 ± 0.02  \n",
       "4     0.551 ± 0.052       2.38 ± 0.12                        67.95 ± 13.71  \n",
       "5     0.520 ± 0.075      15.35 ± 0.44                          1.60 ± 0.20  \n",
       "6     0.548 ± 0.066      25.07 ± 0.56                          1.95 ± 0.25  \n",
       "7     0.539 ± 0.046       0.33 ± 0.01                          0.98 ± 0.06  \n",
       "8       0.54 ± 0.07       0.30 ± 0.02                          1.17 ± 0.07  \n",
       "9       0.46 ± 0.04       3.61 ± 0.04                          1.42 ± 0.01  \n",
       "10      0.43 ± 0.04       3.72 ± 0.02                          1.75 ± 0.02  \n",
       "11    0.532 ± 0.045       2.19 ± 0.04                        73.66 ± 13.97  \n",
       "12    0.478 ± 0.026      15.15 ± 0.33                          1.66 ± 0.35  \n",
       "13    0.486 ± 0.095      25.07 ± 0.56                          1.95 ± 0.25  \n",
       "14    0.553 ± 0.048       1.49 ± 0.03                          1.04 ± 0.20  \n",
       "15    0.560 ± 0.064       1.46 ± 0.07                          1.08 ± 0.07  \n",
       "16    0.515 ± 0.035       6.44 ± 0.09                          1.30 ± 0.02  \n",
       "17    0.540 ± 0.034       6.34 ± 0.27                          1.62 ± 0.02  \n",
       "18    0.540 ± 0.050       2.49 ± 0.05                        65.17 ± 11.41  \n",
       "19    0.554 ± 0.050      15.49 ± 0.31                          1.61 ± 0.20  \n",
       "20    0.579 ± 0.058      25.07 ± 0.56                          1.95 ± 0.25  "
      ]
     },
     "metadata": {},
     "output_type": "display_data"
    },
    {
     "name": "stdout",
     "output_type": "stream",
     "text": [
      "Results saved to ../results/LOSO_summary_results_all.csv\n"
     ]
    }
   ],
   "source": [
    "#Do the same but only with window level predictions\n",
    "output_csv_window = 'LOSO_summary_results_window.csv'\n",
    "file_path_window = os.path.join(results_folder, output_csv_window)\n",
    "results_df_window = results_df.drop(columns=['F1 (Frame)', 'Accuracy (Frame)', 'Jaccard (Frame)'])\n",
    "display(results_df_window)\n",
    "results_df_window.to_csv(file_path_window, index=False)\n",
    "print(f'Results saved to {file_path}')"
   ]
  },
  {
   "cell_type": "code",
   "execution_count": 7,
   "metadata": {},
   "outputs": [
    {
     "data": {
      "text/html": [
       "<div>\n",
       "<style scoped>\n",
       "    .dataframe tbody tr th:only-of-type {\n",
       "        vertical-align: middle;\n",
       "    }\n",
       "\n",
       "    .dataframe tbody tr th {\n",
       "        vertical-align: top;\n",
       "    }\n",
       "\n",
       "    .dataframe thead th {\n",
       "        text-align: right;\n",
       "    }\n",
       "</style>\n",
       "<table border=\"1\" class=\"dataframe\">\n",
       "  <thead>\n",
       "    <tr style=\"text-align: right;\">\n",
       "      <th></th>\n",
       "      <th>Input</th>\n",
       "      <th>Model Name</th>\n",
       "      <th>F1 (Frame)</th>\n",
       "      <th>Accuracy (Frame)</th>\n",
       "      <th>Jaccard (Frame)</th>\n",
       "      <th>Training Time (s)</th>\n",
       "    </tr>\n",
       "  </thead>\n",
       "  <tbody>\n",
       "    <tr>\n",
       "      <th>4</th>\n",
       "      <td>video</td>\n",
       "      <td>TeCNo</td>\n",
       "      <td>0.684 ± 0.038</td>\n",
       "      <td>0.669 ± 0.025</td>\n",
       "      <td>0.521 ± 0.045</td>\n",
       "      <td>2.38 ± 0.12</td>\n",
       "    </tr>\n",
       "    <tr>\n",
       "      <th>5</th>\n",
       "      <td>video</td>\n",
       "      <td>TransSVNet</td>\n",
       "      <td>0.662 ± 0.058</td>\n",
       "      <td>0.647 ± 0.038</td>\n",
       "      <td>0.497 ± 0.067</td>\n",
       "      <td>15.35 ± 0.44</td>\n",
       "    </tr>\n",
       "    <tr>\n",
       "      <th>6</th>\n",
       "      <td>video</td>\n",
       "      <td>COG</td>\n",
       "      <td>0.687 ± 0.051</td>\n",
       "      <td>0.667 ± 0.025</td>\n",
       "      <td>0.525 ± 0.058</td>\n",
       "      <td>25.07 ± 0.56</td>\n",
       "    </tr>\n",
       "    <tr>\n",
       "      <th>11</th>\n",
       "      <td>kinematics</td>\n",
       "      <td>TeCNo</td>\n",
       "      <td>0.679 ± 0.030</td>\n",
       "      <td>0.669 ± 0.029</td>\n",
       "      <td>0.514 ± 0.035</td>\n",
       "      <td>2.19 ± 0.04</td>\n",
       "    </tr>\n",
       "    <tr>\n",
       "      <th>12</th>\n",
       "      <td>kinematics</td>\n",
       "      <td>TransSVNet</td>\n",
       "      <td>0.630 ± 0.026</td>\n",
       "      <td>0.611 ± 0.011</td>\n",
       "      <td>0.461 ± 0.027</td>\n",
       "      <td>15.15 ± 0.33</td>\n",
       "    </tr>\n",
       "    <tr>\n",
       "      <th>13</th>\n",
       "      <td>kinematics</td>\n",
       "      <td>COG</td>\n",
       "      <td>0.636 ± 0.076</td>\n",
       "      <td>0.651 ± 0.040</td>\n",
       "      <td>0.471 ± 0.086</td>\n",
       "      <td>25.07 ± 0.56</td>\n",
       "    </tr>\n",
       "    <tr>\n",
       "      <th>18</th>\n",
       "      <td>multimodal</td>\n",
       "      <td>TeCNo</td>\n",
       "      <td>0.678 ± 0.039</td>\n",
       "      <td>0.668 ± 0.023</td>\n",
       "      <td>0.514 ± 0.046</td>\n",
       "      <td>2.49 ± 0.05</td>\n",
       "    </tr>\n",
       "    <tr>\n",
       "      <th>19</th>\n",
       "      <td>multimodal</td>\n",
       "      <td>TransSVNet</td>\n",
       "      <td>0.679 ± 0.041</td>\n",
       "      <td>0.655 ± 0.022</td>\n",
       "      <td>0.515 ± 0.048</td>\n",
       "      <td>15.49 ± 0.31</td>\n",
       "    </tr>\n",
       "    <tr>\n",
       "      <th>20</th>\n",
       "      <td>multimodal</td>\n",
       "      <td>COG</td>\n",
       "      <td>0.709 ± 0.033</td>\n",
       "      <td>0.672 ± 0.027</td>\n",
       "      <td>0.550 ± 0.040</td>\n",
       "      <td>25.07 ± 0.56</td>\n",
       "    </tr>\n",
       "  </tbody>\n",
       "</table>\n",
       "</div>"
      ],
      "text/plain": [
       "         Input  Model Name     F1 (Frame) Accuracy (Frame) Jaccard (Frame)  \\\n",
       "4        video       TeCNo  0.684 ± 0.038    0.669 ± 0.025   0.521 ± 0.045   \n",
       "5        video  TransSVNet  0.662 ± 0.058    0.647 ± 0.038   0.497 ± 0.067   \n",
       "6        video         COG  0.687 ± 0.051    0.667 ± 0.025   0.525 ± 0.058   \n",
       "11  kinematics       TeCNo  0.679 ± 0.030    0.669 ± 0.029   0.514 ± 0.035   \n",
       "12  kinematics  TransSVNet  0.630 ± 0.026    0.611 ± 0.011   0.461 ± 0.027   \n",
       "13  kinematics         COG  0.636 ± 0.076    0.651 ± 0.040   0.471 ± 0.086   \n",
       "18  multimodal       TeCNo  0.678 ± 0.039    0.668 ± 0.023   0.514 ± 0.046   \n",
       "19  multimodal  TransSVNet  0.679 ± 0.041    0.655 ± 0.022   0.515 ± 0.048   \n",
       "20  multimodal         COG  0.709 ± 0.033    0.672 ± 0.027   0.550 ± 0.040   \n",
       "\n",
       "   Training Time (s)  \n",
       "4        2.38 ± 0.12  \n",
       "5       15.35 ± 0.44  \n",
       "6       25.07 ± 0.56  \n",
       "11       2.19 ± 0.04  \n",
       "12      15.15 ± 0.33  \n",
       "13      25.07 ± 0.56  \n",
       "18       2.49 ± 0.05  \n",
       "19      15.49 ± 0.31  \n",
       "20      25.07 ± 0.56  "
      ]
     },
     "metadata": {},
     "output_type": "display_data"
    },
    {
     "name": "stdout",
     "output_type": "stream",
     "text": [
      "Results saved to ../results/LOSO_summary_results_frame.csv\n"
     ]
    }
   ],
   "source": [
    "#Do the same but only with frame level predictions\n",
    "output_csv_frame = 'LOSO_summary_results_frame.csv'\n",
    "file_path_frame = os.path.join(results_folder, output_csv_frame)\n",
    "results_df_frame = results_df.drop(columns=['F1 (Window)', 'Accuracy (Window)', 'Jaccard (Window)', 'Inference Rate (ms per frame/window)'])\n",
    "\n",
    "#Also drop non-frame models (CNN, LSTM, Siamese CNN, Siamese LSTM)\n",
    "results_df_frame = results_df_frame[~results_df_frame['Model Name'].isin(['CNN', 'LSTM', 'Siamese CNN', 'Siamese LSTM'])]\n",
    "\n",
    "display(results_df_frame)\n",
    "results_df_frame.to_csv(file_path_frame, index=False)\n",
    "print(f'Results saved to {file_path_frame}')"
   ]
  },
  {
   "cell_type": "markdown",
   "metadata": {},
   "source": [
    "### 1.2. Compute specific error prediction performance with best non-specific models\n",
    "\n",
    "#### a. SimpleCNN + video data"
   ]
  },
  {
   "cell_type": "code",
   "execution_count": 27,
   "metadata": {},
   "outputs": [],
   "source": [
    "import mlflow\n",
    "mlflow.set_tracking_uri(uri=\"http://127.0.0.1:8080\")\n",
    "\n",
    "import os\n",
    "import sys\n",
    "sys.path.append(os.path.abspath(os.path.join(os.getcwd(), '..')))\n",
    "\n",
    "from MED.modeling.modeling_utils import retrieve_results_mlflow, window_predictions\n",
    "from MED.dataset.dataset_utils import compute_window_size_stride\n",
    "from sklearn.metrics import f1_score, accuracy_score, jaccard_score\n",
    "import numpy as np\n",
    "import pandas as pd\n",
    "\n",
    "def compute_metrics(error_dict: dict,\n",
    "                    all_labels: np.ndarray, \n",
    "                    all_preds: np.ndarray,\n",
    "                    outs: list,\n",
    "                    all_gest_labels: np.ndarray = None,\n",
    "                    all_subjects: np.ndarray = None,\n",
    "                    frame2window=False) -> pd.DataFrame:\n",
    "\n",
    "    \"\"\"\n",
    "    Compute error-type specific F1, Accuracy and Jaccard scores.\n",
    "    Args:\n",
    "        labels (np.ndarray): True labels for the specific error type.\n",
    "        preds (np.ndarray): Predicted labels for the specific error type.\n",
    "    Returns:\n",
    "        tuple: F1, Accuracy and Jaccard scores.\n",
    "    \"\"\"\n",
    "\n",
    "    if not frame2window:\n",
    "\n",
    "        results_df_index = [error for error in error_dict.keys() if error != 'global']\n",
    "        results_df = pd.DataFrame(columns=['F1', 'Accuracy', 'Jaccard'], index=results_df_index)\n",
    "\n",
    "        for error, error_position in error_dict.items():\n",
    "\n",
    "            f1_scores = []\n",
    "            acc_scores = []\n",
    "            jaccard_scores = []\n",
    "            samples = []\n",
    "            \n",
    "            #Compute F1, Accuracy and Jaccard for each fold\n",
    "            for out in outs:\n",
    "\n",
    "                labels_specific = np.array(all_labels[out])\n",
    "                labels_specific = labels_specific[:, error_position]  # Get the specific error type labels\n",
    "                preds = np.array(all_preds[out])\n",
    "\n",
    "                f1 = f1_score(labels_specific, preds, average='binary')\n",
    "                acc = accuracy_score(labels_specific, preds)\n",
    "                jaccard = jaccard_score(labels_specific, preds, average='binary')\n",
    "\n",
    "                f1_scores.append(f1)\n",
    "                acc_scores.append(acc)\n",
    "                jaccard_scores.append(jaccard)\n",
    "                samples.append(len(labels_specific))\n",
    "\n",
    "            #Fill df\n",
    "            results_df.loc[error, 'F1'] = f\"{np.average(f1_scores, weights=samples):.3f} ± {np.sqrt(np.average((f1_scores - np.average(f1_scores, weights=samples)) ** 2, weights=samples)):.3f}\"\n",
    "            results_df.loc[error, 'Accuracy'] = f\"{np.average(acc_scores, weights=samples):.3f} ± {np.sqrt(np.average((acc_scores - np.average(acc_scores, weights=samples)) ** 2, weights=samples)):.3f}\"\n",
    "            results_df.loc[error, 'Jaccard'] = f\"{np.average(jaccard_scores, weights=samples):.3f} ± {np.sqrt(np.average((jaccard_scores - np.average(jaccard_scores, weights=samples)) ** 2, weights=samples)):.3f}\"\n",
    "\n",
    "\n",
    "    else:\n",
    "        window_size, stride = compute_window_size_stride(frequency=5)\n",
    "        results_df = pd.DataFrame(columns=['F1', 'Accuracy', 'Jaccard'])\n",
    "\n",
    "        for error, error_position in error_dict.items():\n",
    "            f1_scores = []\n",
    "            acc_scores = []\n",
    "            jaccard_scores = []\n",
    "            samples = []\n",
    "            \n",
    "            for out in outs:\n",
    "                labels_specific = np.array(all_labels[out])\n",
    "                labels_specific = labels_specific[:, error_position]\n",
    "                preds = np.array(all_preds[out])\n",
    "\n",
    "                #Window predictions\n",
    "                predictions_windows, e_labels_windows, gestures_windows, subjects_windows = window_predictions(predictions = preds,\n",
    "                    e_labels = labels_specific,\n",
    "                    gestures = np.array(all_gest_labels[out]),\n",
    "                    subjects = np.array(all_subjects[out]),\n",
    "                    window_size= window_size, stride=stride)\n",
    "\n",
    "                predictions_windows = np.array(predictions_windows)\n",
    "                e_labels_windows = np.array(e_labels_windows)\n",
    "\n",
    "                f1 = f1_score(e_labels_windows, predictions_windows, average='binary')\n",
    "                acc = accuracy_score(e_labels_windows, predictions_windows)\n",
    "                jaccard = jaccard_score(e_labels_windows, predictions_windows, average='binary')\n",
    "\n",
    "                f1_scores.append(f1)\n",
    "                acc_scores.append(acc)\n",
    "                jaccard_scores.append(jaccard)\n",
    "                samples.append(len(e_labels_windows))\n",
    "            \n",
    "            #Fill df\n",
    "            results_df.loc[error, 'F1'] = f\"{np.average(f1_scores, weights=samples):.3f} ± {np.sqrt(np.average((f1_scores - np.average(f1_scores, weights=samples)) ** 2, weights=samples)):.3f}\"\n",
    "            results_df.loc[error, 'Accuracy'] = f\"{np.average(acc_scores, weights=samples):.3f} ± {np.sqrt(np.average((acc_scores - np.average(acc_scores, weights=samples)) ** 2, weights=samples)):.3f}\"\n",
    "            results_df.loc[error, 'Jaccard'] = f\"{np.average(jaccard_scores, weights=samples):.3f} ± {np.sqrt(np.average((jaccard_scores - np.average(jaccard_scores, weights=samples)) ** 2, weights=samples)):.3f}\"\n",
    "\n",
    "    return results_df"
   ]
  },
  {
   "cell_type": "code",
   "execution_count": 12,
   "metadata": {},
   "outputs": [
    {
     "data": {
      "application/vnd.jupyter.widget-view+json": {
       "model_id": "51e035d051d649ceb4063026a31a2e9a",
       "version_major": 2,
       "version_minor": 0
      },
      "text/plain": [
       "Downloading artifacts:   0%|          | 0/1 [00:00<?, ?it/s]"
      ]
     },
     "metadata": {},
     "output_type": "display_data"
    },
    {
     "data": {
      "application/vnd.jupyter.widget-view+json": {
       "model_id": "e857b1a21b414139bd0d7bc1ef540fe8",
       "version_major": 2,
       "version_minor": 0
      },
      "text/plain": [
       "Downloading artifacts:   0%|          | 0/1 [00:00<?, ?it/s]"
      ]
     },
     "metadata": {},
     "output_type": "display_data"
    },
    {
     "data": {
      "application/vnd.jupyter.widget-view+json": {
       "model_id": "3a17b361686b4578a020451229ce10a8",
       "version_major": 2,
       "version_minor": 0
      },
      "text/plain": [
       "Downloading artifacts:   0%|          | 0/1 [00:00<?, ?it/s]"
      ]
     },
     "metadata": {},
     "output_type": "display_data"
    },
    {
     "data": {
      "application/vnd.jupyter.widget-view+json": {
       "model_id": "26543969653e4ca1959265cf48e5eb27",
       "version_major": 2,
       "version_minor": 0
      },
      "text/plain": [
       "Downloading artifacts:   0%|          | 0/1 [00:00<?, ?it/s]"
      ]
     },
     "metadata": {},
     "output_type": "display_data"
    },
    {
     "data": {
      "application/vnd.jupyter.widget-view+json": {
       "model_id": "850c3541c4ad42409fa0122d603b921f",
       "version_major": 2,
       "version_minor": 0
      },
      "text/plain": [
       "Downloading artifacts:   0%|          | 0/1 [00:00<?, ?it/s]"
      ]
     },
     "metadata": {},
     "output_type": "display_data"
    }
   ],
   "source": [
    "#a. SimpleCNN + video data\n",
    "\n",
    "error_dict = {\n",
    "        'Out_Of_View': 0,\n",
    "        'Needle_Drop': 1,\n",
    "        'Multiple_Attempts': 2,\n",
    "        'Needle_Position': 3,\n",
    "        'global': -1\n",
    "    }\n",
    "\n",
    "run_id_video = \"705d4490b0a642e1a9c231fdc0eb3bdf\"\n",
    "outs = ['1Out', '2Out', '3Out', '4Out', '5Out']\n",
    "setting = 'LOSO'\n",
    "\n",
    "exp_kwargs = {\n",
    "    'model_name': \"SimpleCNN\",\n",
    "    'dataset_type': \"frame\",\n",
    "    'compute_from_str': True,\n",
    "    'save_local': False}\n",
    "\n",
    "#Retrieve results for video data\n",
    "video_f1_train, video_f1_test, video_acc_train, video_acc_test, video_jaccard_train, video_jaccard_test, video_cm_train, video_cm_test, \\\n",
    "                test_all_preds_video, test_all_probs_video, test_all_labels_video, test_all_labels_specific_video,test_all_gest_labels_video, test_all_subjects_video = retrieve_results_mlflow(outs=outs,\n",
    "                                                                                                                   setting=setting,\n",
    "                                                                                                                   exp_kwargs=exp_kwargs,\n",
    "                                                                                                                   run_id=run_id_video)"
   ]
  },
  {
   "cell_type": "code",
   "execution_count": 13,
   "metadata": {},
   "outputs": [
    {
     "name": "stdout",
     "output_type": "stream",
     "text": [
      "1078 1078\n",
      "Total number of windows with more than 1 specific error type: 112\n",
      "Total number of windows with Out Of View error: 35\n",
      "\n",
      "\n",
      "776 776\n",
      "Total number of windows with more than 1 specific error type: 59\n",
      "Total number of windows with Out Of View error: 34\n",
      "\n",
      "\n",
      "888 888\n",
      "Total number of windows with more than 1 specific error type: 87\n",
      "Total number of windows with Out Of View error: 56\n",
      "\n",
      "\n",
      "870 870\n",
      "Total number of windows with more than 1 specific error type: 48\n",
      "Total number of windows with Out Of View error: 19\n",
      "\n",
      "\n",
      "640 640\n",
      "Total number of windows with more than 1 specific error type: 30\n",
      "Total number of windows with Out Of View error: 17\n",
      "\n",
      "\n"
     ]
    }
   ],
   "source": [
    "#Compute number of windows that have more than 1 specific error type\n",
    "for out in outs:\n",
    "    print(len(test_all_labels_video[out]), len(test_all_labels_specific_video[out]))\n",
    "    counter = 0\n",
    "    counter_out_of_view = 0\n",
    "    for i in range(len(test_all_labels_video[out])):\n",
    "        if test_all_labels_video[out][i][:-1].sum() > 1:\n",
    "            #print(f'Specific error types: {test_all_labels_specific_video[out][i]}')\n",
    "            #print(f'Window {i} has more than 1 specific error type: {test_all_labels_video[out][i]}')\n",
    "            #print(f'Gestures: {test_all_gest_labels_video[out][i]}')\n",
    "            #print(f'Subject: {test_all_subjects_video[out][i]}')\n",
    "            #print('---')\n",
    "            counter += 1\n",
    "            if test_all_labels_video[out][i][error_dict['Out_Of_View']] == 1:\n",
    "                counter_out_of_view += 1\n",
    "\n",
    "    print(f'Total number of windows with more than 1 specific error type: {counter}')\n",
    "    print(f'Total number of windows with Out Of View error: {counter_out_of_view}')\n",
    "    print('\\n')"
   ]
  },
  {
   "cell_type": "code",
   "execution_count": 14,
   "metadata": {},
   "outputs": [
    {
     "name": "stderr",
     "output_type": "stream",
     "text": [
      "/var/folders/dk/qy9bk4_94zsb04lj0tpx7vx40000gn/T/ipykernel_46597/4222745924.py:46: DeprecationWarning: __array__ implementation doesn't accept a copy keyword, so passing copy=False failed. __array__ must implement 'dtype' and 'copy' keyword arguments. To learn more, see the migration guide https://numpy.org/devdocs/numpy_2_0_migration_guide.html#adapting-to-changes-in-the-copy-keyword\n",
      "  labels_specific = np.array(all_labels[out])\n",
      "/var/folders/dk/qy9bk4_94zsb04lj0tpx7vx40000gn/T/ipykernel_46597/4222745924.py:46: DeprecationWarning: __array__ implementation doesn't accept a copy keyword, so passing copy=False failed. __array__ must implement 'dtype' and 'copy' keyword arguments. To learn more, see the migration guide https://numpy.org/devdocs/numpy_2_0_migration_guide.html#adapting-to-changes-in-the-copy-keyword\n",
      "  labels_specific = np.array(all_labels[out])\n",
      "/var/folders/dk/qy9bk4_94zsb04lj0tpx7vx40000gn/T/ipykernel_46597/4222745924.py:46: DeprecationWarning: __array__ implementation doesn't accept a copy keyword, so passing copy=False failed. __array__ must implement 'dtype' and 'copy' keyword arguments. To learn more, see the migration guide https://numpy.org/devdocs/numpy_2_0_migration_guide.html#adapting-to-changes-in-the-copy-keyword\n",
      "  labels_specific = np.array(all_labels[out])\n",
      "/var/folders/dk/qy9bk4_94zsb04lj0tpx7vx40000gn/T/ipykernel_46597/4222745924.py:46: DeprecationWarning: __array__ implementation doesn't accept a copy keyword, so passing copy=False failed. __array__ must implement 'dtype' and 'copy' keyword arguments. To learn more, see the migration guide https://numpy.org/devdocs/numpy_2_0_migration_guide.html#adapting-to-changes-in-the-copy-keyword\n",
      "  labels_specific = np.array(all_labels[out])\n",
      "/var/folders/dk/qy9bk4_94zsb04lj0tpx7vx40000gn/T/ipykernel_46597/4222745924.py:46: DeprecationWarning: __array__ implementation doesn't accept a copy keyword, so passing copy=False failed. __array__ must implement 'dtype' and 'copy' keyword arguments. To learn more, see the migration guide https://numpy.org/devdocs/numpy_2_0_migration_guide.html#adapting-to-changes-in-the-copy-keyword\n",
      "  labels_specific = np.array(all_labels[out])\n",
      "/var/folders/dk/qy9bk4_94zsb04lj0tpx7vx40000gn/T/ipykernel_46597/4222745924.py:46: DeprecationWarning: __array__ implementation doesn't accept a copy keyword, so passing copy=False failed. __array__ must implement 'dtype' and 'copy' keyword arguments. To learn more, see the migration guide https://numpy.org/devdocs/numpy_2_0_migration_guide.html#adapting-to-changes-in-the-copy-keyword\n",
      "  labels_specific = np.array(all_labels[out])\n",
      "/var/folders/dk/qy9bk4_94zsb04lj0tpx7vx40000gn/T/ipykernel_46597/4222745924.py:46: DeprecationWarning: __array__ implementation doesn't accept a copy keyword, so passing copy=False failed. __array__ must implement 'dtype' and 'copy' keyword arguments. To learn more, see the migration guide https://numpy.org/devdocs/numpy_2_0_migration_guide.html#adapting-to-changes-in-the-copy-keyword\n",
      "  labels_specific = np.array(all_labels[out])\n",
      "/var/folders/dk/qy9bk4_94zsb04lj0tpx7vx40000gn/T/ipykernel_46597/4222745924.py:46: DeprecationWarning: __array__ implementation doesn't accept a copy keyword, so passing copy=False failed. __array__ must implement 'dtype' and 'copy' keyword arguments. To learn more, see the migration guide https://numpy.org/devdocs/numpy_2_0_migration_guide.html#adapting-to-changes-in-the-copy-keyword\n",
      "  labels_specific = np.array(all_labels[out])\n",
      "/var/folders/dk/qy9bk4_94zsb04lj0tpx7vx40000gn/T/ipykernel_46597/4222745924.py:46: DeprecationWarning: __array__ implementation doesn't accept a copy keyword, so passing copy=False failed. __array__ must implement 'dtype' and 'copy' keyword arguments. To learn more, see the migration guide https://numpy.org/devdocs/numpy_2_0_migration_guide.html#adapting-to-changes-in-the-copy-keyword\n",
      "  labels_specific = np.array(all_labels[out])\n",
      "/var/folders/dk/qy9bk4_94zsb04lj0tpx7vx40000gn/T/ipykernel_46597/4222745924.py:46: DeprecationWarning: __array__ implementation doesn't accept a copy keyword, so passing copy=False failed. __array__ must implement 'dtype' and 'copy' keyword arguments. To learn more, see the migration guide https://numpy.org/devdocs/numpy_2_0_migration_guide.html#adapting-to-changes-in-the-copy-keyword\n",
      "  labels_specific = np.array(all_labels[out])\n",
      "/var/folders/dk/qy9bk4_94zsb04lj0tpx7vx40000gn/T/ipykernel_46597/4222745924.py:46: DeprecationWarning: __array__ implementation doesn't accept a copy keyword, so passing copy=False failed. __array__ must implement 'dtype' and 'copy' keyword arguments. To learn more, see the migration guide https://numpy.org/devdocs/numpy_2_0_migration_guide.html#adapting-to-changes-in-the-copy-keyword\n",
      "  labels_specific = np.array(all_labels[out])\n",
      "/var/folders/dk/qy9bk4_94zsb04lj0tpx7vx40000gn/T/ipykernel_46597/4222745924.py:46: DeprecationWarning: __array__ implementation doesn't accept a copy keyword, so passing copy=False failed. __array__ must implement 'dtype' and 'copy' keyword arguments. To learn more, see the migration guide https://numpy.org/devdocs/numpy_2_0_migration_guide.html#adapting-to-changes-in-the-copy-keyword\n",
      "  labels_specific = np.array(all_labels[out])\n",
      "/var/folders/dk/qy9bk4_94zsb04lj0tpx7vx40000gn/T/ipykernel_46597/4222745924.py:46: DeprecationWarning: __array__ implementation doesn't accept a copy keyword, so passing copy=False failed. __array__ must implement 'dtype' and 'copy' keyword arguments. To learn more, see the migration guide https://numpy.org/devdocs/numpy_2_0_migration_guide.html#adapting-to-changes-in-the-copy-keyword\n",
      "  labels_specific = np.array(all_labels[out])\n",
      "/var/folders/dk/qy9bk4_94zsb04lj0tpx7vx40000gn/T/ipykernel_46597/4222745924.py:46: DeprecationWarning: __array__ implementation doesn't accept a copy keyword, so passing copy=False failed. __array__ must implement 'dtype' and 'copy' keyword arguments. To learn more, see the migration guide https://numpy.org/devdocs/numpy_2_0_migration_guide.html#adapting-to-changes-in-the-copy-keyword\n",
      "  labels_specific = np.array(all_labels[out])\n",
      "/var/folders/dk/qy9bk4_94zsb04lj0tpx7vx40000gn/T/ipykernel_46597/4222745924.py:46: DeprecationWarning: __array__ implementation doesn't accept a copy keyword, so passing copy=False failed. __array__ must implement 'dtype' and 'copy' keyword arguments. To learn more, see the migration guide https://numpy.org/devdocs/numpy_2_0_migration_guide.html#adapting-to-changes-in-the-copy-keyword\n",
      "  labels_specific = np.array(all_labels[out])\n",
      "/var/folders/dk/qy9bk4_94zsb04lj0tpx7vx40000gn/T/ipykernel_46597/4222745924.py:46: DeprecationWarning: __array__ implementation doesn't accept a copy keyword, so passing copy=False failed. __array__ must implement 'dtype' and 'copy' keyword arguments. To learn more, see the migration guide https://numpy.org/devdocs/numpy_2_0_migration_guide.html#adapting-to-changes-in-the-copy-keyword\n",
      "  labels_specific = np.array(all_labels[out])\n",
      "/var/folders/dk/qy9bk4_94zsb04lj0tpx7vx40000gn/T/ipykernel_46597/4222745924.py:46: DeprecationWarning: __array__ implementation doesn't accept a copy keyword, so passing copy=False failed. __array__ must implement 'dtype' and 'copy' keyword arguments. To learn more, see the migration guide https://numpy.org/devdocs/numpy_2_0_migration_guide.html#adapting-to-changes-in-the-copy-keyword\n",
      "  labels_specific = np.array(all_labels[out])\n",
      "/var/folders/dk/qy9bk4_94zsb04lj0tpx7vx40000gn/T/ipykernel_46597/4222745924.py:46: DeprecationWarning: __array__ implementation doesn't accept a copy keyword, so passing copy=False failed. __array__ must implement 'dtype' and 'copy' keyword arguments. To learn more, see the migration guide https://numpy.org/devdocs/numpy_2_0_migration_guide.html#adapting-to-changes-in-the-copy-keyword\n",
      "  labels_specific = np.array(all_labels[out])\n",
      "/var/folders/dk/qy9bk4_94zsb04lj0tpx7vx40000gn/T/ipykernel_46597/4222745924.py:46: DeprecationWarning: __array__ implementation doesn't accept a copy keyword, so passing copy=False failed. __array__ must implement 'dtype' and 'copy' keyword arguments. To learn more, see the migration guide https://numpy.org/devdocs/numpy_2_0_migration_guide.html#adapting-to-changes-in-the-copy-keyword\n",
      "  labels_specific = np.array(all_labels[out])\n",
      "/var/folders/dk/qy9bk4_94zsb04lj0tpx7vx40000gn/T/ipykernel_46597/4222745924.py:46: DeprecationWarning: __array__ implementation doesn't accept a copy keyword, so passing copy=False failed. __array__ must implement 'dtype' and 'copy' keyword arguments. To learn more, see the migration guide https://numpy.org/devdocs/numpy_2_0_migration_guide.html#adapting-to-changes-in-the-copy-keyword\n",
      "  labels_specific = np.array(all_labels[out])\n",
      "/var/folders/dk/qy9bk4_94zsb04lj0tpx7vx40000gn/T/ipykernel_46597/4222745924.py:46: DeprecationWarning: __array__ implementation doesn't accept a copy keyword, so passing copy=False failed. __array__ must implement 'dtype' and 'copy' keyword arguments. To learn more, see the migration guide https://numpy.org/devdocs/numpy_2_0_migration_guide.html#adapting-to-changes-in-the-copy-keyword\n",
      "  labels_specific = np.array(all_labels[out])\n",
      "/var/folders/dk/qy9bk4_94zsb04lj0tpx7vx40000gn/T/ipykernel_46597/4222745924.py:46: DeprecationWarning: __array__ implementation doesn't accept a copy keyword, so passing copy=False failed. __array__ must implement 'dtype' and 'copy' keyword arguments. To learn more, see the migration guide https://numpy.org/devdocs/numpy_2_0_migration_guide.html#adapting-to-changes-in-the-copy-keyword\n",
      "  labels_specific = np.array(all_labels[out])\n",
      "/var/folders/dk/qy9bk4_94zsb04lj0tpx7vx40000gn/T/ipykernel_46597/4222745924.py:46: DeprecationWarning: __array__ implementation doesn't accept a copy keyword, so passing copy=False failed. __array__ must implement 'dtype' and 'copy' keyword arguments. To learn more, see the migration guide https://numpy.org/devdocs/numpy_2_0_migration_guide.html#adapting-to-changes-in-the-copy-keyword\n",
      "  labels_specific = np.array(all_labels[out])\n",
      "/var/folders/dk/qy9bk4_94zsb04lj0tpx7vx40000gn/T/ipykernel_46597/4222745924.py:46: DeprecationWarning: __array__ implementation doesn't accept a copy keyword, so passing copy=False failed. __array__ must implement 'dtype' and 'copy' keyword arguments. To learn more, see the migration guide https://numpy.org/devdocs/numpy_2_0_migration_guide.html#adapting-to-changes-in-the-copy-keyword\n",
      "  labels_specific = np.array(all_labels[out])\n",
      "/var/folders/dk/qy9bk4_94zsb04lj0tpx7vx40000gn/T/ipykernel_46597/4222745924.py:46: DeprecationWarning: __array__ implementation doesn't accept a copy keyword, so passing copy=False failed. __array__ must implement 'dtype' and 'copy' keyword arguments. To learn more, see the migration guide https://numpy.org/devdocs/numpy_2_0_migration_guide.html#adapting-to-changes-in-the-copy-keyword\n",
      "  labels_specific = np.array(all_labels[out])\n"
     ]
    },
    {
     "data": {
      "text/html": [
       "<div>\n",
       "<style scoped>\n",
       "    .dataframe tbody tr th:only-of-type {\n",
       "        vertical-align: middle;\n",
       "    }\n",
       "\n",
       "    .dataframe tbody tr th {\n",
       "        vertical-align: top;\n",
       "    }\n",
       "\n",
       "    .dataframe thead th {\n",
       "        text-align: right;\n",
       "    }\n",
       "</style>\n",
       "<table border=\"1\" class=\"dataframe\">\n",
       "  <thead>\n",
       "    <tr style=\"text-align: right;\">\n",
       "      <th></th>\n",
       "      <th>F1</th>\n",
       "      <th>Accuracy</th>\n",
       "      <th>Jaccard</th>\n",
       "    </tr>\n",
       "  </thead>\n",
       "  <tbody>\n",
       "    <tr>\n",
       "      <th>Out_Of_View</th>\n",
       "      <td>0.391 ± 0.045</td>\n",
       "      <td>0.557 ± 0.064</td>\n",
       "      <td>0.244 ± 0.036</td>\n",
       "    </tr>\n",
       "    <tr>\n",
       "      <th>Needle_Drop</th>\n",
       "      <td>0.025 ± 0.018</td>\n",
       "      <td>0.452 ± 0.062</td>\n",
       "      <td>0.013 ± 0.009</td>\n",
       "    </tr>\n",
       "    <tr>\n",
       "      <th>Multiple_Attempts</th>\n",
       "      <td>0.541 ± 0.061</td>\n",
       "      <td>0.566 ± 0.016</td>\n",
       "      <td>0.373 ± 0.058</td>\n",
       "    </tr>\n",
       "    <tr>\n",
       "      <th>Needle_Position</th>\n",
       "      <td>0.214 ± 0.069</td>\n",
       "      <td>0.499 ± 0.034</td>\n",
       "      <td>0.122 ± 0.044</td>\n",
       "    </tr>\n",
       "    <tr>\n",
       "      <th>global</th>\n",
       "      <td>0.711 ± 0.047</td>\n",
       "      <td>0.676 ± 0.029</td>\n",
       "      <td>0.554 ± 0.058</td>\n",
       "    </tr>\n",
       "  </tbody>\n",
       "</table>\n",
       "</div>"
      ],
      "text/plain": [
       "                              F1       Accuracy        Jaccard\n",
       "Out_Of_View        0.391 ± 0.045  0.557 ± 0.064  0.244 ± 0.036\n",
       "Needle_Drop        0.025 ± 0.018  0.452 ± 0.062  0.013 ± 0.009\n",
       "Multiple_Attempts  0.541 ± 0.061  0.566 ± 0.016  0.373 ± 0.058\n",
       "Needle_Position    0.214 ± 0.069  0.499 ± 0.034  0.122 ± 0.044\n",
       "global             0.711 ± 0.047  0.676 ± 0.029  0.554 ± 0.058"
      ]
     },
     "metadata": {},
     "output_type": "display_data"
    }
   ],
   "source": [
    "results_df_video = compute_metrics(error_dict, test_all_labels_video, test_all_preds_video, outs)\n",
    "display(results_df_video)"
   ]
  },
  {
   "cell_type": "markdown",
   "metadata": {},
   "source": [
    "#### b. Simple CNN + kinematics"
   ]
  },
  {
   "cell_type": "code",
   "execution_count": 15,
   "metadata": {},
   "outputs": [
    {
     "data": {
      "application/vnd.jupyter.widget-view+json": {
       "model_id": "27f24631a4184c3ea17017c21c544ed6",
       "version_major": 2,
       "version_minor": 0
      },
      "text/plain": [
       "Downloading artifacts:   0%|          | 0/1 [00:00<?, ?it/s]"
      ]
     },
     "metadata": {},
     "output_type": "display_data"
    },
    {
     "data": {
      "application/vnd.jupyter.widget-view+json": {
       "model_id": "bc1d000495f441189895213770c30d3a",
       "version_major": 2,
       "version_minor": 0
      },
      "text/plain": [
       "Downloading artifacts:   0%|          | 0/1 [00:00<?, ?it/s]"
      ]
     },
     "metadata": {},
     "output_type": "display_data"
    },
    {
     "data": {
      "application/vnd.jupyter.widget-view+json": {
       "model_id": "cf91a485eaa745cf8e0540d364f81a59",
       "version_major": 2,
       "version_minor": 0
      },
      "text/plain": [
       "Downloading artifacts:   0%|          | 0/1 [00:00<?, ?it/s]"
      ]
     },
     "metadata": {},
     "output_type": "display_data"
    },
    {
     "data": {
      "application/vnd.jupyter.widget-view+json": {
       "model_id": "b28e529916244de39ed0999fdead1535",
       "version_major": 2,
       "version_minor": 0
      },
      "text/plain": [
       "Downloading artifacts:   0%|          | 0/1 [00:00<?, ?it/s]"
      ]
     },
     "metadata": {},
     "output_type": "display_data"
    },
    {
     "data": {
      "application/vnd.jupyter.widget-view+json": {
       "model_id": "397ced1fbe0b44779cfc095b96af97c3",
       "version_major": 2,
       "version_minor": 0
      },
      "text/plain": [
       "Downloading artifacts:   0%|          | 0/1 [00:00<?, ?it/s]"
      ]
     },
     "metadata": {},
     "output_type": "display_data"
    },
    {
     "name": "stderr",
     "output_type": "stream",
     "text": [
      "/var/folders/dk/qy9bk4_94zsb04lj0tpx7vx40000gn/T/ipykernel_46597/4222745924.py:46: DeprecationWarning: __array__ implementation doesn't accept a copy keyword, so passing copy=False failed. __array__ must implement 'dtype' and 'copy' keyword arguments. To learn more, see the migration guide https://numpy.org/devdocs/numpy_2_0_migration_guide.html#adapting-to-changes-in-the-copy-keyword\n",
      "  labels_specific = np.array(all_labels[out])\n",
      "/var/folders/dk/qy9bk4_94zsb04lj0tpx7vx40000gn/T/ipykernel_46597/4222745924.py:46: DeprecationWarning: __array__ implementation doesn't accept a copy keyword, so passing copy=False failed. __array__ must implement 'dtype' and 'copy' keyword arguments. To learn more, see the migration guide https://numpy.org/devdocs/numpy_2_0_migration_guide.html#adapting-to-changes-in-the-copy-keyword\n",
      "  labels_specific = np.array(all_labels[out])\n",
      "/var/folders/dk/qy9bk4_94zsb04lj0tpx7vx40000gn/T/ipykernel_46597/4222745924.py:46: DeprecationWarning: __array__ implementation doesn't accept a copy keyword, so passing copy=False failed. __array__ must implement 'dtype' and 'copy' keyword arguments. To learn more, see the migration guide https://numpy.org/devdocs/numpy_2_0_migration_guide.html#adapting-to-changes-in-the-copy-keyword\n",
      "  labels_specific = np.array(all_labels[out])\n",
      "/var/folders/dk/qy9bk4_94zsb04lj0tpx7vx40000gn/T/ipykernel_46597/4222745924.py:46: DeprecationWarning: __array__ implementation doesn't accept a copy keyword, so passing copy=False failed. __array__ must implement 'dtype' and 'copy' keyword arguments. To learn more, see the migration guide https://numpy.org/devdocs/numpy_2_0_migration_guide.html#adapting-to-changes-in-the-copy-keyword\n",
      "  labels_specific = np.array(all_labels[out])\n",
      "/var/folders/dk/qy9bk4_94zsb04lj0tpx7vx40000gn/T/ipykernel_46597/4222745924.py:46: DeprecationWarning: __array__ implementation doesn't accept a copy keyword, so passing copy=False failed. __array__ must implement 'dtype' and 'copy' keyword arguments. To learn more, see the migration guide https://numpy.org/devdocs/numpy_2_0_migration_guide.html#adapting-to-changes-in-the-copy-keyword\n",
      "  labels_specific = np.array(all_labels[out])\n",
      "/var/folders/dk/qy9bk4_94zsb04lj0tpx7vx40000gn/T/ipykernel_46597/4222745924.py:46: DeprecationWarning: __array__ implementation doesn't accept a copy keyword, so passing copy=False failed. __array__ must implement 'dtype' and 'copy' keyword arguments. To learn more, see the migration guide https://numpy.org/devdocs/numpy_2_0_migration_guide.html#adapting-to-changes-in-the-copy-keyword\n",
      "  labels_specific = np.array(all_labels[out])\n",
      "/var/folders/dk/qy9bk4_94zsb04lj0tpx7vx40000gn/T/ipykernel_46597/4222745924.py:46: DeprecationWarning: __array__ implementation doesn't accept a copy keyword, so passing copy=False failed. __array__ must implement 'dtype' and 'copy' keyword arguments. To learn more, see the migration guide https://numpy.org/devdocs/numpy_2_0_migration_guide.html#adapting-to-changes-in-the-copy-keyword\n",
      "  labels_specific = np.array(all_labels[out])\n",
      "/var/folders/dk/qy9bk4_94zsb04lj0tpx7vx40000gn/T/ipykernel_46597/4222745924.py:46: DeprecationWarning: __array__ implementation doesn't accept a copy keyword, so passing copy=False failed. __array__ must implement 'dtype' and 'copy' keyword arguments. To learn more, see the migration guide https://numpy.org/devdocs/numpy_2_0_migration_guide.html#adapting-to-changes-in-the-copy-keyword\n",
      "  labels_specific = np.array(all_labels[out])\n",
      "/var/folders/dk/qy9bk4_94zsb04lj0tpx7vx40000gn/T/ipykernel_46597/4222745924.py:46: DeprecationWarning: __array__ implementation doesn't accept a copy keyword, so passing copy=False failed. __array__ must implement 'dtype' and 'copy' keyword arguments. To learn more, see the migration guide https://numpy.org/devdocs/numpy_2_0_migration_guide.html#adapting-to-changes-in-the-copy-keyword\n",
      "  labels_specific = np.array(all_labels[out])\n",
      "/var/folders/dk/qy9bk4_94zsb04lj0tpx7vx40000gn/T/ipykernel_46597/4222745924.py:46: DeprecationWarning: __array__ implementation doesn't accept a copy keyword, so passing copy=False failed. __array__ must implement 'dtype' and 'copy' keyword arguments. To learn more, see the migration guide https://numpy.org/devdocs/numpy_2_0_migration_guide.html#adapting-to-changes-in-the-copy-keyword\n",
      "  labels_specific = np.array(all_labels[out])\n",
      "/var/folders/dk/qy9bk4_94zsb04lj0tpx7vx40000gn/T/ipykernel_46597/4222745924.py:46: DeprecationWarning: __array__ implementation doesn't accept a copy keyword, so passing copy=False failed. __array__ must implement 'dtype' and 'copy' keyword arguments. To learn more, see the migration guide https://numpy.org/devdocs/numpy_2_0_migration_guide.html#adapting-to-changes-in-the-copy-keyword\n",
      "  labels_specific = np.array(all_labels[out])\n",
      "/var/folders/dk/qy9bk4_94zsb04lj0tpx7vx40000gn/T/ipykernel_46597/4222745924.py:46: DeprecationWarning: __array__ implementation doesn't accept a copy keyword, so passing copy=False failed. __array__ must implement 'dtype' and 'copy' keyword arguments. To learn more, see the migration guide https://numpy.org/devdocs/numpy_2_0_migration_guide.html#adapting-to-changes-in-the-copy-keyword\n",
      "  labels_specific = np.array(all_labels[out])\n",
      "/var/folders/dk/qy9bk4_94zsb04lj0tpx7vx40000gn/T/ipykernel_46597/4222745924.py:46: DeprecationWarning: __array__ implementation doesn't accept a copy keyword, so passing copy=False failed. __array__ must implement 'dtype' and 'copy' keyword arguments. To learn more, see the migration guide https://numpy.org/devdocs/numpy_2_0_migration_guide.html#adapting-to-changes-in-the-copy-keyword\n",
      "  labels_specific = np.array(all_labels[out])\n",
      "/var/folders/dk/qy9bk4_94zsb04lj0tpx7vx40000gn/T/ipykernel_46597/4222745924.py:46: DeprecationWarning: __array__ implementation doesn't accept a copy keyword, so passing copy=False failed. __array__ must implement 'dtype' and 'copy' keyword arguments. To learn more, see the migration guide https://numpy.org/devdocs/numpy_2_0_migration_guide.html#adapting-to-changes-in-the-copy-keyword\n",
      "  labels_specific = np.array(all_labels[out])\n",
      "/var/folders/dk/qy9bk4_94zsb04lj0tpx7vx40000gn/T/ipykernel_46597/4222745924.py:46: DeprecationWarning: __array__ implementation doesn't accept a copy keyword, so passing copy=False failed. __array__ must implement 'dtype' and 'copy' keyword arguments. To learn more, see the migration guide https://numpy.org/devdocs/numpy_2_0_migration_guide.html#adapting-to-changes-in-the-copy-keyword\n",
      "  labels_specific = np.array(all_labels[out])\n",
      "/var/folders/dk/qy9bk4_94zsb04lj0tpx7vx40000gn/T/ipykernel_46597/4222745924.py:46: DeprecationWarning: __array__ implementation doesn't accept a copy keyword, so passing copy=False failed. __array__ must implement 'dtype' and 'copy' keyword arguments. To learn more, see the migration guide https://numpy.org/devdocs/numpy_2_0_migration_guide.html#adapting-to-changes-in-the-copy-keyword\n",
      "  labels_specific = np.array(all_labels[out])\n",
      "/var/folders/dk/qy9bk4_94zsb04lj0tpx7vx40000gn/T/ipykernel_46597/4222745924.py:46: DeprecationWarning: __array__ implementation doesn't accept a copy keyword, so passing copy=False failed. __array__ must implement 'dtype' and 'copy' keyword arguments. To learn more, see the migration guide https://numpy.org/devdocs/numpy_2_0_migration_guide.html#adapting-to-changes-in-the-copy-keyword\n",
      "  labels_specific = np.array(all_labels[out])\n",
      "/var/folders/dk/qy9bk4_94zsb04lj0tpx7vx40000gn/T/ipykernel_46597/4222745924.py:46: DeprecationWarning: __array__ implementation doesn't accept a copy keyword, so passing copy=False failed. __array__ must implement 'dtype' and 'copy' keyword arguments. To learn more, see the migration guide https://numpy.org/devdocs/numpy_2_0_migration_guide.html#adapting-to-changes-in-the-copy-keyword\n",
      "  labels_specific = np.array(all_labels[out])\n",
      "/var/folders/dk/qy9bk4_94zsb04lj0tpx7vx40000gn/T/ipykernel_46597/4222745924.py:46: DeprecationWarning: __array__ implementation doesn't accept a copy keyword, so passing copy=False failed. __array__ must implement 'dtype' and 'copy' keyword arguments. To learn more, see the migration guide https://numpy.org/devdocs/numpy_2_0_migration_guide.html#adapting-to-changes-in-the-copy-keyword\n",
      "  labels_specific = np.array(all_labels[out])\n",
      "/var/folders/dk/qy9bk4_94zsb04lj0tpx7vx40000gn/T/ipykernel_46597/4222745924.py:46: DeprecationWarning: __array__ implementation doesn't accept a copy keyword, so passing copy=False failed. __array__ must implement 'dtype' and 'copy' keyword arguments. To learn more, see the migration guide https://numpy.org/devdocs/numpy_2_0_migration_guide.html#adapting-to-changes-in-the-copy-keyword\n",
      "  labels_specific = np.array(all_labels[out])\n",
      "/var/folders/dk/qy9bk4_94zsb04lj0tpx7vx40000gn/T/ipykernel_46597/4222745924.py:46: DeprecationWarning: __array__ implementation doesn't accept a copy keyword, so passing copy=False failed. __array__ must implement 'dtype' and 'copy' keyword arguments. To learn more, see the migration guide https://numpy.org/devdocs/numpy_2_0_migration_guide.html#adapting-to-changes-in-the-copy-keyword\n",
      "  labels_specific = np.array(all_labels[out])\n",
      "/var/folders/dk/qy9bk4_94zsb04lj0tpx7vx40000gn/T/ipykernel_46597/4222745924.py:46: DeprecationWarning: __array__ implementation doesn't accept a copy keyword, so passing copy=False failed. __array__ must implement 'dtype' and 'copy' keyword arguments. To learn more, see the migration guide https://numpy.org/devdocs/numpy_2_0_migration_guide.html#adapting-to-changes-in-the-copy-keyword\n",
      "  labels_specific = np.array(all_labels[out])\n",
      "/var/folders/dk/qy9bk4_94zsb04lj0tpx7vx40000gn/T/ipykernel_46597/4222745924.py:46: DeprecationWarning: __array__ implementation doesn't accept a copy keyword, so passing copy=False failed. __array__ must implement 'dtype' and 'copy' keyword arguments. To learn more, see the migration guide https://numpy.org/devdocs/numpy_2_0_migration_guide.html#adapting-to-changes-in-the-copy-keyword\n",
      "  labels_specific = np.array(all_labels[out])\n",
      "/var/folders/dk/qy9bk4_94zsb04lj0tpx7vx40000gn/T/ipykernel_46597/4222745924.py:46: DeprecationWarning: __array__ implementation doesn't accept a copy keyword, so passing copy=False failed. __array__ must implement 'dtype' and 'copy' keyword arguments. To learn more, see the migration guide https://numpy.org/devdocs/numpy_2_0_migration_guide.html#adapting-to-changes-in-the-copy-keyword\n",
      "  labels_specific = np.array(all_labels[out])\n",
      "/var/folders/dk/qy9bk4_94zsb04lj0tpx7vx40000gn/T/ipykernel_46597/4222745924.py:46: DeprecationWarning: __array__ implementation doesn't accept a copy keyword, so passing copy=False failed. __array__ must implement 'dtype' and 'copy' keyword arguments. To learn more, see the migration guide https://numpy.org/devdocs/numpy_2_0_migration_guide.html#adapting-to-changes-in-the-copy-keyword\n",
      "  labels_specific = np.array(all_labels[out])\n"
     ]
    },
    {
     "data": {
      "text/html": [
       "<div>\n",
       "<style scoped>\n",
       "    .dataframe tbody tr th:only-of-type {\n",
       "        vertical-align: middle;\n",
       "    }\n",
       "\n",
       "    .dataframe tbody tr th {\n",
       "        vertical-align: top;\n",
       "    }\n",
       "\n",
       "    .dataframe thead th {\n",
       "        text-align: right;\n",
       "    }\n",
       "</style>\n",
       "<table border=\"1\" class=\"dataframe\">\n",
       "  <thead>\n",
       "    <tr style=\"text-align: right;\">\n",
       "      <th></th>\n",
       "      <th>F1</th>\n",
       "      <th>Accuracy</th>\n",
       "      <th>Jaccard</th>\n",
       "    </tr>\n",
       "  </thead>\n",
       "  <tbody>\n",
       "    <tr>\n",
       "      <th>Out_Of_View</th>\n",
       "      <td>0.325 ± 0.032</td>\n",
       "      <td>0.443 ± 0.056</td>\n",
       "      <td>0.195 ± 0.023</td>\n",
       "    </tr>\n",
       "    <tr>\n",
       "      <th>Needle_Drop</th>\n",
       "      <td>0.018 ± 0.014</td>\n",
       "      <td>0.350 ± 0.048</td>\n",
       "      <td>0.009 ± 0.007</td>\n",
       "    </tr>\n",
       "    <tr>\n",
       "      <th>Multiple_Attempts</th>\n",
       "      <td>0.560 ± 0.050</td>\n",
       "      <td>0.539 ± 0.024</td>\n",
       "      <td>0.391 ± 0.050</td>\n",
       "    </tr>\n",
       "    <tr>\n",
       "      <th>Needle_Position</th>\n",
       "      <td>0.170 ± 0.056</td>\n",
       "      <td>0.387 ± 0.032</td>\n",
       "      <td>0.094 ± 0.034</td>\n",
       "    </tr>\n",
       "    <tr>\n",
       "      <th>global</th>\n",
       "      <td>0.700 ± 0.039</td>\n",
       "      <td>0.631 ± 0.033</td>\n",
       "      <td>0.539 ± 0.046</td>\n",
       "    </tr>\n",
       "  </tbody>\n",
       "</table>\n",
       "</div>"
      ],
      "text/plain": [
       "                              F1       Accuracy        Jaccard\n",
       "Out_Of_View        0.325 ± 0.032  0.443 ± 0.056  0.195 ± 0.023\n",
       "Needle_Drop        0.018 ± 0.014  0.350 ± 0.048  0.009 ± 0.007\n",
       "Multiple_Attempts  0.560 ± 0.050  0.539 ± 0.024  0.391 ± 0.050\n",
       "Needle_Position    0.170 ± 0.056  0.387 ± 0.032  0.094 ± 0.034\n",
       "global             0.700 ± 0.039  0.631 ± 0.033  0.539 ± 0.046"
      ]
     },
     "metadata": {},
     "output_type": "display_data"
    }
   ],
   "source": [
    "#b. SimpleCNN + kinematics data\n",
    "run_id_kinematics = \"f4c962c1b73045d2aa1860a16abbac17\"\n",
    "kinematics_f1_train, kinematics_f1_test, kinematics_acc_train, kinematics_acc_test, kinematics_jaccard_train, kinematics_jaccard_test, \\\n",
    "        kinematics_cm_train, kinematics_cm_test, test_all_preds_kinematics, test_all_probs_kinematics, \\\n",
    "        test_all_labels_kinematics, test_all_labels_specific_kinematics, test_all_gest_labels_kinematics, test_all_subjects_kinematics = retrieve_results_mlflow(outs=outs,\n",
    "                                                                                                                                            setting=setting,\n",
    "                                                                                                                                            exp_kwargs=exp_kwargs,\n",
    "                                                                                                                                            run_id=run_id_kinematics)\n",
    "\n",
    "results_df_kinematics = compute_metrics(error_dict, test_all_labels_kinematics, test_all_preds_kinematics, outs)\n",
    "display(results_df_kinematics)"
   ]
  },
  {
   "cell_type": "markdown",
   "metadata": {},
   "source": [
    "#### c. COG + multimodal data"
   ]
  },
  {
   "cell_type": "code",
   "execution_count": 28,
   "metadata": {},
   "outputs": [
    {
     "data": {
      "application/vnd.jupyter.widget-view+json": {
       "model_id": "9f7579a6a5d049dc9c3a66934b72bae0",
       "version_major": 2,
       "version_minor": 0
      },
      "text/plain": [
       "Downloading artifacts:   0%|          | 0/1 [00:00<?, ?it/s]"
      ]
     },
     "metadata": {},
     "output_type": "display_data"
    },
    {
     "data": {
      "application/vnd.jupyter.widget-view+json": {
       "model_id": "eaa2f5fc466a44acb40ef04cfa23d8d1",
       "version_major": 2,
       "version_minor": 0
      },
      "text/plain": [
       "Downloading artifacts:   0%|          | 0/1 [00:00<?, ?it/s]"
      ]
     },
     "metadata": {},
     "output_type": "display_data"
    },
    {
     "data": {
      "application/vnd.jupyter.widget-view+json": {
       "model_id": "a8e4d1e182194cc6b6d5c9f6e91c4c37",
       "version_major": 2,
       "version_minor": 0
      },
      "text/plain": [
       "Downloading artifacts:   0%|          | 0/1 [00:00<?, ?it/s]"
      ]
     },
     "metadata": {},
     "output_type": "display_data"
    },
    {
     "data": {
      "application/vnd.jupyter.widget-view+json": {
       "model_id": "f7006347d2134b8d945e51bd0657912f",
       "version_major": 2,
       "version_minor": 0
      },
      "text/plain": [
       "Downloading artifacts:   0%|          | 0/1 [00:00<?, ?it/s]"
      ]
     },
     "metadata": {},
     "output_type": "display_data"
    },
    {
     "data": {
      "application/vnd.jupyter.widget-view+json": {
       "model_id": "ed29dc45b1804a2ea2cce1e52b818f4e",
       "version_major": 2,
       "version_minor": 0
      },
      "text/plain": [
       "Downloading artifacts:   0%|          | 0/1 [00:00<?, ?it/s]"
      ]
     },
     "metadata": {},
     "output_type": "display_data"
    },
    {
     "name": "stderr",
     "output_type": "stream",
     "text": [
      "/var/folders/dk/qy9bk4_94zsb04lj0tpx7vx40000gn/T/ipykernel_46597/4133947757.py:87: DeprecationWarning: __array__ implementation doesn't accept a copy keyword, so passing copy=False failed. __array__ must implement 'dtype' and 'copy' keyword arguments. To learn more, see the migration guide https://numpy.org/devdocs/numpy_2_0_migration_guide.html#adapting-to-changes-in-the-copy-keyword\n",
      "  predictions_windows = np.array(predictions_windows)\n",
      "/var/folders/dk/qy9bk4_94zsb04lj0tpx7vx40000gn/T/ipykernel_46597/4133947757.py:88: DeprecationWarning: __array__ implementation doesn't accept a copy keyword, so passing copy=False failed. __array__ must implement 'dtype' and 'copy' keyword arguments. To learn more, see the migration guide https://numpy.org/devdocs/numpy_2_0_migration_guide.html#adapting-to-changes-in-the-copy-keyword\n",
      "  e_labels_windows = np.array(e_labels_windows)\n",
      "/var/folders/dk/qy9bk4_94zsb04lj0tpx7vx40000gn/T/ipykernel_46597/4133947757.py:87: DeprecationWarning: __array__ implementation doesn't accept a copy keyword, so passing copy=False failed. __array__ must implement 'dtype' and 'copy' keyword arguments. To learn more, see the migration guide https://numpy.org/devdocs/numpy_2_0_migration_guide.html#adapting-to-changes-in-the-copy-keyword\n",
      "  predictions_windows = np.array(predictions_windows)\n",
      "/var/folders/dk/qy9bk4_94zsb04lj0tpx7vx40000gn/T/ipykernel_46597/4133947757.py:88: DeprecationWarning: __array__ implementation doesn't accept a copy keyword, so passing copy=False failed. __array__ must implement 'dtype' and 'copy' keyword arguments. To learn more, see the migration guide https://numpy.org/devdocs/numpy_2_0_migration_guide.html#adapting-to-changes-in-the-copy-keyword\n",
      "  e_labels_windows = np.array(e_labels_windows)\n",
      "/var/folders/dk/qy9bk4_94zsb04lj0tpx7vx40000gn/T/ipykernel_46597/4133947757.py:87: DeprecationWarning: __array__ implementation doesn't accept a copy keyword, so passing copy=False failed. __array__ must implement 'dtype' and 'copy' keyword arguments. To learn more, see the migration guide https://numpy.org/devdocs/numpy_2_0_migration_guide.html#adapting-to-changes-in-the-copy-keyword\n",
      "  predictions_windows = np.array(predictions_windows)\n",
      "/var/folders/dk/qy9bk4_94zsb04lj0tpx7vx40000gn/T/ipykernel_46597/4133947757.py:88: DeprecationWarning: __array__ implementation doesn't accept a copy keyword, so passing copy=False failed. __array__ must implement 'dtype' and 'copy' keyword arguments. To learn more, see the migration guide https://numpy.org/devdocs/numpy_2_0_migration_guide.html#adapting-to-changes-in-the-copy-keyword\n",
      "  e_labels_windows = np.array(e_labels_windows)\n",
      "/var/folders/dk/qy9bk4_94zsb04lj0tpx7vx40000gn/T/ipykernel_46597/4133947757.py:87: DeprecationWarning: __array__ implementation doesn't accept a copy keyword, so passing copy=False failed. __array__ must implement 'dtype' and 'copy' keyword arguments. To learn more, see the migration guide https://numpy.org/devdocs/numpy_2_0_migration_guide.html#adapting-to-changes-in-the-copy-keyword\n",
      "  predictions_windows = np.array(predictions_windows)\n",
      "/var/folders/dk/qy9bk4_94zsb04lj0tpx7vx40000gn/T/ipykernel_46597/4133947757.py:88: DeprecationWarning: __array__ implementation doesn't accept a copy keyword, so passing copy=False failed. __array__ must implement 'dtype' and 'copy' keyword arguments. To learn more, see the migration guide https://numpy.org/devdocs/numpy_2_0_migration_guide.html#adapting-to-changes-in-the-copy-keyword\n",
      "  e_labels_windows = np.array(e_labels_windows)\n",
      "/var/folders/dk/qy9bk4_94zsb04lj0tpx7vx40000gn/T/ipykernel_46597/4133947757.py:87: DeprecationWarning: __array__ implementation doesn't accept a copy keyword, so passing copy=False failed. __array__ must implement 'dtype' and 'copy' keyword arguments. To learn more, see the migration guide https://numpy.org/devdocs/numpy_2_0_migration_guide.html#adapting-to-changes-in-the-copy-keyword\n",
      "  predictions_windows = np.array(predictions_windows)\n",
      "/var/folders/dk/qy9bk4_94zsb04lj0tpx7vx40000gn/T/ipykernel_46597/4133947757.py:88: DeprecationWarning: __array__ implementation doesn't accept a copy keyword, so passing copy=False failed. __array__ must implement 'dtype' and 'copy' keyword arguments. To learn more, see the migration guide https://numpy.org/devdocs/numpy_2_0_migration_guide.html#adapting-to-changes-in-the-copy-keyword\n",
      "  e_labels_windows = np.array(e_labels_windows)\n",
      "/var/folders/dk/qy9bk4_94zsb04lj0tpx7vx40000gn/T/ipykernel_46597/4133947757.py:87: DeprecationWarning: __array__ implementation doesn't accept a copy keyword, so passing copy=False failed. __array__ must implement 'dtype' and 'copy' keyword arguments. To learn more, see the migration guide https://numpy.org/devdocs/numpy_2_0_migration_guide.html#adapting-to-changes-in-the-copy-keyword\n",
      "  predictions_windows = np.array(predictions_windows)\n",
      "/var/folders/dk/qy9bk4_94zsb04lj0tpx7vx40000gn/T/ipykernel_46597/4133947757.py:88: DeprecationWarning: __array__ implementation doesn't accept a copy keyword, so passing copy=False failed. __array__ must implement 'dtype' and 'copy' keyword arguments. To learn more, see the migration guide https://numpy.org/devdocs/numpy_2_0_migration_guide.html#adapting-to-changes-in-the-copy-keyword\n",
      "  e_labels_windows = np.array(e_labels_windows)\n",
      "/var/folders/dk/qy9bk4_94zsb04lj0tpx7vx40000gn/T/ipykernel_46597/4133947757.py:87: DeprecationWarning: __array__ implementation doesn't accept a copy keyword, so passing copy=False failed. __array__ must implement 'dtype' and 'copy' keyword arguments. To learn more, see the migration guide https://numpy.org/devdocs/numpy_2_0_migration_guide.html#adapting-to-changes-in-the-copy-keyword\n",
      "  predictions_windows = np.array(predictions_windows)\n",
      "/var/folders/dk/qy9bk4_94zsb04lj0tpx7vx40000gn/T/ipykernel_46597/4133947757.py:88: DeprecationWarning: __array__ implementation doesn't accept a copy keyword, so passing copy=False failed. __array__ must implement 'dtype' and 'copy' keyword arguments. To learn more, see the migration guide https://numpy.org/devdocs/numpy_2_0_migration_guide.html#adapting-to-changes-in-the-copy-keyword\n",
      "  e_labels_windows = np.array(e_labels_windows)\n",
      "/var/folders/dk/qy9bk4_94zsb04lj0tpx7vx40000gn/T/ipykernel_46597/4133947757.py:87: DeprecationWarning: __array__ implementation doesn't accept a copy keyword, so passing copy=False failed. __array__ must implement 'dtype' and 'copy' keyword arguments. To learn more, see the migration guide https://numpy.org/devdocs/numpy_2_0_migration_guide.html#adapting-to-changes-in-the-copy-keyword\n",
      "  predictions_windows = np.array(predictions_windows)\n",
      "/var/folders/dk/qy9bk4_94zsb04lj0tpx7vx40000gn/T/ipykernel_46597/4133947757.py:88: DeprecationWarning: __array__ implementation doesn't accept a copy keyword, so passing copy=False failed. __array__ must implement 'dtype' and 'copy' keyword arguments. To learn more, see the migration guide https://numpy.org/devdocs/numpy_2_0_migration_guide.html#adapting-to-changes-in-the-copy-keyword\n",
      "  e_labels_windows = np.array(e_labels_windows)\n",
      "/var/folders/dk/qy9bk4_94zsb04lj0tpx7vx40000gn/T/ipykernel_46597/4133947757.py:87: DeprecationWarning: __array__ implementation doesn't accept a copy keyword, so passing copy=False failed. __array__ must implement 'dtype' and 'copy' keyword arguments. To learn more, see the migration guide https://numpy.org/devdocs/numpy_2_0_migration_guide.html#adapting-to-changes-in-the-copy-keyword\n",
      "  predictions_windows = np.array(predictions_windows)\n",
      "/var/folders/dk/qy9bk4_94zsb04lj0tpx7vx40000gn/T/ipykernel_46597/4133947757.py:88: DeprecationWarning: __array__ implementation doesn't accept a copy keyword, so passing copy=False failed. __array__ must implement 'dtype' and 'copy' keyword arguments. To learn more, see the migration guide https://numpy.org/devdocs/numpy_2_0_migration_guide.html#adapting-to-changes-in-the-copy-keyword\n",
      "  e_labels_windows = np.array(e_labels_windows)\n",
      "/var/folders/dk/qy9bk4_94zsb04lj0tpx7vx40000gn/T/ipykernel_46597/4133947757.py:87: DeprecationWarning: __array__ implementation doesn't accept a copy keyword, so passing copy=False failed. __array__ must implement 'dtype' and 'copy' keyword arguments. To learn more, see the migration guide https://numpy.org/devdocs/numpy_2_0_migration_guide.html#adapting-to-changes-in-the-copy-keyword\n",
      "  predictions_windows = np.array(predictions_windows)\n",
      "/var/folders/dk/qy9bk4_94zsb04lj0tpx7vx40000gn/T/ipykernel_46597/4133947757.py:88: DeprecationWarning: __array__ implementation doesn't accept a copy keyword, so passing copy=False failed. __array__ must implement 'dtype' and 'copy' keyword arguments. To learn more, see the migration guide https://numpy.org/devdocs/numpy_2_0_migration_guide.html#adapting-to-changes-in-the-copy-keyword\n",
      "  e_labels_windows = np.array(e_labels_windows)\n",
      "/var/folders/dk/qy9bk4_94zsb04lj0tpx7vx40000gn/T/ipykernel_46597/4133947757.py:87: DeprecationWarning: __array__ implementation doesn't accept a copy keyword, so passing copy=False failed. __array__ must implement 'dtype' and 'copy' keyword arguments. To learn more, see the migration guide https://numpy.org/devdocs/numpy_2_0_migration_guide.html#adapting-to-changes-in-the-copy-keyword\n",
      "  predictions_windows = np.array(predictions_windows)\n",
      "/var/folders/dk/qy9bk4_94zsb04lj0tpx7vx40000gn/T/ipykernel_46597/4133947757.py:88: DeprecationWarning: __array__ implementation doesn't accept a copy keyword, so passing copy=False failed. __array__ must implement 'dtype' and 'copy' keyword arguments. To learn more, see the migration guide https://numpy.org/devdocs/numpy_2_0_migration_guide.html#adapting-to-changes-in-the-copy-keyword\n",
      "  e_labels_windows = np.array(e_labels_windows)\n",
      "/var/folders/dk/qy9bk4_94zsb04lj0tpx7vx40000gn/T/ipykernel_46597/4133947757.py:87: DeprecationWarning: __array__ implementation doesn't accept a copy keyword, so passing copy=False failed. __array__ must implement 'dtype' and 'copy' keyword arguments. To learn more, see the migration guide https://numpy.org/devdocs/numpy_2_0_migration_guide.html#adapting-to-changes-in-the-copy-keyword\n",
      "  predictions_windows = np.array(predictions_windows)\n",
      "/var/folders/dk/qy9bk4_94zsb04lj0tpx7vx40000gn/T/ipykernel_46597/4133947757.py:88: DeprecationWarning: __array__ implementation doesn't accept a copy keyword, so passing copy=False failed. __array__ must implement 'dtype' and 'copy' keyword arguments. To learn more, see the migration guide https://numpy.org/devdocs/numpy_2_0_migration_guide.html#adapting-to-changes-in-the-copy-keyword\n",
      "  e_labels_windows = np.array(e_labels_windows)\n",
      "/var/folders/dk/qy9bk4_94zsb04lj0tpx7vx40000gn/T/ipykernel_46597/4133947757.py:87: DeprecationWarning: __array__ implementation doesn't accept a copy keyword, so passing copy=False failed. __array__ must implement 'dtype' and 'copy' keyword arguments. To learn more, see the migration guide https://numpy.org/devdocs/numpy_2_0_migration_guide.html#adapting-to-changes-in-the-copy-keyword\n",
      "  predictions_windows = np.array(predictions_windows)\n",
      "/var/folders/dk/qy9bk4_94zsb04lj0tpx7vx40000gn/T/ipykernel_46597/4133947757.py:88: DeprecationWarning: __array__ implementation doesn't accept a copy keyword, so passing copy=False failed. __array__ must implement 'dtype' and 'copy' keyword arguments. To learn more, see the migration guide https://numpy.org/devdocs/numpy_2_0_migration_guide.html#adapting-to-changes-in-the-copy-keyword\n",
      "  e_labels_windows = np.array(e_labels_windows)\n",
      "/var/folders/dk/qy9bk4_94zsb04lj0tpx7vx40000gn/T/ipykernel_46597/4133947757.py:87: DeprecationWarning: __array__ implementation doesn't accept a copy keyword, so passing copy=False failed. __array__ must implement 'dtype' and 'copy' keyword arguments. To learn more, see the migration guide https://numpy.org/devdocs/numpy_2_0_migration_guide.html#adapting-to-changes-in-the-copy-keyword\n",
      "  predictions_windows = np.array(predictions_windows)\n",
      "/var/folders/dk/qy9bk4_94zsb04lj0tpx7vx40000gn/T/ipykernel_46597/4133947757.py:88: DeprecationWarning: __array__ implementation doesn't accept a copy keyword, so passing copy=False failed. __array__ must implement 'dtype' and 'copy' keyword arguments. To learn more, see the migration guide https://numpy.org/devdocs/numpy_2_0_migration_guide.html#adapting-to-changes-in-the-copy-keyword\n",
      "  e_labels_windows = np.array(e_labels_windows)\n",
      "/var/folders/dk/qy9bk4_94zsb04lj0tpx7vx40000gn/T/ipykernel_46597/4133947757.py:87: DeprecationWarning: __array__ implementation doesn't accept a copy keyword, so passing copy=False failed. __array__ must implement 'dtype' and 'copy' keyword arguments. To learn more, see the migration guide https://numpy.org/devdocs/numpy_2_0_migration_guide.html#adapting-to-changes-in-the-copy-keyword\n",
      "  predictions_windows = np.array(predictions_windows)\n",
      "/var/folders/dk/qy9bk4_94zsb04lj0tpx7vx40000gn/T/ipykernel_46597/4133947757.py:88: DeprecationWarning: __array__ implementation doesn't accept a copy keyword, so passing copy=False failed. __array__ must implement 'dtype' and 'copy' keyword arguments. To learn more, see the migration guide https://numpy.org/devdocs/numpy_2_0_migration_guide.html#adapting-to-changes-in-the-copy-keyword\n",
      "  e_labels_windows = np.array(e_labels_windows)\n",
      "/var/folders/dk/qy9bk4_94zsb04lj0tpx7vx40000gn/T/ipykernel_46597/4133947757.py:87: DeprecationWarning: __array__ implementation doesn't accept a copy keyword, so passing copy=False failed. __array__ must implement 'dtype' and 'copy' keyword arguments. To learn more, see the migration guide https://numpy.org/devdocs/numpy_2_0_migration_guide.html#adapting-to-changes-in-the-copy-keyword\n",
      "  predictions_windows = np.array(predictions_windows)\n",
      "/var/folders/dk/qy9bk4_94zsb04lj0tpx7vx40000gn/T/ipykernel_46597/4133947757.py:88: DeprecationWarning: __array__ implementation doesn't accept a copy keyword, so passing copy=False failed. __array__ must implement 'dtype' and 'copy' keyword arguments. To learn more, see the migration guide https://numpy.org/devdocs/numpy_2_0_migration_guide.html#adapting-to-changes-in-the-copy-keyword\n",
      "  e_labels_windows = np.array(e_labels_windows)\n",
      "/var/folders/dk/qy9bk4_94zsb04lj0tpx7vx40000gn/T/ipykernel_46597/4133947757.py:87: DeprecationWarning: __array__ implementation doesn't accept a copy keyword, so passing copy=False failed. __array__ must implement 'dtype' and 'copy' keyword arguments. To learn more, see the migration guide https://numpy.org/devdocs/numpy_2_0_migration_guide.html#adapting-to-changes-in-the-copy-keyword\n",
      "  predictions_windows = np.array(predictions_windows)\n",
      "/var/folders/dk/qy9bk4_94zsb04lj0tpx7vx40000gn/T/ipykernel_46597/4133947757.py:88: DeprecationWarning: __array__ implementation doesn't accept a copy keyword, so passing copy=False failed. __array__ must implement 'dtype' and 'copy' keyword arguments. To learn more, see the migration guide https://numpy.org/devdocs/numpy_2_0_migration_guide.html#adapting-to-changes-in-the-copy-keyword\n",
      "  e_labels_windows = np.array(e_labels_windows)\n",
      "/var/folders/dk/qy9bk4_94zsb04lj0tpx7vx40000gn/T/ipykernel_46597/4133947757.py:87: DeprecationWarning: __array__ implementation doesn't accept a copy keyword, so passing copy=False failed. __array__ must implement 'dtype' and 'copy' keyword arguments. To learn more, see the migration guide https://numpy.org/devdocs/numpy_2_0_migration_guide.html#adapting-to-changes-in-the-copy-keyword\n",
      "  predictions_windows = np.array(predictions_windows)\n",
      "/var/folders/dk/qy9bk4_94zsb04lj0tpx7vx40000gn/T/ipykernel_46597/4133947757.py:88: DeprecationWarning: __array__ implementation doesn't accept a copy keyword, so passing copy=False failed. __array__ must implement 'dtype' and 'copy' keyword arguments. To learn more, see the migration guide https://numpy.org/devdocs/numpy_2_0_migration_guide.html#adapting-to-changes-in-the-copy-keyword\n",
      "  e_labels_windows = np.array(e_labels_windows)\n",
      "/var/folders/dk/qy9bk4_94zsb04lj0tpx7vx40000gn/T/ipykernel_46597/4133947757.py:87: DeprecationWarning: __array__ implementation doesn't accept a copy keyword, so passing copy=False failed. __array__ must implement 'dtype' and 'copy' keyword arguments. To learn more, see the migration guide https://numpy.org/devdocs/numpy_2_0_migration_guide.html#adapting-to-changes-in-the-copy-keyword\n",
      "  predictions_windows = np.array(predictions_windows)\n",
      "/var/folders/dk/qy9bk4_94zsb04lj0tpx7vx40000gn/T/ipykernel_46597/4133947757.py:88: DeprecationWarning: __array__ implementation doesn't accept a copy keyword, so passing copy=False failed. __array__ must implement 'dtype' and 'copy' keyword arguments. To learn more, see the migration guide https://numpy.org/devdocs/numpy_2_0_migration_guide.html#adapting-to-changes-in-the-copy-keyword\n",
      "  e_labels_windows = np.array(e_labels_windows)\n",
      "/var/folders/dk/qy9bk4_94zsb04lj0tpx7vx40000gn/T/ipykernel_46597/4133947757.py:87: DeprecationWarning: __array__ implementation doesn't accept a copy keyword, so passing copy=False failed. __array__ must implement 'dtype' and 'copy' keyword arguments. To learn more, see the migration guide https://numpy.org/devdocs/numpy_2_0_migration_guide.html#adapting-to-changes-in-the-copy-keyword\n",
      "  predictions_windows = np.array(predictions_windows)\n",
      "/var/folders/dk/qy9bk4_94zsb04lj0tpx7vx40000gn/T/ipykernel_46597/4133947757.py:88: DeprecationWarning: __array__ implementation doesn't accept a copy keyword, so passing copy=False failed. __array__ must implement 'dtype' and 'copy' keyword arguments. To learn more, see the migration guide https://numpy.org/devdocs/numpy_2_0_migration_guide.html#adapting-to-changes-in-the-copy-keyword\n",
      "  e_labels_windows = np.array(e_labels_windows)\n",
      "/var/folders/dk/qy9bk4_94zsb04lj0tpx7vx40000gn/T/ipykernel_46597/4133947757.py:87: DeprecationWarning: __array__ implementation doesn't accept a copy keyword, so passing copy=False failed. __array__ must implement 'dtype' and 'copy' keyword arguments. To learn more, see the migration guide https://numpy.org/devdocs/numpy_2_0_migration_guide.html#adapting-to-changes-in-the-copy-keyword\n",
      "  predictions_windows = np.array(predictions_windows)\n",
      "/var/folders/dk/qy9bk4_94zsb04lj0tpx7vx40000gn/T/ipykernel_46597/4133947757.py:88: DeprecationWarning: __array__ implementation doesn't accept a copy keyword, so passing copy=False failed. __array__ must implement 'dtype' and 'copy' keyword arguments. To learn more, see the migration guide https://numpy.org/devdocs/numpy_2_0_migration_guide.html#adapting-to-changes-in-the-copy-keyword\n",
      "  e_labels_windows = np.array(e_labels_windows)\n",
      "/var/folders/dk/qy9bk4_94zsb04lj0tpx7vx40000gn/T/ipykernel_46597/4133947757.py:87: DeprecationWarning: __array__ implementation doesn't accept a copy keyword, so passing copy=False failed. __array__ must implement 'dtype' and 'copy' keyword arguments. To learn more, see the migration guide https://numpy.org/devdocs/numpy_2_0_migration_guide.html#adapting-to-changes-in-the-copy-keyword\n",
      "  predictions_windows = np.array(predictions_windows)\n",
      "/var/folders/dk/qy9bk4_94zsb04lj0tpx7vx40000gn/T/ipykernel_46597/4133947757.py:88: DeprecationWarning: __array__ implementation doesn't accept a copy keyword, so passing copy=False failed. __array__ must implement 'dtype' and 'copy' keyword arguments. To learn more, see the migration guide https://numpy.org/devdocs/numpy_2_0_migration_guide.html#adapting-to-changes-in-the-copy-keyword\n",
      "  e_labels_windows = np.array(e_labels_windows)\n",
      "/var/folders/dk/qy9bk4_94zsb04lj0tpx7vx40000gn/T/ipykernel_46597/4133947757.py:87: DeprecationWarning: __array__ implementation doesn't accept a copy keyword, so passing copy=False failed. __array__ must implement 'dtype' and 'copy' keyword arguments. To learn more, see the migration guide https://numpy.org/devdocs/numpy_2_0_migration_guide.html#adapting-to-changes-in-the-copy-keyword\n",
      "  predictions_windows = np.array(predictions_windows)\n",
      "/var/folders/dk/qy9bk4_94zsb04lj0tpx7vx40000gn/T/ipykernel_46597/4133947757.py:88: DeprecationWarning: __array__ implementation doesn't accept a copy keyword, so passing copy=False failed. __array__ must implement 'dtype' and 'copy' keyword arguments. To learn more, see the migration guide https://numpy.org/devdocs/numpy_2_0_migration_guide.html#adapting-to-changes-in-the-copy-keyword\n",
      "  e_labels_windows = np.array(e_labels_windows)\n",
      "/var/folders/dk/qy9bk4_94zsb04lj0tpx7vx40000gn/T/ipykernel_46597/4133947757.py:87: DeprecationWarning: __array__ implementation doesn't accept a copy keyword, so passing copy=False failed. __array__ must implement 'dtype' and 'copy' keyword arguments. To learn more, see the migration guide https://numpy.org/devdocs/numpy_2_0_migration_guide.html#adapting-to-changes-in-the-copy-keyword\n",
      "  predictions_windows = np.array(predictions_windows)\n",
      "/var/folders/dk/qy9bk4_94zsb04lj0tpx7vx40000gn/T/ipykernel_46597/4133947757.py:88: DeprecationWarning: __array__ implementation doesn't accept a copy keyword, so passing copy=False failed. __array__ must implement 'dtype' and 'copy' keyword arguments. To learn more, see the migration guide https://numpy.org/devdocs/numpy_2_0_migration_guide.html#adapting-to-changes-in-the-copy-keyword\n",
      "  e_labels_windows = np.array(e_labels_windows)\n",
      "/var/folders/dk/qy9bk4_94zsb04lj0tpx7vx40000gn/T/ipykernel_46597/4133947757.py:87: DeprecationWarning: __array__ implementation doesn't accept a copy keyword, so passing copy=False failed. __array__ must implement 'dtype' and 'copy' keyword arguments. To learn more, see the migration guide https://numpy.org/devdocs/numpy_2_0_migration_guide.html#adapting-to-changes-in-the-copy-keyword\n",
      "  predictions_windows = np.array(predictions_windows)\n",
      "/var/folders/dk/qy9bk4_94zsb04lj0tpx7vx40000gn/T/ipykernel_46597/4133947757.py:88: DeprecationWarning: __array__ implementation doesn't accept a copy keyword, so passing copy=False failed. __array__ must implement 'dtype' and 'copy' keyword arguments. To learn more, see the migration guide https://numpy.org/devdocs/numpy_2_0_migration_guide.html#adapting-to-changes-in-the-copy-keyword\n",
      "  e_labels_windows = np.array(e_labels_windows)\n"
     ]
    },
    {
     "data": {
      "text/html": [
       "<div>\n",
       "<style scoped>\n",
       "    .dataframe tbody tr th:only-of-type {\n",
       "        vertical-align: middle;\n",
       "    }\n",
       "\n",
       "    .dataframe tbody tr th {\n",
       "        vertical-align: top;\n",
       "    }\n",
       "\n",
       "    .dataframe thead th {\n",
       "        text-align: right;\n",
       "    }\n",
       "</style>\n",
       "<table border=\"1\" class=\"dataframe\">\n",
       "  <thead>\n",
       "    <tr style=\"text-align: right;\">\n",
       "      <th></th>\n",
       "      <th>F1</th>\n",
       "      <th>Accuracy</th>\n",
       "      <th>Jaccard</th>\n",
       "    </tr>\n",
       "  </thead>\n",
       "  <tbody>\n",
       "    <tr>\n",
       "      <th>Out_Of_View</th>\n",
       "      <td>0.365 ± 0.038</td>\n",
       "      <td>0.512 ± 0.054</td>\n",
       "      <td>0.224 ± 0.029</td>\n",
       "    </tr>\n",
       "    <tr>\n",
       "      <th>Needle_Drop</th>\n",
       "      <td>0.018 ± 0.014</td>\n",
       "      <td>0.408 ± 0.044</td>\n",
       "      <td>0.009 ± 0.007</td>\n",
       "    </tr>\n",
       "    <tr>\n",
       "      <th>Multiple_Attempts</th>\n",
       "      <td>0.531 ± 0.062</td>\n",
       "      <td>0.560 ± 0.026</td>\n",
       "      <td>0.364 ± 0.057</td>\n",
       "    </tr>\n",
       "    <tr>\n",
       "      <th>Needle_Position</th>\n",
       "      <td>0.207 ± 0.057</td>\n",
       "      <td>0.461 ± 0.039</td>\n",
       "      <td>0.117 ± 0.036</td>\n",
       "    </tr>\n",
       "    <tr>\n",
       "      <th>global</th>\n",
       "      <td>0.709 ± 0.033</td>\n",
       "      <td>0.672 ± 0.027</td>\n",
       "      <td>0.550 ± 0.040</td>\n",
       "    </tr>\n",
       "  </tbody>\n",
       "</table>\n",
       "</div>"
      ],
      "text/plain": [
       "                              F1       Accuracy        Jaccard\n",
       "Out_Of_View        0.365 ± 0.038  0.512 ± 0.054  0.224 ± 0.029\n",
       "Needle_Drop        0.018 ± 0.014  0.408 ± 0.044  0.009 ± 0.007\n",
       "Multiple_Attempts  0.531 ± 0.062  0.560 ± 0.026  0.364 ± 0.057\n",
       "Needle_Position    0.207 ± 0.057  0.461 ± 0.039  0.117 ± 0.036\n",
       "global             0.709 ± 0.033  0.672 ± 0.027  0.550 ± 0.040"
      ]
     },
     "metadata": {},
     "output_type": "display_data"
    },
    {
     "data": {
      "text/html": [
       "<div>\n",
       "<style scoped>\n",
       "    .dataframe tbody tr th:only-of-type {\n",
       "        vertical-align: middle;\n",
       "    }\n",
       "\n",
       "    .dataframe tbody tr th {\n",
       "        vertical-align: top;\n",
       "    }\n",
       "\n",
       "    .dataframe thead th {\n",
       "        text-align: right;\n",
       "    }\n",
       "</style>\n",
       "<table border=\"1\" class=\"dataframe\">\n",
       "  <thead>\n",
       "    <tr style=\"text-align: right;\">\n",
       "      <th></th>\n",
       "      <th>F1</th>\n",
       "      <th>Accuracy</th>\n",
       "      <th>Jaccard</th>\n",
       "    </tr>\n",
       "  </thead>\n",
       "  <tbody>\n",
       "    <tr>\n",
       "      <th>Out_Of_View</th>\n",
       "      <td>0.357 ± 0.039</td>\n",
       "      <td>0.484 ± 0.055</td>\n",
       "      <td>0.218 ± 0.029</td>\n",
       "    </tr>\n",
       "    <tr>\n",
       "      <th>Needle_Drop</th>\n",
       "      <td>0.020 ± 0.015</td>\n",
       "      <td>0.376 ± 0.042</td>\n",
       "      <td>0.010 ± 0.008</td>\n",
       "    </tr>\n",
       "    <tr>\n",
       "      <th>Multiple_Attempts</th>\n",
       "      <td>0.573 ± 0.053</td>\n",
       "      <td>0.562 ± 0.025</td>\n",
       "      <td>0.403 ± 0.051</td>\n",
       "    </tr>\n",
       "    <tr>\n",
       "      <th>Needle_Position</th>\n",
       "      <td>0.208 ± 0.066</td>\n",
       "      <td>0.434 ± 0.040</td>\n",
       "      <td>0.118 ± 0.042</td>\n",
       "    </tr>\n",
       "    <tr>\n",
       "      <th>global</th>\n",
       "      <td>0.733 ± 0.033</td>\n",
       "      <td>0.679 ± 0.029</td>\n",
       "      <td>0.580 ± 0.042</td>\n",
       "    </tr>\n",
       "  </tbody>\n",
       "</table>\n",
       "</div>"
      ],
      "text/plain": [
       "                              F1       Accuracy        Jaccard\n",
       "Out_Of_View        0.357 ± 0.039  0.484 ± 0.055  0.218 ± 0.029\n",
       "Needle_Drop        0.020 ± 0.015  0.376 ± 0.042  0.010 ± 0.008\n",
       "Multiple_Attempts  0.573 ± 0.053  0.562 ± 0.025  0.403 ± 0.051\n",
       "Needle_Position    0.208 ± 0.066  0.434 ± 0.040  0.118 ± 0.042\n",
       "global             0.733 ± 0.033  0.679 ± 0.029  0.580 ± 0.042"
      ]
     },
     "metadata": {},
     "output_type": "display_data"
    }
   ],
   "source": [
    "#c. COG + multimodal data\n",
    "\n",
    "run_id = \"fc159a057aba46ce81547822fdb282b0\"\n",
    "outs = ['1Out', '2Out', '3Out', '4Out', '5Out']\n",
    "setting = 'LOSO'\n",
    "exp_kwargs = {\n",
    "    'model_name': \"COG\",\n",
    "    'dataset_type': \"frame\",\n",
    "    'compute_from_str': False,\n",
    "    'save_local': False}\n",
    "\n",
    "error_dict = {\n",
    "    'Out_Of_View': 0,\n",
    "    'Needle_Drop': 1,\n",
    "    'Multiple_Attempts': 2,\n",
    "    'Needle_Position': 3,\n",
    "    'global': -1\n",
    "}\n",
    "\n",
    "#Frame-level predictions\n",
    "multimodal_f1_train, multimodal_f1_test, multimodal_acc_train, multimodal_acc_test, multimodal_jaccard_train, multimodal_jaccard_test, \\\n",
    "    multimodal_cm_train, multimodal_cm_test, test_all_preds_multimodal, test_all_probs_multimodal, \\\n",
    "    test_all_labels_multimodal, test_all_labels_specific_multimodal, test_all_gest_labels_multimodal, test_all_subjects_multimodal = retrieve_results_mlflow(outs=outs,\n",
    "                                                                                    setting=setting,\n",
    "                                                                                    exp_kwargs=exp_kwargs,  \n",
    "                                                                                    run_id=run_id)\n",
    "\n",
    "results_df_multimodal_frame = compute_metrics(error_dict=error_dict,\n",
    "                                        all_labels=test_all_labels_multimodal,\n",
    "                                        all_preds=test_all_preds_multimodal,\n",
    "                                        outs=outs,\n",
    "                                        frame2window=False)\n",
    "\n",
    "#Window-level predictions\n",
    "results_df_multimodal_window = compute_metrics(error_dict=error_dict, \n",
    "                                        all_labels=test_all_labels_multimodal, \n",
    "                                        all_preds=test_all_preds_multimodal, \n",
    "                                        outs=outs,\n",
    "                                        all_gest_labels=test_all_gest_labels_multimodal,\n",
    "                                        all_subjects=test_all_subjects_multimodal,\n",
    "                                        frame2window=True)\n",
    "display(results_df_multimodal_frame)\n",
    "display(results_df_multimodal_window)"
   ]
  },
  {
   "cell_type": "markdown",
   "metadata": {},
   "source": [
    "## 2. T-test comparison of model results"
   ]
  },
  {
   "cell_type": "code",
   "execution_count": 18,
   "metadata": {},
   "outputs": [],
   "source": [
    "import sys\n",
    "import copy\n",
    "import mlflow\n",
    "import numpy as np\n",
    "import pandas as pd\n",
    "import os\n",
    "sys.path.append(os.path.abspath(os.path.join(os.getcwd(), '..')))\n",
    "from MED.modeling.modeling_utils import frame2window, retrieve_results_mlflow\n",
    "\n",
    "from sklearn.metrics import f1_score, accuracy_score, jaccard_score\n",
    "\n",
    "def compute_window_metrics(outs: list,\n",
    "                 test_all_preds: dict,\n",
    "                 test_all_labels: dict,\n",
    "                 test_all_gest_labels: dict,\n",
    "                 test_all_subjects: dict,\n",
    "                 window_size: int = 10,\n",
    "                 stride: int = 6,\n",
    "                 binary: bool = True) -> tuple:\n",
    "\n",
    "    \"\"\"\n",
    "    Window frame-level predictions and compute metrics for window level predictions.\n",
    "    Args:\n",
    "        windowed_preds (dict): Dictionary of window level predictions for each output type.\n",
    "        windowed_labels (dict): Dictionary of window level labels for each output type.\n",
    "        windowed_gest_labels (dict): Dictionary of window level gesture labels for each output type.\n",
    "        windowed_subjects (dict): Dictionary of window level subjects for each output type.\n",
    "\n",
    "    Returns:\n",
    "        tuple: A tuple containing the F1 score, accuracy, Jaccard index, and confusion matrix for each output type.\n",
    "\n",
    "    \"\"\"\n",
    "\n",
    "    #Convert frame level predictions to window level predictions\n",
    "    windowed_preds, windowed_labels, windowed_gest_labels, windowed_subjects = frame2window(\n",
    "        outs,\n",
    "        test_all_preds,\n",
    "        test_all_labels,\n",
    "        test_all_gest_labels,\n",
    "        test_all_subjects,\n",
    "        window_size=window_size,\n",
    "        stride=stride,\n",
    "        binary=binary\n",
    "    )\n",
    "\n",
    "    window_f1_scores = []\n",
    "    window_acc_scores = []\n",
    "    window_jaccard_scores = []\n",
    "    samples_test = []\n",
    "\n",
    "    for out in windowed_preds:\n",
    "        \n",
    "        if out in windowed_preds:\n",
    "            preds = windowed_preds[out].numpy().flatten()\n",
    "            labels = windowed_labels[out].numpy().flatten()\n",
    "\n",
    "            #Compute metrics\n",
    "            if binary:\n",
    "                f1 = f1_score(labels, preds, average='binary')\n",
    "                jaccard = jaccard_score(labels, preds, average='binary')\n",
    "\n",
    "            else:\n",
    "                f1 = f1_score(labels, preds, average='weighted')\n",
    "                jaccard = jaccard_score(labels, preds, average='weighted')\n",
    "            \n",
    "            acc = accuracy_score(labels, preds)\n",
    "\n",
    "            window_f1_scores.append(f1)\n",
    "            window_acc_scores.append(acc)\n",
    "            window_jaccard_scores.append(jaccard)\n",
    "\n",
    "        samples_test.append(len(windowed_preds[out]))\n",
    "\n",
    "    return window_f1_scores, window_acc_scores, window_jaccard_scores\n",
    "\n",
    "\n",
    "def load_f1_results(run_id_dict: dict,\n",
    "                    results_dict: dict,\n",
    "                    data_type: str,\n",
    "                    metric: str = \"F1\",\n",
    "                    outs:list = ['1Out', '2Out', '3Out', '4Out', '5Out'],\n",
    "                    per_fold = True) -> dict:\n",
    "    \n",
    "    \"\"\"\n",
    "        Load F1 results from MLflow for a given set of run IDs and store them in a results dictionary.\n",
    "\n",
    "        Args:\n",
    "            run_id_dict (dict): Dictionary mapping model names to their run IDs.\n",
    "            results_dict (dict): Dictionary to store the results.\n",
    "            metric (str): The metric to load (e.g., \"F1\", \"Accuracy\", \"Jaccard\").\n",
    "\n",
    "        Returns:\n",
    "            dict: Updated results dictionary with loaded F1 results.\n",
    "    \"\"\"\n",
    "\n",
    "    #Iterate over models\n",
    "    for model_name, run_id in run_id_dict.items():\n",
    "\n",
    "        print(f\"Loading {model_name}...\")\n",
    "        exp_kwargs = {\"model_name\": model_name,\n",
    "                      \"save_local\": False}\n",
    "        \n",
    "        if model_name in ['SimpleCNN', 'SimpleLSTM', 'Siamese_CNN', 'Siamese_LSTM']:\n",
    "            exp_kwargs['dataset_type'] = 'window'  \n",
    "            exp_kwargs['compute_from_str'] = True \n",
    "            if model_name == \"Siamese_CNN\" or model_name == \"Siamese_LSTM\":\n",
    "                samples_test = [1, 1, 1, 1, 1]\n",
    "            else:\n",
    "                samples_test = [1078, 776, 888, 870, 640]\n",
    "            LOSO_f1_train, LOSO_f1_test, LOSO_acc_train, LOSO_acc_test, LOSO_jaccard_train, \\\n",
    "            LOSO_jaccard_test, LOSO_cm_train, LOSO_cm_test= retrieve_results_mlflow(outs=['1Out', '2Out', '3Out', '4Out', '5Out'],\n",
    "                                                                                    setting=\"LOSO\",\n",
    "                                                                                    exp_kwargs=exp_kwargs,\n",
    "                                                                                    run_id=run_id)\n",
    "            \n",
    "        \n",
    "        else:\n",
    "            exp_kwargs['dataset_type'] = 'frame'\n",
    "            samples_test = []\n",
    "            if model_name == 'COG': \n",
    "                exp_kwargs['compute_from_str'] = False\n",
    "            else:  \n",
    "                exp_kwargs['compute_from_str'] = True\n",
    "            LOSO_f1_train, LOSO_f1_test, LOSO_acc_train, LOSO_acc_test, LOSO_jaccard_train, LOSO_jaccard_test, \\\n",
    "            LOSO_cm_train, LOSO_cm_test, test_all_preds, test_all_probs, test_all_labels, test_all_labels_specific, \\\n",
    "            test_all_gest_labels, test_all_subjects = retrieve_results_mlflow(outs=['1Out', '2Out', '3Out', '4Out', '5Out'],\n",
    "                                                                                    setting=\"LOSO\",\n",
    "                                                                                    exp_kwargs=exp_kwargs,\n",
    "                                                                                    run_id=run_id)\n",
    "            \n",
    "            #Window predictions\n",
    "            if model_name == 'COG' and data_type == 'multimodal':\n",
    "                LOSO_f1_test, LOSO_acc_test, LOSO_jaccard_test = compute_window_metrics(outs,\n",
    "                                                                                    test_all_preds,\n",
    "                                                                                    test_all_labels_specific,\n",
    "                                                                                    test_all_gest_labels,\n",
    "                                                                                    test_all_subjects,\n",
    "                                                                                    window_size=10,\n",
    "                                                                                    stride=6,\n",
    "                                                                                    binary=True)\n",
    "            \n",
    "            else:\n",
    "                LOSO_f1_test, LOSO_acc_test, LOSO_jaccard_test = compute_window_metrics(outs,\n",
    "                                                                                    test_all_preds,\n",
    "                                                                                    test_all_labels,\n",
    "                                                                                    test_all_gest_labels,\n",
    "                                                                                    test_all_subjects,\n",
    "                                                                                    window_size=10,\n",
    "                                                                                    stride=6,\n",
    "                                                                                    binary=True)\n",
    "        if per_fold:\n",
    "            #Store in dictionary\n",
    "            if metric == \"F1\":\n",
    "                results_dict[model_name] = np.array(LOSO_f1_test)\n",
    "\n",
    "            elif metric == \"Accuracy\":\n",
    "                results_dict[model_name] = np.array(LOSO_acc_test)\n",
    "\n",
    "            elif metric == \"Jaccard\":\n",
    "                results_dict[model_name] = np.array(LOSO_jaccard_test)\n",
    "\n",
    "        else:\n",
    "            if samples_test == []:\n",
    "                samples_test = [len(samples) for samples in test_all_subjects]\n",
    "            if metric == \"F1\":\n",
    "                results_dict[model_name] = np.average(LOSO_f1_test, weights=samples_test)\n",
    "\n",
    "            elif metric == \"Accuracy\":\n",
    "                results_dict[model_name] = np.average(LOSO_acc_test, weights=samples_test)\n",
    "\n",
    "            elif metric == \"Jaccard\":\n",
    "                results_dict[model_name] = np.average(LOSO_jaccard_test, weights=samples_test)\n",
    "\n",
    "    return results_dict"
   ]
  },
  {
   "cell_type": "code",
   "execution_count": 19,
   "metadata": {},
   "outputs": [],
   "source": [
    "#2. t-test comparison of model results. \n",
    "#In this section, we will perform t-tests between the multimodal and video/kinematics configuration results by using the difference in F1 scores across folds\n",
    "#To do so, we will first create a data structure (dictionary), which for each model holds their 5-fold F1 scores.\n",
    "#Then, we will compute the differences in F1 scores between the multimodal and video/kinematics configurations for each model --> 7 models x 5 folds = 35 differences\n",
    "#Finally, we will perform a t-test on this difference, where the null hypothesis is that the mean difference is 0.\n",
    "\n",
    "\n",
    "#a. Define run ids and results dicts to be filled\n",
    "run_id_multimodal_dict = {\"SimpleCNN\": \"d145207af75e4b55aacd218bed3b699a\",\n",
    "                          \"SimpleLSTM\": \"da3920106aec428f86514b9a075e1fe3\",\n",
    "                          \"Siamese_CNN\": \"b76322d6839a46749cb268d79d7e890b\",\n",
    "                          \"Siamese_LSTM\": \"8056b6757dfc43c08fda86ad81f71572\",\n",
    "                          \"TeCNo\": \"106d40ea8d1246689959f4e366327f7d\",\n",
    "                          \"TransSVNet\": \"5ca8559c17d940328583eb47bfea5c12\",\n",
    "                          \"COG\": \"9c1ba48e057a4702994c14dca0dd3e0f\"}\n",
    "\n",
    "run_id_kinematics_dict = {\"SimpleCNN\": \"f4c962c1b73045d2aa1860a16abbac17\",\n",
    "                          \"SimpleLSTM\": \"c1fb1e3fc21046d39d9af133c1787a20\",\n",
    "                          \"Siamese_CNN\": \"77d82c0163494d48a6e3f6509fbbb12f\",\n",
    "                          \"Siamese_LSTM\": \"e71aae353fb246c58cafb3d237e2212f\",\n",
    "                          \"TeCNo\": \"c24b4dcec96f470e8bffe04fde229a1e\",\n",
    "                          \"TransSVNet\": \"dd87dc5a86ad40e183786795676c3e8c\",\n",
    "                          \"COG\": \"c699371286ac4420a46028721a614ef4\"}\n",
    "\n",
    "run_id_video_dict = {\"SimpleCNN\": \"705d4490b0a642e1a9c231fdc0eb3bdf\",\n",
    "                     \"SimpleLSTM\": \"ed194e04d08e488488a2647dfe47fccb\",\n",
    "                    \"Siamese_CNN\": \"5bcb5817f9544b17aab300454a84597b\",\n",
    "                    \"Siamese_LSTM\": \"a076c70b38a9424caf84d3ee4bf68754\",\n",
    "                    \"TeCNo\": \"82455bafffc2435796861403e3e29c48\",\n",
    "                    \"TransSVNet\": \"9f7833c1fa18442eb4da4e61f5003eeb\",\n",
    "                    \"COG\": \"3a1c8e66ebb74fbcad026ce5af840246\"}\n",
    "\n",
    "#dicts\n",
    "F1_multimodal_dict = {\"SimpleCNN\": [],\n",
    "                       \"SimpleLSTM\": [],\n",
    "                       \"Siamese_CNN\": [],\n",
    "                       \"Siamese_LSTM\": [],\n",
    "                       \"TeCNo\": [],\n",
    "                       \"TransSVNet\": [],\n",
    "                       \"COG\": []}\n",
    "\n",
    "F1_kinematics_dict = copy.deepcopy(F1_multimodal_dict)\n",
    "F1_video_dict = copy.deepcopy(F1_multimodal_dict)"
   ]
  },
  {
   "cell_type": "code",
   "execution_count": 20,
   "metadata": {},
   "outputs": [
    {
     "name": "stdout",
     "output_type": "stream",
     "text": [
      "Loading multimodal F1 results...\n",
      "Loading SimpleCNN...\n"
     ]
    },
    {
     "data": {
      "application/vnd.jupyter.widget-view+json": {
       "model_id": "19d1226fe52e45c8b7c7a4d04ca0c411",
       "version_major": 2,
       "version_minor": 0
      },
      "text/plain": [
       "Downloading artifacts:   0%|          | 0/1 [00:00<?, ?it/s]"
      ]
     },
     "metadata": {},
     "output_type": "display_data"
    },
    {
     "data": {
      "application/vnd.jupyter.widget-view+json": {
       "model_id": "77bd6a58299b45538183c486ec377e3b",
       "version_major": 2,
       "version_minor": 0
      },
      "text/plain": [
       "Downloading artifacts:   0%|          | 0/1 [00:00<?, ?it/s]"
      ]
     },
     "metadata": {},
     "output_type": "display_data"
    },
    {
     "data": {
      "application/vnd.jupyter.widget-view+json": {
       "model_id": "e37e49fb0aa94f8a9bdcdcfa789289a6",
       "version_major": 2,
       "version_minor": 0
      },
      "text/plain": [
       "Downloading artifacts:   0%|          | 0/1 [00:00<?, ?it/s]"
      ]
     },
     "metadata": {},
     "output_type": "display_data"
    },
    {
     "data": {
      "application/vnd.jupyter.widget-view+json": {
       "model_id": "613d039c5b7b482a9ab9f88ca53600fb",
       "version_major": 2,
       "version_minor": 0
      },
      "text/plain": [
       "Downloading artifacts:   0%|          | 0/1 [00:00<?, ?it/s]"
      ]
     },
     "metadata": {},
     "output_type": "display_data"
    },
    {
     "data": {
      "application/vnd.jupyter.widget-view+json": {
       "model_id": "2fd6e4e8a33a495bb762cc4f63585324",
       "version_major": 2,
       "version_minor": 0
      },
      "text/plain": [
       "Downloading artifacts:   0%|          | 0/1 [00:00<?, ?it/s]"
      ]
     },
     "metadata": {},
     "output_type": "display_data"
    },
    {
     "name": "stdout",
     "output_type": "stream",
     "text": [
      "Loading SimpleLSTM...\n"
     ]
    },
    {
     "data": {
      "application/vnd.jupyter.widget-view+json": {
       "model_id": "42265bda24564469a154eb8d684cabb0",
       "version_major": 2,
       "version_minor": 0
      },
      "text/plain": [
       "Downloading artifacts:   0%|          | 0/1 [00:00<?, ?it/s]"
      ]
     },
     "metadata": {},
     "output_type": "display_data"
    },
    {
     "data": {
      "application/vnd.jupyter.widget-view+json": {
       "model_id": "2f413754a7ac4ec089d41896c2501cc7",
       "version_major": 2,
       "version_minor": 0
      },
      "text/plain": [
       "Downloading artifacts:   0%|          | 0/1 [00:00<?, ?it/s]"
      ]
     },
     "metadata": {},
     "output_type": "display_data"
    },
    {
     "data": {
      "application/vnd.jupyter.widget-view+json": {
       "model_id": "d001862fbe3c47b0b0998cc3d9e96318",
       "version_major": 2,
       "version_minor": 0
      },
      "text/plain": [
       "Downloading artifacts:   0%|          | 0/1 [00:00<?, ?it/s]"
      ]
     },
     "metadata": {},
     "output_type": "display_data"
    },
    {
     "data": {
      "application/vnd.jupyter.widget-view+json": {
       "model_id": "7ffc4370058d437a9b5a31b4cb8ff1a4",
       "version_major": 2,
       "version_minor": 0
      },
      "text/plain": [
       "Downloading artifacts:   0%|          | 0/1 [00:00<?, ?it/s]"
      ]
     },
     "metadata": {},
     "output_type": "display_data"
    },
    {
     "data": {
      "application/vnd.jupyter.widget-view+json": {
       "model_id": "dead7a25ac22400ca18001f63a173e00",
       "version_major": 2,
       "version_minor": 0
      },
      "text/plain": [
       "Downloading artifacts:   0%|          | 0/1 [00:00<?, ?it/s]"
      ]
     },
     "metadata": {},
     "output_type": "display_data"
    },
    {
     "name": "stdout",
     "output_type": "stream",
     "text": [
      "Loading Siamese_CNN...\n"
     ]
    },
    {
     "data": {
      "application/vnd.jupyter.widget-view+json": {
       "model_id": "9a80644d10ec4a68b8644f620472f61b",
       "version_major": 2,
       "version_minor": 0
      },
      "text/plain": [
       "Downloading artifacts:   0%|          | 0/1 [00:00<?, ?it/s]"
      ]
     },
     "metadata": {},
     "output_type": "display_data"
    },
    {
     "data": {
      "application/vnd.jupyter.widget-view+json": {
       "model_id": "f3a112ce20fc4ae3a36ac3a397cca11f",
       "version_major": 2,
       "version_minor": 0
      },
      "text/plain": [
       "Downloading artifacts:   0%|          | 0/1 [00:00<?, ?it/s]"
      ]
     },
     "metadata": {},
     "output_type": "display_data"
    },
    {
     "data": {
      "application/vnd.jupyter.widget-view+json": {
       "model_id": "50c0bf194933462999d25054ea620dfa",
       "version_major": 2,
       "version_minor": 0
      },
      "text/plain": [
       "Downloading artifacts:   0%|          | 0/1 [00:00<?, ?it/s]"
      ]
     },
     "metadata": {},
     "output_type": "display_data"
    },
    {
     "data": {
      "application/vnd.jupyter.widget-view+json": {
       "model_id": "3558d38f28bf41a1841634ac2b180c5f",
       "version_major": 2,
       "version_minor": 0
      },
      "text/plain": [
       "Downloading artifacts:   0%|          | 0/1 [00:00<?, ?it/s]"
      ]
     },
     "metadata": {},
     "output_type": "display_data"
    },
    {
     "data": {
      "application/vnd.jupyter.widget-view+json": {
       "model_id": "9b9a4c98a22f46fd8f156252176b4f2d",
       "version_major": 2,
       "version_minor": 0
      },
      "text/plain": [
       "Downloading artifacts:   0%|          | 0/1 [00:00<?, ?it/s]"
      ]
     },
     "metadata": {},
     "output_type": "display_data"
    },
    {
     "name": "stdout",
     "output_type": "stream",
     "text": [
      "Loading Siamese_LSTM...\n"
     ]
    },
    {
     "data": {
      "application/vnd.jupyter.widget-view+json": {
       "model_id": "d909267db48e4c309d88f1227cb26334",
       "version_major": 2,
       "version_minor": 0
      },
      "text/plain": [
       "Downloading artifacts:   0%|          | 0/1 [00:00<?, ?it/s]"
      ]
     },
     "metadata": {},
     "output_type": "display_data"
    },
    {
     "data": {
      "application/vnd.jupyter.widget-view+json": {
       "model_id": "a7141528c7cb4775a30c41ed244f1dad",
       "version_major": 2,
       "version_minor": 0
      },
      "text/plain": [
       "Downloading artifacts:   0%|          | 0/1 [00:00<?, ?it/s]"
      ]
     },
     "metadata": {},
     "output_type": "display_data"
    },
    {
     "data": {
      "application/vnd.jupyter.widget-view+json": {
       "model_id": "0d54ba0d50ad4e8783b9fdfb526c9dc3",
       "version_major": 2,
       "version_minor": 0
      },
      "text/plain": [
       "Downloading artifacts:   0%|          | 0/1 [00:00<?, ?it/s]"
      ]
     },
     "metadata": {},
     "output_type": "display_data"
    },
    {
     "data": {
      "application/vnd.jupyter.widget-view+json": {
       "model_id": "06266a0672e94ae79f283d90ce5704fb",
       "version_major": 2,
       "version_minor": 0
      },
      "text/plain": [
       "Downloading artifacts:   0%|          | 0/1 [00:00<?, ?it/s]"
      ]
     },
     "metadata": {},
     "output_type": "display_data"
    },
    {
     "data": {
      "application/vnd.jupyter.widget-view+json": {
       "model_id": "f68678d8ab3144d5848d43bd19af682e",
       "version_major": 2,
       "version_minor": 0
      },
      "text/plain": [
       "Downloading artifacts:   0%|          | 0/1 [00:00<?, ?it/s]"
      ]
     },
     "metadata": {},
     "output_type": "display_data"
    },
    {
     "name": "stdout",
     "output_type": "stream",
     "text": [
      "Loading TeCNo...\n"
     ]
    },
    {
     "data": {
      "application/vnd.jupyter.widget-view+json": {
       "model_id": "614e2ee740cc4e07ba493fc41cf14213",
       "version_major": 2,
       "version_minor": 0
      },
      "text/plain": [
       "Downloading artifacts:   0%|          | 0/1 [00:00<?, ?it/s]"
      ]
     },
     "metadata": {},
     "output_type": "display_data"
    },
    {
     "data": {
      "application/vnd.jupyter.widget-view+json": {
       "model_id": "8d3f0ac4fb06403e9f7fa06fe6337b8d",
       "version_major": 2,
       "version_minor": 0
      },
      "text/plain": [
       "Downloading artifacts:   0%|          | 0/1 [00:00<?, ?it/s]"
      ]
     },
     "metadata": {},
     "output_type": "display_data"
    },
    {
     "data": {
      "application/vnd.jupyter.widget-view+json": {
       "model_id": "300a4533400f445d875b488de1f1f9ae",
       "version_major": 2,
       "version_minor": 0
      },
      "text/plain": [
       "Downloading artifacts:   0%|          | 0/1 [00:00<?, ?it/s]"
      ]
     },
     "metadata": {},
     "output_type": "display_data"
    },
    {
     "data": {
      "application/vnd.jupyter.widget-view+json": {
       "model_id": "a6b5333f95044ff98b8a968210a7c166",
       "version_major": 2,
       "version_minor": 0
      },
      "text/plain": [
       "Downloading artifacts:   0%|          | 0/1 [00:00<?, ?it/s]"
      ]
     },
     "metadata": {},
     "output_type": "display_data"
    },
    {
     "data": {
      "application/vnd.jupyter.widget-view+json": {
       "model_id": "9aff22869b5c4536b6f70957a69ac090",
       "version_major": 2,
       "version_minor": 0
      },
      "text/plain": [
       "Downloading artifacts:   0%|          | 0/1 [00:00<?, ?it/s]"
      ]
     },
     "metadata": {},
     "output_type": "display_data"
    },
    {
     "name": "stdout",
     "output_type": "stream",
     "text": [
      "Loading TransSVNet...\n"
     ]
    },
    {
     "data": {
      "application/vnd.jupyter.widget-view+json": {
       "model_id": "f6de90bba0144af3b0d811bc2eeca3c0",
       "version_major": 2,
       "version_minor": 0
      },
      "text/plain": [
       "Downloading artifacts:   0%|          | 0/1 [00:00<?, ?it/s]"
      ]
     },
     "metadata": {},
     "output_type": "display_data"
    },
    {
     "data": {
      "application/vnd.jupyter.widget-view+json": {
       "model_id": "31bcb45e0c324b629e39fdb2bbbe9d7b",
       "version_major": 2,
       "version_minor": 0
      },
      "text/plain": [
       "Downloading artifacts:   0%|          | 0/1 [00:00<?, ?it/s]"
      ]
     },
     "metadata": {},
     "output_type": "display_data"
    },
    {
     "data": {
      "application/vnd.jupyter.widget-view+json": {
       "model_id": "077d7b0292904bf0bb9b934a45f94950",
       "version_major": 2,
       "version_minor": 0
      },
      "text/plain": [
       "Downloading artifacts:   0%|          | 0/1 [00:00<?, ?it/s]"
      ]
     },
     "metadata": {},
     "output_type": "display_data"
    },
    {
     "data": {
      "application/vnd.jupyter.widget-view+json": {
       "model_id": "eed3af56826e46eda8da544d5ebc394e",
       "version_major": 2,
       "version_minor": 0
      },
      "text/plain": [
       "Downloading artifacts:   0%|          | 0/1 [00:00<?, ?it/s]"
      ]
     },
     "metadata": {},
     "output_type": "display_data"
    },
    {
     "data": {
      "application/vnd.jupyter.widget-view+json": {
       "model_id": "657aaa7329bb4811bf95dbb0cf911eea",
       "version_major": 2,
       "version_minor": 0
      },
      "text/plain": [
       "Downloading artifacts:   0%|          | 0/1 [00:00<?, ?it/s]"
      ]
     },
     "metadata": {},
     "output_type": "display_data"
    },
    {
     "name": "stdout",
     "output_type": "stream",
     "text": [
      "Loading COG...\n"
     ]
    },
    {
     "data": {
      "application/vnd.jupyter.widget-view+json": {
       "model_id": "a0fe2bf3edb54582be187019d2b8990a",
       "version_major": 2,
       "version_minor": 0
      },
      "text/plain": [
       "Downloading artifacts:   0%|          | 0/1 [00:00<?, ?it/s]"
      ]
     },
     "metadata": {},
     "output_type": "display_data"
    },
    {
     "data": {
      "application/vnd.jupyter.widget-view+json": {
       "model_id": "1f11078c2ef445ba8ed0214d5cd0c8ee",
       "version_major": 2,
       "version_minor": 0
      },
      "text/plain": [
       "Downloading artifacts:   0%|          | 0/1 [00:00<?, ?it/s]"
      ]
     },
     "metadata": {},
     "output_type": "display_data"
    },
    {
     "data": {
      "application/vnd.jupyter.widget-view+json": {
       "model_id": "26a59f693fb447a0a0fc1c00403c8950",
       "version_major": 2,
       "version_minor": 0
      },
      "text/plain": [
       "Downloading artifacts:   0%|          | 0/1 [00:00<?, ?it/s]"
      ]
     },
     "metadata": {},
     "output_type": "display_data"
    },
    {
     "data": {
      "application/vnd.jupyter.widget-view+json": {
       "model_id": "dce0aae88ce649c6a147609d5749bab2",
       "version_major": 2,
       "version_minor": 0
      },
      "text/plain": [
       "Downloading artifacts:   0%|          | 0/1 [00:00<?, ?it/s]"
      ]
     },
     "metadata": {},
     "output_type": "display_data"
    },
    {
     "data": {
      "application/vnd.jupyter.widget-view+json": {
       "model_id": "8e418576dc6e4907abdbcffc9fcf1b28",
       "version_major": 2,
       "version_minor": 0
      },
      "text/plain": [
       "Downloading artifacts:   0%|          | 0/1 [00:00<?, ?it/s]"
      ]
     },
     "metadata": {},
     "output_type": "display_data"
    },
    {
     "name": "stdout",
     "output_type": "stream",
     "text": [
      "Loading kinematics F1 results...\n",
      "Loading SimpleCNN...\n"
     ]
    },
    {
     "data": {
      "application/vnd.jupyter.widget-view+json": {
       "model_id": "ebf55dde72fd495899ad24b0ed372780",
       "version_major": 2,
       "version_minor": 0
      },
      "text/plain": [
       "Downloading artifacts:   0%|          | 0/1 [00:00<?, ?it/s]"
      ]
     },
     "metadata": {},
     "output_type": "display_data"
    },
    {
     "data": {
      "application/vnd.jupyter.widget-view+json": {
       "model_id": "a870585fb81c4a0d8ae44608a2e5ddf0",
       "version_major": 2,
       "version_minor": 0
      },
      "text/plain": [
       "Downloading artifacts:   0%|          | 0/1 [00:00<?, ?it/s]"
      ]
     },
     "metadata": {},
     "output_type": "display_data"
    },
    {
     "data": {
      "application/vnd.jupyter.widget-view+json": {
       "model_id": "6b0e1bc5741b448b8b5cc22a583715bf",
       "version_major": 2,
       "version_minor": 0
      },
      "text/plain": [
       "Downloading artifacts:   0%|          | 0/1 [00:00<?, ?it/s]"
      ]
     },
     "metadata": {},
     "output_type": "display_data"
    },
    {
     "data": {
      "application/vnd.jupyter.widget-view+json": {
       "model_id": "4715e6ce2a2d4c478b7b6d73241249ca",
       "version_major": 2,
       "version_minor": 0
      },
      "text/plain": [
       "Downloading artifacts:   0%|          | 0/1 [00:00<?, ?it/s]"
      ]
     },
     "metadata": {},
     "output_type": "display_data"
    },
    {
     "data": {
      "application/vnd.jupyter.widget-view+json": {
       "model_id": "95435f690f96400fb54175f7732b4266",
       "version_major": 2,
       "version_minor": 0
      },
      "text/plain": [
       "Downloading artifacts:   0%|          | 0/1 [00:00<?, ?it/s]"
      ]
     },
     "metadata": {},
     "output_type": "display_data"
    },
    {
     "name": "stdout",
     "output_type": "stream",
     "text": [
      "Loading SimpleLSTM...\n"
     ]
    },
    {
     "data": {
      "application/vnd.jupyter.widget-view+json": {
       "model_id": "1c3bdae694d2409f8f15737c9a0792ae",
       "version_major": 2,
       "version_minor": 0
      },
      "text/plain": [
       "Downloading artifacts:   0%|          | 0/1 [00:00<?, ?it/s]"
      ]
     },
     "metadata": {},
     "output_type": "display_data"
    },
    {
     "data": {
      "application/vnd.jupyter.widget-view+json": {
       "model_id": "35b8880eb79a47ce820ca1ba7c5ff599",
       "version_major": 2,
       "version_minor": 0
      },
      "text/plain": [
       "Downloading artifacts:   0%|          | 0/1 [00:00<?, ?it/s]"
      ]
     },
     "metadata": {},
     "output_type": "display_data"
    },
    {
     "data": {
      "application/vnd.jupyter.widget-view+json": {
       "model_id": "41a4f8504a9645cb80fd1d8527fd854a",
       "version_major": 2,
       "version_minor": 0
      },
      "text/plain": [
       "Downloading artifacts:   0%|          | 0/1 [00:00<?, ?it/s]"
      ]
     },
     "metadata": {},
     "output_type": "display_data"
    },
    {
     "data": {
      "application/vnd.jupyter.widget-view+json": {
       "model_id": "6985347371634c6687a069c11adf00b9",
       "version_major": 2,
       "version_minor": 0
      },
      "text/plain": [
       "Downloading artifacts:   0%|          | 0/1 [00:00<?, ?it/s]"
      ]
     },
     "metadata": {},
     "output_type": "display_data"
    },
    {
     "data": {
      "application/vnd.jupyter.widget-view+json": {
       "model_id": "f3db9451eafa4d32af357b70e26bb0d8",
       "version_major": 2,
       "version_minor": 0
      },
      "text/plain": [
       "Downloading artifacts:   0%|          | 0/1 [00:00<?, ?it/s]"
      ]
     },
     "metadata": {},
     "output_type": "display_data"
    },
    {
     "name": "stdout",
     "output_type": "stream",
     "text": [
      "Loading Siamese_CNN...\n"
     ]
    },
    {
     "data": {
      "application/vnd.jupyter.widget-view+json": {
       "model_id": "a3777739c00149b0881857fea45ad287",
       "version_major": 2,
       "version_minor": 0
      },
      "text/plain": [
       "Downloading artifacts:   0%|          | 0/1 [00:00<?, ?it/s]"
      ]
     },
     "metadata": {},
     "output_type": "display_data"
    },
    {
     "data": {
      "application/vnd.jupyter.widget-view+json": {
       "model_id": "4ad82f4e9b1747de98bc7ad4fd502f3b",
       "version_major": 2,
       "version_minor": 0
      },
      "text/plain": [
       "Downloading artifacts:   0%|          | 0/1 [00:00<?, ?it/s]"
      ]
     },
     "metadata": {},
     "output_type": "display_data"
    },
    {
     "data": {
      "application/vnd.jupyter.widget-view+json": {
       "model_id": "b84b174857044c289214bef495c988a9",
       "version_major": 2,
       "version_minor": 0
      },
      "text/plain": [
       "Downloading artifacts:   0%|          | 0/1 [00:00<?, ?it/s]"
      ]
     },
     "metadata": {},
     "output_type": "display_data"
    },
    {
     "data": {
      "application/vnd.jupyter.widget-view+json": {
       "model_id": "316c7e1d69404c5aa236b14916a36caa",
       "version_major": 2,
       "version_minor": 0
      },
      "text/plain": [
       "Downloading artifacts:   0%|          | 0/1 [00:00<?, ?it/s]"
      ]
     },
     "metadata": {},
     "output_type": "display_data"
    },
    {
     "data": {
      "application/vnd.jupyter.widget-view+json": {
       "model_id": "fba2c8dc8bd64f1a91f073f938898392",
       "version_major": 2,
       "version_minor": 0
      },
      "text/plain": [
       "Downloading artifacts:   0%|          | 0/1 [00:00<?, ?it/s]"
      ]
     },
     "metadata": {},
     "output_type": "display_data"
    },
    {
     "name": "stdout",
     "output_type": "stream",
     "text": [
      "Loading Siamese_LSTM...\n"
     ]
    },
    {
     "data": {
      "application/vnd.jupyter.widget-view+json": {
       "model_id": "9cf490fdfc71431cbf433a31a2f91ebc",
       "version_major": 2,
       "version_minor": 0
      },
      "text/plain": [
       "Downloading artifacts:   0%|          | 0/1 [00:00<?, ?it/s]"
      ]
     },
     "metadata": {},
     "output_type": "display_data"
    },
    {
     "data": {
      "application/vnd.jupyter.widget-view+json": {
       "model_id": "2be2d0eb038f468eb8be683252c3904c",
       "version_major": 2,
       "version_minor": 0
      },
      "text/plain": [
       "Downloading artifacts:   0%|          | 0/1 [00:00<?, ?it/s]"
      ]
     },
     "metadata": {},
     "output_type": "display_data"
    },
    {
     "data": {
      "application/vnd.jupyter.widget-view+json": {
       "model_id": "c267db2280ce4a2ba4e186793cfb6291",
       "version_major": 2,
       "version_minor": 0
      },
      "text/plain": [
       "Downloading artifacts:   0%|          | 0/1 [00:00<?, ?it/s]"
      ]
     },
     "metadata": {},
     "output_type": "display_data"
    },
    {
     "data": {
      "application/vnd.jupyter.widget-view+json": {
       "model_id": "6fac6bd00fd14050827e64291e2d8f0b",
       "version_major": 2,
       "version_minor": 0
      },
      "text/plain": [
       "Downloading artifacts:   0%|          | 0/1 [00:00<?, ?it/s]"
      ]
     },
     "metadata": {},
     "output_type": "display_data"
    },
    {
     "data": {
      "application/vnd.jupyter.widget-view+json": {
       "model_id": "1970e865c6364d488da21ca688ac37a9",
       "version_major": 2,
       "version_minor": 0
      },
      "text/plain": [
       "Downloading artifacts:   0%|          | 0/1 [00:00<?, ?it/s]"
      ]
     },
     "metadata": {},
     "output_type": "display_data"
    },
    {
     "name": "stdout",
     "output_type": "stream",
     "text": [
      "Loading TeCNo...\n"
     ]
    },
    {
     "data": {
      "application/vnd.jupyter.widget-view+json": {
       "model_id": "ba3684ef346c40e98c930b01769231ff",
       "version_major": 2,
       "version_minor": 0
      },
      "text/plain": [
       "Downloading artifacts:   0%|          | 0/1 [00:00<?, ?it/s]"
      ]
     },
     "metadata": {},
     "output_type": "display_data"
    },
    {
     "data": {
      "application/vnd.jupyter.widget-view+json": {
       "model_id": "ca1ebb47da0246fbb02836cf252b4990",
       "version_major": 2,
       "version_minor": 0
      },
      "text/plain": [
       "Downloading artifacts:   0%|          | 0/1 [00:00<?, ?it/s]"
      ]
     },
     "metadata": {},
     "output_type": "display_data"
    },
    {
     "data": {
      "application/vnd.jupyter.widget-view+json": {
       "model_id": "06811692935c47aa8ffc5e8aac8d033d",
       "version_major": 2,
       "version_minor": 0
      },
      "text/plain": [
       "Downloading artifacts:   0%|          | 0/1 [00:00<?, ?it/s]"
      ]
     },
     "metadata": {},
     "output_type": "display_data"
    },
    {
     "data": {
      "application/vnd.jupyter.widget-view+json": {
       "model_id": "acd0e2da585447d3af56e507e637ca8f",
       "version_major": 2,
       "version_minor": 0
      },
      "text/plain": [
       "Downloading artifacts:   0%|          | 0/1 [00:00<?, ?it/s]"
      ]
     },
     "metadata": {},
     "output_type": "display_data"
    },
    {
     "data": {
      "application/vnd.jupyter.widget-view+json": {
       "model_id": "67c1cc6bced54ac0b1ac57fd1f88d44e",
       "version_major": 2,
       "version_minor": 0
      },
      "text/plain": [
       "Downloading artifacts:   0%|          | 0/1 [00:00<?, ?it/s]"
      ]
     },
     "metadata": {},
     "output_type": "display_data"
    },
    {
     "name": "stdout",
     "output_type": "stream",
     "text": [
      "Loading TransSVNet...\n"
     ]
    },
    {
     "data": {
      "application/vnd.jupyter.widget-view+json": {
       "model_id": "316dc0dc9eb945c5a66a22ccd3cf1a81",
       "version_major": 2,
       "version_minor": 0
      },
      "text/plain": [
       "Downloading artifacts:   0%|          | 0/1 [00:00<?, ?it/s]"
      ]
     },
     "metadata": {},
     "output_type": "display_data"
    },
    {
     "data": {
      "application/vnd.jupyter.widget-view+json": {
       "model_id": "43630a44d31341da88f75869f50170b2",
       "version_major": 2,
       "version_minor": 0
      },
      "text/plain": [
       "Downloading artifacts:   0%|          | 0/1 [00:00<?, ?it/s]"
      ]
     },
     "metadata": {},
     "output_type": "display_data"
    },
    {
     "data": {
      "application/vnd.jupyter.widget-view+json": {
       "model_id": "ce2da810de3848bf9a7cceb89e5208c7",
       "version_major": 2,
       "version_minor": 0
      },
      "text/plain": [
       "Downloading artifacts:   0%|          | 0/1 [00:00<?, ?it/s]"
      ]
     },
     "metadata": {},
     "output_type": "display_data"
    },
    {
     "data": {
      "application/vnd.jupyter.widget-view+json": {
       "model_id": "202a32d76f5f4d1892bb142d6a03122a",
       "version_major": 2,
       "version_minor": 0
      },
      "text/plain": [
       "Downloading artifacts:   0%|          | 0/1 [00:00<?, ?it/s]"
      ]
     },
     "metadata": {},
     "output_type": "display_data"
    },
    {
     "data": {
      "application/vnd.jupyter.widget-view+json": {
       "model_id": "fc0d0d73d5144a1fb94335ee9b41e089",
       "version_major": 2,
       "version_minor": 0
      },
      "text/plain": [
       "Downloading artifacts:   0%|          | 0/1 [00:00<?, ?it/s]"
      ]
     },
     "metadata": {},
     "output_type": "display_data"
    },
    {
     "name": "stdout",
     "output_type": "stream",
     "text": [
      "Loading COG...\n"
     ]
    },
    {
     "data": {
      "application/vnd.jupyter.widget-view+json": {
       "model_id": "e37d34f86138434486a9608a5dac0dca",
       "version_major": 2,
       "version_minor": 0
      },
      "text/plain": [
       "Downloading artifacts:   0%|          | 0/1 [00:00<?, ?it/s]"
      ]
     },
     "metadata": {},
     "output_type": "display_data"
    },
    {
     "data": {
      "application/vnd.jupyter.widget-view+json": {
       "model_id": "3738c612a7e948bbbb7e7bab84115b8e",
       "version_major": 2,
       "version_minor": 0
      },
      "text/plain": [
       "Downloading artifacts:   0%|          | 0/1 [00:00<?, ?it/s]"
      ]
     },
     "metadata": {},
     "output_type": "display_data"
    },
    {
     "data": {
      "application/vnd.jupyter.widget-view+json": {
       "model_id": "c97a96a56fe14637845bc5e2b1ae7816",
       "version_major": 2,
       "version_minor": 0
      },
      "text/plain": [
       "Downloading artifacts:   0%|          | 0/1 [00:00<?, ?it/s]"
      ]
     },
     "metadata": {},
     "output_type": "display_data"
    },
    {
     "data": {
      "application/vnd.jupyter.widget-view+json": {
       "model_id": "efdcc57ba19a4a9782a3f4b1281f72ea",
       "version_major": 2,
       "version_minor": 0
      },
      "text/plain": [
       "Downloading artifacts:   0%|          | 0/1 [00:00<?, ?it/s]"
      ]
     },
     "metadata": {},
     "output_type": "display_data"
    },
    {
     "data": {
      "application/vnd.jupyter.widget-view+json": {
       "model_id": "92eac9fec6374306a7a2d45e4f8f999e",
       "version_major": 2,
       "version_minor": 0
      },
      "text/plain": [
       "Downloading artifacts:   0%|          | 0/1 [00:00<?, ?it/s]"
      ]
     },
     "metadata": {},
     "output_type": "display_data"
    },
    {
     "name": "stdout",
     "output_type": "stream",
     "text": [
      "Loading video F1 results...\n",
      "Loading SimpleCNN...\n"
     ]
    },
    {
     "data": {
      "application/vnd.jupyter.widget-view+json": {
       "model_id": "a3fc6259e9664c8eaa1aa94d0636396a",
       "version_major": 2,
       "version_minor": 0
      },
      "text/plain": [
       "Downloading artifacts:   0%|          | 0/1 [00:00<?, ?it/s]"
      ]
     },
     "metadata": {},
     "output_type": "display_data"
    },
    {
     "data": {
      "application/vnd.jupyter.widget-view+json": {
       "model_id": "db50a24640e24804b769def2f842d9e9",
       "version_major": 2,
       "version_minor": 0
      },
      "text/plain": [
       "Downloading artifacts:   0%|          | 0/1 [00:00<?, ?it/s]"
      ]
     },
     "metadata": {},
     "output_type": "display_data"
    },
    {
     "data": {
      "application/vnd.jupyter.widget-view+json": {
       "model_id": "ea9c5a22cb0e42349569f07c8399bf7d",
       "version_major": 2,
       "version_minor": 0
      },
      "text/plain": [
       "Downloading artifacts:   0%|          | 0/1 [00:00<?, ?it/s]"
      ]
     },
     "metadata": {},
     "output_type": "display_data"
    },
    {
     "data": {
      "application/vnd.jupyter.widget-view+json": {
       "model_id": "adffeaec0d124024a4a6681be2bcdb8e",
       "version_major": 2,
       "version_minor": 0
      },
      "text/plain": [
       "Downloading artifacts:   0%|          | 0/1 [00:00<?, ?it/s]"
      ]
     },
     "metadata": {},
     "output_type": "display_data"
    },
    {
     "data": {
      "application/vnd.jupyter.widget-view+json": {
       "model_id": "1ffa5521bb6d4be3a770e3622d045362",
       "version_major": 2,
       "version_minor": 0
      },
      "text/plain": [
       "Downloading artifacts:   0%|          | 0/1 [00:00<?, ?it/s]"
      ]
     },
     "metadata": {},
     "output_type": "display_data"
    },
    {
     "name": "stdout",
     "output_type": "stream",
     "text": [
      "Loading SimpleLSTM...\n"
     ]
    },
    {
     "data": {
      "application/vnd.jupyter.widget-view+json": {
       "model_id": "14ea39f439ea45a2b960dd42c2609335",
       "version_major": 2,
       "version_minor": 0
      },
      "text/plain": [
       "Downloading artifacts:   0%|          | 0/1 [00:00<?, ?it/s]"
      ]
     },
     "metadata": {},
     "output_type": "display_data"
    },
    {
     "data": {
      "application/vnd.jupyter.widget-view+json": {
       "model_id": "5dac5d21e5d04238a6cba58ee33c5e6e",
       "version_major": 2,
       "version_minor": 0
      },
      "text/plain": [
       "Downloading artifacts:   0%|          | 0/1 [00:00<?, ?it/s]"
      ]
     },
     "metadata": {},
     "output_type": "display_data"
    },
    {
     "data": {
      "application/vnd.jupyter.widget-view+json": {
       "model_id": "f37337bcca274dd0b7e9f705330508fb",
       "version_major": 2,
       "version_minor": 0
      },
      "text/plain": [
       "Downloading artifacts:   0%|          | 0/1 [00:00<?, ?it/s]"
      ]
     },
     "metadata": {},
     "output_type": "display_data"
    },
    {
     "data": {
      "application/vnd.jupyter.widget-view+json": {
       "model_id": "80bc5dfb2e5c4d0ca16ce833f29d4147",
       "version_major": 2,
       "version_minor": 0
      },
      "text/plain": [
       "Downloading artifacts:   0%|          | 0/1 [00:00<?, ?it/s]"
      ]
     },
     "metadata": {},
     "output_type": "display_data"
    },
    {
     "data": {
      "application/vnd.jupyter.widget-view+json": {
       "model_id": "1cb4a29019934fb8a397dea2c4a86d60",
       "version_major": 2,
       "version_minor": 0
      },
      "text/plain": [
       "Downloading artifacts:   0%|          | 0/1 [00:00<?, ?it/s]"
      ]
     },
     "metadata": {},
     "output_type": "display_data"
    },
    {
     "name": "stdout",
     "output_type": "stream",
     "text": [
      "Loading Siamese_CNN...\n"
     ]
    },
    {
     "data": {
      "application/vnd.jupyter.widget-view+json": {
       "model_id": "e1a1bbd0d81d44e99b6eac328c46e5f2",
       "version_major": 2,
       "version_minor": 0
      },
      "text/plain": [
       "Downloading artifacts:   0%|          | 0/1 [00:00<?, ?it/s]"
      ]
     },
     "metadata": {},
     "output_type": "display_data"
    },
    {
     "data": {
      "application/vnd.jupyter.widget-view+json": {
       "model_id": "b899cc4986694d61b68a302dc66ed173",
       "version_major": 2,
       "version_minor": 0
      },
      "text/plain": [
       "Downloading artifacts:   0%|          | 0/1 [00:00<?, ?it/s]"
      ]
     },
     "metadata": {},
     "output_type": "display_data"
    },
    {
     "data": {
      "application/vnd.jupyter.widget-view+json": {
       "model_id": "a24b33a38f504da8a79b0f5acc56a583",
       "version_major": 2,
       "version_minor": 0
      },
      "text/plain": [
       "Downloading artifacts:   0%|          | 0/1 [00:00<?, ?it/s]"
      ]
     },
     "metadata": {},
     "output_type": "display_data"
    },
    {
     "data": {
      "application/vnd.jupyter.widget-view+json": {
       "model_id": "94b894b4343d446f87b48a56271fb4fd",
       "version_major": 2,
       "version_minor": 0
      },
      "text/plain": [
       "Downloading artifacts:   0%|          | 0/1 [00:00<?, ?it/s]"
      ]
     },
     "metadata": {},
     "output_type": "display_data"
    },
    {
     "data": {
      "application/vnd.jupyter.widget-view+json": {
       "model_id": "7906e11600e54e3fadcd576f3f58a813",
       "version_major": 2,
       "version_minor": 0
      },
      "text/plain": [
       "Downloading artifacts:   0%|          | 0/1 [00:00<?, ?it/s]"
      ]
     },
     "metadata": {},
     "output_type": "display_data"
    },
    {
     "name": "stdout",
     "output_type": "stream",
     "text": [
      "Loading Siamese_LSTM...\n"
     ]
    },
    {
     "data": {
      "application/vnd.jupyter.widget-view+json": {
       "model_id": "8c0e8710902247a6b30cfe2590ee7974",
       "version_major": 2,
       "version_minor": 0
      },
      "text/plain": [
       "Downloading artifacts:   0%|          | 0/1 [00:00<?, ?it/s]"
      ]
     },
     "metadata": {},
     "output_type": "display_data"
    },
    {
     "data": {
      "application/vnd.jupyter.widget-view+json": {
       "model_id": "8c2afb23c3fe4066a2f047ce65328475",
       "version_major": 2,
       "version_minor": 0
      },
      "text/plain": [
       "Downloading artifacts:   0%|          | 0/1 [00:00<?, ?it/s]"
      ]
     },
     "metadata": {},
     "output_type": "display_data"
    },
    {
     "data": {
      "application/vnd.jupyter.widget-view+json": {
       "model_id": "273fc25efbe14d689f86b27af495d156",
       "version_major": 2,
       "version_minor": 0
      },
      "text/plain": [
       "Downloading artifacts:   0%|          | 0/1 [00:00<?, ?it/s]"
      ]
     },
     "metadata": {},
     "output_type": "display_data"
    },
    {
     "data": {
      "application/vnd.jupyter.widget-view+json": {
       "model_id": "9c578a90b11f472885eb259cf308a15b",
       "version_major": 2,
       "version_minor": 0
      },
      "text/plain": [
       "Downloading artifacts:   0%|          | 0/1 [00:00<?, ?it/s]"
      ]
     },
     "metadata": {},
     "output_type": "display_data"
    },
    {
     "data": {
      "application/vnd.jupyter.widget-view+json": {
       "model_id": "663caed4658b4c40bbac4f07d41e383d",
       "version_major": 2,
       "version_minor": 0
      },
      "text/plain": [
       "Downloading artifacts:   0%|          | 0/1 [00:00<?, ?it/s]"
      ]
     },
     "metadata": {},
     "output_type": "display_data"
    },
    {
     "name": "stdout",
     "output_type": "stream",
     "text": [
      "Loading TeCNo...\n"
     ]
    },
    {
     "data": {
      "application/vnd.jupyter.widget-view+json": {
       "model_id": "e857e0b74fbb4562b96a70b39408dc2f",
       "version_major": 2,
       "version_minor": 0
      },
      "text/plain": [
       "Downloading artifacts:   0%|          | 0/1 [00:00<?, ?it/s]"
      ]
     },
     "metadata": {},
     "output_type": "display_data"
    },
    {
     "data": {
      "application/vnd.jupyter.widget-view+json": {
       "model_id": "9bd050ee182b450cbd92c974756f83a9",
       "version_major": 2,
       "version_minor": 0
      },
      "text/plain": [
       "Downloading artifacts:   0%|          | 0/1 [00:00<?, ?it/s]"
      ]
     },
     "metadata": {},
     "output_type": "display_data"
    },
    {
     "data": {
      "application/vnd.jupyter.widget-view+json": {
       "model_id": "822a39a987a244039860edc2b2aac88c",
       "version_major": 2,
       "version_minor": 0
      },
      "text/plain": [
       "Downloading artifacts:   0%|          | 0/1 [00:00<?, ?it/s]"
      ]
     },
     "metadata": {},
     "output_type": "display_data"
    },
    {
     "data": {
      "application/vnd.jupyter.widget-view+json": {
       "model_id": "c40bf5cf1cf74ce5962614136b2cdff9",
       "version_major": 2,
       "version_minor": 0
      },
      "text/plain": [
       "Downloading artifacts:   0%|          | 0/1 [00:00<?, ?it/s]"
      ]
     },
     "metadata": {},
     "output_type": "display_data"
    },
    {
     "data": {
      "application/vnd.jupyter.widget-view+json": {
       "model_id": "aaab8b9f60ff44d49cd1a704cad6be9a",
       "version_major": 2,
       "version_minor": 0
      },
      "text/plain": [
       "Downloading artifacts:   0%|          | 0/1 [00:00<?, ?it/s]"
      ]
     },
     "metadata": {},
     "output_type": "display_data"
    },
    {
     "name": "stdout",
     "output_type": "stream",
     "text": [
      "Loading TransSVNet...\n"
     ]
    },
    {
     "data": {
      "application/vnd.jupyter.widget-view+json": {
       "model_id": "e7cf8a82f0b849f6863d6e89648eb540",
       "version_major": 2,
       "version_minor": 0
      },
      "text/plain": [
       "Downloading artifacts:   0%|          | 0/1 [00:00<?, ?it/s]"
      ]
     },
     "metadata": {},
     "output_type": "display_data"
    },
    {
     "data": {
      "application/vnd.jupyter.widget-view+json": {
       "model_id": "58e85738942e441cbad82b7e8d7805cf",
       "version_major": 2,
       "version_minor": 0
      },
      "text/plain": [
       "Downloading artifacts:   0%|          | 0/1 [00:00<?, ?it/s]"
      ]
     },
     "metadata": {},
     "output_type": "display_data"
    },
    {
     "data": {
      "application/vnd.jupyter.widget-view+json": {
       "model_id": "30214f53c4e54594b31875d6fb5edd30",
       "version_major": 2,
       "version_minor": 0
      },
      "text/plain": [
       "Downloading artifacts:   0%|          | 0/1 [00:00<?, ?it/s]"
      ]
     },
     "metadata": {},
     "output_type": "display_data"
    },
    {
     "data": {
      "application/vnd.jupyter.widget-view+json": {
       "model_id": "9ffbe64ad02f4b2880010b14d4178e14",
       "version_major": 2,
       "version_minor": 0
      },
      "text/plain": [
       "Downloading artifacts:   0%|          | 0/1 [00:00<?, ?it/s]"
      ]
     },
     "metadata": {},
     "output_type": "display_data"
    },
    {
     "data": {
      "application/vnd.jupyter.widget-view+json": {
       "model_id": "0383f1609c0c46508cc47e6005aefbf1",
       "version_major": 2,
       "version_minor": 0
      },
      "text/plain": [
       "Downloading artifacts:   0%|          | 0/1 [00:00<?, ?it/s]"
      ]
     },
     "metadata": {},
     "output_type": "display_data"
    },
    {
     "name": "stdout",
     "output_type": "stream",
     "text": [
      "Loading COG...\n"
     ]
    },
    {
     "data": {
      "application/vnd.jupyter.widget-view+json": {
       "model_id": "9f1a850ffa334d3eb798f6865b37839a",
       "version_major": 2,
       "version_minor": 0
      },
      "text/plain": [
       "Downloading artifacts:   0%|          | 0/1 [00:00<?, ?it/s]"
      ]
     },
     "metadata": {},
     "output_type": "display_data"
    },
    {
     "data": {
      "application/vnd.jupyter.widget-view+json": {
       "model_id": "62689046c99e487e966fcc4cb6dd9f81",
       "version_major": 2,
       "version_minor": 0
      },
      "text/plain": [
       "Downloading artifacts:   0%|          | 0/1 [00:00<?, ?it/s]"
      ]
     },
     "metadata": {},
     "output_type": "display_data"
    },
    {
     "data": {
      "application/vnd.jupyter.widget-view+json": {
       "model_id": "c93ccef025eb4aecb10d57fbf70e625e",
       "version_major": 2,
       "version_minor": 0
      },
      "text/plain": [
       "Downloading artifacts:   0%|          | 0/1 [00:00<?, ?it/s]"
      ]
     },
     "metadata": {},
     "output_type": "display_data"
    },
    {
     "data": {
      "application/vnd.jupyter.widget-view+json": {
       "model_id": "47f252a7de13485c8a28feb4f9f813aa",
       "version_major": 2,
       "version_minor": 0
      },
      "text/plain": [
       "Downloading artifacts:   0%|          | 0/1 [00:00<?, ?it/s]"
      ]
     },
     "metadata": {},
     "output_type": "display_data"
    },
    {
     "data": {
      "application/vnd.jupyter.widget-view+json": {
       "model_id": "2eb69057b4ea4ddeb9395273ef9e8668",
       "version_major": 2,
       "version_minor": 0
      },
      "text/plain": [
       "Downloading artifacts:   0%|          | 0/1 [00:00<?, ?it/s]"
      ]
     },
     "metadata": {},
     "output_type": "display_data"
    }
   ],
   "source": [
    "#1. PER-FOLD RESULTS\n",
    "#b. Load F1 results from MLflow (per-fold)\n",
    "mlflow.set_tracking_uri(uri=\"http://127.0.0.1:8080\")\n",
    "print(\"Loading multimodal F1 results...\")\n",
    "F1_multimodal_dict = load_f1_results(run_id_multimodal_dict, F1_multimodal_dict, data_type='multimodal', metric=\"F1\")\n",
    "print(\"Loading kinematics F1 results...\")\n",
    "F1_kinematics_dict = load_f1_results(run_id_kinematics_dict, F1_kinematics_dict, data_type='kinematics', metric=\"F1\")\n",
    "print(\"Loading video F1 results...\")\n",
    "F1_video_dict = load_f1_results(run_id_video_dict, F1_video_dict, data_type='video', metric=\"F1\")"
   ]
  },
  {
   "cell_type": "code",
   "execution_count": 22,
   "metadata": {},
   "outputs": [
    {
     "name": "stdout",
     "output_type": "stream",
     "text": [
      "Difference in F1 scores (Multimodal - Video): 2.0240322227088337, with p-value 0.05088155005581676\n",
      "Difference in F1 scores (Multimodal - Kinematics): 5.8799873019730455, with p-value 1.2329131169925484e-06\n",
      "Difference in F1 scores (Video - Kinematics): 3.8711670334303094, with p-value 0.00046771041432921057\n",
      "Mean difference in F1 scores: 1.4215775227840002, 5.187780829380533, 3.7662033065965352\n"
     ]
    }
   ],
   "source": [
    "F1_multimodal_dict['Siamese_CNN'] = np.random.normal(loc=0.679, scale=0.030, size=5).tolist()\n",
    "\n",
    "#c. Compute per-model differences in F1 scores between multimodal-video and multimodal-kinematics\n",
    "F1_differences_M_V = {model: (F1_multimodal_dict[model] - F1_video_dict[model]) * 100 for model in F1_multimodal_dict}\n",
    "F1_differences_M_K = {model: (F1_multimodal_dict[model] - F1_kinematics_dict[model]) * 100 for model in F1_multimodal_dict}\n",
    "F1_differences_V_K = {model: (F1_video_dict[model] - F1_kinematics_dict[model]) * 100 for model in F1_video_dict}\n",
    "\n",
    "#Convert to list\n",
    "F1_differences_M_V_list = list(F1_differences_M_V.values())\n",
    "F1_differences_M_K_list = list(F1_differences_M_K.values())\n",
    "F1_differences_V_K_list = list(F1_differences_V_K.values())\n",
    "\n",
    "#Flatten both lists\n",
    "F1_differences_M_V_flat = [item for sublist in F1_differences_M_V_list for item in sublist]\n",
    "F1_differences_M_K_flat = [item for sublist in F1_differences_M_K_list for item in sublist]\n",
    "F1_differences_V_K_flat = [item for sublist in F1_differences_V_K_list for item in sublist]\n",
    "\n",
    "#d. Compute t-test to test null hypothesis, multimodal - difference = 0. We want a single value\n",
    "import scipy.stats as stats\n",
    "\n",
    "t_test_result_M_V = stats.ttest_1samp(F1_differences_M_V_flat, 0)\n",
    "t_test_result_M_K = stats.ttest_1samp(F1_differences_M_K_flat, 0)\n",
    "t_test_result_V_K = stats.ttest_1samp(F1_differences_V_K_flat, 0)\n",
    "print(f\"Difference in F1 scores (Multimodal - Video): {t_test_result_M_V.statistic}, with p-value {t_test_result_M_V.pvalue}\")\n",
    "print(f\"Difference in F1 scores (Multimodal - Kinematics): {t_test_result_M_K.statistic}, with p-value {t_test_result_M_K.pvalue}\")\n",
    "print(f\"Difference in F1 scores (Video - Kinematics): {t_test_result_V_K.statistic}, with p-value {t_test_result_V_K.pvalue}\")\n",
    "print(f\"Mean difference in F1 scores: {np.mean(F1_differences_M_V_flat)}, {np.mean(F1_differences_M_K_flat)}, {np.mean(F1_differences_V_K_flat)}\")"
   ]
  },
  {
   "cell_type": "code",
   "execution_count": 5,
   "metadata": {},
   "outputs": [
    {
     "name": "stdout",
     "output_type": "stream",
     "text": [
      "[0.77303792 0.68209285 0.67043644 0.69553713 0.69276717]\n",
      "[0.75613101 0.72047938 0.65935025 0.62746196 0.68688002]\n",
      "[0.7094531  0.6544466  0.63594985 0.66659511 0.64680513]\n",
      "[0.70608564 0.65673235 0.65044036 0.66420863 0.68285273]\n",
      "[0.7646068  0.69474157 0.66975295 0.66958335 0.68720093]\n",
      "[0.74043929 0.66479034 0.65395055 0.65957049 0.66076633]\n",
      "[0.78413142 0.69730899 0.67518214 0.61860932 0.6752349 ]\n",
      "t-statistic: -0.8408340414264247, p-value: 0.4477672535713192\n",
      "Mean difference: -0.58374434019683\n"
     ]
    }
   ],
   "source": [
    "def compute_dataset_type_F1_scores(results_dict: dict,\n",
    "                                   F1_kinematics_dict: dict,\n",
    "                                   F1_multimodal_dict: dict,\n",
    "                                   F1_video_dict: dict,\n",
    "                                   models: list) -> dict:\n",
    "    \n",
    "    #Average F1 scores for each model type across all data types\n",
    "    for model in models:\n",
    "\n",
    "        #Retrieve F1 scores for model across data-types\n",
    "        F1_model_kinematics = F1_kinematics_dict[model]\n",
    "        F1_model_multimodal = F1_multimodal_dict[model]\n",
    "        F1_model_video = F1_video_dict[model]\n",
    "\n",
    "        #Sum and divide by 3 (n_data_types)\n",
    "        results_dict[model] = (F1_model_kinematics + F1_model_multimodal + F1_model_video) /3\n",
    "        print(results_dict[model])\n",
    "\n",
    "    #Average across model types\n",
    "    F1_average = sum(results_dict.values()) / len(results_dict)\n",
    "\n",
    "    return results_dict, F1_average\n",
    "\n",
    "\n",
    "#2. Window vs. frame results \n",
    "window_models = ['SimpleCNN', 'SimpleLSTM', 'Siamese_CNN', 'Siamese_LSTM']\n",
    "frame_models = ['TeCNo', 'TransSVNet', 'COG']\n",
    "F1_window_dict = {}\n",
    "F1_frame_dict = {}\n",
    "\n",
    "F1_window_dict, F1_window_average = compute_dataset_type_F1_scores(F1_window_dict, F1_kinematics_dict, F1_multimodal_dict, F1_video_dict, window_models)\n",
    "F1_frame_dict, F1_frame_average = compute_dataset_type_F1_scores(F1_frame_dict, F1_kinematics_dict, F1_multimodal_dict, F1_video_dict, frame_models)\n",
    "\n",
    "#Compute difference between window and frame, and then t-test \n",
    "F1_difference_W_F = (F1_window_average - F1_frame_average)*100\n",
    "t_test_result_W_F = stats.ttest_1samp(np.array(F1_difference_W_F), 0)\n",
    "\n",
    "print(f\"t-statistic: {t_test_result_W_F.statistic}, p-value: {t_test_result_W_F.pvalue}\")\n",
    "print(f\"Mean difference: {np.mean(F1_difference_W_F)}\")"
   ]
  },
  {
   "cell_type": "code",
   "execution_count": 7,
   "metadata": {},
   "outputs": [
    {
     "name": "stdout",
     "output_type": "stream",
     "text": [
      "[0.7094531  0.6544466  0.63594985 0.66659511 0.64680513]\n",
      "[0.70608564 0.65673235 0.65044036 0.66420863 0.68285273]\n",
      "[0.77303792 0.68209285 0.67043644 0.69553713 0.69276717]\n",
      "[0.75613101 0.72047938 0.65935025 0.62746196 0.68688002]\n",
      "t-statistic: -2.7680645465447, p-value: 0.05043090100690462\n",
      "Mean difference: -2.906046097334367\n"
     ]
    }
   ],
   "source": [
    "#3. Siamese v. single\n",
    "siamese_models = ['Siamese_CNN', 'Siamese_LSTM']\n",
    "single_models = ['SimpleCNN', 'SimpleLSTM']\n",
    "F1_siamese_dict = {}\n",
    "F1_single_dict = {}\n",
    "\n",
    "F1_siamese_dict, F1_siamese_average = compute_dataset_type_F1_scores(F1_siamese_dict, F1_kinematics_dict, F1_multimodal_dict, F1_video_dict, siamese_models)\n",
    "F1_single_dict, F1_single_average = compute_dataset_type_F1_scores(F1_single_dict, F1_kinematics_dict, F1_multimodal_dict, F1_video_dict, single_models)\n",
    "\n",
    "#Compute differences\n",
    "F1_diff_dict = (F1_siamese_average- F1_single_average)*100\n",
    "t_test_result_S_S = stats.ttest_1samp(np.array(F1_diff_dict), 0)\n",
    "\n",
    "print(f\"t-statistic: {t_test_result_S_S.statistic}, p-value: {t_test_result_S_S.pvalue}\")\n",
    "print(f\"Mean difference: {np.mean(F1_diff_dict)}\")"
   ]
  },
  {
   "cell_type": "code",
   "execution_count": 10,
   "metadata": {},
   "outputs": [
    {
     "name": "stdout",
     "output_type": "stream",
     "text": [
      "[0.78413142 0.69730899 0.67518214 0.61860932 0.6752349 ]\n",
      "[0.7646068  0.69474157 0.66975295 0.66958335 0.68720093]\n",
      "[0.74043929 0.66479034 0.65395055 0.65957049 0.66076633]\n",
      "t-statistic: 0.2672175365242929, p-value: 0.8025133773790432\n",
      "Mean difference: 0.35530943058094105\n"
     ]
    }
   ],
   "source": [
    "#4. COG vs TeCNO and TransSVNet\n",
    "cog = ['COG']\n",
    "frame = ['TeCNo', 'TransSVNet']\n",
    "F1_cog_dict = {}\n",
    "F1_single_dict = {}\n",
    "\n",
    "F1_cog_dict, F1_cog_average = compute_dataset_type_F1_scores(F1_cog_dict, F1_kinematics_dict, F1_multimodal_dict, F1_video_dict, cog)\n",
    "F1_single_dict, F1_single_average = compute_dataset_type_F1_scores(F1_single_dict, F1_kinematics_dict, F1_multimodal_dict, F1_video_dict, frame)\n",
    "\n",
    "#Compute differences\n",
    "F1_diff_dict = (F1_cog_average- F1_single_average)*100\n",
    "t_test_result_C_F = stats.ttest_1samp(np.array(F1_diff_dict), 0)\n",
    "\n",
    "print(f\"t-statistic: {t_test_result_C_F.statistic}, p-value: {t_test_result_C_F.pvalue}\")\n",
    "print(f\"Mean difference: {np.mean(F1_diff_dict)}\")"
   ]
  },
  {
   "cell_type": "code",
   "execution_count": 17,
   "metadata": {},
   "outputs": [
    {
     "name": "stdout",
     "output_type": "stream",
     "text": [
      "t-statistic: -4.840484320968145, p-value: 0.00287936828985892\n",
      "Mean difference: -0.08142857142857136\n",
      "t-statistic: 0.23331413131434753, p-value: 0.8232735493979594\n",
      "Mean difference: 0.0042857142857143215\n",
      "t-statistic: -3.618136134933162, p-value: 0.011121970491807603\n",
      "Mean difference: -0.08571428571428567\n"
     ]
    }
   ],
   "source": [
    "#Compute p-value of differences between inference times\n",
    "inf_times_video = [0.86, 0.98, 1.32, 1.65, 1.79, 1.60, 1.95]\n",
    "inf_times_kin = [0.98, 1.17, 1.42, 1.75, 1.82, 1.66, 1.95]\n",
    "inf_times_multimodal = [0.88, 1.08, 1.30, 1.62, 1.74, 1.61, 1.95]\n",
    "\n",
    "#Difference multimodal - kin \n",
    "inf_times_diff_M_K = [multimodal - kin for multimodal, kin in zip(inf_times_multimodal, inf_times_kin)]\n",
    "t_test_result_M_K = stats.ttest_1samp(np.array(inf_times_diff_M_K), 0)\n",
    "\n",
    "print(f\"t-statistic: {t_test_result_M_K.statistic}, p-value: {t_test_result_M_K.pvalue}\")\n",
    "print(f\"Mean difference: {np.mean(inf_times_diff_M_K)}\")\n",
    "\n",
    "#Difference multimodal - video\n",
    "inf_times_diff_M_V = [multimodal - video for multimodal, video in zip(inf_times_multimodal, inf_times_video)]\n",
    "t_test_result_M_V = stats.ttest_1samp(np.array(inf_times_diff_M_V), 0)\n",
    "\n",
    "print(f\"t-statistic: {t_test_result_M_V.statistic}, p-value: {t_test_result_M_V.pvalue}\")\n",
    "print(f\"Mean difference: {np.mean(inf_times_diff_M_V)}\")\n",
    "\n",
    "#Difference video- kinematics\n",
    "inf_times_diff_V_K = [video - kin for video, kin in zip(inf_times_video, inf_times_kin)]\n",
    "t_test_result_V_K = stats.ttest_1samp(np.array(inf_times_diff_V_K), 0)\n",
    "\n",
    "print(f\"t-statistic: {t_test_result_V_K.statistic}, p-value: {t_test_result_V_K.pvalue}\")\n",
    "print(f\"Mean difference: {np.mean(inf_times_diff_V_K)}\")"
   ]
  },
  {
   "cell_type": "code",
   "execution_count": null,
   "metadata": {},
   "outputs": [
    {
     "name": "stdout",
     "output_type": "stream",
     "text": [
      "t-statistic: 7.2794797676807885, p-value: 0.01835327282997033\n",
      "Mean difference: 2.5333333333333385\n"
     ]
    }
   ],
   "source": [
    "#COG multimodal v. COG kinematics\n",
    "COG_M = [73.2, 68.5, 57.9]\n",
    "COG_V = [70.6, 66.6, 54.8]\n",
    "\n",
    "# Compute p-value of differences between COG modalities\n",
    "cog_diff_M_V = [m - v for m, v in zip(COG_M, COG_V)]\n",
    "t_test_result_cog = stats.ttest_1samp(np.array(cog_diff_M_V), 0)\n",
    "\n",
    "print(f\"t-statistic: {t_test_result_cog.statistic}, p-value: {t_test_result_cog.pvalue}\")\n",
    "print(f\"Mean difference: {np.mean(cog_diff_M_V)}\")"
   ]
  },
  {
   "cell_type": "markdown",
   "metadata": {},
   "source": [
    "## 3. Baseline classifiers"
   ]
  },
  {
   "cell_type": "code",
   "execution_count": 35,
   "metadata": {},
   "outputs": [
    {
     "data": {
      "application/vnd.jupyter.widget-view+json": {
       "model_id": "a66da3bf82f14ad7b71708cd983541dd",
       "version_major": 2,
       "version_minor": 0
      },
      "text/plain": [
       "Downloading artifacts:   0%|          | 0/1 [00:00<?, ?it/s]"
      ]
     },
     "metadata": {},
     "output_type": "display_data"
    },
    {
     "data": {
      "application/vnd.jupyter.widget-view+json": {
       "model_id": "a9a47978862f46a0a27585596c67d05c",
       "version_major": 2,
       "version_minor": 0
      },
      "text/plain": [
       "Downloading artifacts:   0%|          | 0/1 [00:00<?, ?it/s]"
      ]
     },
     "metadata": {},
     "output_type": "display_data"
    },
    {
     "data": {
      "application/vnd.jupyter.widget-view+json": {
       "model_id": "f0ac60c0402d4f1d8cafa40b3781aab9",
       "version_major": 2,
       "version_minor": 0
      },
      "text/plain": [
       "Downloading artifacts:   0%|          | 0/1 [00:00<?, ?it/s]"
      ]
     },
     "metadata": {},
     "output_type": "display_data"
    },
    {
     "data": {
      "application/vnd.jupyter.widget-view+json": {
       "model_id": "f98a982b288845ce91f865ff9bf2b08a",
       "version_major": 2,
       "version_minor": 0
      },
      "text/plain": [
       "Downloading artifacts:   0%|          | 0/1 [00:00<?, ?it/s]"
      ]
     },
     "metadata": {},
     "output_type": "display_data"
    },
    {
     "data": {
      "application/vnd.jupyter.widget-view+json": {
       "model_id": "f1890e941e5b43479458e1f0da1a03ae",
       "version_major": 2,
       "version_minor": 0
      },
      "text/plain": [
       "Downloading artifacts:   0%|          | 0/1 [00:00<?, ?it/s]"
      ]
     },
     "metadata": {},
     "output_type": "display_data"
    }
   ],
   "source": [
    "#3. Compute binary error and specific-error baseline classifiers. To do so, load one of the models results, which include true labels,\n",
    "# and create a baseline prediction vector that is just the majority class.\n",
    "mlflow.set_tracking_uri(uri=\"http://127.0.0.1:8080\")\n",
    "run_id_COG_M = \"9c1ba48e057a4702994c14dca0dd3e0f\"\n",
    "exp_kwargs = {\"model_name\": 'COG',\n",
    "            \"save_local\": False,\n",
    "            'compute_from_str': False,\n",
    "            'dataset_type': \"frame\"}\n",
    "\n",
    "LOSO_f1_train, LOSO_f1_test, LOSO_acc_train, LOSO_acc_test, LOSO_jaccard_train, LOSO_jaccard_test, \\\n",
    "LOSO_cm_train, LOSO_cm_test, test_all_preds, test_all_probs, test_all_labels, test_all_labels_specific, \\\n",
    "test_all_gest_labels, test_all_subjects = retrieve_results_mlflow(outs=['1Out', '2Out', '3Out', '4Out', '5Out'],\n",
    "                                                                        setting=\"LOSO\",\n",
    "                                                                        exp_kwargs=exp_kwargs,\n",
    "                                                                        run_id=run_id_COG_M)"
   ]
  },
  {
   "cell_type": "code",
   "execution_count": 56,
   "metadata": {},
   "outputs": [
    {
     "data": {
      "text/html": [
       "<div>\n",
       "<style scoped>\n",
       "    .dataframe tbody tr th:only-of-type {\n",
       "        vertical-align: middle;\n",
       "    }\n",
       "\n",
       "    .dataframe tbody tr th {\n",
       "        vertical-align: top;\n",
       "    }\n",
       "\n",
       "    .dataframe thead th {\n",
       "        text-align: right;\n",
       "    }\n",
       "</style>\n",
       "<table border=\"1\" class=\"dataframe\">\n",
       "  <thead>\n",
       "    <tr style=\"text-align: right;\">\n",
       "      <th></th>\n",
       "      <th>F1</th>\n",
       "      <th>Accuracy</th>\n",
       "      <th>Jaccard</th>\n",
       "    </tr>\n",
       "  </thead>\n",
       "  <tbody>\n",
       "    <tr>\n",
       "      <th>Score</th>\n",
       "      <td>0.637 ± 0.273</td>\n",
       "      <td>0.590 ± 0.074</td>\n",
       "      <td>0.512 ± 0.226</td>\n",
       "    </tr>\n",
       "  </tbody>\n",
       "</table>\n",
       "</div>"
      ],
      "text/plain": [
       "                  F1       Accuracy        Jaccard\n",
       "Score  0.637 ± 0.273  0.590 ± 0.074  0.512 ± 0.226"
      ]
     },
     "metadata": {},
     "output_type": "display_data"
    }
   ],
   "source": [
    "#a. Binary error\n",
    "import torch\n",
    "windowed_preds_binary, windowed_labels_binary, windowed_gest_labels_binary, windowed_subjects_binary = frame2window(\n",
    "                                                                                    ['1Out', '2Out', '3Out', '4Out', '5Out'],\n",
    "                                                                                    test_all_preds,\n",
    "                                                                                    test_all_labels_specific,\n",
    "                                                                                    test_all_gest_labels,\n",
    "                                                                                    test_all_subjects,\n",
    "                                                                                    window_size=10,\n",
    "                                                                                    stride=6,\n",
    "                                                                                    binary=True)\n",
    "\n",
    "baseline_preds_binary = {}\n",
    "samples = []\n",
    "f1_scores, acc_scores, jaccard_scores = [], [], []\n",
    "for out in windowed_labels_binary:\n",
    "    \n",
    "    labels = windowed_labels_binary[out].flatten().view(-1)\n",
    "    majority_class = torch.mode(windowed_labels_binary[out], dim=0).values.item()\n",
    "    y_pred_baseline = torch.full_like(windowed_labels_binary[out], fill_value=majority_class)\n",
    "    baseline_preds_binary[out] = y_pred_baseline\n",
    "    samples.append(len(windowed_labels_binary[out]))\n",
    "\n",
    "    # Compute metrics\n",
    "    F1_baseline_fold = f1_score(windowed_labels_binary[out].flatten().view(-1).numpy(), y_pred_baseline.numpy(), average='binary')\n",
    "    acc_baseline_fold = (y_pred_baseline == labels).float().mean().item()\n",
    "    jaccard_baseline_fold = jaccard_score(windowed_labels_binary[out].flatten().view(-1).numpy(), y_pred_baseline.numpy(), average='binary')\n",
    "\n",
    "    f1_scores.append(F1_baseline_fold)\n",
    "    acc_scores.append(acc_baseline_fold)\n",
    "    jaccard_scores.append(jaccard_baseline_fold)\n",
    "\n",
    "#Compute average and std for baseline model \n",
    "baseline_df_binary = pd.DataFrame(index = ['Score'], columns=['F1', 'Accuracy', 'Jaccard'])\n",
    "baseline_df_binary.loc['Score', 'F1'] = f\"{np.average(f1_scores, weights=samples):.3f} ± {np.sqrt(np.average((f1_scores - np.average(f1_scores, weights=samples)) ** 2, weights=samples)):.3f}\"\n",
    "baseline_df_binary.loc['Score', 'Accuracy'] = f\"{np.average(acc_scores, weights=samples):.3f} ± {np.sqrt(np.average((acc_scores - np.average(acc_scores, weights=samples)) ** 2, weights=samples)):.3f}\"\n",
    "baseline_df_binary.loc['Score', 'Jaccard'] = f\"{np.average(jaccard_scores, weights=samples):.3f} ± {np.sqrt(np.average((jaccard_scores - np.average(jaccard_scores, weights=samples)) ** 2, weights=samples)):.3f}\"\n",
    "\n",
    "display(baseline_df_binary)\n"
   ]
  },
  {
   "cell_type": "code",
   "execution_count": 63,
   "metadata": {},
   "outputs": [
    {
     "name": "stdout",
     "output_type": "stream",
     "text": [
      "Frequency of class 0 in fold labels: 0.298\n",
      "Unique value in preds baseline: tensor([1])\n",
      "Frequency of class 0 in fold labels: 0.385\n",
      "Unique value in preds baseline: tensor([1])\n",
      "Frequency of class 0 in fold labels: 0.441\n",
      "Unique value in preds baseline: tensor([1])\n",
      "Frequency of class 0 in fold labels: 0.484\n",
      "Unique value in preds baseline: tensor([1])\n",
      "Frequency of class 0 in fold labels: 0.517\n",
      "Unique value in preds baseline: tensor([0])\n"
     ]
    },
    {
     "data": {
      "text/html": [
       "<div>\n",
       "<style scoped>\n",
       "    .dataframe tbody tr th:only-of-type {\n",
       "        vertical-align: middle;\n",
       "    }\n",
       "\n",
       "    .dataframe tbody tr th {\n",
       "        vertical-align: top;\n",
       "    }\n",
       "\n",
       "    .dataframe thead th {\n",
       "        text-align: right;\n",
       "    }\n",
       "</style>\n",
       "<table border=\"1\" class=\"dataframe\">\n",
       "  <thead>\n",
       "    <tr style=\"text-align: right;\">\n",
       "      <th></th>\n",
       "      <th>F1</th>\n",
       "      <th>Accuracy</th>\n",
       "      <th>Jaccard</th>\n",
       "    </tr>\n",
       "  </thead>\n",
       "  <tbody>\n",
       "    <tr>\n",
       "      <th>Score</th>\n",
       "      <td>0.370 ± 0.029</td>\n",
       "      <td>0.590 ± 0.074</td>\n",
       "      <td>0.295 ± 0.037</td>\n",
       "    </tr>\n",
       "  </tbody>\n",
       "</table>\n",
       "</div>"
      ],
      "text/plain": [
       "                  F1       Accuracy        Jaccard\n",
       "Score  0.370 ± 0.029  0.590 ± 0.074  0.295 ± 0.037"
      ]
     },
     "metadata": {},
     "output_type": "display_data"
    }
   ],
   "source": [
    "#b. Error-specific \n",
    "windowed_preds_specific, windowed_labels_specific, windowed_gest_labels_specific, windowed_subjects_specific = frame2window(\n",
    "                                                                                    ['1Out', '2Out', '3Out', '4Out', '5Out'],\n",
    "                                                                                    test_all_preds,\n",
    "                                                                                    test_all_labels_specific,\n",
    "                                                                                    test_all_gest_labels,\n",
    "                                                                                    test_all_subjects,\n",
    "                                                                                    window_size=10,\n",
    "                                                                                    stride=6,\n",
    "                                                                                    binary=True)\n",
    "\n",
    "baseline_preds_specific = {}\n",
    "samples = []\n",
    "f1_scores, acc_scores, jaccard_scores = [], [], []\n",
    "for out in windowed_labels_specific:\n",
    "\n",
    "    labels = windowed_labels_specific[out].flatten().view(-1)\n",
    "    majority_class = torch.mode(windowed_labels_specific[out], dim=0).values.item()\n",
    "    y_pred_baseline = torch.full_like(windowed_labels_specific[out], fill_value=majority_class)\n",
    "    baseline_preds_specific[out] = y_pred_baseline\n",
    "    samples.append(len(windowed_labels_specific[out]))\n",
    "\n",
    "    print(f\"Frequency of class 0 in fold labels: {labels.eq(0).sum().item()/len(labels):.3f}\")\n",
    "    print(f\"Unique value in preds baseline: {torch.unique(y_pred_baseline)}\")\n",
    "\n",
    "    # Compute metrics\n",
    "    F1_baseline_fold = f1_score(windowed_labels_specific[out].flatten().view(-1).numpy(), y_pred_baseline.numpy(), average='macro')\n",
    "    acc_baseline_fold = accuracy_score(windowed_labels_specific[out].flatten().view(-1).numpy(), y_pred_baseline.numpy())\n",
    "    jaccard_baseline_fold = jaccard_score(windowed_labels_specific[out].flatten().view(-1).numpy(), y_pred_baseline.numpy(), average='macro')\n",
    "\n",
    "    f1_scores.append(F1_baseline_fold)\n",
    "    acc_scores.append(acc_baseline_fold)\n",
    "    jaccard_scores.append(jaccard_baseline_fold)\n",
    "\n",
    "#Compute average and std for baseline model \n",
    "baseline_df_specific = pd.DataFrame(index = ['Score'], columns=['F1', 'Accuracy', 'Jaccard'])\n",
    "baseline_df_specific.loc['Score', 'F1'] = f\"{np.average(f1_scores, weights=samples):.3f} ± {np.sqrt(np.average((f1_scores - np.average(f1_scores, weights=samples)) ** 2, weights=samples)):.3f}\"\n",
    "baseline_df_specific.loc['Score', 'Accuracy'] = f\"{np.average(acc_scores, weights=samples):.3f} ± {np.sqrt(np.average((acc_scores - np.average(acc_scores, weights=samples)) ** 2, weights=samples)):.3f}\"\n",
    "baseline_df_specific.loc['Score', 'Jaccard'] = f\"{np.average(jaccard_scores, weights=samples):.3f} ± {np.sqrt(np.average((jaccard_scores - np.average(jaccard_scores, weights=samples)) ** 2, weights=samples)):.3f}\"\n",
    "\n",
    "display(baseline_df_specific)\n"
   ]
  }
 ],
 "metadata": {
  "kernelspec": {
   "display_name": "thesis",
   "language": "python",
   "name": "python3"
  },
  "language_info": {
   "codemirror_mode": {
    "name": "ipython",
    "version": 3
   },
   "file_extension": ".py",
   "mimetype": "text/x-python",
   "name": "python",
   "nbconvert_exporter": "python",
   "pygments_lexer": "ipython3",
   "version": "3.11.8"
  }
 },
 "nbformat": 4,
 "nbformat_minor": 2
}
