{
 "cells": [
  {
   "cell_type": "markdown",
   "metadata": {},
   "source": [
    "# ResNet50 Fine-Tuning\n",
    "\n",
    "LOSO CV to obtain a ResNet50 fine-tuned feature extractor to generate the final dataset."
   ]
  },
  {
   "cell_type": "code",
   "execution_count": 1,
   "metadata": {},
   "outputs": [],
   "source": [
    "import os \n",
    "import pickle\n",
    "import tqdm\n",
    "\n",
    "import numpy as np\n",
    "import pandas as pd\n",
    "import torch\n",
    "from torch.utils.data import Dataset, DataLoader, TensorDataset\n",
    "import matplotlib.pyplot as plt\n",
    "from sklearn.metrics import classification_report, auc, roc_curve, roc_auc_score, confusion_matrix, ConfusionMatrixDisplay, accuracy_score, jaccard_score, f1_score\n",
    "\n",
    "from torch import nn\n",
    "from torch.nn import functional as F\n",
    "\n",
    "#Import ResNet50\n",
    "from torchvision import models, transforms\n",
    "\n",
    "import matplotlib\n",
    "matplotlib.rcParams['text.usetex'] = True\n",
    "matplotlib.rcParams['figure.dpi'] = 125 #high resolution"
   ]
  },
  {
   "cell_type": "code",
   "execution_count": 2,
   "metadata": {},
   "outputs": [],
   "source": [
    "torch.mps.empty_cache()"
   ]
  },
  {
   "cell_type": "code",
   "execution_count": 3,
   "metadata": {},
   "outputs": [],
   "source": [
    "def compute_n_frames(root_data_path, csv_file):\n",
    "    \"\"\"\n",
    "    Compute the number of frames based on the .pkl files in the specified directory.\n",
    "    Args:\n",
    "        root_dir (str): Path to the directory containing .pkl files.\n",
    "    Returns:\n",
    "        int: Number of frames.\n",
    "    \"\"\"\n",
    "    n_frames = 0\n",
    "    for file in csv_file['files']:\n",
    "        pkl_path = os.path.join(root_data_path, file)\n",
    "        if os.path.exists(pkl_path):\n",
    "            with open(pkl_path, 'rb') as f:\n",
    "                data = pickle.load(f)\n",
    "                n_frames += data['image_feats'].shape[0]\n",
    "        else:\n",
    "            print(f\"Warning: {pkl_path} does not exist.\")\n",
    "\n",
    "    return n_frames\n",
    "\n",
    "def load_data(root_data_path, fold_data_path, csv_filename):\n",
    "\n",
    "    \"\"\"\n",
    "    Load data from the specified directory and return tensors for image features, \n",
    "    kinematics features, gesture labels, error labels, task labels, trial labels, and subject labels.\n",
    "\n",
    "    Parameters:\n",
    "    root_dir (str): The directory containing the data files.\n",
    "\n",
    "    Returns:\n",
    "    tuple: A tuple containing tensors/dfs for image features, kinematics features, \n",
    "           gesture labels, error labels, task labels, trial labels, and subject labels.\n",
    "    \"\"\"\n",
    "\n",
    "    csv_file = pd.read_csv(os.path.join(fold_data_path, csv_filename), header=None, names=['files'])\n",
    "    n_frames = compute_n_frames(root_data_path, csv_file)\n",
    "\n",
    "    image_data = torch.empty((n_frames, 3, 224, 224))\n",
    "    e_labels_data = torch.empty((n_frames, 5))\n",
    "\n",
    "    frame_index = 0\n",
    "    for pkl_file in csv_file['files']:\n",
    "        \n",
    "        if pkl_file.endswith('.pkl'):\n",
    "            \n",
    "            pkl_path = os.path.join(root_data_path, pkl_file)\n",
    "            with open(pkl_path, 'rb') as file:\n",
    "                data = pickle.load(file)\n",
    "\n",
    "            n_frames_in_trial = data['image_feats'].shape[0]\n",
    "\n",
    "            #i. Image features\n",
    "            image_data[frame_index : frame_index + n_frames_in_trial] = data['image_feats'].reshape(n_frames_in_trial, 3, 224, 224).clone().detach()\n",
    "            e_labels_data[frame_index : frame_index + n_frames_in_trial] = data['e_labels'].reshape(n_frames_in_trial, 5).clone().detach()\n",
    "            frame_index += n_frames_in_trial\n",
    "\n",
    "    return image_data, e_labels_data\n",
    "\n",
    "\n",
    "def train_single_epoch(model, train_dataloader, device, criterion, optimizer):\n",
    "\n",
    "    model.train()\n",
    "\n",
    "    for i, (images, labels) in tqdm.tqdm(enumerate(train_dataloader),\n",
    "                                            total = len(train_dataloader)):\n",
    "        \n",
    "        if i == 0:\n",
    "            train_loss, correct_train, total_train = 0, 0, 0\n",
    "\n",
    "        images, labels = images.to(device), labels.to(device)\n",
    "\n",
    "        #Forward pass\n",
    "        outputs = model(images).view(-1, 1)\n",
    "        labels = labels.view(-1, 1)\n",
    "        loss = criterion(outputs, labels)\n",
    "\n",
    "        #Backward pass\n",
    "        optimizer.zero_grad()\n",
    "        loss.backward()\n",
    "        optimizer.step()\n",
    "\n",
    "        #Metrics\n",
    "        train_loss += loss.item()\n",
    "        preds = (torch.sigmoid(outputs) >= 0.5).int()\n",
    "        correct_train += (preds == labels).sum().item()\n",
    "        total_train += labels.size(0)\n",
    "\n",
    "\n",
    "    return train_loss, correct_train, total_train \n",
    "\n",
    "\n",
    "def validate_single_epoch(model, dataloader, device, criterion, compute_accuracy=False, store_preds=False):\n",
    "\n",
    "    \"\"\"\n",
    "    Validate the model for a single epoch.\n",
    "\n",
    "    Args:\n",
    "        model (nn.Module): The model to validate.\n",
    "        dataloader (DataLoader): DataLoader for the validation set.\n",
    "        device (torch.device): Device to run the model on.\n",
    "        criterion (nn.Module): Loss function.\n",
    "        compute_accuracy (bool): Whether to compute accuracy.\n",
    "        store_preds (bool): Whether to store predictions.\n",
    "\n",
    "    Returns:\n",
    "\n",
    "        if compute_accuracy is True:\n",
    "            loss, accuracy\n",
    "        \n",
    "        if store_preds is True:\n",
    "            loss, accuracy, preds, labels\n",
    "        \n",
    "    \"\"\"\n",
    "    model.eval()\n",
    "\n",
    "    with torch.no_grad():\n",
    "\n",
    "        for i, (images, labels) in tqdm.tqdm(enumerate(dataloader),\n",
    "                                                total = len(dataloader)):\n",
    "            if i == 0 and compute_accuracy:\n",
    "                loss_total, correct, total = 0, 0, 0 \n",
    "\n",
    "            images, labels = images.to(device), labels.to(device)\n",
    "\n",
    "            #Forward pass\n",
    "            outputs = model(images).view(-1, 1)\n",
    "            \n",
    "            labels = labels.view(-1, 1)\n",
    "            loss = criterion(outputs, labels)\n",
    "\n",
    "            #Metrics\n",
    "            loss_total += loss.item()\n",
    "            preds = (torch.sigmoid(outputs) >= 0.5).int()\n",
    "            if compute_accuracy:\n",
    "                correct += (preds == labels).sum().item()\n",
    "                total += labels.size(0)\n",
    "\n",
    "\n",
    "def compute_features(model, dataloader, device):\n",
    "    \"\"\"\n",
    "    Compute features using the model for the given dataloader.\n",
    "\n",
    "    Args:\n",
    "        model (nn.Module): The model to use for feature extraction.\n",
    "        dataloader (DataLoader): DataLoader for the dataset.\n",
    "        device (torch.device): Device to run the model on.\n",
    "\n",
    "    Returns:\n",
    "        torch.Tensor: Extracted features.\n",
    "    \"\"\"\n",
    "    model.eval()\n",
    "    model.to(device)\n",
    "    features = torch.empty((0, 2048))  # Assuming ResNet50 output features are of size 2048\n",
    "\n",
    "    with torch.no_grad():\n",
    "        for images, _ in tqdm.tqdm(dataloader, total=len(dataloader)):\n",
    "            images = images.to(device)\n",
    "            output = model(images)\n",
    "            features = torch.cat((features, output.cpu()), dim=0)\n",
    "\n",
    "    return torch.cat(features, dim=0)\n",
    "\n",
    "\n",
    "\n",
    "def plot_losses(train_losses, val_losses, first_epoch=0, test=False, out=None):\n",
    "    #Function to plot the train and validation losses\n",
    "    #Inputs: train_losses, val_losses\n",
    "\n",
    "    #Compute best epoch\n",
    "    #best_epoch = early_stopping(val_losses)\n",
    "    plt.figure(figsize=(10, 5))\n",
    "    out = \"Trial \" + out[0] + \" Out\"\n",
    "    plt.title(f\"Evolution of Loss for Setting {out}\")\n",
    "    epochs = range(first_epoch, len(train_losses))\n",
    "    plt.plot(epochs, train_losses[first_epoch:], label=\"Train Loss\")\n",
    "    if test:\n",
    "        plt.plot(epochs, val_losses[first_epoch:], label=\"Test Loss\", linestyle=\"--\")\n",
    "    else:\n",
    "        plt.plot(epochs, val_losses[first_epoch:], label=\"Val Loss\", linestyle=\"--\")\n",
    "    #plt.axvline(x=best_epoch, color=\"red\", linestyle=\"--\")\n",
    "    #plt.text(best_epoch, 0.3, f\"Best epoch: {best_epoch}\")\n",
    "    plt.xlabel(\"Epoch\", fontsize = 15)\n",
    "    plt.ylabel(\"Loss\", fontsize = 15)\n",
    "    plt.legend(fontsize = 15)\n",
    "    plt.show()\n",
    "\n",
    "def plot_accs(train_acc, val_acc, first_epoch=0, test=False, out=None):\n",
    "    #Function to plot the train and validation losses\n",
    "    #Inputs: train_losses, val_losses\n",
    "\n",
    "    #Compute best epoch\n",
    "    #best_epoch = early_stopping(val_losses)\n",
    "    plt.figure(figsize=(10, 5))\n",
    "    out = \"Trial \" + out[0] + \" Out\"\n",
    "    plt.title(f\"Evolution of Accuracy for Setting {out}\")\n",
    "    epochs = range(first_epoch, len(train_acc))\n",
    "    plt.plot(epochs, train_acc[first_epoch:], label=\"Train Accuracy\")\n",
    "    if test:\n",
    "        plt.plot(epochs, val_acc[first_epoch:], label=\"Test Accuracy\", linestyle=\"--\")\n",
    "    else:\n",
    "        plt.plot(epochs, val_acc[first_epoch:], label=\"Val Accuracy\", linestyle=\"--\")\n",
    "    #plt.axvline(x=best_epoch, color=\"red\", linestyle=\"--\")\n",
    "    #plt.text(best_epoch, 0.3, f\"Best epoch: {best_epoch}\")\n",
    "    plt.xlabel(\"Epoch\", fontsize = 15)\n",
    "    plt.ylabel(\"Accuracy\", fontsize = 15)\n",
    "    plt.legend(fontsize = 15)\n",
    "    plt.show()\n",
    "\n",
    "\n",
    "def display_sklearn_reports(y_true, y_pred, train_or_val, fig = None, ax = None):   \n",
    "    \n",
    "    confusion_matrix_train = confusion_matrix(y_true, y_pred)\n",
    "    disp = ConfusionMatrixDisplay(confusion_matrix=confusion_matrix_train, display_labels=['0 (No error)', '1 (Error)'])\n",
    "    disp.plot(ax=ax, cmap = 'Blues')\n",
    "    disp.ax_.set_title(f'Confusion Matrix {train_or_val} Set')\n",
    "\n",
    "    # Classification report train set\n",
    "    print(f\"Classification report for {train_or_val} set:\", \"\\n\", classification_report(y_true, y_pred, target_names=['0 (No error)', '1 (Error)']))"
   ]
  },
  {
   "cell_type": "code",
   "execution_count": 4,
   "metadata": {},
   "outputs": [],
   "source": [
    "### dataset class (to be moved to dataset.py)\n",
    "\n",
    "class CustomVideoDataset(Dataset):\n",
    "\n",
    "    \"\"\"\n",
    "    Custom dataset to load data and arrange it in windows.\n",
    "    Input:\n",
    "        image_data: Tensor of image features. Shape: n_samples x 2048\n",
    "        kinematics_data: Tensor of kinematics features. Shape: n_samples x 26\n",
    "        g_labels_data: Tensor of gesture labels. Shape: n_samples x 1   \n",
    "        e_labels_data: Tensor of error labels. Shape: n_samples x 5\n",
    "        task_data: Tensor of task labels. Shape: n_samples x 1\n",
    "        trial_data: Tensor of trial labels. Shape: n_samples x 1\n",
    "        subject_data: DataFrame of subject labels. Shape: n_samples x 1\n",
    "        window_size: Size of the window for arranging data.   \n",
    "        stride: Stride for the sliding window.  \n",
    "\n",
    "    Returns: None\n",
    "\n",
    "    \"\"\"\n",
    "\n",
    "    def __init__(self, \n",
    "                 image_data, \n",
    "                 e_labels_data,\n",
    "                 transform=None):\n",
    "\n",
    "        self.image_data = image_data\n",
    "        self.e_labels_data = e_labels_data\n",
    "        self.transform = transform\n",
    "\n",
    "    def __len__(self):\n",
    "        return len(self.image_data)\n",
    "    \n",
    "    def __getitem__(self, idx):\n",
    "        image = self.image_data[idx]\n",
    "        if self.transform:\n",
    "            image = self.transform(image)\n",
    "        e_labels = self.e_labels_data[idx]\n",
    "\n",
    "        return (image, \n",
    "                e_labels)\n",
    "    \n",
    "\n",
    "def image_transform(mean, std):\n",
    "    \n",
    "    #Inputs: mean and std of the images\n",
    "    #Outputs: transformation object:\n",
    "        # Normalize and Standardize\n",
    "    return transforms.Compose([\n",
    "        lambda x: x/255.0,\n",
    "        transforms.Normalize(mean=mean, std=std)\n",
    "        ])\n"
   ]
  },
  {
   "cell_type": "markdown",
   "metadata": {},
   "source": [
    "### 1. LOSO Cross-Validation "
   ]
  },
  {
   "cell_type": "code",
   "execution_count": 5,
   "metadata": {},
   "outputs": [
    {
     "data": {
      "text/plain": [
       "<torch._C.Generator at 0x12127ce30>"
      ]
     },
     "execution_count": 5,
     "metadata": {},
     "output_type": "execute_result"
    }
   ],
   "source": [
    "cuda = False\n",
    "if cuda:\n",
    "    torch.cuda.empty_cache() # Clear cache\n",
    "    \n",
    "else:\n",
    "    device = torch.device('mps' if torch.backends.mps.is_available() else 'cpu')\n",
    "    torch.mps.empty_cache()\n",
    "\n",
    "outs = ['1Out', '2Out', '3Out', '4Out', '5Out']\n",
    "exp_kwargs = {\"batch_size\": 64,\n",
    "              \"epochs\": 8,\n",
    "              \"lr\": 1e-4,\n",
    "              \"weight_decay\": 1e-3}\n",
    "\n",
    "device = torch.device(\"mps\" if torch.backends.mps.is_available() else \"cpu\")\n",
    "torch.mps.manual_seed(42)\n",
    "torch.manual_seed(42)"
   ]
  },
  {
   "cell_type": "code",
   "execution_count": 5,
   "metadata": {},
   "outputs": [
    {
     "name": "stdout",
     "output_type": "stream",
     "text": [
      "Loading data for LOSO with trial 5Out...\n"
     ]
    },
    {
     "name": "stderr",
     "output_type": "stream",
     "text": [
      "/opt/anaconda3/envs/thesis/lib/python3.11/site-packages/torchvision/models/_utils.py:208: UserWarning: The parameter 'pretrained' is deprecated since 0.13 and may be removed in the future, please use 'weights' instead.\n",
      "  warnings.warn(\n",
      "/opt/anaconda3/envs/thesis/lib/python3.11/site-packages/torchvision/models/_utils.py:223: UserWarning: Arguments other than a weight enum or `None` for 'weights' are deprecated since 0.13 and may be removed in the future. The current behavior is equivalent to passing `weights=ResNet50_Weights.IMAGENET1K_V1`. You can also use `weights=ResNet50_Weights.DEFAULT` to get the most up-to-date weights.\n",
      "  warnings.warn(msg)\n",
      "python(9313) MallocStackLogging: can't turn off malloc stack logging because it was not enabled.\n",
      "100%|██████████| 444/444 [07:32<00:00,  1.02s/it]\n"
     ]
    },
    {
     "name": "stdout",
     "output_type": "stream",
     "text": [
      "Epoch 1, Train Loss: 0.3502, Train Accuracy: 84.52%\n",
      "Test Loss: 0.8683, Test Accuracy: 64.11%\n"
     ]
    },
    {
     "name": "stderr",
     "output_type": "stream",
     "text": [
      "100%|██████████| 444/444 [07:36<00:00,  1.03s/it]\n"
     ]
    },
    {
     "name": "stdout",
     "output_type": "stream",
     "text": [
      "Epoch 2, Train Loss: 0.0898, Train Accuracy: 97.03%\n",
      "Test Loss: 1.0569, Test Accuracy: 65.11%\n"
     ]
    },
    {
     "name": "stderr",
     "output_type": "stream",
     "text": [
      "100%|██████████| 444/444 [07:37<00:00,  1.03s/it]\n"
     ]
    },
    {
     "name": "stdout",
     "output_type": "stream",
     "text": [
      "Epoch 3, Train Loss: 0.0342, Train Accuracy: 99.03%\n",
      "Test Loss: 1.1389, Test Accuracy: 65.20%\n"
     ]
    },
    {
     "name": "stderr",
     "output_type": "stream",
     "text": [
      "100%|██████████| 444/444 [07:37<00:00,  1.03s/it]\n"
     ]
    },
    {
     "name": "stdout",
     "output_type": "stream",
     "text": [
      "Epoch 4, Train Loss: 0.0165, Train Accuracy: 99.64%\n",
      "Test Loss: 1.2760, Test Accuracy: 64.85%\n"
     ]
    },
    {
     "name": "stderr",
     "output_type": "stream",
     "text": [
      "100%|██████████| 444/444 [07:38<00:00,  1.03s/it]\n"
     ]
    },
    {
     "name": "stdout",
     "output_type": "stream",
     "text": [
      "Epoch 5, Train Loss: 0.0109, Train Accuracy: 99.76%\n",
      "Test Loss: 1.4345, Test Accuracy: 64.13%\n"
     ]
    },
    {
     "name": "stderr",
     "output_type": "stream",
     "text": [
      "100%|██████████| 444/444 [07:38<00:00,  1.03s/it]\n"
     ]
    },
    {
     "name": "stdout",
     "output_type": "stream",
     "text": [
      "Epoch 6, Train Loss: 0.0090, Train Accuracy: 99.78%\n",
      "Test Loss: 1.3397, Test Accuracy: 65.34%\n"
     ]
    },
    {
     "name": "stderr",
     "output_type": "stream",
     "text": [
      "100%|██████████| 444/444 [07:37<00:00,  1.03s/it]\n"
     ]
    },
    {
     "name": "stdout",
     "output_type": "stream",
     "text": [
      "Epoch 7, Train Loss: 0.0054, Train Accuracy: 99.88%\n",
      "Test Loss: 1.3480, Test Accuracy: 65.21%\n"
     ]
    },
    {
     "name": "stderr",
     "output_type": "stream",
     "text": [
      "100%|██████████| 444/444 [07:38<00:00,  1.03s/it]\n"
     ]
    },
    {
     "name": "stdout",
     "output_type": "stream",
     "text": [
      "Epoch 8, Train Loss: 0.0035, Train Accuracy: 99.96%\n",
      "Test Loss: 1.4021, Test Accuracy: 64.78%\n"
     ]
    },
    {
     "name": "stderr",
     "output_type": "stream",
     "text": [
      "python(9761) MallocStackLogging: can't turn off malloc stack logging because it was not enabled.\n",
      "python(9762) MallocStackLogging: can't turn off malloc stack logging because it was not enabled.\n",
      "python(9763) MallocStackLogging: can't turn off malloc stack logging because it was not enabled.\n"
     ]
    },
    {
     "data": {
      "image/png": "[encoded data removed]",
      "text/plain": [
       "<Figure size 1250x625 with 1 Axes>"
      ]
     },
     "metadata": {},
     "output_type": "display_data"
    },
    {
     "name": "stderr",
     "output_type": "stream",
     "text": [
      "python(9764) MallocStackLogging: can't turn off malloc stack logging because it was not enabled.\n",
      "python(9765) MallocStackLogging: can't turn off malloc stack logging because it was not enabled.\n"
     ]
    },
    {
     "data": {
      "image/png": "[encoded data removed]",
      "text/plain": [
       "<Figure size 1250x625 with 1 Axes>"
      ]
     },
     "metadata": {},
     "output_type": "display_data"
    }
   ],
   "source": [
    "for out in outs:\n",
    "\n",
    "    #a. Load training and testing data\n",
    "    print(f\"Loading data for LOSO with trial {out}...\")\n",
    "    root_data_path = '../data/LOSO/All/'\n",
    "    fold_data_path = '../data/LOSO/' + out + '/'\n",
    "    \n",
    "    images_train, e_labels_train = load_data(root_data_path=root_data_path, fold_data_path=fold_data_path, csv_filename='train.csv')\n",
    "    images_test, e_labels_test = load_data(root_data_path=root_data_path, fold_data_path=fold_data_path, csv_filename='test.csv')\n",
    "\n",
    "    e_labels_train = e_labels_train[:, -1]\n",
    "    e_labels_test =  e_labels_test[:, -1]\n",
    "\n",
    "    mean_fold = torch.load(os.path.join(fold_data_path, \"mean.pth\"))\n",
    "    std_fold = torch.load(os.path.join(fold_data_path, \"std.pth\"))\n",
    "    transform = image_transform(mean=mean_fold, std= std_fold)\n",
    "\n",
    "    #b. Create dataset and dataloader\n",
    "    train_dataset = CustomVideoDataset(image_data=images_train, e_labels_data=e_labels_train, transform=transform)\n",
    "    test_dataset = CustomVideoDataset(image_data=images_test, e_labels_data=e_labels_test, transform=transform)\n",
    "    train_dataloader = DataLoader(train_dataset, batch_size=exp_kwargs[\"batch_size\"], shuffle=True, generator=torch.Generator().manual_seed(42))\n",
    "    test_dataloader = DataLoader(test_dataset, batch_size=exp_kwargs[\"batch_size\"], shuffle=False, generator=torch.Generator().manual_seed(42))\n",
    "\n",
    "    #c. Model, loss and optimizer\n",
    "    model = models.resnet50(pretrained=True)\n",
    "    model.fc = nn.Linear(in_features=2048, out_features=1)  \n",
    "    model = model.to(device)\n",
    "\n",
    "    optimizer = torch.optim.Adam(\n",
    "        model.parameters(), lr=exp_kwargs[\"lr\"],\n",
    "        eps=1e-8, weight_decay=exp_kwargs[\"weight_decay\"]\n",
    "        )\n",
    "    \n",
    "    scheduler = torch.optim.lr_scheduler.MultiStepLR(optimizer, milestones = [1, 6], gamma=0.1)\n",
    "    \n",
    "    criterion = nn.BCEWithLogitsLoss(reduction = \"mean\")\n",
    "    train_losses, test_losses, train_acc, test_acc = [], [], [], []\n",
    "    best_acc = 0\n",
    "    \n",
    "    for epoch in range(exp_kwargs['epochs']):\n",
    "        \n",
    "        train_loss, correct_train, total_train = train_single_epoch(model, train_dataloader, device, criterion, optimizer)\n",
    "        scheduler.step()\n",
    "        \n",
    "        print(f\"Epoch {epoch+1}, Train Loss: {train_loss/len(train_dataloader):.4f}, Train Accuracy: {100 * correct_train / total_train:.2f}%\")\n",
    "        train_losses.append(train_loss/len(train_dataloader))\n",
    "        acc = correct_train / total_train\n",
    "        train_acc.append(acc)\n",
    "                          \n",
    "        #Test set evaluation\n",
    "        model.eval()\n",
    "        with torch.no_grad():\n",
    "            for i, (images, labels) in enumerate(test_dataloader):\n",
    "                images, labels = images.to(device), labels.to(device)\n",
    "\n",
    "                if i == 0:\n",
    "                    test_loss, correct_test, total_test = 0, 0, 0\n",
    "\n",
    "                outputs = model(images).view(-1, 1)\n",
    "                labels = labels.view(-1, 1)\n",
    "                loss = criterion(outputs, labels)\n",
    "                test_loss += loss.item()\n",
    "\n",
    "                preds = (torch.sigmoid(outputs) >= 0.5).int()\n",
    "                correct_test += (preds == labels).sum().item()\n",
    "                total_test += labels.size(0)\n",
    "\n",
    "        print(f\"Test Loss: {test_loss/len(test_dataloader):.4f}, Test Accuracy: {100 * correct_test / total_test:.2f}%\")\n",
    "        test_losses.append(test_loss/len(test_dataloader))\n",
    "        acc_test = correct_test / total_test\n",
    "        test_acc.append(acc_test)\n",
    "\n",
    "        if acc_test > best_acc:\n",
    "            best_acc = acc_test\n",
    "            torch.save(model.state_dict(), f\"../models/ResNet50/{out}_epoch_{epoch}.pth\")\n",
    "\n",
    "    plot_losses(train_losses, test_losses, test=True, out=out)\n",
    "    plot_accs(train_acc, test_acc, test=True, out = out)"
   ]
  },
  {
   "cell_type": "markdown",
   "metadata": {},
   "source": [
    "### 2. Performance Metrics Computation"
   ]
  },
  {
   "cell_type": "code",
   "execution_count": 6,
   "metadata": {},
   "outputs": [
    {
     "name": "stdout",
     "output_type": "stream",
     "text": [
      "Loading data for LOSO with trial 1Out...\n"
     ]
    },
    {
     "name": "stderr",
     "output_type": "stream",
     "text": [
      "/opt/anaconda3/envs/thesis/lib/python3.11/site-packages/torchvision/models/_utils.py:208: UserWarning: The parameter 'pretrained' is deprecated since 0.13 and may be removed in the future, please use 'weights' instead.\n",
      "  warnings.warn(\n",
      "/opt/anaconda3/envs/thesis/lib/python3.11/site-packages/torchvision/models/_utils.py:223: UserWarning: Arguments other than a weight enum or `None` for 'weights' are deprecated since 0.13 and may be removed in the future. The current behavior is equivalent to passing `weights=ResNet50_Weights.IMAGENET1K_V1`. You can also use `weights=ResNet50_Weights.DEFAULT` to get the most up-to-date weights.\n",
      "  warnings.warn(msg)\n",
      "/var/folders/dk/qy9bk4_94zsb04lj0tpx7vx40000gn/T/ipykernel_8388/2944160833.py:49: DeprecationWarning: __array__ implementation doesn't accept a copy keyword, so passing copy=False failed. __array__ must implement 'dtype' and 'copy' keyword arguments. To learn more, see the migration guide https://numpy.org/devdocs/numpy_2_0_migration_guide.html#adapting-to-changes-in-the-copy-keyword\n",
      "  acc_train.append(accuracy_score(np.array(true_train_fold), np.array(pred_train_fold)))\n",
      "/var/folders/dk/qy9bk4_94zsb04lj0tpx7vx40000gn/T/ipykernel_8388/2944160833.py:50: DeprecationWarning: __array__ implementation doesn't accept a copy keyword, so passing copy=False failed. __array__ must implement 'dtype' and 'copy' keyword arguments. To learn more, see the migration guide https://numpy.org/devdocs/numpy_2_0_migration_guide.html#adapting-to-changes-in-the-copy-keyword\n",
      "  f1_train.append(f1_score(np.array(true_train_fold), np.array(pred_train_fold)))\n",
      "/var/folders/dk/qy9bk4_94zsb04lj0tpx7vx40000gn/T/ipykernel_8388/2944160833.py:51: DeprecationWarning: __array__ implementation doesn't accept a copy keyword, so passing copy=False failed. __array__ must implement 'dtype' and 'copy' keyword arguments. To learn more, see the migration guide https://numpy.org/devdocs/numpy_2_0_migration_guide.html#adapting-to-changes-in-the-copy-keyword\n",
      "  jaccard_train.append(jaccard_score(np.array(true_train_fold), np.array(pred_train_fold)))\n",
      "/var/folders/dk/qy9bk4_94zsb04lj0tpx7vx40000gn/T/ipykernel_8388/2944160833.py:67: DeprecationWarning: __array__ implementation doesn't accept a copy keyword, so passing copy=False failed. __array__ must implement 'dtype' and 'copy' keyword arguments. To learn more, see the migration guide https://numpy.org/devdocs/numpy_2_0_migration_guide.html#adapting-to-changes-in-the-copy-keyword\n",
      "  acc_test.append(accuracy_score(np.array(true_test_fold), np.array(pred_test_fold)))\n",
      "/var/folders/dk/qy9bk4_94zsb04lj0tpx7vx40000gn/T/ipykernel_8388/2944160833.py:68: DeprecationWarning: __array__ implementation doesn't accept a copy keyword, so passing copy=False failed. __array__ must implement 'dtype' and 'copy' keyword arguments. To learn more, see the migration guide https://numpy.org/devdocs/numpy_2_0_migration_guide.html#adapting-to-changes-in-the-copy-keyword\n",
      "  f1_test.append(f1_score(np.array(true_test_fold), np.array(pred_test_fold)))\n",
      "/var/folders/dk/qy9bk4_94zsb04lj0tpx7vx40000gn/T/ipykernel_8388/2944160833.py:69: DeprecationWarning: __array__ implementation doesn't accept a copy keyword, so passing copy=False failed. __array__ must implement 'dtype' and 'copy' keyword arguments. To learn more, see the migration guide https://numpy.org/devdocs/numpy_2_0_migration_guide.html#adapting-to-changes-in-the-copy-keyword\n",
      "  jaccard_test.append(jaccard_score(np.array(true_test_fold), np.array(pred_test_fold)))\n"
     ]
    },
    {
     "name": "stdout",
     "output_type": "stream",
     "text": [
      "Loading data for LOSO with trial 2Out...\n"
     ]
    },
    {
     "name": "stderr",
     "output_type": "stream",
     "text": [
      "/opt/anaconda3/envs/thesis/lib/python3.11/site-packages/torchvision/models/_utils.py:208: UserWarning: The parameter 'pretrained' is deprecated since 0.13 and may be removed in the future, please use 'weights' instead.\n",
      "  warnings.warn(\n",
      "/opt/anaconda3/envs/thesis/lib/python3.11/site-packages/torchvision/models/_utils.py:223: UserWarning: Arguments other than a weight enum or `None` for 'weights' are deprecated since 0.13 and may be removed in the future. The current behavior is equivalent to passing `weights=ResNet50_Weights.IMAGENET1K_V1`. You can also use `weights=ResNet50_Weights.DEFAULT` to get the most up-to-date weights.\n",
      "  warnings.warn(msg)\n",
      "/var/folders/dk/qy9bk4_94zsb04lj0tpx7vx40000gn/T/ipykernel_8388/2944160833.py:49: DeprecationWarning: __array__ implementation doesn't accept a copy keyword, so passing copy=False failed. __array__ must implement 'dtype' and 'copy' keyword arguments. To learn more, see the migration guide https://numpy.org/devdocs/numpy_2_0_migration_guide.html#adapting-to-changes-in-the-copy-keyword\n",
      "  acc_train.append(accuracy_score(np.array(true_train_fold), np.array(pred_train_fold)))\n",
      "/var/folders/dk/qy9bk4_94zsb04lj0tpx7vx40000gn/T/ipykernel_8388/2944160833.py:50: DeprecationWarning: __array__ implementation doesn't accept a copy keyword, so passing copy=False failed. __array__ must implement 'dtype' and 'copy' keyword arguments. To learn more, see the migration guide https://numpy.org/devdocs/numpy_2_0_migration_guide.html#adapting-to-changes-in-the-copy-keyword\n",
      "  f1_train.append(f1_score(np.array(true_train_fold), np.array(pred_train_fold)))\n",
      "/var/folders/dk/qy9bk4_94zsb04lj0tpx7vx40000gn/T/ipykernel_8388/2944160833.py:51: DeprecationWarning: __array__ implementation doesn't accept a copy keyword, so passing copy=False failed. __array__ must implement 'dtype' and 'copy' keyword arguments. To learn more, see the migration guide https://numpy.org/devdocs/numpy_2_0_migration_guide.html#adapting-to-changes-in-the-copy-keyword\n",
      "  jaccard_train.append(jaccard_score(np.array(true_train_fold), np.array(pred_train_fold)))\n",
      "/var/folders/dk/qy9bk4_94zsb04lj0tpx7vx40000gn/T/ipykernel_8388/2944160833.py:67: DeprecationWarning: __array__ implementation doesn't accept a copy keyword, so passing copy=False failed. __array__ must implement 'dtype' and 'copy' keyword arguments. To learn more, see the migration guide https://numpy.org/devdocs/numpy_2_0_migration_guide.html#adapting-to-changes-in-the-copy-keyword\n",
      "  acc_test.append(accuracy_score(np.array(true_test_fold), np.array(pred_test_fold)))\n",
      "/var/folders/dk/qy9bk4_94zsb04lj0tpx7vx40000gn/T/ipykernel_8388/2944160833.py:68: DeprecationWarning: __array__ implementation doesn't accept a copy keyword, so passing copy=False failed. __array__ must implement 'dtype' and 'copy' keyword arguments. To learn more, see the migration guide https://numpy.org/devdocs/numpy_2_0_migration_guide.html#adapting-to-changes-in-the-copy-keyword\n",
      "  f1_test.append(f1_score(np.array(true_test_fold), np.array(pred_test_fold)))\n",
      "/var/folders/dk/qy9bk4_94zsb04lj0tpx7vx40000gn/T/ipykernel_8388/2944160833.py:69: DeprecationWarning: __array__ implementation doesn't accept a copy keyword, so passing copy=False failed. __array__ must implement 'dtype' and 'copy' keyword arguments. To learn more, see the migration guide https://numpy.org/devdocs/numpy_2_0_migration_guide.html#adapting-to-changes-in-the-copy-keyword\n",
      "  jaccard_test.append(jaccard_score(np.array(true_test_fold), np.array(pred_test_fold)))\n"
     ]
    },
    {
     "name": "stdout",
     "output_type": "stream",
     "text": [
      "Loading data for LOSO with trial 3Out...\n"
     ]
    },
    {
     "name": "stderr",
     "output_type": "stream",
     "text": [
      "/opt/anaconda3/envs/thesis/lib/python3.11/site-packages/torchvision/models/_utils.py:208: UserWarning: The parameter 'pretrained' is deprecated since 0.13 and may be removed in the future, please use 'weights' instead.\n",
      "  warnings.warn(\n",
      "/opt/anaconda3/envs/thesis/lib/python3.11/site-packages/torchvision/models/_utils.py:223: UserWarning: Arguments other than a weight enum or `None` for 'weights' are deprecated since 0.13 and may be removed in the future. The current behavior is equivalent to passing `weights=ResNet50_Weights.IMAGENET1K_V1`. You can also use `weights=ResNet50_Weights.DEFAULT` to get the most up-to-date weights.\n",
      "  warnings.warn(msg)\n",
      "/var/folders/dk/qy9bk4_94zsb04lj0tpx7vx40000gn/T/ipykernel_8388/2944160833.py:49: DeprecationWarning: __array__ implementation doesn't accept a copy keyword, so passing copy=False failed. __array__ must implement 'dtype' and 'copy' keyword arguments. To learn more, see the migration guide https://numpy.org/devdocs/numpy_2_0_migration_guide.html#adapting-to-changes-in-the-copy-keyword\n",
      "  acc_train.append(accuracy_score(np.array(true_train_fold), np.array(pred_train_fold)))\n",
      "/var/folders/dk/qy9bk4_94zsb04lj0tpx7vx40000gn/T/ipykernel_8388/2944160833.py:50: DeprecationWarning: __array__ implementation doesn't accept a copy keyword, so passing copy=False failed. __array__ must implement 'dtype' and 'copy' keyword arguments. To learn more, see the migration guide https://numpy.org/devdocs/numpy_2_0_migration_guide.html#adapting-to-changes-in-the-copy-keyword\n",
      "  f1_train.append(f1_score(np.array(true_train_fold), np.array(pred_train_fold)))\n",
      "/var/folders/dk/qy9bk4_94zsb04lj0tpx7vx40000gn/T/ipykernel_8388/2944160833.py:51: DeprecationWarning: __array__ implementation doesn't accept a copy keyword, so passing copy=False failed. __array__ must implement 'dtype' and 'copy' keyword arguments. To learn more, see the migration guide https://numpy.org/devdocs/numpy_2_0_migration_guide.html#adapting-to-changes-in-the-copy-keyword\n",
      "  jaccard_train.append(jaccard_score(np.array(true_train_fold), np.array(pred_train_fold)))\n",
      "/var/folders/dk/qy9bk4_94zsb04lj0tpx7vx40000gn/T/ipykernel_8388/2944160833.py:67: DeprecationWarning: __array__ implementation doesn't accept a copy keyword, so passing copy=False failed. __array__ must implement 'dtype' and 'copy' keyword arguments. To learn more, see the migration guide https://numpy.org/devdocs/numpy_2_0_migration_guide.html#adapting-to-changes-in-the-copy-keyword\n",
      "  acc_test.append(accuracy_score(np.array(true_test_fold), np.array(pred_test_fold)))\n",
      "/var/folders/dk/qy9bk4_94zsb04lj0tpx7vx40000gn/T/ipykernel_8388/2944160833.py:68: DeprecationWarning: __array__ implementation doesn't accept a copy keyword, so passing copy=False failed. __array__ must implement 'dtype' and 'copy' keyword arguments. To learn more, see the migration guide https://numpy.org/devdocs/numpy_2_0_migration_guide.html#adapting-to-changes-in-the-copy-keyword\n",
      "  f1_test.append(f1_score(np.array(true_test_fold), np.array(pred_test_fold)))\n",
      "/var/folders/dk/qy9bk4_94zsb04lj0tpx7vx40000gn/T/ipykernel_8388/2944160833.py:69: DeprecationWarning: __array__ implementation doesn't accept a copy keyword, so passing copy=False failed. __array__ must implement 'dtype' and 'copy' keyword arguments. To learn more, see the migration guide https://numpy.org/devdocs/numpy_2_0_migration_guide.html#adapting-to-changes-in-the-copy-keyword\n",
      "  jaccard_test.append(jaccard_score(np.array(true_test_fold), np.array(pred_test_fold)))\n"
     ]
    },
    {
     "name": "stdout",
     "output_type": "stream",
     "text": [
      "Loading data for LOSO with trial 4Out...\n"
     ]
    },
    {
     "name": "stderr",
     "output_type": "stream",
     "text": [
      "/opt/anaconda3/envs/thesis/lib/python3.11/site-packages/torchvision/models/_utils.py:208: UserWarning: The parameter 'pretrained' is deprecated since 0.13 and may be removed in the future, please use 'weights' instead.\n",
      "  warnings.warn(\n",
      "/opt/anaconda3/envs/thesis/lib/python3.11/site-packages/torchvision/models/_utils.py:223: UserWarning: Arguments other than a weight enum or `None` for 'weights' are deprecated since 0.13 and may be removed in the future. The current behavior is equivalent to passing `weights=ResNet50_Weights.IMAGENET1K_V1`. You can also use `weights=ResNet50_Weights.DEFAULT` to get the most up-to-date weights.\n",
      "  warnings.warn(msg)\n",
      "/var/folders/dk/qy9bk4_94zsb04lj0tpx7vx40000gn/T/ipykernel_8388/2944160833.py:49: DeprecationWarning: __array__ implementation doesn't accept a copy keyword, so passing copy=False failed. __array__ must implement 'dtype' and 'copy' keyword arguments. To learn more, see the migration guide https://numpy.org/devdocs/numpy_2_0_migration_guide.html#adapting-to-changes-in-the-copy-keyword\n",
      "  acc_train.append(accuracy_score(np.array(true_train_fold), np.array(pred_train_fold)))\n",
      "/var/folders/dk/qy9bk4_94zsb04lj0tpx7vx40000gn/T/ipykernel_8388/2944160833.py:50: DeprecationWarning: __array__ implementation doesn't accept a copy keyword, so passing copy=False failed. __array__ must implement 'dtype' and 'copy' keyword arguments. To learn more, see the migration guide https://numpy.org/devdocs/numpy_2_0_migration_guide.html#adapting-to-changes-in-the-copy-keyword\n",
      "  f1_train.append(f1_score(np.array(true_train_fold), np.array(pred_train_fold)))\n",
      "/var/folders/dk/qy9bk4_94zsb04lj0tpx7vx40000gn/T/ipykernel_8388/2944160833.py:51: DeprecationWarning: __array__ implementation doesn't accept a copy keyword, so passing copy=False failed. __array__ must implement 'dtype' and 'copy' keyword arguments. To learn more, see the migration guide https://numpy.org/devdocs/numpy_2_0_migration_guide.html#adapting-to-changes-in-the-copy-keyword\n",
      "  jaccard_train.append(jaccard_score(np.array(true_train_fold), np.array(pred_train_fold)))\n",
      "/var/folders/dk/qy9bk4_94zsb04lj0tpx7vx40000gn/T/ipykernel_8388/2944160833.py:67: DeprecationWarning: __array__ implementation doesn't accept a copy keyword, so passing copy=False failed. __array__ must implement 'dtype' and 'copy' keyword arguments. To learn more, see the migration guide https://numpy.org/devdocs/numpy_2_0_migration_guide.html#adapting-to-changes-in-the-copy-keyword\n",
      "  acc_test.append(accuracy_score(np.array(true_test_fold), np.array(pred_test_fold)))\n",
      "/var/folders/dk/qy9bk4_94zsb04lj0tpx7vx40000gn/T/ipykernel_8388/2944160833.py:68: DeprecationWarning: __array__ implementation doesn't accept a copy keyword, so passing copy=False failed. __array__ must implement 'dtype' and 'copy' keyword arguments. To learn more, see the migration guide https://numpy.org/devdocs/numpy_2_0_migration_guide.html#adapting-to-changes-in-the-copy-keyword\n",
      "  f1_test.append(f1_score(np.array(true_test_fold), np.array(pred_test_fold)))\n",
      "/var/folders/dk/qy9bk4_94zsb04lj0tpx7vx40000gn/T/ipykernel_8388/2944160833.py:69: DeprecationWarning: __array__ implementation doesn't accept a copy keyword, so passing copy=False failed. __array__ must implement 'dtype' and 'copy' keyword arguments. To learn more, see the migration guide https://numpy.org/devdocs/numpy_2_0_migration_guide.html#adapting-to-changes-in-the-copy-keyword\n",
      "  jaccard_test.append(jaccard_score(np.array(true_test_fold), np.array(pred_test_fold)))\n"
     ]
    },
    {
     "name": "stdout",
     "output_type": "stream",
     "text": [
      "Loading data for LOSO with trial 5Out...\n"
     ]
    },
    {
     "name": "stderr",
     "output_type": "stream",
     "text": [
      "/opt/anaconda3/envs/thesis/lib/python3.11/site-packages/torchvision/models/_utils.py:208: UserWarning: The parameter 'pretrained' is deprecated since 0.13 and may be removed in the future, please use 'weights' instead.\n",
      "  warnings.warn(\n",
      "/opt/anaconda3/envs/thesis/lib/python3.11/site-packages/torchvision/models/_utils.py:223: UserWarning: Arguments other than a weight enum or `None` for 'weights' are deprecated since 0.13 and may be removed in the future. The current behavior is equivalent to passing `weights=ResNet50_Weights.IMAGENET1K_V1`. You can also use `weights=ResNet50_Weights.DEFAULT` to get the most up-to-date weights.\n",
      "  warnings.warn(msg)\n",
      "/var/folders/dk/qy9bk4_94zsb04lj0tpx7vx40000gn/T/ipykernel_8388/2944160833.py:49: DeprecationWarning: __array__ implementation doesn't accept a copy keyword, so passing copy=False failed. __array__ must implement 'dtype' and 'copy' keyword arguments. To learn more, see the migration guide https://numpy.org/devdocs/numpy_2_0_migration_guide.html#adapting-to-changes-in-the-copy-keyword\n",
      "  acc_train.append(accuracy_score(np.array(true_train_fold), np.array(pred_train_fold)))\n",
      "/var/folders/dk/qy9bk4_94zsb04lj0tpx7vx40000gn/T/ipykernel_8388/2944160833.py:50: DeprecationWarning: __array__ implementation doesn't accept a copy keyword, so passing copy=False failed. __array__ must implement 'dtype' and 'copy' keyword arguments. To learn more, see the migration guide https://numpy.org/devdocs/numpy_2_0_migration_guide.html#adapting-to-changes-in-the-copy-keyword\n",
      "  f1_train.append(f1_score(np.array(true_train_fold), np.array(pred_train_fold)))\n",
      "/var/folders/dk/qy9bk4_94zsb04lj0tpx7vx40000gn/T/ipykernel_8388/2944160833.py:51: DeprecationWarning: __array__ implementation doesn't accept a copy keyword, so passing copy=False failed. __array__ must implement 'dtype' and 'copy' keyword arguments. To learn more, see the migration guide https://numpy.org/devdocs/numpy_2_0_migration_guide.html#adapting-to-changes-in-the-copy-keyword\n",
      "  jaccard_train.append(jaccard_score(np.array(true_train_fold), np.array(pred_train_fold)))\n",
      "/var/folders/dk/qy9bk4_94zsb04lj0tpx7vx40000gn/T/ipykernel_8388/2944160833.py:67: DeprecationWarning: __array__ implementation doesn't accept a copy keyword, so passing copy=False failed. __array__ must implement 'dtype' and 'copy' keyword arguments. To learn more, see the migration guide https://numpy.org/devdocs/numpy_2_0_migration_guide.html#adapting-to-changes-in-the-copy-keyword\n",
      "  acc_test.append(accuracy_score(np.array(true_test_fold), np.array(pred_test_fold)))\n",
      "/var/folders/dk/qy9bk4_94zsb04lj0tpx7vx40000gn/T/ipykernel_8388/2944160833.py:68: DeprecationWarning: __array__ implementation doesn't accept a copy keyword, so passing copy=False failed. __array__ must implement 'dtype' and 'copy' keyword arguments. To learn more, see the migration guide https://numpy.org/devdocs/numpy_2_0_migration_guide.html#adapting-to-changes-in-the-copy-keyword\n",
      "  f1_test.append(f1_score(np.array(true_test_fold), np.array(pred_test_fold)))\n",
      "/var/folders/dk/qy9bk4_94zsb04lj0tpx7vx40000gn/T/ipykernel_8388/2944160833.py:69: DeprecationWarning: __array__ implementation doesn't accept a copy keyword, so passing copy=False failed. __array__ must implement 'dtype' and 'copy' keyword arguments. To learn more, see the migration guide https://numpy.org/devdocs/numpy_2_0_migration_guide.html#adapting-to-changes-in-the-copy-keyword\n",
      "  jaccard_test.append(jaccard_score(np.array(true_test_fold), np.array(pred_test_fold)))\n"
     ]
    }
   ],
   "source": [
    "#Evaluation\n",
    "true_train, pred_train, true_test, pred_test = [], [], [], [] \n",
    "acc_train, f1_train, jaccard_train, acc_test, f1_test, jaccard_test = [], [], [], [], [], []\n",
    "\n",
    "for out in outs:\n",
    "\n",
    "    print(f\"Loading data for LOSO with trial {out}...\")\n",
    "    root_data_path = '../data/LOSO/All/'\n",
    "    fold_data_path = '../data/LOSO/' + out + '/'\n",
    "    \n",
    "    images_train, e_labels_train = load_data(root_data_path=root_data_path, fold_data_path=fold_data_path, csv_filename='train.csv')\n",
    "    images_test, e_labels_test = load_data(root_data_path=root_data_path, fold_data_path=fold_data_path, csv_filename='test.csv')\n",
    "\n",
    "    e_labels_train = e_labels_train[:, -1]\n",
    "    e_labels_test =  e_labels_test[:, -1]\n",
    "\n",
    "    mean_fold = torch.load(os.path.join(fold_data_path, \"mean.pth\"))\n",
    "    std_fold = torch.load(os.path.join(fold_data_path, \"std.pth\"))\n",
    "    transform = image_transform(mean=mean_fold, std= std_fold)\n",
    "\n",
    "    #b. Create dataset and dataloader\n",
    "    train_dataset = CustomVideoDataset(image_data=images_train, e_labels_data=e_labels_train, transform=transform)\n",
    "    test_dataset = CustomVideoDataset(image_data=images_test, e_labels_data=e_labels_test, transform=transform)\n",
    "    train_dataloader = DataLoader(train_dataset, batch_size=exp_kwargs[\"batch_size\"], shuffle=True, generator=torch.Generator().manual_seed(42))\n",
    "    test_dataloader = DataLoader(test_dataset, batch_size=exp_kwargs[\"batch_size\"], shuffle=False, generator=torch.Generator().manual_seed(42))\n",
    "\n",
    "    model = models.resnet50(pretrained=True)\n",
    "    model.fc = nn.Linear(in_features=2048, out_features=1)\n",
    "    model.load_state_dict(torch.load(f\"../models/ResNet50/{out}.pth\"))\n",
    "    model.to(device)\n",
    "    model.eval() \n",
    "\n",
    "    with torch.no_grad():\n",
    "        \n",
    "        for i, (images, labels) in enumerate(train_dataloader):\n",
    "                \n",
    "            images, labels = images.to(device), labels.to(device)\n",
    "\n",
    "            #Forward pass\n",
    "            outputs = model(images).view(-1, 1)\n",
    "            labels = labels.view(-1, 1)\n",
    "\n",
    "            preds = (torch.sigmoid(outputs) >= 0.5).int()\n",
    "            true_train.append(labels.detach().cpu())\n",
    "            pred_train.append(preds.detach().cpu())\n",
    "        \n",
    "        true_train_fold = torch.cat(true_train, dim = 0).squeeze()\n",
    "        pred_train_fold = torch.cat(pred_train, dim=0).squeeze()\n",
    "        acc_train.append(accuracy_score(np.array(true_train_fold), np.array(pred_train_fold)))\n",
    "        f1_train.append(f1_score(np.array(true_train_fold), np.array(pred_train_fold)))\n",
    "        jaccard_train.append(jaccard_score(np.array(true_train_fold), np.array(pred_train_fold)))\n",
    "\n",
    "        \n",
    "        for i, (images, labels) in enumerate(test_dataloader):\n",
    "                \n",
    "            images, labels = images.to(device), labels.to(device)\n",
    "\n",
    "            #Forward pass\n",
    "            outputs = model(images).view(-1, 1)\n",
    "            labels = labels.view(-1, 1)\n",
    "\n",
    "            preds = (torch.sigmoid(outputs) >= 0.5).int()\n",
    "            true_test.append(labels.detach().cpu())\n",
    "            pred_test.append(preds.detach().cpu())\n",
    "        \n",
    "    true_test_fold = torch.cat(true_test, dim = 0).squeeze()\n",
    "    pred_test_fold = torch.cat(pred_test, dim=0).squeeze()\n",
    "    acc_test.append(accuracy_score(np.array(true_test_fold), np.array(pred_test_fold)))\n",
    "    f1_test.append(f1_score(np.array(true_test_fold), np.array(pred_test_fold)))\n",
    "    jaccard_test.append(jaccard_score(np.array(true_test_fold), np.array(pred_test_fold)))            "
   ]
  },
  {
   "cell_type": "code",
   "execution_count": 11,
   "metadata": {},
   "outputs": [
    {
     "data": {
      "text/html": [
       "<div>\n",
       "<style scoped>\n",
       "    .dataframe tbody tr th:only-of-type {\n",
       "        vertical-align: middle;\n",
       "    }\n",
       "\n",
       "    .dataframe tbody tr th {\n",
       "        vertical-align: top;\n",
       "    }\n",
       "\n",
       "    .dataframe thead th {\n",
       "        text-align: right;\n",
       "    }\n",
       "</style>\n",
       "<table border=\"1\" class=\"dataframe\">\n",
       "  <thead>\n",
       "    <tr style=\"text-align: right;\">\n",
       "      <th></th>\n",
       "      <th>Accuracy</th>\n",
       "      <th>F1 Score</th>\n",
       "      <th>Jaccard Index</th>\n",
       "    </tr>\n",
       "  </thead>\n",
       "  <tbody>\n",
       "    <tr>\n",
       "      <th>Train</th>\n",
       "      <td>0.99 +- 0.01</td>\n",
       "      <td>0.99 +- 0.01</td>\n",
       "      <td>0.98 +- 0.01</td>\n",
       "    </tr>\n",
       "  </tbody>\n",
       "</table>\n",
       "</div>"
      ],
      "text/plain": [
       "           Accuracy      F1 Score Jaccard Index\n",
       "Train  0.99 +- 0.01  0.99 +- 0.01  0.98 +- 0.01"
      ]
     },
     "metadata": {},
     "output_type": "display_data"
    },
    {
     "data": {
      "text/html": [
       "<div>\n",
       "<style scoped>\n",
       "    .dataframe tbody tr th:only-of-type {\n",
       "        vertical-align: middle;\n",
       "    }\n",
       "\n",
       "    .dataframe tbody tr th {\n",
       "        vertical-align: top;\n",
       "    }\n",
       "\n",
       "    .dataframe thead th {\n",
       "        text-align: right;\n",
       "    }\n",
       "</style>\n",
       "<table border=\"1\" class=\"dataframe\">\n",
       "  <thead>\n",
       "    <tr style=\"text-align: right;\">\n",
       "      <th></th>\n",
       "      <th>Accuracy</th>\n",
       "      <th>F1 Score</th>\n",
       "      <th>Jaccard Index</th>\n",
       "    </tr>\n",
       "  </thead>\n",
       "  <tbody>\n",
       "    <tr>\n",
       "      <th>Test</th>\n",
       "      <td>0.62 +- 0.01</td>\n",
       "      <td>0.66 +- 0.02</td>\n",
       "      <td>0.50 +- 0.02</td>\n",
       "    </tr>\n",
       "  </tbody>\n",
       "</table>\n",
       "</div>"
      ],
      "text/plain": [
       "          Accuracy      F1 Score Jaccard Index\n",
       "Test  0.62 +- 0.01  0.66 +- 0.02  0.50 +- 0.02"
      ]
     },
     "metadata": {},
     "output_type": "display_data"
    }
   ],
   "source": [
    "#Create train and test dataframes with results: avg +- std for acc, f1, and jaccard\n",
    "train_results = pd.DataFrame({\n",
    "    'Accuracy': f\"{np.mean(acc_train):.2f} +- {np.std(acc_train):.2f}\",\n",
    "    'F1 Score': f\"{np.mean(f1_train):.2f} +- {np.std(f1_train):.2f}\",\n",
    "    'Jaccard Index': f\"{np.mean(jaccard_train):.2f} +- {np.std(jaccard_train):.2f}\"\n",
    "},index = ['Train'])\n",
    "\n",
    "test_results = pd.DataFrame({\n",
    "    'Accuracy': f\"{np.mean(acc_test):.2f} +- {np.std(acc_test):.2f}\",\n",
    "    'F1 Score': f\"{np.mean(f1_test):.2f} +- {np.std(f1_test):.2f}\",\n",
    "    'Jaccard Index': f\"{np.mean(jaccard_test):.2f} +- {np.std(jaccard_test):.2f}\"\n",
    "}, index = ['Test'])\n",
    "\n",
    "display(train_results)\n",
    "display(test_results)\n",
    "\n",
    "#Save as csv files in ../results/ResNet50/\n",
    "train_results.to_csv('../results/ResNet50/train_results.csv')\n",
    "test_results.to_csv('../results/ResNet50/test_results.csv')\n",
    "\n",
    "#true_train = torch.cat(true_train, dim=0).squeeze()\n",
    "#pred_train = torch.cat(pred_train, dim=0).squeeze()\n",
    "true_test = torch.cat(true_test, dim=0).squeeze()\n",
    "pred_test = torch.cat(pred_test, dim=0).squeeze()\n",
    "\n",
    "#display_sklearn_reports(np.array(true_train), np.array(pred_train), train_or_val=\"Train\", ax = ax[0])  "
   ]
  },
  {
   "cell_type": "code",
   "execution_count": 12,
   "metadata": {},
   "outputs": [
    {
     "name": "stderr",
     "output_type": "stream",
     "text": [
      "/var/folders/dk/qy9bk4_94zsb04lj0tpx7vx40000gn/T/ipykernel_8388/980863415.py:2: DeprecationWarning: __array__ implementation doesn't accept a copy keyword, so passing copy=False failed. __array__ must implement 'dtype' and 'copy' keyword arguments. To learn more, see the migration guide https://numpy.org/devdocs/numpy_2_0_migration_guide.html#adapting-to-changes-in-the-copy-keyword\n",
      "  display_sklearn_reports(np.array(true_test), np.array(pred_test), train_or_val=\"Test\", ax = ax)\n"
     ]
    },
    {
     "name": "stdout",
     "output_type": "stream",
     "text": [
      "Classification report for Test set: \n",
      "               precision    recall  f1-score   support\n",
      "\n",
      "0 (No error)       0.59      0.63      0.61     15540\n",
      "   1 (Error)       0.67      0.63      0.65     18308\n",
      "\n",
      "    accuracy                           0.63     33848\n",
      "   macro avg       0.63      0.63      0.63     33848\n",
      "weighted avg       0.63      0.63      0.63     33848\n",
      "\n"
     ]
    },
    {
     "data": {
      "image/png": "[encoded data removed]",
      "text/plain": [
       "<Figure size 1787.5x625 with 2 Axes>"
      ]
     },
     "metadata": {},
     "output_type": "display_data"
    }
   ],
   "source": [
    "fig, ax = plt.subplots(1, 1, figsize=(14.3, 5))\n",
    "display_sklearn_reports(np.array(true_test), np.array(pred_test), train_or_val=\"Test\", ax = ax)"
   ]
  }
 ],
 "metadata": {
  "kernelspec": {
   "display_name": "thesis",
   "language": "python",
   "name": "python3"
  },
  "language_info": {
   "codemirror_mode": {
    "name": "ipython",
    "version": 3
   },
   "file_extension": ".py",
   "mimetype": "text/x-python",
   "name": "python",
   "nbconvert_exporter": "python",
   "pygments_lexer": "ipython3",
   "version": "3.11.8"
  }
 },
 "nbformat": 4,
 "nbformat_minor": 2
}
